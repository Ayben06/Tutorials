{
 "cells": [
  {
   "cell_type": "code",
   "execution_count": null,
   "id": "6681dbda",
   "metadata": {},
   "outputs": [],
   "source": [
    "# activate virtual environment\n",
    "# pip install requests\n",
    "# pip install pymysql\n",
    "# pip install bs4\n",
    "# pip install lxml\n"
   ]
  },
  {
   "cell_type": "code",
   "execution_count": null,
   "id": "e4da3cb5",
   "metadata": {},
   "outputs": [],
   "source": []
  },
  {
   "cell_type": "code",
   "execution_count": 2,
   "id": "c3f5ab75",
   "metadata": {},
   "outputs": [],
   "source": [
    "import requests\n",
    "from bs4 import BeautifulSoup\n",
    "import pymysql"
   ]
  },
  {
   "cell_type": "code",
   "execution_count": 3,
   "id": "001aab0c",
   "metadata": {},
   "outputs": [],
   "source": [
    "base_url = 'https://turbo.az/autos'"
   ]
  },
  {
   "cell_type": "code",
   "execution_count": 4,
   "id": "d2dfcd55",
   "metadata": {},
   "outputs": [],
   "source": [
    "response = requests.get(base_url)"
   ]
  },
  {
   "cell_type": "code",
   "execution_count": 5,
   "id": "070c5450",
   "metadata": {},
   "outputs": [
    {
     "data": {
      "text/plain": [
       "<Response [200]>"
      ]
     },
     "execution_count": 5,
     "metadata": {},
     "output_type": "execute_result"
    }
   ],
   "source": [
    "response"
   ]
  },
  {
   "cell_type": "code",
   "execution_count": 6,
   "id": "847a1502",
   "metadata": {},
   "outputs": [],
   "source": [
    "soup = BeautifulSoup(response.content, 'lxml')"
   ]
  },
  {
   "cell_type": "code",
   "execution_count": 7,
   "id": "6b479bba",
   "metadata": {},
   "outputs": [],
   "source": [
    "page_content = soup.find('div', class_='products-container')"
   ]
  },
  {
   "cell_type": "code",
   "execution_count": 8,
   "id": "1a6e39fa",
   "metadata": {},
   "outputs": [],
   "source": [
    "all_ = page_content.find_all('div', class_='tz-container')"
   ]
  },
  {
   "cell_type": "code",
   "execution_count": 9,
   "id": "894fda84",
   "metadata": {},
   "outputs": [],
   "source": [
    "elanlar = all_[4]"
   ]
  },
  {
   "cell_type": "code",
   "execution_count": 10,
   "id": "eca6557d",
   "metadata": {},
   "outputs": [
    {
     "data": {
      "text/plain": [
       "<div class=\"tz-container\"><div class=\"products-title\"><p class=\"products-title-amount\">10000 elan</p><div class=\"products-title-sort\"><select id=\"sort-variants\" name=\"sort-variants\"><option data-path=\"/autos?q%5Bsort%5D=created_at\" value=\"created_at\">Tarixə görə</option>\n",
       "<option data-path=\"/autos?q%5Bsort%5D=price_asc\" value=\"price_asc\">Əvvəlcə ucuz</option>\n",
       "<option data-path=\"/autos?q%5Bsort%5D=price_desc\" value=\"price_desc\">Əvvəlcə bahalı</option>\n",
       "<option data-path=\"/autos?q%5Bsort%5D=mileage\" value=\"mileage\">Yürüş</option>\n",
       "<option data-path=\"/autos?q%5Bsort%5D=reg_year\" value=\"reg_year\">Buraxılış ili</option></select></div></div><div class=\"products\"><div class=\"products-i\"><a class=\"products-i__link\" href=\"/autos/6368708-lada-vaz-niva\" target=\"_blank\"></a><a class=\"js-bookmark-item-6368708\" data-method=\"post\" data-remote=\"true\" href=\"/autos/6368708-lada-vaz-niva/bookmarks\" rel=\"nofollow\"><div class=\"bookmarking\"></div></a><a class=\"hide js-unbookmark-item-6368708\" data-method=\"delete\" data-remote=\"true\" href=\"/autos/6368708-lada-vaz-niva/bookmarks\" rel=\"nofollow\"><div class=\"bookmarking added\"></div></a><div class=\"products-i__top\"><img alt=\"LADA (VAZ) Niva\" loading=\"lazy\" src=\"https://turbo.azstatic.com/uploads/f460x343/2022%2F06%2F09%2F18%2F59%2F01%2F06858b4c-5af5-456a-b0ab-80a20d7353f1%2F85114_Zz7YXmUQgX0_U_O9wEIaNQ.jpg\"/><div class=\"products-i__info\"></div></div><div class=\"products-i__bottom\"><div class=\"products-i__price products-i__bottom-text\"><div class=\"product-price\">8 500 <span>AZN</span></div></div><div class=\"products-i__name products-i__bottom-text\">LADA (VAZ) Niva</div><div class=\"products-i__attributes products-i__bottom-text\">2007, 1.7 L, 250 000 km</div><div class=\"products-i__datetime\">Yardımlı, bugün 19:08</div></div></div><div class=\"products-i\"><a class=\"products-i__link\" href=\"/autos/6355461-opel-astra\" target=\"_blank\"></a><a class=\"js-bookmark-item-6355461\" data-method=\"post\" data-remote=\"true\" href=\"/autos/6355461-opel-astra/bookmarks\" rel=\"nofollow\"><div class=\"bookmarking\"></div></a><a class=\"hide js-unbookmark-item-6355461\" data-method=\"delete\" data-remote=\"true\" href=\"/autos/6355461-opel-astra/bookmarks\" rel=\"nofollow\"><div class=\"bookmarking added\"></div></a><div class=\"products-i__top\"><img alt=\"Opel Astra\" loading=\"lazy\" src=\"https://turbo.azstatic.com/uploads/f460x343/2022%2F06%2F05%2F11%2F18%2F49%2F83971497-b297-4ce3-b1d9-24dfae2cf547%2F30288_0ELXhjYZz-clKNZQWs9DZQ.jpg\"/><div class=\"products-i__info\"></div></div><div class=\"products-i__bottom\"><div class=\"products-i__price products-i__bottom-text\"><div class=\"product-price\">12 700 <span>AZN</span></div></div><div class=\"products-i__name products-i__bottom-text\">Opel Astra</div><div class=\"products-i__attributes products-i__bottom-text\">2008, 1.4 L, 184 823 km</div><div class=\"products-i__datetime\">Bakı, bugün 19:08</div></div></div><div class=\"products-i\"><a class=\"products-i__link\" href=\"/autos/6368704-mercedes-cls-350\" target=\"_blank\"></a><a class=\"js-bookmark-item-6368704\" data-method=\"post\" data-remote=\"true\" href=\"/autos/6368704-mercedes-cls-350/bookmarks\" rel=\"nofollow\"><div class=\"bookmarking\"></div></a><a class=\"hide js-unbookmark-item-6368704\" data-method=\"delete\" data-remote=\"true\" href=\"/autos/6368704-mercedes-cls-350/bookmarks\" rel=\"nofollow\"><div class=\"bookmarking added\"></div></a><div class=\"products-i__top\"><img alt=\"Mercedes CLS 350\" loading=\"lazy\" src=\"https://turbo.azstatic.com/uploads/f460x343/2022%2F06%2F09%2F18%2F51%2F22%2F116af6b6-c3f3-49ce-97df-7f8140b3213c%2F90558_LLmjKhxwAvCk3aV3W9jVSA.jpg\"/><div class=\"products-i__info\"></div></div><div class=\"products-i__bottom\"><div class=\"products-i__price products-i__bottom-text\"><div class=\"product-price\">19 000 <span>AZN</span></div></div><div class=\"products-i__name products-i__bottom-text\">Mercedes CLS 350</div><div class=\"products-i__attributes products-i__bottom-text\">2006, 3.5 L, 252 000 km</div><div class=\"products-i__datetime\">Bakı, bugün 19:06</div></div></div><div class=\"products-i\"><a class=\"products-i__link\" href=\"/autos/6368703-lada-vaz-2115\" target=\"_blank\"></a><a class=\"js-bookmark-item-6368703\" data-method=\"post\" data-remote=\"true\" href=\"/autos/6368703-lada-vaz-2115/bookmarks\" rel=\"nofollow\"><div class=\"bookmarking\"></div></a><a class=\"hide js-unbookmark-item-6368703\" data-method=\"delete\" data-remote=\"true\" href=\"/autos/6368703-lada-vaz-2115/bookmarks\" rel=\"nofollow\"><div class=\"bookmarking added\"></div></a><div class=\"products-i__top\"><img alt=\"LADA (VAZ) 2115\" loading=\"lazy\" src=\"https://turbo.azstatic.com/uploads/f460x343/2022%2F06%2F09%2F18%2F57%2F45%2Fa3991c02-5ab9-43f6-9bf7-7a1f71ec6b4a%2F90575_3ilxaACB8gNyWBWREBXSjA.jpg\"/><div class=\"products-i__info\"></div></div><div class=\"products-i__bottom\"><div class=\"products-i__price products-i__bottom-text\"><div class=\"product-price\">7 000 <span>AZN</span></div></div><div class=\"products-i__name products-i__bottom-text\">LADA (VAZ) 2115</div><div class=\"products-i__attributes products-i__bottom-text\">2009, 1.6 L, 100 000 km</div><div class=\"products-i__datetime\">Bakı, bugün 19:06</div></div></div><div class=\"products-i\"><a class=\"products-i__link\" href=\"/autos/6312031-chevrolet-trax\" target=\"_blank\"></a><a class=\"js-bookmark-item-6312031\" data-method=\"post\" data-remote=\"true\" href=\"/autos/6312031-chevrolet-trax/bookmarks\" rel=\"nofollow\"><div class=\"bookmarking\"></div></a><a class=\"hide js-unbookmark-item-6312031\" data-method=\"delete\" data-remote=\"true\" href=\"/autos/6312031-chevrolet-trax/bookmarks\" rel=\"nofollow\"><div class=\"bookmarking added\"></div></a><div class=\"products-i__top\"><img alt=\"Chevrolet Trax\" loading=\"lazy\" src=\"https://turbo.azstatic.com/uploads/f460x343/2022%2F05%2F21%2F17%2F22%2F45%2F9b50f8e8-513e-4c12-a866-d168eae9d8e4%2F36329_7WYAF553fUAnQgNj2HxhmA.jpg\"/><div class=\"products-i__info\"></div></div><div class=\"products-i__bottom\"><div class=\"products-i__price products-i__bottom-text\"><div class=\"product-price\">24 800 <span>AZN</span></div></div><div class=\"products-i__name products-i__bottom-text\">Chevrolet Trax</div><div class=\"products-i__attributes products-i__bottom-text\">2019, 1.4 L, 30 000 km</div><div class=\"products-i__datetime\">Bakı, bugün 19:05</div></div></div><div class=\"products-i featured\"><a class=\"products-i__link\" href=\"/autos/6357254-kia-optima\" target=\"_blank\"></a><a class=\"js-bookmark-item-6357254\" data-method=\"post\" data-remote=\"true\" href=\"/autos/6357254-kia-optima/bookmarks\" rel=\"nofollow\"><div class=\"bookmarking\"></div></a><a class=\"hide js-unbookmark-item-6357254\" data-method=\"delete\" data-remote=\"true\" href=\"/autos/6357254-kia-optima/bookmarks\" rel=\"nofollow\"><div class=\"bookmarking added\"></div></a><div class=\"products-i__top\"><img alt=\"Kia Optima\" loading=\"lazy\" src=\"https://turbo.azstatic.com/uploads/f460x343/2022%2F06%2F05%2F19%2F19%2F43%2F4fc47b21-2efd-4e8a-a40d-45d6d66f6017%2F8765_JwFVzfIVA7Q3tY_q-rqM8g.jpg\"/><div class=\"products-i__paid\"><span class=\"featured-icon\"></span></div><div class=\"products-i__info\"></div></div><div class=\"products-i__bottom\"><div class=\"products-i__price products-i__bottom-text\"><div class=\"product-price\">31 500 <span>AZN</span></div></div><div class=\"products-i__name products-i__bottom-text\">Kia Optima</div><div class=\"products-i__attributes products-i__bottom-text\">2015, 2.0 L, 117 000 km</div><div class=\"products-i__datetime\">Bakı, bugün 19:04</div></div></div><div class=\"products-i\"><a class=\"products-i__link\" href=\"/autos/6368701-daewoo-gentra\" target=\"_blank\"></a><a class=\"js-bookmark-item-6368701\" data-method=\"post\" data-remote=\"true\" href=\"/autos/6368701-daewoo-gentra/bookmarks\" rel=\"nofollow\"><div class=\"bookmarking\"></div></a><a class=\"hide js-unbookmark-item-6368701\" data-method=\"delete\" data-remote=\"true\" href=\"/autos/6368701-daewoo-gentra/bookmarks\" rel=\"nofollow\"><div class=\"bookmarking added\"></div></a><div class=\"products-i__top\"><img alt=\"Daewoo Gentra\" loading=\"lazy\" src=\"https://turbo.azstatic.com/uploads/f460x343/2022%2F06%2F09%2F18%2F50%2F12%2F4dc48ab4-dff9-416e-bb13-ee3e4c07b670%2F91309_ipgERI9ndU-1k3STjppOrA.jpg\"/><div class=\"products-i__info\"></div></div><div class=\"products-i__bottom\"><div class=\"products-i__price products-i__bottom-text\"><div class=\"product-price\">9 000 <span>AZN</span></div></div><div class=\"products-i__name products-i__bottom-text\">Daewoo Gentra</div><div class=\"products-i__attributes products-i__bottom-text\">2014, 1.5 L, 320 000 km</div><div class=\"products-i__datetime\">Bakı, bugün 19:04</div></div></div><div class=\"products-i\"><a class=\"products-i__link\" href=\"/autos/6368700-opel-zafira\" target=\"_blank\"></a><a class=\"js-bookmark-item-6368700\" data-method=\"post\" data-remote=\"true\" href=\"/autos/6368700-opel-zafira/bookmarks\" rel=\"nofollow\"><div class=\"bookmarking\"></div></a><a class=\"hide js-unbookmark-item-6368700\" data-method=\"delete\" data-remote=\"true\" href=\"/autos/6368700-opel-zafira/bookmarks\" rel=\"nofollow\"><div class=\"bookmarking added\"></div></a><div class=\"products-i__top\"><img alt=\"Opel Zafira\" loading=\"lazy\" src=\"https://turbo.azstatic.com/uploads/f460x343/2022%2F06%2F09%2F18%2F51%2F57%2F855abca4-ac07-4bf1-b67f-ab6be4319527%2F91295_eR9Xo68Cz9Ywvl6Jo2jyQw.jpg\"/><div class=\"products-i__info\"></div></div><div class=\"products-i__bottom\"><div class=\"products-i__price products-i__bottom-text\"><div class=\"product-price\">9 800 <span>AZN</span></div></div><div class=\"products-i__name products-i__bottom-text\">Opel Zafira</div><div class=\"products-i__attributes products-i__bottom-text\">2000, 1.8 L, 256 124 km</div><div class=\"products-i__datetime\">Bakı, bugün 19:04</div></div></div><div class=\"products-i salon\"><a class=\"products-i__link\" href=\"/autos/6368712-toyota-rav-4\" target=\"_blank\"></a><a class=\"js-bookmark-item-6368712\" data-method=\"post\" data-remote=\"true\" href=\"/autos/6368712-toyota-rav-4/bookmarks\" rel=\"nofollow\"><div class=\"bookmarking\"></div></a><a class=\"hide js-unbookmark-item-6368712\" data-method=\"delete\" data-remote=\"true\" href=\"/autos/6368712-toyota-rav-4/bookmarks\" rel=\"nofollow\"><div class=\"bookmarking added\"></div></a><div class=\"products-i__top\"><img alt=\"Toyota RAV 4\" loading=\"lazy\" src=\"https://turbo.azstatic.com/uploads/f460x343/2022%2F06%2F09%2F18%2F50%2F52%2F5329ac33-a99f-4cdc-86ec-cbadb5b92c85%2F90575_FNSDs2JgzdwyC592eu1e2A.jpg\"/><div class=\"products-i__label products-i__label--salon\">Salon</div><div class=\"products-i__info\"><div class=\"products-i__icon products-i__icon--barter\"><div class=\"products-i__tooltip products-i__tooltip--barter\">Barter mümkündür</div></div></div></div><div class=\"products-i__bottom\"><div class=\"products-i__price products-i__bottom-text\"><div class=\"product-price\">32 300 <span>$</span></div></div><div class=\"products-i__name products-i__bottom-text\">Toyota RAV 4</div><div class=\"products-i__attributes products-i__bottom-text\">2022, 2.0 L, 0 km</div><div class=\"products-i__datetime\">Bakı, bugün 19:03</div></div></div><div class=\"products-i\"><a class=\"products-i__link\" href=\"/autos/6368699-ford-fusion\" target=\"_blank\"></a><a class=\"js-bookmark-item-6368699\" data-method=\"post\" data-remote=\"true\" href=\"/autos/6368699-ford-fusion/bookmarks\" rel=\"nofollow\"><div class=\"bookmarking\"></div></a><a class=\"hide js-unbookmark-item-6368699\" data-method=\"delete\" data-remote=\"true\" href=\"/autos/6368699-ford-fusion/bookmarks\" rel=\"nofollow\"><div class=\"bookmarking added\"></div></a><div class=\"products-i__top\"><img alt=\"Ford Fusion\" loading=\"lazy\" src=\"https://turbo.azstatic.com/uploads/f460x343/2022%2F06%2F09%2F18%2F54%2F17%2Fc9c01046-8850-4a32-9a5d-1413fe3f326c%2F90570_dIxZptgrFcGT4CZBtAlqNg.jpg\"/><div class=\"products-i__info\"></div></div><div class=\"products-i__bottom\"><div class=\"products-i__price products-i__bottom-text\"><div class=\"product-price\">19 000 <span>AZN</span></div></div><div class=\"products-i__name products-i__bottom-text\">Ford Fusion</div><div class=\"products-i__attributes products-i__bottom-text\">2015, 1.5 L, 148 000 km</div><div class=\"products-i__datetime\">Bakı, bugün 19:03</div></div></div><div class=\"products-i featured\"><a class=\"products-i__link\" href=\"/autos/6355765-mitsubishi-mirage\" target=\"_blank\"></a><a class=\"js-bookmark-item-6355765\" data-method=\"post\" data-remote=\"true\" href=\"/autos/6355765-mitsubishi-mirage/bookmarks\" rel=\"nofollow\"><div class=\"bookmarking\"></div></a><a class=\"hide js-unbookmark-item-6355765\" data-method=\"delete\" data-remote=\"true\" href=\"/autos/6355765-mitsubishi-mirage/bookmarks\" rel=\"nofollow\"><div class=\"bookmarking added\"></div></a><div class=\"products-i__top\"><img alt=\"Mitsubishi Mirage\" loading=\"lazy\" src=\"https://turbo.azstatic.com/uploads/f460x343/2022%2F06%2F05%2F13%2F06%2F36%2F4da3da10-7ffa-4fb7-9897-06bf0a5454a6%2F30277_u1QeVIgW-0Fprs1aKhnccw.jpg\"/><div class=\"products-i__paid\"><span class=\"featured-icon\"></span></div><div class=\"products-i__info\"></div></div><div class=\"products-i__bottom\"><div class=\"products-i__price products-i__bottom-text\"><div class=\"product-price\">12 900 <span>AZN</span></div></div><div class=\"products-i__name products-i__bottom-text\">Mitsubishi Mirage</div><div class=\"products-i__attributes products-i__bottom-text\">2014, 1.2 L, 84 000 km</div><div class=\"products-i__datetime\">Bakı, bugün 19:02</div></div></div><div class=\"products-i\"><a class=\"products-i__link\" href=\"/autos/6324514-bmw-320\" target=\"_blank\"></a><a class=\"js-bookmark-item-6324514\" data-method=\"post\" data-remote=\"true\" href=\"/autos/6324514-bmw-320/bookmarks\" rel=\"nofollow\"><div class=\"bookmarking\"></div></a><a class=\"hide js-unbookmark-item-6324514\" data-method=\"delete\" data-remote=\"true\" href=\"/autos/6324514-bmw-320/bookmarks\" rel=\"nofollow\"><div class=\"bookmarking added\"></div></a><div class=\"products-i__top\"><img alt=\"BMW 320\" loading=\"lazy\" src=\"https://turbo.azstatic.com/uploads/f460x343/2022%2F05%2F25%2F16%2F02%2F31%2F9c872d6d-e094-47ec-ae1a-22d67acebe92%2F34812_s64fZn_SXuO5YcSJmngYKA.jpg\"/><div class=\"products-i__info\"></div></div><div class=\"products-i__bottom\"><div class=\"products-i__price products-i__bottom-text\"><div class=\"product-price\">15 800 <span>AZN</span></div></div><div class=\"products-i__name products-i__bottom-text\">BMW 320</div><div class=\"products-i__attributes products-i__bottom-text\">2005, 2.0 L, 243 000 km</div><div class=\"products-i__datetime\">Bakı, bugün 19:01</div></div></div><div class=\"products-i\"><a class=\"products-i__link\" href=\"/autos/6360229-opel-astra\" target=\"_blank\"></a><a class=\"js-bookmark-item-6360229\" data-method=\"post\" data-remote=\"true\" href=\"/autos/6360229-opel-astra/bookmarks\" rel=\"nofollow\"><div class=\"bookmarking\"></div></a><a class=\"hide js-unbookmark-item-6360229\" data-method=\"delete\" data-remote=\"true\" href=\"/autos/6360229-opel-astra/bookmarks\" rel=\"nofollow\"><div class=\"bookmarking added\"></div></a><div class=\"products-i__top\"><img alt=\"Opel Astra\" loading=\"lazy\" src=\"https://turbo.azstatic.com/uploads/f460x343/2022%2F06%2F06%2F19%2F10%2F07%2F9a37bcbc-aef9-4577-bcc2-d4363a822e4b%2F51088_ICp_gZVKlevvD5yG_W6fPg.jpg\"/><div class=\"products-i__info\"></div></div><div class=\"products-i__bottom\"><div class=\"products-i__price products-i__bottom-text\"><div class=\"product-price\">12 900 <span>AZN</span></div></div><div class=\"products-i__name products-i__bottom-text\">Opel Astra</div><div class=\"products-i__attributes products-i__bottom-text\">2008, 1.4 L, 177 017 km</div><div class=\"products-i__datetime\">Sumqayıt, bugün 19:00</div></div></div><div class=\"products-i\"><a class=\"products-i__link\" href=\"/autos/6368682-iveco-astra-hd8\" target=\"_blank\"></a><a class=\"js-bookmark-item-6368682\" data-method=\"post\" data-remote=\"true\" href=\"/autos/6368682-iveco-astra-hd8/bookmarks\" rel=\"nofollow\"><div class=\"bookmarking\"></div></a><a class=\"hide js-unbookmark-item-6368682\" data-method=\"delete\" data-remote=\"true\" href=\"/autos/6368682-iveco-astra-hd8/bookmarks\" rel=\"nofollow\"><div class=\"bookmarking added\"></div></a><div class=\"products-i__top\"><img alt=\"Iveco Astra HD8\" loading=\"lazy\" src=\"https://turbo.azstatic.com/uploads/f460x343/2022%2F06%2F09%2F18%2F50%2F03%2Fa2f30144-3dad-4f9d-a4f6-663e3f4f1a0a%2F90560_WFpTfCPv4Rmp_MoopT3B8Q.jpg\"/><div class=\"products-i__info\"></div></div><div class=\"products-i__bottom\"><div class=\"products-i__price products-i__bottom-text\"><div class=\"product-price\">34 999 <span>AZN</span></div></div><div class=\"products-i__name products-i__bottom-text\">Iveco Astra HD8</div><div class=\"products-i__attributes products-i__bottom-text\">2001, 13 L, 100 000 km</div><div class=\"products-i__datetime\">Bakı, bugün 19:00</div></div></div><div class=\"products-i\"><a class=\"products-i__link\" href=\"/autos/6368695-tofas-sahin\" target=\"_blank\"></a><a class=\"js-bookmark-item-6368695\" data-method=\"post\" data-remote=\"true\" href=\"/autos/6368695-tofas-sahin/bookmarks\" rel=\"nofollow\"><div class=\"bookmarking\"></div></a><a class=\"hide js-unbookmark-item-6368695\" data-method=\"delete\" data-remote=\"true\" href=\"/autos/6368695-tofas-sahin/bookmarks\" rel=\"nofollow\"><div class=\"bookmarking added\"></div></a><div class=\"products-i__top\"><img alt=\"Tofas Sahin\" loading=\"lazy\" src=\"https://turbo.azstatic.com/uploads/f460x343/2022%2F06%2F09%2F18%2F57%2F10%2F11e119ac-7f42-49b2-be56-b3ebf3fffe5b%2F91306_UZZRlHZvJqoaX65ZLgQlYg.jpg\"/><div class=\"products-i__info\"></div></div><div class=\"products-i__bottom\"><div class=\"products-i__price products-i__bottom-text\"><div class=\"product-price\">7 400 <span>AZN</span></div></div><div class=\"products-i__name products-i__bottom-text\">Tofas Sahin</div><div class=\"products-i__attributes products-i__bottom-text\">2004, 1.6 L, 162 000 km</div><div class=\"products-i__datetime\">Bakı, bugün 18:59</div></div></div><div class=\"products-i\"><a class=\"products-i__link\" href=\"/autos/6368693-toyota-prius\" target=\"_blank\"></a><a class=\"js-bookmark-item-6368693\" data-method=\"post\" data-remote=\"true\" href=\"/autos/6368693-toyota-prius/bookmarks\" rel=\"nofollow\"><div class=\"bookmarking\"></div></a><a class=\"hide js-unbookmark-item-6368693\" data-method=\"delete\" data-remote=\"true\" href=\"/autos/6368693-toyota-prius/bookmarks\" rel=\"nofollow\"><div class=\"bookmarking added\"></div></a><div class=\"products-i__top\"><img alt=\"Toyota Prius\" loading=\"lazy\" src=\"https://turbo.azstatic.com/uploads/f460x343/2022%2F06%2F09%2F18%2F53%2F01%2Fbcabbec2-7355-4ef9-ad59-4c50279047d1%2F91315_WvZDr5kXVqtQSi9e6B321A.jpg\"/><div class=\"products-i__info\"><div class=\"products-i__icon products-i__icon--barter\"><div class=\"products-i__tooltip products-i__tooltip--barter\">Barter mümkündür</div></div></div></div><div class=\"products-i__bottom\"><div class=\"products-i__price products-i__bottom-text\"><div class=\"product-price\">11 300 <span>AZN</span></div></div><div class=\"products-i__name products-i__bottom-text\">Toyota Prius</div><div class=\"products-i__attributes products-i__bottom-text\">2008, 1.5 L, 294 510 km</div><div class=\"products-i__datetime\">Bakı, bugün 18:59</div></div></div><div class=\"products-i\"><a class=\"products-i__link\" href=\"/autos/6368696-mercedes-e-230\" target=\"_blank\"></a><a class=\"js-bookmark-item-6368696\" data-method=\"post\" data-remote=\"true\" href=\"/autos/6368696-mercedes-e-230/bookmarks\" rel=\"nofollow\"><div class=\"bookmarking\"></div></a><a class=\"hide js-unbookmark-item-6368696\" data-method=\"delete\" data-remote=\"true\" href=\"/autos/6368696-mercedes-e-230/bookmarks\" rel=\"nofollow\"><div class=\"bookmarking added\"></div></a><div class=\"products-i__top\"><img alt=\"Mercedes E 230\" loading=\"lazy\" src=\"https://turbo.azstatic.com/uploads/f460x343/2022%2F06%2F09%2F18%2F55%2F58%2Ff164f07b-e98e-4ee6-83f8-e24346c716eb%2F85097_QXoAvhmDrrl4r-KkEHzEmw.jpg\"/><div class=\"products-i__info\"><div class=\"products-i__icon products-i__icon--barter\"><div class=\"products-i__tooltip products-i__tooltip--barter\">Barter mümkündür</div></div></div></div><div class=\"products-i__bottom\"><div class=\"products-i__price products-i__bottom-text\"><div class=\"product-price\">10 400 <span>AZN</span></div></div><div class=\"products-i__name products-i__bottom-text\">Mercedes E 230</div><div class=\"products-i__attributes products-i__bottom-text\">1997, 2.3 L, 354 284 km</div><div class=\"products-i__datetime\">Bakı, bugün 18:59</div></div></div><div class=\"products-i\"><a class=\"products-i__link\" href=\"/autos/6312338-toyota-corolla\" target=\"_blank\"></a><a class=\"js-bookmark-item-6312338\" data-method=\"post\" data-remote=\"true\" href=\"/autos/6312338-toyota-corolla/bookmarks\" rel=\"nofollow\"><div class=\"bookmarking\"></div></a><a class=\"hide js-unbookmark-item-6312338\" data-method=\"delete\" data-remote=\"true\" href=\"/autos/6312338-toyota-corolla/bookmarks\" rel=\"nofollow\"><div class=\"bookmarking added\"></div></a><div class=\"products-i__top\"><img alt=\"Toyota Corolla\" loading=\"lazy\" src=\"https://turbo.azstatic.com/uploads/f460x343/2022%2F05%2F21%2F18%2F50%2F55%2Fd024a15b-0409-4ec5-9c0b-e4289087457b%2F7433_bvZB1sg1hZFWfjLAHbKMNQ.jpg\"/><div class=\"products-i__info\"></div></div><div class=\"products-i__bottom\"><div class=\"products-i__price products-i__bottom-text\"><div class=\"product-price\">13 300 <span>AZN</span></div></div><div class=\"products-i__name products-i__bottom-text\">Toyota Corolla</div><div class=\"products-i__attributes products-i__bottom-text\">2005, 1.4 L, 169 000 km</div><div class=\"products-i__datetime\">Bakı, bugün 18:59</div></div></div><div class=\"products-i\"><a class=\"products-i__link\" href=\"/autos/6368687-kia-rio\" target=\"_blank\"></a><a class=\"js-bookmark-item-6368687\" data-method=\"post\" data-remote=\"true\" href=\"/autos/6368687-kia-rio/bookmarks\" rel=\"nofollow\"><div class=\"bookmarking\"></div></a><a class=\"hide js-unbookmark-item-6368687\" data-method=\"delete\" data-remote=\"true\" href=\"/autos/6368687-kia-rio/bookmarks\" rel=\"nofollow\"><div class=\"bookmarking added\"></div></a><div class=\"products-i__top\"><img alt=\"Kia Rio\" loading=\"lazy\" src=\"https://turbo.azstatic.com/uploads/f460x343/2022%2F06%2F09%2F18%2F52%2F43%2F431e5271-f93f-4b3b-9e37-57e2b08a9f31%2F60460_MmByrA586LLQBSu-V-rLyQ.jpg\"/><div class=\"products-i__info\"><div class=\"products-i__icon products-i__icon--loan\"><div class=\"products-i__tooltip products-i__tooltip--loan\">Kreditdədir</div></div></div></div><div class=\"products-i__bottom\"><div class=\"products-i__price products-i__bottom-text\"><div class=\"product-price\">16 050 <span>AZN</span></div></div><div class=\"products-i__name products-i__bottom-text\">Kia Rio</div><div class=\"products-i__attributes products-i__bottom-text\">2005, 1.5 L, 187 000 km</div><div class=\"products-i__datetime\">Bakı, bugün 18:59</div></div></div><div class=\"products-i\"><a class=\"products-i__link\" href=\"/autos/6368690-audi-q7\" target=\"_blank\"></a><a class=\"js-bookmark-item-6368690\" data-method=\"post\" data-remote=\"true\" href=\"/autos/6368690-audi-q7/bookmarks\" rel=\"nofollow\"><div class=\"bookmarking\"></div></a><a class=\"hide js-unbookmark-item-6368690\" data-method=\"delete\" data-remote=\"true\" href=\"/autos/6368690-audi-q7/bookmarks\" rel=\"nofollow\"><div class=\"bookmarking added\"></div></a><div class=\"products-i__top\"><img alt=\"Audi Q7\" loading=\"lazy\" src=\"https://turbo.azstatic.com/uploads/f460x343/2022%2F06%2F09%2F18%2F56%2F21%2Fd01e3993-f5aa-45bf-9073-b91378e01403%2F56893_0HRY-vSYhF5ia4ZN9DZVXw.jpg\"/><div class=\"products-i__info\"></div></div><div class=\"products-i__bottom\"><div class=\"products-i__price products-i__bottom-text\"><div class=\"product-price\">27 500 <span>$</span></div></div><div class=\"products-i__name products-i__bottom-text\">Audi Q7</div><div class=\"products-i__attributes products-i__bottom-text\">2012, 3.0 L, 169 800 km</div><div class=\"products-i__datetime\">Bakı, bugün 19:02</div></div></div><div class=\"products-i\"><a class=\"products-i__link\" href=\"/autos/6337176-opel-astra\" target=\"_blank\"></a><a class=\"js-bookmark-item-6337176\" data-method=\"post\" data-remote=\"true\" href=\"/autos/6337176-opel-astra/bookmarks\" rel=\"nofollow\"><div class=\"bookmarking\"></div></a><a class=\"hide js-unbookmark-item-6337176\" data-method=\"delete\" data-remote=\"true\" href=\"/autos/6337176-opel-astra/bookmarks\" rel=\"nofollow\"><div class=\"bookmarking added\"></div></a><div class=\"products-i__top\"><img alt=\"Opel Astra\" loading=\"lazy\" src=\"https://turbo.azstatic.com/uploads/f460x343/2022%2F05%2F29%2F20%2F37%2F32%2F0bc8d32d-c818-469f-9435-64f2cef4be8f%2F24789_H6AprZzf_o8_ZvJgNsOLCA.jpg\"/><div class=\"products-i__info\"></div></div><div class=\"products-i__bottom\"><div class=\"products-i__price products-i__bottom-text\"><div class=\"product-price\">8 900 <span>AZN</span></div></div><div class=\"products-i__name products-i__bottom-text\">Opel Astra</div><div class=\"products-i__attributes products-i__bottom-text\">2005, 1.4 L, 178 000 km</div><div class=\"products-i__datetime\">Bakı, bugün 18:59</div></div></div><div class=\"products-i\"><a class=\"products-i__link\" href=\"/autos/6368689-mazda-cx-5\" target=\"_blank\"></a><a class=\"js-bookmark-item-6368689\" data-method=\"post\" data-remote=\"true\" href=\"/autos/6368689-mazda-cx-5/bookmarks\" rel=\"nofollow\"><div class=\"bookmarking\"></div></a><a class=\"hide js-unbookmark-item-6368689\" data-method=\"delete\" data-remote=\"true\" href=\"/autos/6368689-mazda-cx-5/bookmarks\" rel=\"nofollow\"><div class=\"bookmarking added\"></div></a><div class=\"products-i__top\"><img alt=\"Mazda CX-5\" loading=\"lazy\" src=\"https://turbo.azstatic.com/uploads/f460x343/2022%2F06%2F09%2F18%2F50%2F37%2Fc1193ce1-ddb9-489c-8448-5fec83c61aa4%2F91304_qUO007GfVGP6JF98_mXv2g.jpg\"/><div class=\"products-i__info\"></div></div><div class=\"products-i__bottom\"><div class=\"products-i__price products-i__bottom-text\"><div class=\"product-price\">29 800 <span>AZN</span></div></div><div class=\"products-i__name products-i__bottom-text\">Mazda CX-5</div><div class=\"products-i__attributes products-i__bottom-text\">2015, 2.0 L, 128 748 km</div><div class=\"products-i__datetime\">Bakı, bugün 18:59</div></div></div><div class=\"products-i\"><a class=\"products-i__link\" href=\"/autos/6368626-kia-ceed\" target=\"_blank\"></a><a class=\"js-bookmark-item-6368626\" data-method=\"post\" data-remote=\"true\" href=\"/autos/6368626-kia-ceed/bookmarks\" rel=\"nofollow\"><div class=\"bookmarking\"></div></a><a class=\"hide js-unbookmark-item-6368626\" data-method=\"delete\" data-remote=\"true\" href=\"/autos/6368626-kia-ceed/bookmarks\" rel=\"nofollow\"><div class=\"bookmarking added\"></div></a><div class=\"products-i__top\"><img alt=\"Kia Ceed\" loading=\"lazy\" src=\"https://turbo.azstatic.com/uploads/f460x343/2022%2F06%2F09%2F18%2F37%2F53%2F51b09f99-ac9f-4040-a04e-6e02d70fe3c6%2F90546_p1-NIrW0egZe6tFO9buKzA.jpg\"/><div class=\"products-i__info\"></div></div><div class=\"products-i__bottom\"><div class=\"products-i__price products-i__bottom-text\"><div class=\"product-price\">14 800 <span>AZN</span></div></div><div class=\"products-i__name products-i__bottom-text\">Kia Ceed</div><div class=\"products-i__attributes products-i__bottom-text\">2009, 1.6 L, 187 000 km</div><div class=\"products-i__datetime\">Bakı, bugün 18:59</div></div></div><div class=\"products-i\"><a class=\"products-i__link\" href=\"/autos/6368683-nissan-sentra\" target=\"_blank\"></a><a class=\"js-bookmark-item-6368683\" data-method=\"post\" data-remote=\"true\" href=\"/autos/6368683-nissan-sentra/bookmarks\" rel=\"nofollow\"><div class=\"bookmarking\"></div></a><a class=\"hide js-unbookmark-item-6368683\" data-method=\"delete\" data-remote=\"true\" href=\"/autos/6368683-nissan-sentra/bookmarks\" rel=\"nofollow\"><div class=\"bookmarking added\"></div></a><div class=\"products-i__top\"><img alt=\"Nissan Sentra\" loading=\"lazy\" src=\"https://turbo.azstatic.com/uploads/f460x343/2022%2F06%2F09%2F18%2F51%2F56%2F2fe710a6-602b-40b8-b793-66839b48dd3a%2F90569_kS9rgquklZRK99xAJWyIvQ.jpg\"/><div class=\"products-i__info\"></div></div><div class=\"products-i__bottom\"><div class=\"products-i__price products-i__bottom-text\"><div class=\"product-price\">15 900 <span>AZN</span></div></div><div class=\"products-i__name products-i__bottom-text\">Nissan Sentra</div><div class=\"products-i__attributes products-i__bottom-text\">2014, 1.6 L, 144 000 km</div><div class=\"products-i__datetime\">Bakı, bugün 18:58</div></div></div></div></div>"
      ]
     },
     "execution_count": 10,
     "metadata": {},
     "output_type": "execute_result"
    }
   ],
   "source": [
    "elanlar"
   ]
  },
  {
   "cell_type": "code",
   "execution_count": 11,
   "id": "68b89d6a",
   "metadata": {},
   "outputs": [],
   "source": [
    "items = elanlar.find_all('div', class_='products-i')"
   ]
  },
  {
   "cell_type": "code",
   "execution_count": 12,
   "id": "0998ee48",
   "metadata": {},
   "outputs": [
    {
     "data": {
      "text/plain": [
       "24"
      ]
     },
     "execution_count": 12,
     "metadata": {},
     "output_type": "execute_result"
    }
   ],
   "source": [
    "len(items)"
   ]
  },
  {
   "cell_type": "code",
   "execution_count": 13,
   "id": "e1d754f1",
   "metadata": {},
   "outputs": [
    {
     "data": {
      "text/plain": [
       "<div class=\"products-i\"><a class=\"products-i__link\" href=\"/autos/6368708-lada-vaz-niva\" target=\"_blank\"></a><a class=\"js-bookmark-item-6368708\" data-method=\"post\" data-remote=\"true\" href=\"/autos/6368708-lada-vaz-niva/bookmarks\" rel=\"nofollow\"><div class=\"bookmarking\"></div></a><a class=\"hide js-unbookmark-item-6368708\" data-method=\"delete\" data-remote=\"true\" href=\"/autos/6368708-lada-vaz-niva/bookmarks\" rel=\"nofollow\"><div class=\"bookmarking added\"></div></a><div class=\"products-i__top\"><img alt=\"LADA (VAZ) Niva\" loading=\"lazy\" src=\"https://turbo.azstatic.com/uploads/f460x343/2022%2F06%2F09%2F18%2F59%2F01%2F06858b4c-5af5-456a-b0ab-80a20d7353f1%2F85114_Zz7YXmUQgX0_U_O9wEIaNQ.jpg\"/><div class=\"products-i__info\"></div></div><div class=\"products-i__bottom\"><div class=\"products-i__price products-i__bottom-text\"><div class=\"product-price\">8 500 <span>AZN</span></div></div><div class=\"products-i__name products-i__bottom-text\">LADA (VAZ) Niva</div><div class=\"products-i__attributes products-i__bottom-text\">2007, 1.7 L, 250 000 km</div><div class=\"products-i__datetime\">Yardımlı, bugün 19:08</div></div></div>"
      ]
     },
     "execution_count": 13,
     "metadata": {},
     "output_type": "execute_result"
    }
   ],
   "source": [
    "items[0]"
   ]
  },
  {
   "cell_type": "code",
   "execution_count": 14,
   "id": "f36bce0b",
   "metadata": {},
   "outputs": [
    {
     "name": "stdout",
     "output_type": "stream",
     "text": [
      "https://turbo.az/autos/6368708-lada-vaz-niva LADA (VAZ) Niva 8 500 AZN\n",
      "==========================================================================================\n",
      "https://turbo.az/autos/6355461-opel-astra Opel Astra 12 700 AZN\n",
      "==========================================================================================\n",
      "https://turbo.az/autos/6368704-mercedes-cls-350 Mercedes CLS 350 19 000 AZN\n",
      "==========================================================================================\n",
      "https://turbo.az/autos/6368703-lada-vaz-2115 LADA (VAZ) 2115 7 000 AZN\n",
      "==========================================================================================\n",
      "https://turbo.az/autos/6312031-chevrolet-trax Chevrolet Trax 24 800 AZN\n",
      "==========================================================================================\n",
      "https://turbo.az/autos/6357254-kia-optima Kia Optima 31 500 AZN\n",
      "==========================================================================================\n",
      "https://turbo.az/autos/6368701-daewoo-gentra Daewoo Gentra 9 000 AZN\n",
      "==========================================================================================\n",
      "https://turbo.az/autos/6368700-opel-zafira Opel Zafira 9 800 AZN\n",
      "==========================================================================================\n",
      "https://turbo.az/autos/6368712-toyota-rav-4 Toyota RAV 4 32 300 $\n",
      "==========================================================================================\n",
      "https://turbo.az/autos/6368699-ford-fusion Ford Fusion 19 000 AZN\n",
      "==========================================================================================\n",
      "https://turbo.az/autos/6355765-mitsubishi-mirage Mitsubishi Mirage 12 900 AZN\n",
      "==========================================================================================\n",
      "https://turbo.az/autos/6324514-bmw-320 BMW 320 15 800 AZN\n",
      "==========================================================================================\n",
      "https://turbo.az/autos/6360229-opel-astra Opel Astra 12 900 AZN\n",
      "==========================================================================================\n",
      "https://turbo.az/autos/6368682-iveco-astra-hd8 Iveco Astra HD8 34 999 AZN\n",
      "==========================================================================================\n",
      "https://turbo.az/autos/6368695-tofas-sahin Tofas Sahin 7 400 AZN\n",
      "==========================================================================================\n",
      "https://turbo.az/autos/6368693-toyota-prius Toyota Prius 11 300 AZN\n",
      "==========================================================================================\n",
      "https://turbo.az/autos/6368696-mercedes-e-230 Mercedes E 230 10 400 AZN\n",
      "==========================================================================================\n",
      "https://turbo.az/autos/6312338-toyota-corolla Toyota Corolla 13 300 AZN\n",
      "==========================================================================================\n",
      "https://turbo.az/autos/6368687-kia-rio Kia Rio 16 050 AZN\n",
      "==========================================================================================\n",
      "https://turbo.az/autos/6368690-audi-q7 Audi Q7 27 500 $\n",
      "==========================================================================================\n",
      "https://turbo.az/autos/6337176-opel-astra Opel Astra 8 900 AZN\n",
      "==========================================================================================\n",
      "https://turbo.az/autos/6368689-mazda-cx-5 Mazda CX-5 29 800 AZN\n",
      "==========================================================================================\n",
      "https://turbo.az/autos/6368626-kia-ceed Kia Ceed 14 800 AZN\n",
      "==========================================================================================\n",
      "https://turbo.az/autos/6368683-nissan-sentra Nissan Sentra 15 900 AZN\n",
      "==========================================================================================\n"
     ]
    }
   ],
   "source": [
    "for item in items:\n",
    "    item_url = 'https://turbo.az' + item.find('a').get('href')\n",
    "    details = item.find('div', class_='products-i__bottom')\n",
    "\n",
    "    marka_model = details.find('div', class_='products-i__name products-i__bottom-text').text\n",
    "    price = details.find('div', class_='product-price').text\n",
    "    \n",
    "    print(item_url, marka_model, price)\n",
    "    print('===' * 30)"
   ]
  },
  {
   "cell_type": "code",
   "execution_count": 15,
   "id": "d4c3aeeb",
   "metadata": {},
   "outputs": [],
   "source": [
    "connection = pymysql.connect(\n",
    "    host='localhost', # 127.0.0.1\n",
    "    user='root',\n",
    "    password ='mysql123',\n",
    "    database='turbo_db'\n",
    ")"
   ]
  },
  {
   "cell_type": "code",
   "execution_count": 16,
   "id": "8485ce86",
   "metadata": {},
   "outputs": [],
   "source": [
    "create_table = \"\"\"\n",
    "create table cars (\n",
    "    id int(11) not null auto_increment,\n",
    "    url varchar(400) not null,\n",
    "    price varchar(100),\n",
    "    marka_model varchar(200),\n",
    "    primary key (id)\n",
    ")\n",
    "\"\"\""
   ]
  },
  {
   "cell_type": "code",
   "execution_count": 17,
   "id": "90d4de8e",
   "metadata": {},
   "outputs": [],
   "source": [
    "with connection.cursor() as cursor:\n",
    "    cursor.execute(create_table)"
   ]
  },
  {
   "cell_type": "code",
   "execution_count": 18,
   "id": "f90b931c",
   "metadata": {},
   "outputs": [],
   "source": [
    "for item in items:\n",
    "    item_url = 'https://turbo.az' + item.find('a').get('href')\n",
    "    \n",
    "    details = item.find('div', class_='products-i__bottom')\n",
    "\n",
    "    marka_model = details.find('div', class_='products-i__name products-i__bottom-text').text\n",
    "    price = details.find('div', class_='product-price').text\n",
    "    \n",
    "    insert_sql = 'insert into cars (url, price, marka_model) values(%s, %s, %s)'\n",
    "    values = (item_url, price, marka_model)\n",
    "    \n",
    "    with connection.cursor() as cursor:\n",
    "        cursor.execute(insert_sql, values)\n",
    "        connection.commit()"
   ]
  },
  {
   "cell_type": "markdown",
   "id": "7742b4eb",
   "metadata": {},
   "source": [
    "### Inner parsing parsing"
   ]
  },
  {
   "cell_type": "code",
   "execution_count": 23,
   "id": "3f534aa0",
   "metadata": {},
   "outputs": [],
   "source": [
    "select_sql = 'select * from cars'\n",
    "with connection.cursor() as cursor:\n",
    "    cursor.execute(select_sql)"
   ]
  },
  {
   "cell_type": "code",
   "execution_count": 24,
   "id": "332b2527",
   "metadata": {},
   "outputs": [
    {
     "data": {
      "text/plain": [
       "(1,\n",
       " 'https://turbo.az/autos/6368708-lada-vaz-niva',\n",
       " '8 500 AZN',\n",
       " 'LADA (VAZ) Niva')"
      ]
     },
     "execution_count": 24,
     "metadata": {},
     "output_type": "execute_result"
    }
   ],
   "source": [
    "cursor.fetchone()"
   ]
  },
  {
   "cell_type": "code",
   "execution_count": 25,
   "id": "5a796629",
   "metadata": {},
   "outputs": [
    {
     "data": {
      "text/plain": [
       "((2, 'https://turbo.az/autos/6355461-opel-astra', '12 700 AZN', 'Opel Astra'),\n",
       " (3,\n",
       "  'https://turbo.az/autos/6368704-mercedes-cls-350',\n",
       "  '19 000 AZN',\n",
       "  'Mercedes CLS 350'),\n",
       " (4,\n",
       "  'https://turbo.az/autos/6368703-lada-vaz-2115',\n",
       "  '7 000 AZN',\n",
       "  'LADA (VAZ) 2115'),\n",
       " (5,\n",
       "  'https://turbo.az/autos/6312031-chevrolet-trax',\n",
       "  '24 800 AZN',\n",
       "  'Chevrolet Trax'),\n",
       " (6, 'https://turbo.az/autos/6357254-kia-optima', '31 500 AZN', 'Kia Optima'),\n",
       " (7,\n",
       "  'https://turbo.az/autos/6368701-daewoo-gentra',\n",
       "  '9 000 AZN',\n",
       "  'Daewoo Gentra'),\n",
       " (8, 'https://turbo.az/autos/6368700-opel-zafira', '9 800 AZN', 'Opel Zafira'),\n",
       " (9,\n",
       "  'https://turbo.az/autos/6368712-toyota-rav-4',\n",
       "  '32 300 $',\n",
       "  'Toyota RAV 4'),\n",
       " (10,\n",
       "  'https://turbo.az/autos/6368699-ford-fusion',\n",
       "  '19 000 AZN',\n",
       "  'Ford Fusion'),\n",
       " (11,\n",
       "  'https://turbo.az/autos/6355765-mitsubishi-mirage',\n",
       "  '12 900 AZN',\n",
       "  'Mitsubishi Mirage'),\n",
       " (12, 'https://turbo.az/autos/6324514-bmw-320', '15 800 AZN', 'BMW 320'),\n",
       " (13, 'https://turbo.az/autos/6360229-opel-astra', '12 900 AZN', 'Opel Astra'),\n",
       " (14,\n",
       "  'https://turbo.az/autos/6368682-iveco-astra-hd8',\n",
       "  '34 999 AZN',\n",
       "  'Iveco Astra HD8'),\n",
       " (15,\n",
       "  'https://turbo.az/autos/6368695-tofas-sahin',\n",
       "  '7 400 AZN',\n",
       "  'Tofas Sahin'),\n",
       " (16,\n",
       "  'https://turbo.az/autos/6368693-toyota-prius',\n",
       "  '11 300 AZN',\n",
       "  'Toyota Prius'),\n",
       " (17,\n",
       "  'https://turbo.az/autos/6368696-mercedes-e-230',\n",
       "  '10 400 AZN',\n",
       "  'Mercedes E 230'),\n",
       " (18,\n",
       "  'https://turbo.az/autos/6312338-toyota-corolla',\n",
       "  '13 300 AZN',\n",
       "  'Toyota Corolla'),\n",
       " (19, 'https://turbo.az/autos/6368687-kia-rio', '16 050 AZN', 'Kia Rio'),\n",
       " (20, 'https://turbo.az/autos/6368690-audi-q7', '27 500 $', 'Audi Q7'),\n",
       " (21, 'https://turbo.az/autos/6337176-opel-astra', '8 900 AZN', 'Opel Astra'),\n",
       " (22, 'https://turbo.az/autos/6368689-mazda-cx-5', '29 800 AZN', 'Mazda CX-5'),\n",
       " (23, 'https://turbo.az/autos/6368626-kia-ceed', '14 800 AZN', 'Kia Ceed'),\n",
       " (24,\n",
       "  'https://turbo.az/autos/6368683-nissan-sentra',\n",
       "  '15 900 AZN',\n",
       "  'Nissan Sentra'))"
      ]
     },
     "execution_count": 25,
     "metadata": {},
     "output_type": "execute_result"
    }
   ],
   "source": [
    "cursor.fetchall()"
   ]
  },
  {
   "cell_type": "code",
   "execution_count": 26,
   "id": "b8d32cab",
   "metadata": {},
   "outputs": [],
   "source": [
    "connection = pymysql.connect(\n",
    "    host='localhost', # 127.0.0.1\n",
    "    user='root',\n",
    "    password ='mysql123',\n",
    "    database='turbo_db',\n",
    "    cursorclass=pymysql.cursors.DictCursor\n",
    ")"
   ]
  },
  {
   "cell_type": "code",
   "execution_count": 79,
   "id": "40df9f8d",
   "metadata": {},
   "outputs": [],
   "source": [
    "select_sql = 'select id, url from cars'\n",
    "with connection.cursor() as cursor:\n",
    "    cursor.execute(select_sql)"
   ]
  },
  {
   "cell_type": "code",
   "execution_count": 80,
   "id": "b3b65c33",
   "metadata": {},
   "outputs": [],
   "source": [
    "items = cursor.fetchall()"
   ]
  },
  {
   "cell_type": "code",
   "execution_count": 81,
   "id": "edf2bd0b",
   "metadata": {
    "scrolled": true
   },
   "outputs": [
    {
     "data": {
      "text/plain": [
       "[{'id': 1, 'url': 'https://turbo.az/autos/6368708-lada-vaz-niva'},\n",
       " {'id': 2, 'url': 'https://turbo.az/autos/6355461-opel-astra'},\n",
       " {'id': 3, 'url': 'https://turbo.az/autos/6368704-mercedes-cls-350'},\n",
       " {'id': 4, 'url': 'https://turbo.az/autos/6368703-lada-vaz-2115'},\n",
       " {'id': 5, 'url': 'https://turbo.az/autos/6312031-chevrolet-trax'},\n",
       " {'id': 6, 'url': 'https://turbo.az/autos/6357254-kia-optima'},\n",
       " {'id': 7, 'url': 'https://turbo.az/autos/6368701-daewoo-gentra'},\n",
       " {'id': 8, 'url': 'https://turbo.az/autos/6368700-opel-zafira'},\n",
       " {'id': 9, 'url': 'https://turbo.az/autos/6368712-toyota-rav-4'},\n",
       " {'id': 10, 'url': 'https://turbo.az/autos/6368699-ford-fusion'},\n",
       " {'id': 11, 'url': 'https://turbo.az/autos/6355765-mitsubishi-mirage'},\n",
       " {'id': 12, 'url': 'https://turbo.az/autos/6324514-bmw-320'},\n",
       " {'id': 13, 'url': 'https://turbo.az/autos/6360229-opel-astra'},\n",
       " {'id': 14, 'url': 'https://turbo.az/autos/6368682-iveco-astra-hd8'},\n",
       " {'id': 15, 'url': 'https://turbo.az/autos/6368695-tofas-sahin'},\n",
       " {'id': 16, 'url': 'https://turbo.az/autos/6368693-toyota-prius'},\n",
       " {'id': 17, 'url': 'https://turbo.az/autos/6368696-mercedes-e-230'},\n",
       " {'id': 18, 'url': 'https://turbo.az/autos/6312338-toyota-corolla'},\n",
       " {'id': 19, 'url': 'https://turbo.az/autos/6368687-kia-rio'},\n",
       " {'id': 20, 'url': 'https://turbo.az/autos/6368690-audi-q7'},\n",
       " {'id': 21, 'url': 'https://turbo.az/autos/6337176-opel-astra'},\n",
       " {'id': 22, 'url': 'https://turbo.az/autos/6368689-mazda-cx-5'},\n",
       " {'id': 23, 'url': 'https://turbo.az/autos/6368626-kia-ceed'},\n",
       " {'id': 24, 'url': 'https://turbo.az/autos/6368683-nissan-sentra'}]"
      ]
     },
     "execution_count": 81,
     "metadata": {},
     "output_type": "execute_result"
    }
   ],
   "source": [
    "items"
   ]
  },
  {
   "cell_type": "code",
   "execution_count": null,
   "id": "2f46b421",
   "metadata": {},
   "outputs": [],
   "source": [
    "# {'Ban növü': 'Offroader / SUV',\n",
    "#  'Buraxılış ili': '2007',\n",
    "#  'Marka': 'LADA (VAZ)',\n",
    "#  'Model': 'Niva',\n",
    "#  'Mühərrik': '1.7 L',\n",
    "#  'Mühərrikin gücü': '80 a.g.',\n",
    "#  'Qiymət': '8 500 AZN',\n",
    "#  'Rəng': 'Ağ',\n",
    "#  'Sürətlər qutusu': 'Mexaniki',\n",
    "#  'Yanacaq növü': 'Benzin',\n",
    "#  'Yeni': 'Xeyr',\n",
    "#  'Yürüş': '250 000 km',\n",
    "#  'Ötürücü': 'Tam',\n",
    "#  'Şəhər': 'Yardımlı'}\n",
    "\n",
    "def rename_dict(dict_obj):\n",
    "    dict_obj['ban_type'] = dict_obj.pop('Ban növü')\n",
    "    return "
   ]
  },
  {
   "cell_type": "code",
   "execution_count": 101,
   "id": "0408edad",
   "metadata": {},
   "outputs": [],
   "source": [
    "update_query = \"\"\"\n",
    "update cars set price = %s, marka = %s, model = %s, city = %s, \n",
    "year = %s where id = %s\n",
    "\"\"\""
   ]
  },
  {
   "cell_type": "code",
   "execution_count": 106,
   "id": "c8de4ff7",
   "metadata": {
    "scrolled": false
   },
   "outputs": [
    {
     "name": "stdout",
     "output_type": "stream",
     "text": [
      "{'id': 1, 'url': 'https://turbo.az/autos/6368708-lada-vaz-niva'}\n",
      "-----\n",
      "{'id': 2, 'url': 'https://turbo.az/autos/6355461-opel-astra'}\n",
      "-----\n",
      "{'id': 3, 'url': 'https://turbo.az/autos/6368704-mercedes-cls-350'}\n",
      "-----\n",
      "{'id': 4, 'url': 'https://turbo.az/autos/6368703-lada-vaz-2115'}\n",
      "-----\n",
      "{'id': 5, 'url': 'https://turbo.az/autos/6312031-chevrolet-trax'}\n",
      "-----\n",
      "{'id': 6, 'url': 'https://turbo.az/autos/6357254-kia-optima'}\n",
      "-----\n",
      "{'id': 7, 'url': 'https://turbo.az/autos/6368701-daewoo-gentra'}\n",
      "-----\n",
      "{'id': 8, 'url': 'https://turbo.az/autos/6368700-opel-zafira'}\n",
      "-----\n",
      "{'id': 9, 'url': 'https://turbo.az/autos/6368712-toyota-rav-4'}\n",
      "-----\n",
      "{'id': 10, 'url': 'https://turbo.az/autos/6368699-ford-fusion'}\n",
      "-----\n",
      "{'id': 11, 'url': 'https://turbo.az/autos/6355765-mitsubishi-mirage'}\n",
      "-----\n",
      "{'id': 12, 'url': 'https://turbo.az/autos/6324514-bmw-320'}\n",
      "-----\n",
      "{'id': 13, 'url': 'https://turbo.az/autos/6360229-opel-astra'}\n",
      "-----\n",
      "{'id': 14, 'url': 'https://turbo.az/autos/6368682-iveco-astra-hd8'}\n",
      "-----\n",
      "{'id': 15, 'url': 'https://turbo.az/autos/6368695-tofas-sahin'}\n",
      "-----\n",
      "{'id': 16, 'url': 'https://turbo.az/autos/6368693-toyota-prius'}\n",
      "-----\n",
      "{'id': 17, 'url': 'https://turbo.az/autos/6368696-mercedes-e-230'}\n",
      "-----\n",
      "{'id': 18, 'url': 'https://turbo.az/autos/6312338-toyota-corolla'}\n",
      "-----\n",
      "{'id': 19, 'url': 'https://turbo.az/autos/6368687-kia-rio'}\n",
      "-----\n",
      "{'id': 20, 'url': 'https://turbo.az/autos/6368690-audi-q7'}\n",
      "-----\n",
      "{'id': 21, 'url': 'https://turbo.az/autos/6337176-opel-astra'}\n",
      "-----\n",
      "{'id': 22, 'url': 'https://turbo.az/autos/6368689-mazda-cx-5'}\n",
      "-----\n",
      "{'id': 23, 'url': 'https://turbo.az/autos/6368626-kia-ceed'}\n",
      "-----\n",
      "{'id': 24, 'url': 'https://turbo.az/autos/6368683-nissan-sentra'}\n",
      "-----\n"
     ]
    }
   ],
   "source": [
    "from pprint import pprint as pp\n",
    "for item in items:\n",
    "    pp(item)\n",
    "    print('-----')\n",
    "    url = item['url']\n",
    "    response = requests.get(url)\n",
    "    \n",
    "    if response.status_code == 200:\n",
    "        inner_bs = BeautifulSoup(response.content, 'lxml')\n",
    "        props = inner_bs.find('ul', class_='product-properties')\n",
    "        li_items = props.find_all('li')\n",
    "#         print(li_items[0])\n",
    "\n",
    "        md = dict()\n",
    "    \n",
    "        for li_item in li_items:\n",
    "            key = li_item.find('label')\n",
    "            value = li_item.find('div')\n",
    "            if key:\n",
    "                key = key.text\n",
    "            if value:\n",
    "                value = value.text\n",
    "            if key:\n",
    "                md[key] = value\n",
    "                \n",
    "        updated_values = (md['Qiymət'], \n",
    "                         md['Marka'],\n",
    "                         md['Model'],\n",
    "                         md['Şəhər'],\n",
    "                         md['Buraxılış ili'],\n",
    "                         item['id'])\n",
    "        with connection.cursor() as cursor:\n",
    "            cursor.execute(update_query, updated_values)\n",
    "            connection.commit()\n",
    "        \n",
    "    else:\n",
    "        print(\"Could not fetch url\", url)\n",
    "    "
   ]
  },
  {
   "cell_type": "code",
   "execution_count": 96,
   "id": "412fe66e",
   "metadata": {},
   "outputs": [],
   "source": [
    "update_query = \"\"\"\n",
    "update cars set price = %s, marka = %s, model = %s, city = %s, \n",
    "year = %s where id = %s\n",
    "\"\"\"\n"
   ]
  },
  {
   "cell_type": "code",
   "execution_count": null,
   "id": "b15faab3",
   "metadata": {},
   "outputs": [],
   "source": []
  },
  {
   "cell_type": "code",
   "execution_count": null,
   "id": "e9ec7ebe",
   "metadata": {},
   "outputs": [],
   "source": []
  },
  {
   "cell_type": "code",
   "execution_count": null,
   "id": "80fbcbe1",
   "metadata": {},
   "outputs": [],
   "source": []
  },
  {
   "cell_type": "code",
   "execution_count": null,
   "id": "244814ae",
   "metadata": {},
   "outputs": [],
   "source": []
  },
  {
   "cell_type": "code",
   "execution_count": null,
   "id": "bd861076",
   "metadata": {},
   "outputs": [],
   "source": []
  },
  {
   "cell_type": "code",
   "execution_count": null,
   "id": "32381c42",
   "metadata": {},
   "outputs": [],
   "source": []
  },
  {
   "cell_type": "code",
   "execution_count": null,
   "id": "63e453a5",
   "metadata": {},
   "outputs": [],
   "source": []
  },
  {
   "cell_type": "code",
   "execution_count": null,
   "id": "7dc8d36f",
   "metadata": {},
   "outputs": [],
   "source": []
  },
  {
   "cell_type": "code",
   "execution_count": null,
   "id": "13fa4f3e",
   "metadata": {},
   "outputs": [],
   "source": []
  },
  {
   "cell_type": "code",
   "execution_count": null,
   "id": "3ed3182b",
   "metadata": {},
   "outputs": [],
   "source": []
  },
  {
   "cell_type": "code",
   "execution_count": null,
   "id": "d926fbd5",
   "metadata": {},
   "outputs": [],
   "source": []
  },
  {
   "cell_type": "markdown",
   "id": "08459bba",
   "metadata": {},
   "source": [
    "1. the same name"
   ]
  },
  {
   "cell_type": "code",
   "execution_count": 84,
   "id": "cd633313",
   "metadata": {},
   "outputs": [],
   "source": [
    "md = {'Ban növü': 'Offroader / SUV',\n",
    " 'Buraxılış ili': '2007',\n",
    " 'Marka': 'LADA (VAZ)',\n",
    " 'Model': 'Niva',\n",
    " 'Mühərrik': '1.7 L',\n",
    " 'Mühərrikin gücü': '80 a.g.',\n",
    " 'Qiymət': '8 500 AZN',\n",
    " 'Rəng': 'Ağ',\n",
    " 'Sürətlər qutusu': 'Mexaniki',\n",
    " 'Yanacaq növü': 'Benzin',\n",
    " 'Yeni': 'Xeyr',\n",
    " 'Yürüş': '250 000 km',\n",
    " 'Ötürücü': 'Tam',\n",
    " 'Şəhər': 'Yardımlı'}"
   ]
  },
  {
   "cell_type": "code",
   "execution_count": 88,
   "id": "e63a8153",
   "metadata": {},
   "outputs": [
    {
     "ename": "KeyError",
     "evalue": "'Model'",
     "output_type": "error",
     "traceback": [
      "\u001b[1;31m---------------------------------------------------------------------------\u001b[0m",
      "\u001b[1;31mKeyError\u001b[0m                                  Traceback (most recent call last)",
      "Input \u001b[1;32mIn [88]\u001b[0m, in \u001b[0;36m<cell line: 1>\u001b[1;34m()\u001b[0m\n\u001b[1;32m----> 1\u001b[0m \u001b[43mmd\u001b[49m\u001b[38;5;241;43m.\u001b[39;49m\u001b[43mpop\u001b[49m\u001b[43m(\u001b[49m\u001b[38;5;124;43m'\u001b[39;49m\u001b[38;5;124;43mModel\u001b[39;49m\u001b[38;5;124;43m'\u001b[39;49m\u001b[43m)\u001b[49m\n",
      "\u001b[1;31mKeyError\u001b[0m: 'Model'"
     ]
    }
   ],
   "source": [
    "md.pop('Model')"
   ]
  },
  {
   "cell_type": "code",
   "execution_count": 89,
   "id": "ad4ee7ea",
   "metadata": {},
   "outputs": [],
   "source": [
    "md['color'] = md.pop('Rəng')"
   ]
  },
  {
   "cell_type": "code",
   "execution_count": 91,
   "id": "628ea0a2",
   "metadata": {},
   "outputs": [],
   "source": [
    "md['city'] = md.get('Şəhər')"
   ]
  },
  {
   "cell_type": "code",
   "execution_count": 92,
   "id": "5809e455",
   "metadata": {},
   "outputs": [
    {
     "data": {
      "text/plain": [
       "{'Ban növü': 'Offroader / SUV',\n",
       " 'Buraxılış ili': '2007',\n",
       " 'Marka': 'LADA (VAZ)',\n",
       " 'Mühərrik': '1.7 L',\n",
       " 'Mühərrikin gücü': '80 a.g.',\n",
       " 'Qiymət': '8 500 AZN',\n",
       " 'Sürətlər qutusu': 'Mexaniki',\n",
       " 'Yanacaq növü': 'Benzin',\n",
       " 'Yeni': 'Xeyr',\n",
       " 'Yürüş': '250 000 km',\n",
       " 'Ötürücü': 'Tam',\n",
       " 'Şəhər': 'Yardımlı',\n",
       " 'color': 'Ağ',\n",
       " 'city': 'Yardımlı'}"
      ]
     },
     "execution_count": 92,
     "metadata": {},
     "output_type": "execute_result"
    }
   ],
   "source": [
    "md"
   ]
  },
  {
   "cell_type": "code",
   "execution_count": null,
   "id": "290e28b7",
   "metadata": {},
   "outputs": [],
   "source": []
  }
 ],
 "metadata": {
  "kernelspec": {
   "display_name": "Python 3 (ipykernel)",
   "language": "python",
   "name": "python3"
  },
  "language_info": {
   "codemirror_mode": {
    "name": "ipython",
    "version": 3
   },
   "file_extension": ".py",
   "mimetype": "text/x-python",
   "name": "python",
   "nbconvert_exporter": "python",
   "pygments_lexer": "ipython3",
   "version": "3.9.12"
  }
 },
 "nbformat": 4,
 "nbformat_minor": 5
}
