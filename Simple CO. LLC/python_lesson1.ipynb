{
 "cells": [
  {
   "cell_type": "markdown",
   "id": "ede17b44",
   "metadata": {},
   "source": [
    "# Data Types\n",
    "- Numeric\n",
    "- Boolean\n",
    "- NoneType\n",
    "- Sequence Types\n",
    "- Containers"
   ]
  },
  {
   "cell_type": "markdown",
   "id": "841cd046",
   "metadata": {},
   "source": [
    "##### Numeric\n",
    "- Integer -  bütün tam ədədlər (1, 6, 1234, 90484747, -1234423, 0 )\n",
    "- Float - kəsr ədədlər ( 1.233, -0.12421, 12134.9 )\n",
    "\n",
    "#### Boolean \n",
    "- True\n",
    "- False\n",
    "\n",
    "#### NoneType\n",
    "- qiymət yoxluğunu göstərir\n",
    "\n",
    "#### Sequence Types\n",
    "Birdən çox dəyəri saxlamaq üçün istifadə olunur \\\n",
    "Pythonda tez-tez qarşılaşacağımız bəzi tiplər aşağıdakılardır. \n",
    "\n",
    "- Strings - 'Salam', 'Elman', 'b' və sair\n",
    "- List - [1, 2] \n",
    "- Tuple - (1, 2)\n",
    "\n",
    "#### Containers\n",
    "- Dictionary - {'ad': 'Sahil'}\n",
    "- Sets - {1, 2}"
   ]
  },
  {
   "cell_type": "markdown",
   "id": "6e7433bd",
   "metadata": {},
   "source": [
    "### Numericləri incələyək"
   ]
  },
  {
   "cell_type": "markdown",
   "id": "2084e7d9",
   "metadata": {},
   "source": [
    "İntegerlər tam ədələr olduğu üçün biz onlar üzərində riyaziyyatdan bildiyimiz bütün əməlləri istifadə \\\n",
    "edə bilərik. \n",
    "Aşağıdakı məsələrlə həm də pythonu necə kalkulyator kimi işlədə biləcəyimizi görəcəyik\n"
   ]
  },
  {
   "cell_type": "code",
   "execution_count": 55,
   "id": "68b61015",
   "metadata": {},
   "outputs": [
    {
     "data": {
      "text/plain": [
       "14"
      ]
     },
     "execution_count": 55,
     "metadata": {},
     "output_type": "execute_result"
    }
   ],
   "source": [
    "# toplama\n",
    "6 + 8"
   ]
  },
  {
   "cell_type": "code",
   "execution_count": 56,
   "id": "40d91f4b",
   "metadata": {},
   "outputs": [
    {
     "data": {
      "text/plain": [
       "35"
      ]
     },
     "execution_count": 56,
     "metadata": {},
     "output_type": "execute_result"
    }
   ],
   "source": [
    "# vurma\n",
    "7 * 5"
   ]
  },
  {
   "cell_type": "code",
   "execution_count": 57,
   "id": "868da2f2",
   "metadata": {},
   "outputs": [
    {
     "data": {
      "text/plain": [
       "8"
      ]
     },
     "execution_count": 57,
     "metadata": {},
     "output_type": "execute_result"
    }
   ],
   "source": [
    "# cıxma\n",
    "10 - 2"
   ]
  },
  {
   "cell_type": "code",
   "execution_count": 60,
   "id": "a17ce65a",
   "metadata": {},
   "outputs": [
    {
     "data": {
      "text/plain": [
       "5.0"
      ]
     },
     "execution_count": 60,
     "metadata": {},
     "output_type": "execute_result"
    }
   ],
   "source": [
    "# bölmə\n",
    "# diqqət: baxmayaraqki biz tam ədədi tam ədədə böldük nəticədə kəsr ədəd aldıq. \n",
    "10 / 2"
   ]
  },
  {
   "cell_type": "code",
   "execution_count": 65,
   "id": "c565dac8",
   "metadata": {},
   "outputs": [
    {
     "data": {
      "text/plain": [
       "5.5"
      ]
     },
     "execution_count": 65,
     "metadata": {},
     "output_type": "execute_result"
    }
   ],
   "source": [
    "# Səbəb: kəsr hissəni itirməmək üçün\n",
    "11 / 2"
   ]
  },
  {
   "cell_type": "code",
   "execution_count": 66,
   "id": "535b1ab6",
   "metadata": {},
   "outputs": [
    {
     "data": {
      "text/plain": [
       "5"
      ]
     },
     "execution_count": 66,
     "metadata": {},
     "output_type": "execute_result"
    }
   ],
   "source": [
    "# tam bölmə hansıki nəticə də tam ədəd olur\n",
    "11 // 2"
   ]
  },
  {
   "cell_type": "markdown",
   "id": "06a7de68",
   "metadata": {},
   "source": [
    "float - kəsr hissəsi olan bütün ədədlər"
   ]
  },
  {
   "cell_type": "code",
   "execution_count": 67,
   "id": "12421f67",
   "metadata": {},
   "outputs": [
    {
     "data": {
      "text/plain": [
       "4.5"
      ]
     },
     "execution_count": 67,
     "metadata": {},
     "output_type": "execute_result"
    }
   ],
   "source": [
    "4.5"
   ]
  },
  {
   "cell_type": "code",
   "execution_count": 2,
   "id": "152a72f9",
   "metadata": {},
   "outputs": [
    {
     "data": {
      "text/plain": [
       "14.399999999999999"
      ]
     },
     "execution_count": 2,
     "metadata": {},
     "output_type": "execute_result"
    }
   ],
   "source": [
    "4.7 + 9.7"
   ]
  },
  {
   "cell_type": "markdown",
   "id": "77839a09",
   "metadata": {},
   "source": [
    "Gördüyünüz kimi kəsr ədələrin toplanmasında gözlənilməz ədəd aldıq \\\n",
    "Səbəb: bildiyimiz kimi komputerdə hər şeyin 0 və 1 dən ibarət olması və ədədlərin əslində \\\n",
    "0 və 1 lərlə yaddaşda saxlanılmasıdır.\n",
    "Bununla bağlı bir iki məsələni aydınlaşdıraq. \n",
    "\n"
   ]
  },
  {
   "cell_type": "markdown",
   "id": "e2eb11fe",
   "metadata": {},
   "source": [
    "11 ədədini binary formatda göstərməyə çalışaq\n",
    "\n",
    "Verilmiş ədədi 2yə bölək və nəticəni və kəsri yadda saxlayaraq nəticə 0 (sıfır) olana qədər \\\n",
    "nəticəni 2yə bölməkdə davam edək \n",
    "\n",
    "- 11 / 2 -> nəticə 5 qalıq 1 \n",
    "- 5 / 2  -> nəticə 2 qalıq 1 \n",
    "- 2 / 2  -> nəticə 1 qalıq 0 \n",
    "- 1 / 2  -> nəticə 0 qalıq 1 \n",
    "\n",
    "alınmış qalıqları aşağıdan başlayaraq ardıcıl yazaq 1011, 11 ədədinin 2lik və ya binary formatda yazılışını aldıq\n",
    "\n",
    "8 ədədini 2lik sistemdə göstərək: \n",
    "- 8 / 2 -> nəticə 4 qalıq 0 \n",
    "- 4 / 2 -> nəticə 2 qalıq 0 \n",
    "- 2 / 2 -> nəticə 1 qalıq 0 \n",
    "- 1 / 2 -> nəticə 0 qalıq 1 \n",
    "\n",
    "Eyni qayda ilə qalıqları aşağıdan yuxarı olaraq ardıcıl yazırıq. 1000\n",
    "\n",
    "Və son olaraq 67 ədədini 2lik sistemə çevirək: \n",
    "- 67 / 2 -> nəticə 33 qalıq 1\n",
    "- 33 / 2 -> nəticə 16 qalıq 1\n",
    "- 16 / 2 -> nəticə 8 qalıq 1\n",
    "- 8 / 2 -> nəticə 4 qalıq 0 \n",
    "- 4 / 2 -> nəticə 2 qalıq 0 \n",
    "- 2 / 2 -> nəticə 1 qalıq 0 \n",
    "- 1 / 2 -> nəticə 0 qalıq 1 \n",
    "\n",
    "Nəticə: 1000111\n",
    "\n",
    "Biz sizlə tam ədədlərin 2lik sistemdə necə ifadə olunması ilə tanış olduq və nəzərə alaq ki,\n",
    "kəsr ədədlər də eyni qaydada ifadə olunur amma burda 2ə bölmə əməliyyatında nəticə heç vaxt 0 qiymətin almır deyə\n",
    "kəsr ədədlərin yaddaşda tam dəqiq saxlanılmasında bu cür problem yaranır və kəsr ədədlər yaddaşda\n",
    "təqribi saxlanılır"
   ]
  },
  {
   "cell_type": "markdown",
   "id": "d01ef8be",
   "metadata": {},
   "source": [
    "### Boolean \n",
    "\n",
    "Boolean True(düz) False(səhv) olaraq iki dəyər saxlaya bilir. \\\n",
    "Biz müvafiq olaraq True üçün 1 və False üçün 0 düşünə bilərik.\\\n",
    "Bundan əlavə Pythonda Truthy və Falsy anlayışları da vardır. Şərt operatorları keçdiyimiz zaman bu anlayışlarla daha yaxından tanış olacayıq. "
   ]
  },
  {
   "cell_type": "markdown",
   "id": "e438c765",
   "metadata": {},
   "source": [
    "#### Sequnce Types və Containers ətraflı izah"
   ]
  },
  {
   "cell_type": "markdown",
   "id": "75b2c41e",
   "metadata": {},
   "source": [
    "##### Strings\n",
    "Pythonda string ya tək məsələn 'odlar' ya da qoşa məsələn \"yurdu\" dırnaqla yazılır \\\n",
    "Bir necə sətirlik string yaza bilmək üşün isə 3lü dırnaq işlətmək lazımdır. ''' ''' və ya \"\"\" \"\"\""
   ]
  },
  {
   "cell_type": "code",
   "execution_count": 16,
   "id": "0a518d98",
   "metadata": {},
   "outputs": [
    {
     "name": "stdout",
     "output_type": "stream",
     "text": [
      "Sən bizimsən bizimsən, durduqca bədəndə can,\n",
      "Yaşa, yaşa çox yaşa ey şanlı Azərbaycan!\n",
      "(c) M.Ə Rəsulzadə\n",
      "\n"
     ]
    }
   ],
   "source": [
    "print(\"\"\"Sən bizimsən bizimsən, durduqca bədəndə can,\n",
    "Yaşa, yaşa çox yaşa ey şanlı Azərbaycan!\n",
    "(c) M.Ə Rəsulzadə\n",
    "\"\"\")"
   ]
  },
  {
   "cell_type": "markdown",
   "id": "4bcf740d",
   "metadata": {},
   "source": [
    "String bir və ya bir neçə simvol saxlaya və simvollar rəqəm, hərf, xüsusi simvol ola bilər. \\\n",
    "Məsələn \"a\", \"kitab\", 'test.user12@gmail.com'\n"
   ]
  },
  {
   "cell_type": "markdown",
   "id": "7083f2c6",
   "metadata": {},
   "source": [
    "##### Bəzi String metodları"
   ]
  },
  {
   "cell_type": "markdown",
   "id": "8194f46f",
   "metadata": {},
   "source": [
    "Stringlər mahiyyət etibarı ilə unikod simvollar saxlayan massivdir. \\\n",
    "Bu o deməkdir ki, biz stringlərin uzunluğun ölçə, hər hansı bir pozisiyada duran elementə baxa bilərik."
   ]
  },
  {
   "cell_type": "markdown",
   "id": "1c6df97c",
   "metadata": {},
   "source": [
    "İlk öncə, stringlərin uzunluğunu necə ölçə biləcəyimizə baxaq. Bunun üçün python len() build-in \\\n",
    "funksiyası mövcuddur. (Diqqət: len funksiyası uzunluğu olan bütün obyektlər üçün işlənir)\n"
   ]
  },
  {
   "cell_type": "code",
   "execution_count": 19,
   "id": "cac8b698",
   "metadata": {},
   "outputs": [
    {
     "data": {
      "text/plain": [
       "10"
      ]
     },
     "execution_count": 19,
     "metadata": {},
     "output_type": "execute_result"
    }
   ],
   "source": [
    "len(\"Azərbaycan\")"
   ]
  },
  {
   "cell_type": "code",
   "execution_count": 21,
   "id": "cc1ca18b",
   "metadata": {},
   "outputs": [
    {
     "data": {
      "text/plain": [
       "11"
      ]
     },
     "execution_count": 21,
     "metadata": {},
     "output_type": "execute_result"
    }
   ],
   "source": [
    "# stringdə olan boşluqlar da hesaba alınır\n",
    "len(\"Odlar Yurdu\")"
   ]
  },
  {
   "cell_type": "markdown",
   "id": "bf762b57",
   "metadata": {},
   "source": [
    "Stringlər massiv olduğu üçün hər bir elementin indeksi olur. \\\n",
    "Pythonda indeksləmə 0 (sıfır)dan başlayır \\\n",
    "Hər hansı bir indeksdə duran elementi götürmək üçün kvadrat mörtərizə istifadə edirik"
   ]
  },
  {
   "cell_type": "markdown",
   "id": "3d8ad84e",
   "metadata": {},
   "source": [
    "##### Indeksləməni başa düşək"
   ]
  },
  {
   "cell_type": "code",
   "execution_count": 1,
   "id": "9099a449",
   "metadata": {},
   "outputs": [
    {
     "data": {
      "text/plain": [
       "'Elman'"
      ]
     },
     "execution_count": 1,
     "metadata": {},
     "output_type": "execute_result"
    }
   ],
   "source": [
    "# Indeks 0dan başlayır və stringing uzunluğu minus birə \"len(string) - 1\" qədər gedir\n",
    "'Elman'"
   ]
  },
  {
   "cell_type": "code",
   "execution_count": 81,
   "id": "c70637a0",
   "metadata": {},
   "outputs": [
    {
     "data": {
      "text/plain": [
       "5"
      ]
     },
     "execution_count": 81,
     "metadata": {},
     "output_type": "execute_result"
    }
   ],
   "source": [
    "len('Elman')"
   ]
  },
  {
   "cell_type": "code",
   "execution_count": 82,
   "id": "23dca88a",
   "metadata": {},
   "outputs": [
    {
     "data": {
      "text/plain": [
       "'E'"
      ]
     },
     "execution_count": 82,
     "metadata": {},
     "output_type": "execute_result"
    }
   ],
   "source": [
    "'Elman'[0]"
   ]
  },
  {
   "cell_type": "code",
   "execution_count": 83,
   "id": "87da176e",
   "metadata": {},
   "outputs": [
    {
     "ename": "IndexError",
     "evalue": "string index out of range",
     "output_type": "error",
     "traceback": [
      "\u001b[1;31m---------------------------------------------------------------------------\u001b[0m",
      "\u001b[1;31mIndexError\u001b[0m                                Traceback (most recent call last)",
      "Input \u001b[1;32mIn [83]\u001b[0m, in \u001b[0;36m<cell line: 1>\u001b[1;34m()\u001b[0m\n\u001b[1;32m----> 1\u001b[0m \u001b[38;5;124;43m\"\u001b[39;49m\u001b[38;5;124;43mElman\u001b[39;49m\u001b[38;5;124;43m\"\u001b[39;49m\u001b[43m[\u001b[49m\u001b[38;5;241;43m5\u001b[39;49m\u001b[43m]\u001b[49m\n",
      "\u001b[1;31mIndexError\u001b[0m: string index out of range"
     ]
    }
   ],
   "source": [
    "# gördüyümüz kimi stringin uzunluğu 5 olsada index 5 error verir. \n",
    "# buna səbəb indexin 0dan başlaması və len(str) -1 ə qədər gəlməsidir\n",
    "\"Elman\"[5]"
   ]
  },
  {
   "cell_type": "code",
   "execution_count": 84,
   "id": "2107f41a",
   "metadata": {},
   "outputs": [
    {
     "data": {
      "text/plain": [
       "'n'"
      ]
     },
     "execution_count": 84,
     "metadata": {},
     "output_type": "execute_result"
    }
   ],
   "source": [
    "# düzgün versiyada ən axrıncı simvolu götürmək 5 - 1 = 4\n",
    "\"Elman\"[4]"
   ]
  },
  {
   "cell_type": "markdown",
   "id": "b3bd26a6",
   "metadata": {},
   "source": [
    "#####  Neqativ Indexləmə\n",
    "\"Elman\" stringi ilə davam edək.\n",
    "Bildiyimiz kimi Elman sözündə 0. index E hərfini 4. index n hərfini və s verir. \\\n",
    "Neqativ indexləmə isə stringi axırından əvvəlinə indexləmək üçün istifadə olunur. \\\n",
    "Məsələn, Elman sözündə son hərfi götürmək üçün biz \"Elman\"[-1] yaza bilərik \\\n",
    "və bu eyni ilə \"Elman\"[4] yazmaqla bərabərdir. \\\n",
    "Qeyd: neqativ indexləmə 0(sıfır) dan deyil (mənfi) 1dən başlayır. \\\n",
    "Elman sözündən ilk hərfi mənfi indexlə götürmək üçün \"Elman\"[-5] yaza bilərik. \n"
   ]
  },
  {
   "cell_type": "code",
   "execution_count": 85,
   "id": "d9ab2da7",
   "metadata": {},
   "outputs": [
    {
     "data": {
      "text/plain": [
       "'n'"
      ]
     },
     "execution_count": 85,
     "metadata": {},
     "output_type": "execute_result"
    }
   ],
   "source": [
    "# mənfi birdəki simvol \"n\" dir\n",
    "\"Elman\"[-1]"
   ]
  },
  {
   "cell_type": "code",
   "execution_count": 87,
   "id": "c20b2b12",
   "metadata": {},
   "outputs": [
    {
     "data": {
      "text/plain": [
       "'E'"
      ]
     },
     "execution_count": 87,
     "metadata": {},
     "output_type": "execute_result"
    }
   ],
   "source": [
    "# mənfi indexlə birinci hərifi götürək\n",
    "\"Elman\"[-5]"
   ]
  },
  {
   "cell_type": "markdown",
   "id": "43541f8e",
   "metadata": {},
   "source": [
    "##### Slicing - Kəsmə\n",
    "Biz stringin müəyyən hissəsini kəsə bilərik. Bunu üçün daha əvvəl işlətdiyimiz kvadrat mörtərizə \\\n",
    "işlətməliyik. \\\n",
    "Slicing əməliyyatını icra etmək üçün biz [:] yazılışından istifadı edirik. \\\n",
    "Məsələn, stringin ilk 2 hərifini götürmək üçün [:2] yazmalıyıq. \\\n",
    "2ci hərfdən sonrasını götürmək üçün [2:] yazırıq. \\\n",
    "Ortadan kəsmək üçün isə başlanğıc və bitmə indexlərini qeyd edirik [2:5] \\\n",
    "İzahlar üzərindən daha yaxşı anlamağa çalışaq"
   ]
  },
  {
   "cell_type": "code",
   "execution_count": 173,
   "id": "2b3024af",
   "metadata": {},
   "outputs": [
    {
     "data": {
      "text/plain": [
       "'Py'"
      ]
     },
     "execution_count": 173,
     "metadata": {},
     "output_type": "execute_result"
    }
   ],
   "source": [
    "# ilk 2 simvolu götürmək üçün [:2] yazaq\n",
    "# python da indexləmə 0 (sıfır) dan başladığı üçün 0. və 1. simvollar götürüləcək\n",
    "\"Python\"[:2]"
   ]
  },
  {
   "cell_type": "markdown",
   "id": "19a51830",
   "metadata": {},
   "source": [
    "#### Sual: Niyə kvadrat nörtərizə yazdığımız halda 3. simvol götürülmədi?\n"
   ]
  },
  {
   "cell_type": "markdown",
   "id": "abe85a81",
   "metadata": {},
   "source": [
    "##### Cavad: Bu bizim riyaziyyatdan bildiyimiz daxildi [] və daxil deyil () anlayışları ilə eyni deyil.\n",
    "\n",
    "Slicing üçün işlənən kvadrat mörtərizə fərqli işləyir. \\\n",
    "İzahlarla daha yaxşı başa düşməyə çalışaq"
   ]
  },
  {
   "cell_type": "code",
   "execution_count": 175,
   "id": "95190e8f",
   "metadata": {},
   "outputs": [
    {
     "data": {
      "text/plain": [
       "'Pyt'"
      ]
     },
     "execution_count": 175,
     "metadata": {},
     "output_type": "execute_result"
    }
   ],
   "source": [
    "# ilk 3 simvolu götürmək\n",
    "# 3 yazsaq da indexi 3 olan simvol daxil deyil\n",
    "\"Python\"[:3]"
   ]
  },
  {
   "cell_type": "code",
   "execution_count": 177,
   "id": "b65b7e50",
   "metadata": {},
   "outputs": [
    {
     "data": {
      "text/plain": [
       "'hon'"
      ]
     },
     "execution_count": 177,
     "metadata": {},
     "output_type": "execute_result"
    }
   ],
   "source": [
    "# ilk 3 simvolu götürməmək\n",
    "# indexi 3 olan simvol daxildir\n",
    "\"Python\"[3:]"
   ]
  },
  {
   "cell_type": "code",
   "execution_count": 178,
   "id": "0355a089",
   "metadata": {},
   "outputs": [
    {
     "data": {
      "text/plain": [
       "'Python'"
      ]
     },
     "execution_count": 178,
     "metadata": {},
     "output_type": "execute_result"
    }
   ],
   "source": [
    "# QEYD: string[:n] + string[n:] = string \n",
    "# birincidə n daxil deyil və ikincidə daxildir deyə kəsilmiş stringləri toplasaq \n",
    "# əsas stringi alacayıq\n",
    "\"Python\"[:3] + \"Python\"[3:]"
   ]
  },
  {
   "cell_type": "markdown",
   "id": "0559545d",
   "metadata": {},
   "source": [
    "Stringi ortadan kəsmək üçün kradrat mörtərizədə iki arqument ötürməyimiz  \\\n",
    "string[a:b] şəkilində lazımdır"
   ]
  },
  {
   "cell_type": "code",
   "execution_count": 180,
   "id": "9fd1b4c3",
   "metadata": {},
   "outputs": [
    {
     "data": {
      "text/plain": [
       "'th'"
      ]
     },
     "execution_count": 180,
     "metadata": {},
     "output_type": "execute_result"
    }
   ],
   "source": [
    "\"Python\"[2:4] # index 0, 1 daxil deyil. index 2 və 3 daxildi, 4 daxil deyil"
   ]
  },
  {
   "cell_type": "code",
   "execution_count": 183,
   "id": "9e7b9ebf",
   "metadata": {},
   "outputs": [
    {
     "data": {
      "text/plain": [
       "'on'"
      ]
     },
     "execution_count": 183,
     "metadata": {},
     "output_type": "execute_result"
    }
   ],
   "source": [
    "# mənfi indexləmə ilə slicing\n",
    "# python sözündə n -1, o -2 və s mənfi indexləri vardır\n",
    "# biz string[-2:] yazanda -2 və -1 indexdə duran simvollar kəsiləcək\n",
    "\"Python\"[-2:]"
   ]
  },
  {
   "cell_type": "code",
   "execution_count": 4,
   "id": "111f4713",
   "metadata": {},
   "outputs": [
    {
     "data": {
      "text/plain": [
       "'th'"
      ]
     },
     "execution_count": 4,
     "metadata": {},
     "output_type": "execute_result"
    }
   ],
   "source": [
    "# mənfi index ilə ortadan slicing etmək\n",
    "\"Python\"[-4:-2]"
   ]
  },
  {
   "cell_type": "markdown",
   "id": "897cc2d0",
   "metadata": {},
   "source": [
    "Stringdə hər hansı bir hərifi və ya hər hansı bir hissəni asanlıqla dəyişə bilərik. \\\n",
    "Bunun üçün biz replace() funksiyasından istifadə edə bilərik."
   ]
  },
  {
   "cell_type": "code",
   "execution_count": 23,
   "id": "9cc1b1af",
   "metadata": {},
   "outputs": [
    {
     "data": {
      "text/plain": [
       "'Arif'"
      ]
     },
     "execution_count": 23,
     "metadata": {},
     "output_type": "execute_result"
    }
   ],
   "source": [
    "\"Akif\".replace('k', 'r')"
   ]
  },
  {
   "cell_type": "code",
   "execution_count": 24,
   "id": "d31f3e19",
   "metadata": {},
   "outputs": [
    {
     "data": {
      "text/plain": [
       "'Elxan'"
      ]
     },
     "execution_count": 24,
     "metadata": {},
     "output_type": "execute_result"
    }
   ],
   "source": [
    "\"Orxan\".replace('Or', 'El')"
   ]
  },
  {
   "cell_type": "markdown",
   "id": "a4a87189",
   "metadata": {},
   "source": [
    "İki və daha çox stringi birləşdirə bilərik \\\n",
    "Bunun üçün biz sadəcə üstəgəl (+) işarəsi işlətməliyik"
   ]
  },
  {
   "cell_type": "code",
   "execution_count": 25,
   "id": "b461ad9f",
   "metadata": {},
   "outputs": [
    {
     "data": {
      "text/plain": [
       "'SahilAli'"
      ]
     },
     "execution_count": 25,
     "metadata": {},
     "output_type": "execute_result"
    }
   ],
   "source": [
    "'Sahil' + 'Ali'"
   ]
  },
  {
   "cell_type": "code",
   "execution_count": 95,
   "id": "fe8b8580",
   "metadata": {},
   "outputs": [
    {
     "data": {
      "text/plain": [
       "'HelloHelloHelloHelloHelloHelloHelloHelloHelloHello'"
      ]
     },
     "execution_count": 95,
     "metadata": {},
     "output_type": "execute_result"
    }
   ],
   "source": [
    "# tam ədədi tam ədədə vurduq, topladıq. Strginləri toplaqıq. Bəs stringi tam ədədə vursaq nə baş verər?!\n",
    "# string tam ədəd dəfə təkrar olundu :) \n",
    "\"Hello\" * 10"
   ]
  },
  {
   "cell_type": "code",
   "execution_count": 93,
   "id": "af7133fa",
   "metadata": {},
   "outputs": [
    {
     "ename": "TypeError",
     "evalue": "can't multiply sequence by non-int of type 'float'",
     "output_type": "error",
     "traceback": [
      "\u001b[1;31m---------------------------------------------------------------------------\u001b[0m",
      "\u001b[1;31mTypeError\u001b[0m                                 Traceback (most recent call last)",
      "Input \u001b[1;32mIn [93]\u001b[0m, in \u001b[0;36m<cell line: 3>\u001b[1;34m()\u001b[0m\n\u001b[0;32m      1\u001b[0m \u001b[38;5;66;03m# stringi kəsr ədədə vuraq \u001b[39;00m\n\u001b[0;32m      2\u001b[0m \u001b[38;5;66;03m# Xəta almalı olduğumuzu təxmin etmişdik\u001b[39;00m\n\u001b[1;32m----> 3\u001b[0m \u001b[38;5;124;43m\"\u001b[39;49m\u001b[38;5;124;43masdas\u001b[39;49m\u001b[38;5;124;43m\"\u001b[39;49m\u001b[43m \u001b[49m\u001b[38;5;241;43m*\u001b[39;49m\u001b[43m \u001b[49m\u001b[38;5;241;43m3.4\u001b[39;49m\n",
      "\u001b[1;31mTypeError\u001b[0m: can't multiply sequence by non-int of type 'float'"
     ]
    }
   ],
   "source": [
    "# stringi kəsr ədədə vuraq \n",
    "# Xəta almalı olduğumuzu təxmin etmişdik\n",
    "\"asdas\" * 3.4"
   ]
  },
  {
   "cell_type": "markdown",
   "id": "c8fcc023",
   "metadata": {},
   "source": [
    "Stringlər üzrə ən çox işlənən bəzi metodlara nəzər salaq"
   ]
  },
  {
   "cell_type": "code",
   "execution_count": 34,
   "id": "ea81520b",
   "metadata": {},
   "outputs": [
    {
     "data": {
      "text/plain": [
       "'salam'"
      ]
     },
     "execution_count": 34,
     "metadata": {},
     "output_type": "execute_result"
    }
   ],
   "source": [
    "# stringin bütün həriflərin kiçiltmək \n",
    "\"Salam\".lower()"
   ]
  },
  {
   "cell_type": "code",
   "execution_count": 35,
   "id": "1de3d39d",
   "metadata": {},
   "outputs": [
    {
     "data": {
      "text/plain": [
       "'SALAM'"
      ]
     },
     "execution_count": 35,
     "metadata": {},
     "output_type": "execute_result"
    }
   ],
   "source": [
    "# stringin bütün həriflərin büyütmək \n",
    "\"Salam\".upper()"
   ]
  },
  {
   "cell_type": "code",
   "execution_count": 37,
   "id": "e94d7f4d",
   "metadata": {},
   "outputs": [
    {
     "data": {
      "text/plain": [
       "'Salam'"
      ]
     },
     "execution_count": 37,
     "metadata": {},
     "output_type": "execute_result"
    }
   ],
   "source": [
    "# stringin ilk həriflərin büyütmək \n",
    "\"salam\".title()"
   ]
  },
  {
   "cell_type": "code",
   "execution_count": 39,
   "id": "9f258873",
   "metadata": {},
   "outputs": [
    {
     "data": {
      "text/plain": [
       "True"
      ]
     },
     "execution_count": 39,
     "metadata": {},
     "output_type": "execute_result"
    }
   ],
   "source": [
    "# stringin hansı simvol və ya simvollarla başlayıb və ya bitməsini yoxlamaq üçün\n",
    "\n",
    "#  başlayır\n",
    "\"salam\".startswith('s')"
   ]
  },
  {
   "cell_type": "code",
   "execution_count": 40,
   "id": "e7316fc7",
   "metadata": {},
   "outputs": [
    {
     "data": {
      "text/plain": [
       "True"
      ]
     },
     "execution_count": 40,
     "metadata": {},
     "output_type": "execute_result"
    }
   ],
   "source": [
    "\"salam\".startswith('sa')"
   ]
  },
  {
   "cell_type": "code",
   "execution_count": 41,
   "id": "c0317f81",
   "metadata": {},
   "outputs": [
    {
     "data": {
      "text/plain": [
       "False"
      ]
     },
     "execution_count": 41,
     "metadata": {},
     "output_type": "execute_result"
    }
   ],
   "source": [
    "\"salam\".startswith('sat')"
   ]
  },
  {
   "cell_type": "code",
   "execution_count": 42,
   "id": "48455a08",
   "metadata": {},
   "outputs": [
    {
     "data": {
      "text/plain": [
       "True"
      ]
     },
     "execution_count": 42,
     "metadata": {},
     "output_type": "execute_result"
    }
   ],
   "source": [
    "# bitir\n",
    "\"necəsən\".endswith('sən')"
   ]
  },
  {
   "cell_type": "code",
   "execution_count": 43,
   "id": "10c27e17",
   "metadata": {},
   "outputs": [
    {
     "data": {
      "text/plain": [
       "False"
      ]
     },
     "execution_count": 43,
     "metadata": {},
     "output_type": "execute_result"
    }
   ],
   "source": [
    "\"necəsən\".endswith('sen')"
   ]
  },
  {
   "cell_type": "code",
   "execution_count": 52,
   "id": "2e51588c",
   "metadata": {},
   "outputs": [
    {
     "data": {
      "text/plain": [
       "'salam necəsən'"
      ]
     },
     "execution_count": 52,
     "metadata": {},
     "output_type": "execute_result"
    }
   ],
   "source": [
    "# Stringin əvvəlində və sonunda olan boşluqları silmək\n",
    "# Qeyd: Heç bir strip əməliyyatı stringin ortasında olan boşluqları silmir\n",
    "\"  salam necəsən   \".strip()"
   ]
  },
  {
   "cell_type": "code",
   "execution_count": 49,
   "id": "3b4597c3",
   "metadata": {},
   "outputs": [
    {
     "data": {
      "text/plain": [
       "'  salam necəsən'"
      ]
     },
     "execution_count": 49,
     "metadata": {},
     "output_type": "execute_result"
    }
   ],
   "source": [
    "# sadəcə sağ tərəfdə olan boşluqları silmək\n",
    "\"  salam necəsən    \".rstrip()"
   ]
  },
  {
   "cell_type": "code",
   "execution_count": 50,
   "id": "8ab9a275",
   "metadata": {},
   "outputs": [
    {
     "data": {
      "text/plain": [
       "'salam necəsən    '"
      ]
     },
     "execution_count": 50,
     "metadata": {},
     "output_type": "execute_result"
    }
   ],
   "source": [
    "# sadəcə sol tərəfdə olan boşluqları silmək\n",
    "\"  salam necəsən    \".lstrip()"
   ]
  },
  {
   "cell_type": "code",
   "execution_count": 88,
   "id": "ca6c4ecc",
   "metadata": {},
   "outputs": [
    {
     "data": {
      "text/plain": [
       "['python', 'is', 'great']"
      ]
     },
     "execution_count": 88,
     "metadata": {},
     "output_type": "execute_result"
    }
   ],
   "source": [
    "# verilmiş stringi müəyyən simvola görə hissələrə ayırmaq\n",
    "# Qeyd: nəticə listdir və listlər haqqda daha sonra öyrənəcəyik\n",
    "# split methodu heç bir arqument verilmədiyi halda boşluğa görə stringi hissələrə bölür\n",
    "\"python is great\".split()"
   ]
  },
  {
   "cell_type": "code",
   "execution_count": 89,
   "id": "a9506d7e",
   "metadata": {},
   "outputs": [
    {
     "data": {
      "text/plain": [
       "['python', 'is', 'great']"
      ]
     },
     "execution_count": 89,
     "metadata": {},
     "output_type": "execute_result"
    }
   ],
   "source": [
    "# vergülə görə hissələrə ayırmaq üçün split metoduna vergül arqumenti ötürürük\n",
    "\"python,is,great\".split(',')"
   ]
  },
  {
   "cell_type": "markdown",
   "id": "b954106c",
   "metadata": {},
   "source": [
    "# Variables - Dəyişənlər"
   ]
  },
  {
   "cell_type": "markdown",
   "id": "24ab49d8",
   "metadata": {},
   "source": [
    "Biz tam ədədlər (integers), kəsr ədədlər (floats) və stringlər haqqda öyrəndik. \\\n",
    "Gəlin bunlar üzərindən dəyişənləri öyrənməyə çalışaq. \n",
    "\n",
    "Dəyişənlər bir qayda olaraq hər hansı bir qiyməti yaddaşda saxmaq və istifadə edə bilmək üçündür. \n",
    "\n",
    "Məsələn, biz bayaq \"Elman\" stringi yaratmışdıq və onun üzərində əməliyyat aparanda hər dəfə \\\n",
    "eyni stringi kopyalamalı olurduq. Daha asan yol varmı?! Bəli, həmin stringi hər hansı bir dəyişənə \\\n",
    "mənimsətmək."
   ]
  },
  {
   "cell_type": "markdown",
   "id": "ddb59bd4",
   "metadata": {},
   "source": [
    "Adlandırmaq qaydaları:\n",
    "- Dəyişən hərf və ya altdan xətt ilə başlamalıdır name, _name, __name\n",
    "- Dəyişən rəqəmlə başlaya bilməz\n",
    "- Xüsusi simvollar işlənə bilməz, sadəcə A-z, 0-9 və _ işlənə bilər\n",
    "- Hərfin böyük kiçik olması fərqli dəyişənlər yaradır. age, Age fərqlidir"
   ]
  },
  {
   "cell_type": "markdown",
   "id": "834eaf8e",
   "metadata": {},
   "source": [
    "### Düzgün adlandırma:\n",
    "- myvar = \"John\"\n",
    "- my_var = \"John\"\n",
    "- _my_var = \"John\"\n",
    "- myVar = \"John\"\n",
    "- MYVAR = \"John\"\n",
    "- myvar2 = \"John\"\n",
    "\n",
    "### Yalnış adlandırma:\n",
    "- 2myvar = \"John\"\n",
    "- my-var = \"John\"\n",
    "- my var = \"John\""
   ]
  },
  {
   "cell_type": "code",
   "execution_count": 96,
   "id": "0e3cbff9",
   "metadata": {},
   "outputs": [],
   "source": [
    "# string\n",
    "ad = \"Elman\""
   ]
  },
  {
   "cell_type": "code",
   "execution_count": 97,
   "id": "6ee9c736",
   "metadata": {},
   "outputs": [
    {
     "data": {
      "text/plain": [
       "'Elman'"
      ]
     },
     "execution_count": 97,
     "metadata": {},
     "output_type": "execute_result"
    }
   ],
   "source": [
    "ad"
   ]
  },
  {
   "cell_type": "code",
   "execution_count": 98,
   "id": "b48c6dd7",
   "metadata": {},
   "outputs": [],
   "source": [
    "# integer\n",
    "qiymet = 5"
   ]
  },
  {
   "cell_type": "code",
   "execution_count": 99,
   "id": "da10fa2f",
   "metadata": {},
   "outputs": [
    {
     "data": {
      "text/plain": [
       "5"
      ]
     },
     "execution_count": 99,
     "metadata": {},
     "output_type": "execute_result"
    }
   ],
   "source": [
    "qiymet"
   ]
  },
  {
   "cell_type": "code",
   "execution_count": 100,
   "id": "5e56660e",
   "metadata": {},
   "outputs": [],
   "source": [
    "# float\n",
    "temperatur = 34.6"
   ]
  },
  {
   "cell_type": "code",
   "execution_count": 101,
   "id": "5f4eab2e",
   "metadata": {},
   "outputs": [
    {
     "data": {
      "text/plain": [
       "34.6"
      ]
     },
     "execution_count": 101,
     "metadata": {},
     "output_type": "execute_result"
    }
   ],
   "source": [
    "temperatur"
   ]
  },
  {
   "cell_type": "code",
   "execution_count": 102,
   "id": "7df459a1",
   "metadata": {},
   "outputs": [],
   "source": [
    "# boolean\n",
    "bakı_qeydiyyatlı = False"
   ]
  },
  {
   "cell_type": "code",
   "execution_count": 103,
   "id": "e822b78f",
   "metadata": {},
   "outputs": [
    {
     "data": {
      "text/plain": [
       "False"
      ]
     },
     "execution_count": 103,
     "metadata": {},
     "output_type": "execute_result"
    }
   ],
   "source": [
    "bakı_qeydiyyatlı"
   ]
  },
  {
   "cell_type": "code",
   "execution_count": 105,
   "id": "232cae05",
   "metadata": {},
   "outputs": [
    {
     "ename": "NameError",
     "evalue": "name 'name' is not defined",
     "output_type": "error",
     "traceback": [
      "\u001b[1;31m---------------------------------------------------------------------------\u001b[0m",
      "\u001b[1;31mNameError\u001b[0m                                 Traceback (most recent call last)",
      "Input \u001b[1;32mIn [105]\u001b[0m, in \u001b[0;36m<cell line: 3>\u001b[1;34m()\u001b[0m\n\u001b[0;32m      1\u001b[0m \u001b[38;5;66;03m# daha əvvəl təyin etmədiyimiz dəyişəni print etməyə cəht edək\u001b[39;00m\n\u001b[0;32m      2\u001b[0m \u001b[38;5;66;03m# bu halda biz not defined erroru alacayıq\u001b[39;00m\n\u001b[1;32m----> 3\u001b[0m \u001b[38;5;28mprint\u001b[39m(\u001b[43mname\u001b[49m)\n",
      "\u001b[1;31mNameError\u001b[0m: name 'name' is not defined"
     ]
    }
   ],
   "source": [
    "# daha əvvəl təyin etmədiyimiz dəyişəni print etməyə cəht edək\n",
    "# bu halda biz not defined xətası alacayıq\n",
    "print(name)"
   ]
  },
  {
   "cell_type": "code",
   "execution_count": 114,
   "id": "e72f8b0a",
   "metadata": {},
   "outputs": [
    {
     "data": {
      "text/plain": [
       "False"
      ]
     },
     "execution_count": 114,
     "metadata": {},
     "output_type": "execute_result"
    }
   ],
   "source": [
    "# dəyişənin qiymətini dəyişmək üçün ona yeni qiymət yazmağımız kifayətdir\n",
    "bakı_qeydiyyatlı = False\n",
    "bakı_qeydiyyatlı"
   ]
  },
  {
   "cell_type": "code",
   "execution_count": 112,
   "id": "7e1e8dc1",
   "metadata": {},
   "outputs": [
    {
     "data": {
      "text/plain": [
       "10"
      ]
     },
     "execution_count": 112,
     "metadata": {},
     "output_type": "execute_result"
    }
   ],
   "source": [
    "qiymet = 10\n",
    "qiymet"
   ]
  },
  {
   "cell_type": "code",
   "execution_count": 113,
   "id": "62ff94c0",
   "metadata": {},
   "outputs": [
    {
     "data": {
      "text/plain": [
       "'Orxan'"
      ]
     },
     "execution_count": 113,
     "metadata": {},
     "output_type": "execute_result"
    }
   ],
   "source": [
    "ad = \"Orxan\"\n",
    "ad"
   ]
  },
  {
   "cell_type": "markdown",
   "id": "639f88e5",
   "metadata": {},
   "source": [
    "##### Ədədlər üzərində qısaldılmış riyazi əməliyatlar"
   ]
  },
  {
   "cell_type": "code",
   "execution_count": 116,
   "id": "0a5a8207",
   "metadata": {},
   "outputs": [],
   "source": [
    "# ilk öncə adi qaydada dəyişən üzərində əməliyyat aparaq\n",
    "qiymet = qiymet + 1"
   ]
  },
  {
   "cell_type": "code",
   "execution_count": 117,
   "id": "ca4bf107",
   "metadata": {},
   "outputs": [
    {
     "data": {
      "text/plain": [
       "11"
      ]
     },
     "execution_count": 117,
     "metadata": {},
     "output_type": "execute_result"
    }
   ],
   "source": [
    "# qiyməti (10) bir vahid artırdıq və 11 ədədini aldıq\n",
    "qiymet"
   ]
  },
  {
   "cell_type": "code",
   "execution_count": 118,
   "id": "8ea29031",
   "metadata": {},
   "outputs": [],
   "source": [
    "# biz bu əməliyyatı daha qısa şəkildə yaza bilərik\n",
    "qiymet += 1"
   ]
  },
  {
   "cell_type": "code",
   "execution_count": 119,
   "id": "4851c57e",
   "metadata": {},
   "outputs": [
    {
     "data": {
      "text/plain": [
       "12"
      ]
     },
     "execution_count": 119,
     "metadata": {},
     "output_type": "execute_result"
    }
   ],
   "source": [
    "qiymet"
   ]
  },
  {
   "cell_type": "code",
   "execution_count": 128,
   "id": "734e5553",
   "metadata": {},
   "outputs": [
    {
     "name": "stdout",
     "output_type": "stream",
     "text": [
      "1 çıxdıq:  18\n",
      "2ə vurduq:  36\n",
      "4ə böldük:  9.0\n"
     ]
    }
   ],
   "source": [
    "# eyni qayda ilə çıxma, vurma, bölmə əməliyyatların da icra edə bilərik\n",
    "qiymet = 19\n",
    "qiymet -= 1\n",
    "print('1 çıxdıq: ', qiymet)\n",
    "qiymet *= 2\n",
    "print('2ə vurduq: ', qiymet)\n",
    "qiymet /= 4\n",
    "print('4ə böldük: ', qiymet)"
   ]
  },
  {
   "cell_type": "markdown",
   "id": "896b7033",
   "metadata": {},
   "source": [
    "##### Yaddaşda dəyişənlər necə saxlanılır\n"
   ]
  },
  {
   "cell_type": "code",
   "execution_count": 129,
   "id": "c9ed261a",
   "metadata": {},
   "outputs": [],
   "source": [
    "# dəyişənin üzərinə 1 (bir) gəldikdə yaddaşda nə baş verir ona baxaq\n",
    "# dəyişən yaradaq və onun yaddaşdaki yerinə baxaq"
   ]
  },
  {
   "cell_type": "code",
   "execution_count": 130,
   "id": "2966c927",
   "metadata": {},
   "outputs": [],
   "source": [
    "price = 12"
   ]
  },
  {
   "cell_type": "code",
   "execution_count": 131,
   "id": "665ec7cb",
   "metadata": {},
   "outputs": [
    {
     "data": {
      "text/plain": [
       "140720245184624"
      ]
     },
     "execution_count": 131,
     "metadata": {},
     "output_type": "execute_result"
    }
   ],
   "source": [
    "# price dəyişəninin yaddaşdaki yeri\n",
    "id(price)"
   ]
  },
  {
   "cell_type": "code",
   "execution_count": 132,
   "id": "2332af1a",
   "metadata": {},
   "outputs": [],
   "source": [
    "price += 1"
   ]
  },
  {
   "cell_type": "code",
   "execution_count": 133,
   "id": "87db00be",
   "metadata": {},
   "outputs": [
    {
     "data": {
      "text/plain": [
       "140720245184656"
      ]
     },
     "execution_count": 133,
     "metadata": {},
     "output_type": "execute_result"
    }
   ],
   "source": [
    "id(price)"
   ]
  },
  {
   "cell_type": "markdown",
   "id": "fd4cefef",
   "metadata": {},
   "source": [
    "Gördüyümüz kimi id methodunun qaytardığı qiymət dəyişdi. \\\n",
    "Dəyişən eyni olduğu halda biz niyə fərqli qiymət aldıq?\n"
   ]
  },
  {
   "cell_type": "markdown",
   "id": "e3ff18c8",
   "metadata": {},
   "source": [
    "Pythonda dəyişənlər yaddaşda saxladığınız qiymətə istinad edir (referance saxlayır) \\\n",
    "age = 34 yazanda 34 yaddaşda boş bir yerə yazılır və age dəyişəni ona istinad edir. \\\n",
    "Yəniki biz nə vaxt age dəyişənin çağırsaq o, yaddaşın 34 yazılmış hissəsini oxuyacaq. \n"
   ]
  },
  {
   "cell_type": "code",
   "execution_count": 148,
   "id": "31534a75",
   "metadata": {},
   "outputs": [],
   "source": [
    "age = 34"
   ]
  },
  {
   "cell_type": "code",
   "execution_count": 149,
   "id": "0ef23cb3",
   "metadata": {},
   "outputs": [
    {
     "data": {
      "text/plain": [
       "34"
      ]
     },
     "execution_count": 149,
     "metadata": {},
     "output_type": "execute_result"
    }
   ],
   "source": [
    "age"
   ]
  },
  {
   "cell_type": "code",
   "execution_count": 150,
   "id": "900a57f5",
   "metadata": {},
   "outputs": [
    {
     "data": {
      "text/plain": [
       "140720245185328"
      ]
     },
     "execution_count": 150,
     "metadata": {},
     "output_type": "execute_result"
    }
   ],
   "source": [
    "id(age)"
   ]
  },
  {
   "cell_type": "markdown",
   "id": "caafc6ba",
   "metadata": {},
   "source": [
    "Biz age += 1 yazanda yaddaşda boş yerə age in əvvəlki qiymətinin üzərinə bir gələrək yazılır və \\\n",
    "age dəyişəni yaddaşda yaranmış yeni hissəyə istinad etməyə başlayır"
   ]
  },
  {
   "cell_type": "code",
   "execution_count": 151,
   "id": "8f4dd7a5",
   "metadata": {},
   "outputs": [],
   "source": [
    "# Yaşı bir vahid artıraq\n",
    "age += 1"
   ]
  },
  {
   "cell_type": "code",
   "execution_count": 152,
   "id": "b1c74a58",
   "metadata": {},
   "outputs": [
    {
     "data": {
      "text/plain": [
       "35"
      ]
     },
     "execution_count": 152,
     "metadata": {},
     "output_type": "execute_result"
    }
   ],
   "source": [
    "age"
   ]
  },
  {
   "cell_type": "code",
   "execution_count": 153,
   "id": "944dd5c8",
   "metadata": {},
   "outputs": [
    {
     "data": {
      "text/plain": [
       "140720245185360"
      ]
     },
     "execution_count": 153,
     "metadata": {},
     "output_type": "execute_result"
    }
   ],
   "source": [
    "id(age)"
   ]
  },
  {
   "cell_type": "markdown",
   "id": "f21d6193",
   "metadata": {},
   "source": [
    "Köhnə qiymət isə Garbage Collected olur. İzah: o qiymətə heç bir dəyişən istinad etmir deyə\n",
    "python avtomatik həmin qiyməti yaddaşdan silir. \n",
    "Bəzi programlarşdırma dillərində yaddaşdan lazımsız məlumatı silmək programçının məsuliyyətidir \n",
    "(Low-level programming language). \\\n",
    "Python High-level programlaşdırma dili olduğu üçün bu işləri özü edə bilir :) "
   ]
  },
  {
   "cell_type": "code",
   "execution_count": 156,
   "id": "bb21e171",
   "metadata": {},
   "outputs": [
    {
     "name": "stdout",
     "output_type": "stream",
     "text": [
      "Elman\n",
      "2056114358320\n"
     ]
    }
   ],
   "source": [
    "# Eyni şey string və başqa tiplər üçündə keçərlidir\n",
    "ad = 'Elman'\n",
    "print(ad)\n",
    "print(id(ad))"
   ]
  },
  {
   "cell_type": "code",
   "execution_count": 158,
   "id": "dc9234e0",
   "metadata": {},
   "outputs": [
    {
     "name": "stdout",
     "output_type": "stream",
     "text": [
      "Orxan\n",
      "2056115190640\n"
     ]
    }
   ],
   "source": [
    "ad = 'Orxan'\n",
    "print(ad)\n",
    "print(id(ad))"
   ]
  },
  {
   "cell_type": "code",
   "execution_count": null,
   "id": "9e7678ae",
   "metadata": {},
   "outputs": [],
   "source": []
  },
  {
   "cell_type": "markdown",
   "id": "e9109848",
   "metadata": {},
   "source": [
    "# Listlər\n",
    "\n",
    "Pythonda listlər bir və birdən çox məlumatı saxlamaq üçün istifadə olunur. \\\n",
    "list kvadrat mörtərizə və ya list konstruktoru vasitəsi ilə yaradıla bilər"
   ]
  },
  {
   "cell_type": "code",
   "execution_count": 160,
   "id": "433ce1cb",
   "metadata": {},
   "outputs": [
    {
     "data": {
      "text/plain": [
       "[1, 2, 3]"
      ]
     },
     "execution_count": 160,
     "metadata": {},
     "output_type": "execute_result"
    }
   ],
   "source": [
    "# kvadrat mörtərizə ilə list yaratmaq\n",
    "[1, 2, 3]"
   ]
  },
  {
   "cell_type": "code",
   "execution_count": 162,
   "id": "b1f74ab4",
   "metadata": {},
   "outputs": [
    {
     "data": {
      "text/plain": [
       "['S', 'a', 'h', 'i', 'l']"
      ]
     },
     "execution_count": 162,
     "metadata": {},
     "output_type": "execute_result"
    }
   ],
   "source": [
    "# list konstruktoru ilə list yaratmaq\n",
    "name = 'Sahil'\n",
    "list(name)"
   ]
  },
  {
   "cell_type": "markdown",
   "id": "c63280c6",
   "metadata": {},
   "source": [
    "Özəllikləri\n",
    "- listlər sıralıdır (ordered)\n",
    "- dəyişə biləndi (changable/mutable)\n",
    "- təkrar qiymətlərə icazə verir (allows dublicates)\n",
    "- fərqli tipdə elementlər saxlaya bilər\n",
    "- boş ola bilir, bir və bir necə element saxlaya bilir\n",
    "\n",
    "Stringlər haqqında danışanda qeyd etmişdik ki, stringlər indexlidir. Bu bütün \"sequence type\"lar üçün \\\n",
    "(yuxarıda qeyd olunub) keçərlidir. "
   ]
  },
  {
   "cell_type": "code",
   "execution_count": 167,
   "id": "22e8811c",
   "metadata": {},
   "outputs": [],
   "source": [
    "# list indexləmə\n",
    "my_list = [1, 2, 3, 4, 5]"
   ]
  },
  {
   "cell_type": "code",
   "execution_count": 169,
   "id": "6c3cc6af",
   "metadata": {},
   "outputs": [
    {
     "data": {
      "text/plain": [
       "1"
      ]
     },
     "execution_count": 169,
     "metadata": {},
     "output_type": "execute_result"
    }
   ],
   "source": [
    "# ilk element\n",
    "my_list[0]"
   ]
  },
  {
   "cell_type": "code",
   "execution_count": 170,
   "id": "4c593015",
   "metadata": {},
   "outputs": [
    {
     "data": {
      "text/plain": [
       "5"
      ]
     },
     "execution_count": 170,
     "metadata": {},
     "output_type": "execute_result"
    }
   ],
   "source": [
    "# son element\n",
    "my_list[-1]"
   ]
  },
  {
   "cell_type": "code",
   "execution_count": 187,
   "id": "0bb776e1",
   "metadata": {},
   "outputs": [
    {
     "data": {
      "text/plain": [
       "[2, 3, 4]"
      ]
     },
     "execution_count": 187,
     "metadata": {},
     "output_type": "execute_result"
    }
   ],
   "source": [
    "# slicing \n",
    "my_list[1:4]"
   ]
  },
  {
   "cell_type": "markdown",
   "id": "b9998874",
   "metadata": {},
   "source": [
    "##### List Sıralıdır "
   ]
  },
  {
   "cell_type": "code",
   "execution_count": 188,
   "id": "c65c7625",
   "metadata": {},
   "outputs": [],
   "source": [
    "# listi yaradanda hansı ardıcıllıqla qiymətləri yerləşdirmişiksə həmin ardıcıllıqla da onları götürə bilirik\n",
    "my_list = [1, 2, 3, 4, 5]"
   ]
  },
  {
   "cell_type": "code",
   "execution_count": 190,
   "id": "7456f497",
   "metadata": {},
   "outputs": [
    {
     "data": {
      "text/plain": [
       "1"
      ]
     },
     "execution_count": 190,
     "metadata": {},
     "output_type": "execute_result"
    }
   ],
   "source": [
    "# ilk element 1 olmalıdır\n",
    "my_list[0]"
   ]
  },
  {
   "cell_type": "code",
   "execution_count": 191,
   "id": "1487ac2c",
   "metadata": {},
   "outputs": [
    {
     "data": {
      "text/plain": [
       "5"
      ]
     },
     "execution_count": 191,
     "metadata": {},
     "output_type": "execute_result"
    }
   ],
   "source": [
    "# son element 5 olmalıdır\n",
    "my_list[-1]"
   ]
  },
  {
   "cell_type": "markdown",
   "id": "294304d6",
   "metadata": {},
   "source": [
    "##### List dəyişə biləndi"
   ]
  },
  {
   "cell_type": "markdown",
   "id": "74dc71dc",
   "metadata": {},
   "source": [
    "Gəlin ilk öncə dəyişə bilən və bilməyən nə deməkdir və hansı obyektlər hansı tipdir onları öyrənək\n",
    "- dəyişə bilən (mutable) \n",
    "- dəyişə bilməyən (immutable) \n",
    "\n",
    "Stringlərlə artıq tanışıq deyə gəlin ilk öncə onlarla başlayaq."
   ]
  },
  {
   "cell_type": "code",
   "execution_count": 196,
   "id": "3214942b",
   "metadata": {},
   "outputs": [],
   "source": [
    "# dəyişən yaradaq və qiymət təyin edək\n",
    "name = \"Etman\""
   ]
  },
  {
   "cell_type": "code",
   "execution_count": 197,
   "id": "ebc5aade",
   "metadata": {},
   "outputs": [
    {
     "data": {
      "text/plain": [
       "'Etman'"
      ]
     },
     "execution_count": 197,
     "metadata": {},
     "output_type": "execute_result"
    }
   ],
   "source": [
    "name"
   ]
  },
  {
   "cell_type": "markdown",
   "id": "d0cb0bf2",
   "metadata": {},
   "source": [
    "Elman yazmaq istərkən səhvən Etman yazdıq və bunu replace işlətmədən (indexing işlədərək) \\\n",
    "düzəltməyə cəht edər"
   ]
  },
  {
   "cell_type": "code",
   "execution_count": 200,
   "id": "628fd665",
   "metadata": {},
   "outputs": [
    {
     "data": {
      "text/plain": [
       "'t'"
      ]
     },
     "execution_count": 200,
     "metadata": {},
     "output_type": "execute_result"
    }
   ],
   "source": [
    "# t hərifi 1. indexdədir\n",
    "name[1]"
   ]
  },
  {
   "cell_type": "code",
   "execution_count": 201,
   "id": "2d1450df",
   "metadata": {},
   "outputs": [
    {
     "ename": "TypeError",
     "evalue": "'str' object does not support item assignment",
     "output_type": "error",
     "traceback": [
      "\u001b[1;31m---------------------------------------------------------------------------\u001b[0m",
      "\u001b[1;31mTypeError\u001b[0m                                 Traceback (most recent call last)",
      "Input \u001b[1;32mIn [201]\u001b[0m, in \u001b[0;36m<cell line: 2>\u001b[1;34m()\u001b[0m\n\u001b[0;32m      1\u001b[0m \u001b[38;5;66;03m# dəyişməyə cəht edək\u001b[39;00m\n\u001b[1;32m----> 2\u001b[0m name[\u001b[38;5;241m1\u001b[39m] \u001b[38;5;241m=\u001b[39m \u001b[38;5;124m'\u001b[39m\u001b[38;5;124ml\u001b[39m\u001b[38;5;124m'\u001b[39m\n",
      "\u001b[1;31mTypeError\u001b[0m: 'str' object does not support item assignment"
     ]
    }
   ],
   "source": [
    "# dəyişməyə cəht edək\n",
    "name[1] = 'l'"
   ]
  },
  {
   "cell_type": "markdown",
   "id": "0c9470ae",
   "metadata": {},
   "source": [
    "Gördüyümüz kimi string obyektləri index saxlasa da biz o indexlərdə duran simvollara bir başa dəyişiklik\n",
    "edə bilmirik. Bu tip obyektlər immutable adlanır. \n",
    "\n",
    "Mutable\n",
    "- list\n",
    "- set\n",
    "- dict \n",
    "\n",
    "Immutable \n",
    "- boolean\n",
    "- int\n",
    "- float\n",
    "- tuple\n",
    "- string"
   ]
  },
  {
   "cell_type": "code",
   "execution_count": 205,
   "id": "30041020",
   "metadata": {},
   "outputs": [
    {
     "data": {
      "text/plain": [
       "[1, 2, 3, 4, 5]"
      ]
     },
     "execution_count": 205,
     "metadata": {},
     "output_type": "execute_result"
    }
   ],
   "source": [
    "# İndi isə listin hər hansı bir elementin dəyişməyə cəht edək. \n",
    "my_list"
   ]
  },
  {
   "cell_type": "code",
   "execution_count": 206,
   "id": "1480b2b3",
   "metadata": {},
   "outputs": [],
   "source": [
    "my_list[0] = 22"
   ]
  },
  {
   "cell_type": "code",
   "execution_count": 208,
   "id": "cd66f59e",
   "metadata": {},
   "outputs": [
    {
     "data": {
      "text/plain": [
       "[22, 2, 3, 4, 5]"
      ]
     },
     "execution_count": 208,
     "metadata": {},
     "output_type": "execute_result"
    }
   ],
   "source": [
    "# list mutable obyekt olduğu üçün onun elementini dəyişə bildik\n",
    "my_list"
   ]
  },
  {
   "cell_type": "markdown",
   "id": "40cea1e6",
   "metadata": {},
   "source": [
    "##### Sual: string obyektləri immutable olduğu halda necə olurki biz replace metodu ilə onları dəyişə bilirik?"
   ]
  },
  {
   "cell_type": "markdown",
   "id": "b2e89d43",
   "metadata": {},
   "source": [
    "Cavab: Daha əvvəl danışdığımız kimi hər bir dəyişən yaddaşda müəyyən yer turur. Məsələn, name=\"Elman\" yazsaq və id metodu ilə yaddaşda yerinə baxsaq 123444355 kimi bir ədəd alarıq.  \\\n",
    "Biz bu stringin 0. indexində duran simvolu dəyişməyə cəht edəndə bu, yaddaşın həmin \\\n",
    "hissəsində duran stringi (\"Elman\") dəyişmək istəyir və string obyektləri immutable olduğu üçün \\\n",
    "xəta alırıq.\n",
    "\n",
    "Replace, strip, upper və s kimi string metodları isə obyekti yerində deyil kopyasın dəyişir.\n"
   ]
  },
  {
   "cell_type": "code",
   "execution_count": 218,
   "id": "45bd1b33",
   "metadata": {},
   "outputs": [],
   "source": [
    "name = \"elman\""
   ]
  },
  {
   "cell_type": "code",
   "execution_count": 219,
   "id": "be4a157a",
   "metadata": {},
   "outputs": [
    {
     "data": {
      "text/plain": [
       "2056115900272"
      ]
     },
     "execution_count": 219,
     "metadata": {},
     "output_type": "execute_result"
    }
   ],
   "source": [
    "id(name)"
   ]
  },
  {
   "cell_type": "code",
   "execution_count": 220,
   "id": "83aa3d5e",
   "metadata": {},
   "outputs": [],
   "source": [
    "new_name = name.upper()"
   ]
  },
  {
   "cell_type": "code",
   "execution_count": 221,
   "id": "d820070d",
   "metadata": {},
   "outputs": [
    {
     "data": {
      "text/plain": [
       "2056115896880"
      ]
     },
     "execution_count": 221,
     "metadata": {},
     "output_type": "execute_result"
    }
   ],
   "source": [
    "id(new_name)"
   ]
  },
  {
   "cell_type": "code",
   "execution_count": 224,
   "id": "e4511519",
   "metadata": {},
   "outputs": [
    {
     "data": {
      "text/plain": [
       "2056115926448"
      ]
     },
     "execution_count": 224,
     "metadata": {},
     "output_type": "execute_result"
    }
   ],
   "source": [
    "# və ya\n",
    "id(name.lower())"
   ]
  },
  {
   "cell_type": "code",
   "execution_count": 225,
   "id": "7838de70",
   "metadata": {},
   "outputs": [
    {
     "data": {
      "text/plain": [
       "2056115900272"
      ]
     },
     "execution_count": 225,
     "metadata": {},
     "output_type": "execute_result"
    }
   ],
   "source": [
    "# name dəyişəninin idsi olduğu kimi qaldı\n",
    "id(name)"
   ]
  },
  {
   "cell_type": "markdown",
   "id": "878c3fec",
   "metadata": {},
   "source": [
    "#### Listdə element dəyişəndə id necə dəyişir və ya dəyişirmi"
   ]
  },
  {
   "cell_type": "code",
   "execution_count": 231,
   "id": "0ebf95dc",
   "metadata": {},
   "outputs": [],
   "source": [
    "# list yaradaq\n",
    "my_list = [1, 2, 4]"
   ]
  },
  {
   "cell_type": "code",
   "execution_count": 232,
   "id": "b14c6c41",
   "metadata": {},
   "outputs": [
    {
     "data": {
      "text/plain": [
       "2056115912384"
      ]
     },
     "execution_count": 232,
     "metadata": {},
     "output_type": "execute_result"
    }
   ],
   "source": [
    "# id sinə baxaq\n",
    "id(my_list)"
   ]
  },
  {
   "cell_type": "code",
   "execution_count": 233,
   "id": "2cd6f5a6",
   "metadata": {},
   "outputs": [],
   "source": [
    "# listi dəyişək\n",
    "my_list[-1] = 3"
   ]
  },
  {
   "cell_type": "code",
   "execution_count": 234,
   "id": "ea8d7fd2",
   "metadata": {},
   "outputs": [
    {
     "data": {
      "text/plain": [
       "2056115912384"
      ]
     },
     "execution_count": 234,
     "metadata": {},
     "output_type": "execute_result"
    }
   ],
   "source": [
    "# id dəyişmədi\n",
    "id(my_list)"
   ]
  },
  {
   "cell_type": "markdown",
   "id": "07951069",
   "metadata": {},
   "source": [
    "#### list təkrar qiymərlərə icazə verir"
   ]
  },
  {
   "cell_type": "code",
   "execution_count": 236,
   "id": "350c297d",
   "metadata": {},
   "outputs": [],
   "source": [
    "my_list = [1, 2, 2, 3, 3, 4]"
   ]
  },
  {
   "cell_type": "code",
   "execution_count": 237,
   "id": "bf4ecf39",
   "metadata": {},
   "outputs": [
    {
     "data": {
      "text/plain": [
       "[1, 2, 2, 3, 3, 4]"
      ]
     },
     "execution_count": 237,
     "metadata": {},
     "output_type": "execute_result"
    }
   ],
   "source": [
    "my_list"
   ]
  },
  {
   "cell_type": "markdown",
   "id": "2d82141f",
   "metadata": {},
   "source": [
    "##### fərqli tip elementlər saxlaya bilir"
   ]
  },
  {
   "cell_type": "code",
   "execution_count": 317,
   "id": "ea178cee",
   "metadata": {},
   "outputs": [],
   "source": [
    "my_list = [1, 'salam', False, [1, 2, 3]]"
   ]
  },
  {
   "cell_type": "code",
   "execution_count": 319,
   "id": "e7f1cf64",
   "metadata": {},
   "outputs": [
    {
     "data": {
      "text/plain": [
       "[1, 'salam', False, [1, 2, 3]]"
      ]
     },
     "execution_count": 319,
     "metadata": {},
     "output_type": "execute_result"
    }
   ],
   "source": [
    "my_list"
   ]
  },
  {
   "cell_type": "markdown",
   "id": "84239b7c",
   "metadata": {},
   "source": [
    "##### boş, bir elementli listlər"
   ]
  },
  {
   "cell_type": "code",
   "execution_count": 327,
   "id": "0a0c4828",
   "metadata": {},
   "outputs": [],
   "source": [
    "empty_list1 = list()\n",
    "empty_list2 = []"
   ]
  },
  {
   "cell_type": "code",
   "execution_count": 330,
   "id": "803f1503",
   "metadata": {},
   "outputs": [
    {
     "name": "stdout",
     "output_type": "stream",
     "text": [
      "[]\n",
      "[]\n"
     ]
    }
   ],
   "source": [
    "print(empty_list1)\n",
    "print(empty_list2)"
   ]
  },
  {
   "cell_type": "code",
   "execution_count": 331,
   "id": "b29403c0",
   "metadata": {},
   "outputs": [
    {
     "name": "stdout",
     "output_type": "stream",
     "text": [
      "0\n",
      "0\n"
     ]
    }
   ],
   "source": [
    "print(len(empty_list1))\n",
    "print(len(empty_list2))"
   ]
  },
  {
   "cell_type": "code",
   "execution_count": 530,
   "id": "8f7836d0",
   "metadata": {},
   "outputs": [],
   "source": [
    "one_elm_list = [1]"
   ]
  },
  {
   "cell_type": "code",
   "execution_count": 532,
   "id": "35e162ba",
   "metadata": {},
   "outputs": [
    {
     "name": "stdout",
     "output_type": "stream",
     "text": [
      "<class 'list'>\n",
      "1\n"
     ]
    }
   ],
   "source": [
    "print(type(one_elm_list))\n",
    "print(len(one_elm_list))"
   ]
  },
  {
   "cell_type": "markdown",
   "id": "2a808841",
   "metadata": {},
   "source": [
    "##### List metodları\n",
    "- append\n",
    "- insert\n",
    "- remove\n",
    "- pop\n",
    "- count\n",
    "- index\n",
    "- extend\n",
    "- sort\n",
    "- reverse\n",
    "- join"
   ]
  },
  {
   "cell_type": "code",
   "execution_count": 536,
   "id": "3d06b28f",
   "metadata": {},
   "outputs": [],
   "source": [
    "# 1. Append - listin sonuna yeni element əlavə etmək üçündür. \n",
    "# sadəcə bir arqument alır, əks halda xəta verir\n",
    "my_list = [1, 2, 3]"
   ]
  },
  {
   "cell_type": "code",
   "execution_count": 537,
   "id": "6b7be159",
   "metadata": {},
   "outputs": [],
   "source": [
    "my_list.append(4)"
   ]
  },
  {
   "cell_type": "code",
   "execution_count": 538,
   "id": "836833e7",
   "metadata": {},
   "outputs": [
    {
     "data": {
      "text/plain": [
       "[1, 2, 3, 4]"
      ]
     },
     "execution_count": 538,
     "metadata": {},
     "output_type": "execute_result"
    }
   ],
   "source": [
    "my_list"
   ]
  },
  {
   "cell_type": "code",
   "execution_count": 539,
   "id": "9bbc4b23",
   "metadata": {},
   "outputs": [],
   "source": [
    "# 2. Insert - listin hər hansı bir hissəsinə elemet əlavə etmək üçündür.\n",
    "# insert iki arqument alır, index - hara element yerləşdiriləcək və qiymət\n",
    "my_list = [1, 2, 3]"
   ]
  },
  {
   "cell_type": "code",
   "execution_count": 246,
   "id": "2870d88c",
   "metadata": {},
   "outputs": [],
   "source": [
    "my_list.insert(0, 11)"
   ]
  },
  {
   "cell_type": "code",
   "execution_count": 247,
   "id": "f8358b32",
   "metadata": {},
   "outputs": [
    {
     "data": {
      "text/plain": [
       "[11, 1, 2, 3]"
      ]
     },
     "execution_count": 247,
     "metadata": {},
     "output_type": "execute_result"
    }
   ],
   "source": [
    "my_list"
   ]
  },
  {
   "cell_type": "code",
   "execution_count": 260,
   "id": "0e00b17a",
   "metadata": {},
   "outputs": [],
   "source": [
    "# 3. Remove - Listən qiymətə görə silmək\n",
    "# bir arqument götürür vı bu silinəcək elementin qiymətidir\n",
    "# arqument mütləq verilməlidir əks haıda xəta alacayıq\n",
    "my_list = [1, 2, 3]"
   ]
  },
  {
   "cell_type": "code",
   "execution_count": 261,
   "id": "fbef2a55",
   "metadata": {},
   "outputs": [],
   "source": [
    "my_list.remove(1)"
   ]
  },
  {
   "cell_type": "code",
   "execution_count": 262,
   "id": "fc326b2b",
   "metadata": {},
   "outputs": [
    {
     "data": {
      "text/plain": [
       "[2, 3]"
      ]
     },
     "execution_count": 262,
     "metadata": {},
     "output_type": "execute_result"
    }
   ],
   "source": [
    "my_list"
   ]
  },
  {
   "cell_type": "code",
   "execution_count": 263,
   "id": "f717ffff",
   "metadata": {},
   "outputs": [],
   "source": [
    "# 4. Pop - Listən indexə görə silmək\n",
    "# bir arqument götürür və bu silinəcək elementin indexidir,\n",
    "# arqument verilməsə ən son elementi (-1 index) silir\n",
    "my_list = [1, 2, 3]"
   ]
  },
  {
   "cell_type": "code",
   "execution_count": 264,
   "id": "1738d67d",
   "metadata": {},
   "outputs": [
    {
     "data": {
      "text/plain": [
       "1"
      ]
     },
     "execution_count": 264,
     "metadata": {},
     "output_type": "execute_result"
    }
   ],
   "source": [
    "my_list.pop(0)"
   ]
  },
  {
   "cell_type": "code",
   "execution_count": 253,
   "id": "c44fbea8",
   "metadata": {},
   "outputs": [
    {
     "data": {
      "text/plain": [
       "[2, 3]"
      ]
     },
     "execution_count": 253,
     "metadata": {},
     "output_type": "execute_result"
    }
   ],
   "source": [
    "my_list"
   ]
  },
  {
   "cell_type": "code",
   "execution_count": 265,
   "id": "99d3a2aa",
   "metadata": {},
   "outputs": [
    {
     "data": {
      "text/plain": [
       "3"
      ]
     },
     "execution_count": 265,
     "metadata": {},
     "output_type": "execute_result"
    }
   ],
   "source": [
    "my_list.pop()"
   ]
  },
  {
   "cell_type": "code",
   "execution_count": 266,
   "id": "a7fc20e0",
   "metadata": {},
   "outputs": [
    {
     "data": {
      "text/plain": [
       "[2]"
      ]
     },
     "execution_count": 266,
     "metadata": {},
     "output_type": "execute_result"
    }
   ],
   "source": [
    "my_list"
   ]
  },
  {
   "cell_type": "markdown",
   "id": "bf37c8cf",
   "metadata": {},
   "source": [
    "##### Sual: Silmə əməliyyatı uğurlu oldu bəs niyə biz silinən elementi aşağıda sanki print etmişik kimi görürük?"
   ]
  },
  {
   "cell_type": "markdown",
   "id": "a9832ccc",
   "metadata": {},
   "source": [
    "Cavab: pop metodu sildiyi elementi qaytarır. Bu o deməkdir ki, biz o qiyməti hansısa dəyişəndə\n",
    "saxlaya bilərik sonraki istifadə üçün və ya istəməsək saxlamarıq"
   ]
  },
  {
   "cell_type": "code",
   "execution_count": 267,
   "id": "82b5fc1c",
   "metadata": {},
   "outputs": [],
   "source": [
    "my_list = [1, 2, 3]"
   ]
  },
  {
   "cell_type": "code",
   "execution_count": 268,
   "id": "0dbb5d3d",
   "metadata": {},
   "outputs": [],
   "source": [
    "removed = my_list.pop(1)"
   ]
  },
  {
   "cell_type": "code",
   "execution_count": 270,
   "id": "64ad4fac",
   "metadata": {},
   "outputs": [
    {
     "data": {
      "text/plain": [
       "[1, 3]"
      ]
     },
     "execution_count": 270,
     "metadata": {},
     "output_type": "execute_result"
    }
   ],
   "source": [
    "my_list"
   ]
  },
  {
   "cell_type": "code",
   "execution_count": 271,
   "id": "4989d9d5",
   "metadata": {},
   "outputs": [
    {
     "data": {
      "text/plain": [
       "2"
      ]
     },
     "execution_count": 271,
     "metadata": {},
     "output_type": "execute_result"
    }
   ],
   "source": [
    "removed"
   ]
  },
  {
   "cell_type": "code",
   "execution_count": 275,
   "id": "ee51e879",
   "metadata": {},
   "outputs": [],
   "source": [
    "# 4. Count \n",
    "# listdə bir elementdən necə dənə olduğun tapır\n",
    "# axtardığınız elementi arqument kimi verməlisiz əks halda xəta alacaqsınız\n",
    "my_list = [1, 1, 2, 3, 3, 4, 5, 5, 5, 5]"
   ]
  },
  {
   "cell_type": "code",
   "execution_count": 277,
   "id": "9a1ca7d0",
   "metadata": {},
   "outputs": [
    {
     "data": {
      "text/plain": [
       "2"
      ]
     },
     "execution_count": 277,
     "metadata": {},
     "output_type": "execute_result"
    }
   ],
   "source": [
    "# listdə necə dənə 1 vardır\n",
    "my_list.count(1)"
   ]
  },
  {
   "cell_type": "code",
   "execution_count": 280,
   "id": "3f863a6e",
   "metadata": {},
   "outputs": [
    {
     "data": {
      "text/plain": [
       "4"
      ]
     },
     "execution_count": 280,
     "metadata": {},
     "output_type": "execute_result"
    }
   ],
   "source": [
    "my_list.count(5)"
   ]
  },
  {
   "cell_type": "code",
   "execution_count": 281,
   "id": "ceeec589",
   "metadata": {},
   "outputs": [],
   "source": [
    "# 5. Index \n",
    "# elementin listdəki indexini tapmaq üçün işlənir\n",
    "# indexini bilmək istədiyimiz element arqument kimi verilməlidir əks halda xəta alırıq\n",
    "my_list = [1, 2, 3]"
   ]
  },
  {
   "cell_type": "code",
   "execution_count": 282,
   "id": "0054ba5c",
   "metadata": {},
   "outputs": [
    {
     "data": {
      "text/plain": [
       "1"
      ]
     },
     "execution_count": 282,
     "metadata": {},
     "output_type": "execute_result"
    }
   ],
   "source": [
    "my_list.index(2)"
   ]
  },
  {
   "cell_type": "code",
   "execution_count": 288,
   "id": "24a20688",
   "metadata": {},
   "outputs": [],
   "source": [
    "# 6. Extend\n",
    "# iki listi birləşdirmək üşün işlənir\n",
    "# None return edir, bunun üçün səhvən a = a.extend(b) yazsanız a None olacaq\n",
    "my_list1 = [1, 2, 3]\n",
    "my_list2 = [4, 5, 6]"
   ]
  },
  {
   "cell_type": "code",
   "execution_count": 289,
   "id": "68cd53f1",
   "metadata": {},
   "outputs": [],
   "source": [
    "my_list1.extend(my_list2)"
   ]
  },
  {
   "cell_type": "code",
   "execution_count": 290,
   "id": "e309d86e",
   "metadata": {},
   "outputs": [
    {
     "data": {
      "text/plain": [
       "[1, 2, 3, 4, 5, 6]"
      ]
     },
     "execution_count": 290,
     "metadata": {},
     "output_type": "execute_result"
    }
   ],
   "source": [
    "# dəyişdi\n",
    "my_list1"
   ]
  },
  {
   "cell_type": "code",
   "execution_count": 292,
   "id": "85fa8eca",
   "metadata": {},
   "outputs": [
    {
     "data": {
      "text/plain": [
       "[4, 5, 6]"
      ]
     },
     "execution_count": 292,
     "metadata": {},
     "output_type": "execute_result"
    }
   ],
   "source": [
    "# my_list1 my_list2'i extend etdi deyə my_list2 dəyişmədi\n",
    "my_list2"
   ]
  },
  {
   "cell_type": "code",
   "execution_count": 297,
   "id": "02b40838",
   "metadata": {},
   "outputs": [],
   "source": [
    "# 7. sort \n",
    "# listi sort etmək (sıralamaq) üçün işlənir\n",
    "# None return edir"
   ]
  },
  {
   "cell_type": "code",
   "execution_count": 3,
   "id": "0f4c5068",
   "metadata": {},
   "outputs": [],
   "source": [
    "my_list = [1, 4, 2, 8, 4, 10, 7]"
   ]
  },
  {
   "cell_type": "code",
   "execution_count": 299,
   "id": "ef32ce49",
   "metadata": {},
   "outputs": [],
   "source": [
    "my_list.sort()"
   ]
  },
  {
   "cell_type": "code",
   "execution_count": 4,
   "id": "f05f9a13",
   "metadata": {},
   "outputs": [
    {
     "data": {
      "text/plain": [
       "[1, 4, 2, 8, 4, 10, 7]"
      ]
     },
     "execution_count": 4,
     "metadata": {},
     "output_type": "execute_result"
    }
   ],
   "source": [
    "my_list"
   ]
  },
  {
   "cell_type": "code",
   "execution_count": 8,
   "id": "f014addf",
   "metadata": {},
   "outputs": [],
   "source": [
    "# 8. Reverse \n",
    "# listi əks ardıcıllıqda göstərir\n",
    "# None qaytarır\n",
    "my_list = [1, 4, 2, 8, 4, 10, 7]\n",
    "my_list.sort()"
   ]
  },
  {
   "cell_type": "code",
   "execution_count": 9,
   "id": "c1482ce5",
   "metadata": {},
   "outputs": [
    {
     "data": {
      "text/plain": [
       "[1, 2, 4, 4, 7, 8, 10]"
      ]
     },
     "execution_count": 9,
     "metadata": {},
     "output_type": "execute_result"
    }
   ],
   "source": [
    "my_list"
   ]
  },
  {
   "cell_type": "code",
   "execution_count": 10,
   "id": "ca9b0879",
   "metadata": {},
   "outputs": [],
   "source": [
    "my_list.reverse()"
   ]
  },
  {
   "cell_type": "code",
   "execution_count": 11,
   "id": "e2751b41",
   "metadata": {},
   "outputs": [
    {
     "data": {
      "text/plain": [
       "[10, 8, 7, 4, 4, 2, 1]"
      ]
     },
     "execution_count": 11,
     "metadata": {},
     "output_type": "execute_result"
    }
   ],
   "source": [
    "my_list"
   ]
  },
  {
   "cell_type": "code",
   "execution_count": 526,
   "id": "5250bd15",
   "metadata": {},
   "outputs": [
    {
     "data": {
      "text/plain": [
       "'SalamDünya!'"
      ]
     },
     "execution_count": 526,
     "metadata": {},
     "output_type": "execute_result"
    }
   ],
   "source": [
    "# 9. Join\n",
    "# listin elementlərini birləşdirərək string yaratmaq üçün işlənir\n",
    "ml = ['Salam', \"Dünya\", \"!\"]\n",
    "''.join(ml) # nəticə bitişik oldu ki :)"
   ]
  },
  {
   "cell_type": "code",
   "execution_count": 527,
   "id": "6edd7375",
   "metadata": {},
   "outputs": [
    {
     "data": {
      "text/plain": [
       "'Salam Dünya !'"
      ]
     },
     "execution_count": 527,
     "metadata": {},
     "output_type": "execute_result"
    }
   ],
   "source": [
    "' '.join(ml) # dırnaq içində olan boşluğa fikir verək"
   ]
  },
  {
   "cell_type": "code",
   "execution_count": 529,
   "id": "df735901",
   "metadata": {},
   "outputs": [
    {
     "data": {
      "text/plain": [
       "'Salam, Dünya, !'"
      ]
     },
     "execution_count": 529,
     "metadata": {},
     "output_type": "execute_result"
    }
   ],
   "source": [
    "# dırnaq içində istənilən simvol yazıb ona görə birləşdirə bilərik\n",
    "', '.join(ml)"
   ]
  },
  {
   "cell_type": "markdown",
   "id": "06692a94",
   "metadata": {},
   "source": [
    "### Tuple"
   ]
  },
  {
   "cell_type": "code",
   "execution_count": 313,
   "id": "30e329b2",
   "metadata": {},
   "outputs": [],
   "source": [
    "# tuple yaratmaq üçün () mörtərizə və ya tuple kontruktoru işlənir\n",
    "my_tuple1 = (1, 2, 3, 4)"
   ]
  },
  {
   "cell_type": "code",
   "execution_count": 314,
   "id": "6d14566a",
   "metadata": {},
   "outputs": [],
   "source": [
    "my_tuple2 = tuple('salam')"
   ]
  },
  {
   "cell_type": "code",
   "execution_count": 315,
   "id": "b1bcec6a",
   "metadata": {},
   "outputs": [
    {
     "data": {
      "text/plain": [
       "('s', 'a', 'l', 'a', 'm')"
      ]
     },
     "execution_count": 315,
     "metadata": {},
     "output_type": "execute_result"
    }
   ],
   "source": [
    "my_tuple2"
   ]
  },
  {
   "cell_type": "markdown",
   "id": "45398a9c",
   "metadata": {},
   "source": [
    "Özəllikləri\n",
    "- sıralıdır (ordered) - sıra heç bir halda dəyişmir\n",
    "- dəyişə bilməyəndi (unchangable/immutable) - yaradılıqdan sonra heç bir elementini dəyişə bilmərsiniz\n",
    "- təkrar qiymətlərə icazə verir (allows dublicates) "
   ]
  },
  {
   "cell_type": "code",
   "execution_count": 338,
   "id": "4d499d61",
   "metadata": {},
   "outputs": [],
   "source": [
    "empty_tuple1 = tuple()\n",
    "empty_tuple2 = ()"
   ]
  },
  {
   "cell_type": "code",
   "execution_count": 350,
   "id": "ce10322c",
   "metadata": {},
   "outputs": [
    {
     "name": "stdout",
     "output_type": "stream",
     "text": [
      "<class 'tuple'>\n",
      "<class 'tuple'>\n"
     ]
    }
   ],
   "source": [
    "print(type(empty_tuple1))\n",
    "print(type(empty_tuple2))"
   ]
  },
  {
   "cell_type": "markdown",
   "id": "4b07a258",
   "metadata": {},
   "source": [
    "type metodu ile istənilən obyektin aid olduğu sinifə baxa bilərsiniz. \\\n",
    "Qeyd: Pythonda primitiv tiplər yoxdur, hər bir dəyişən obyektdir və hansısa classdan törəyir. \\\n",
    "Bunu tam ədəd üzərindən göstərək. "
   ]
  },
  {
   "cell_type": "code",
   "execution_count": 348,
   "id": "bfb5f301",
   "metadata": {},
   "outputs": [],
   "source": [
    "age = 34"
   ]
  },
  {
   "cell_type": "code",
   "execution_count": 349,
   "id": "ef2719a3",
   "metadata": {},
   "outputs": [
    {
     "data": {
      "text/plain": [
       "int"
      ]
     },
     "execution_count": 349,
     "metadata": {},
     "output_type": "execute_result"
    }
   ],
   "source": [
    "type(age)"
   ]
  },
  {
   "cell_type": "code",
   "execution_count": 351,
   "id": "4138f8b2",
   "metadata": {},
   "outputs": [],
   "source": [
    "# bir elementli tuple yaratmaq üçün\n",
    "single_elm_tup = (1)"
   ]
  },
  {
   "cell_type": "code",
   "execution_count": 353,
   "id": "6c5d2b2b",
   "metadata": {},
   "outputs": [
    {
     "data": {
      "text/plain": [
       "int"
      ]
     },
     "execution_count": 353,
     "metadata": {},
     "output_type": "execute_result"
    }
   ],
   "source": [
    "type(single_elm_tup)"
   ]
  },
  {
   "cell_type": "code",
   "execution_count": 354,
   "id": "52062870",
   "metadata": {},
   "outputs": [],
   "source": [
    "# oopss! Nəsə düz olmadı. \n",
    "# əgər bir elementli tuple yaratmaq istəyiriksə mütləq vergül istifadə etməliyik :) \n",
    "single_elm_tup = (1, ) "
   ]
  },
  {
   "cell_type": "code",
   "execution_count": 13,
   "id": "ecbf19ad",
   "metadata": {},
   "outputs": [],
   "source": [
    "single_elm_tup = 1, 2 # mörtərizə olmadan da tuple yarada bilərik, gəlin bunu etməyək, oxunaqlı deyil :) "
   ]
  },
  {
   "cell_type": "code",
   "execution_count": 3,
   "id": "0d398f55",
   "metadata": {},
   "outputs": [
    {
     "data": {
      "text/plain": [
       "(1, 2)"
      ]
     },
     "execution_count": 3,
     "metadata": {},
     "output_type": "execute_result"
    }
   ],
   "source": [
    "single_elm_tup"
   ]
  },
  {
   "cell_type": "code",
   "execution_count": 362,
   "id": "1e381b90",
   "metadata": {},
   "outputs": [
    {
     "data": {
      "text/plain": [
       "tuple"
      ]
     },
     "execution_count": 362,
     "metadata": {},
     "output_type": "execute_result"
    }
   ],
   "source": [
    "type(single_elm_tup)"
   ]
  },
  {
   "cell_type": "code",
   "execution_count": 363,
   "id": "d5bd9a9a",
   "metadata": {},
   "outputs": [
    {
     "data": {
      "text/plain": [
       "1"
      ]
     },
     "execution_count": 363,
     "metadata": {},
     "output_type": "execute_result"
    }
   ],
   "source": [
    "# tuple indexlidir\n",
    "my_tuple1 = (1, 2, 3, 4)\n",
    "my_tuple1[0]"
   ]
  },
  {
   "cell_type": "code",
   "execution_count": 364,
   "id": "41217644",
   "metadata": {},
   "outputs": [
    {
     "data": {
      "text/plain": [
       "4"
      ]
     },
     "execution_count": 364,
     "metadata": {},
     "output_type": "execute_result"
    }
   ],
   "source": [
    "# len funksiyası ilə uzunluğuna baxa bilərik\n",
    "len(my_tuple1)"
   ]
  },
  {
   "cell_type": "code",
   "execution_count": 366,
   "id": "51ae2d82",
   "metadata": {},
   "outputs": [
    {
     "ename": "TypeError",
     "evalue": "'tuple' object does not support item assignment",
     "output_type": "error",
     "traceback": [
      "\u001b[1;31m---------------------------------------------------------------------------\u001b[0m",
      "\u001b[1;31mTypeError\u001b[0m                                 Traceback (most recent call last)",
      "Input \u001b[1;32mIn [366]\u001b[0m, in \u001b[0;36m<cell line: 3>\u001b[1;34m()\u001b[0m\n\u001b[0;32m      1\u001b[0m \u001b[38;5;66;03m# tuple immutable/ dəyişə bilməyəndir\u001b[39;00m\n\u001b[0;32m      2\u001b[0m my_tuple1 \u001b[38;5;241m=\u001b[39m (\u001b[38;5;241m1\u001b[39m, \u001b[38;5;241m2\u001b[39m, \u001b[38;5;241m3\u001b[39m, \u001b[38;5;241m4\u001b[39m)\n\u001b[1;32m----> 3\u001b[0m my_tuple1[\u001b[38;5;241m0\u001b[39m] \u001b[38;5;241m=\u001b[39m \u001b[38;5;241m11\u001b[39m\n",
      "\u001b[1;31mTypeError\u001b[0m: 'tuple' object does not support item assignment"
     ]
    }
   ],
   "source": [
    "# tuple immutable/ dəyişə bilməyəndir\n",
    "my_tuple1 = (1, 2, 3, 4)\n",
    "my_tuple1[0] = 11"
   ]
  },
  {
   "cell_type": "code",
   "execution_count": 368,
   "id": "705ccb0d",
   "metadata": {},
   "outputs": [],
   "source": [
    "# Qeyd: Funksiya returnləri tuple işlədir. Bu haqda daha sonra "
   ]
  },
  {
   "cell_type": "markdown",
   "id": "ffad66d7",
   "metadata": {},
   "source": [
    "##### Containers"
   ]
  },
  {
   "cell_type": "markdown",
   "id": "fe81c366",
   "metadata": {},
   "source": [
    "1. Dictionary - key value pair olaraq özündə elementlər saxlayır. \n",
    "- ordered - yarandığı ardıcıllıqda qalır\n",
    "- changable - keyin valuesin dəyişə bilirik\n",
    "- no dublicates - eyni adda olan keyin valuesi köhnə valueni əvəz edir"
   ]
  },
  {
   "cell_type": "code",
   "execution_count": 375,
   "id": "b5c42e47",
   "metadata": {},
   "outputs": [],
   "source": [
    "# boş dictionary yaradaq\n",
    "my_dict1 = dict() # dict() konstruktoru ilə\n",
    "my_dict2 = {} # figurlu mörtərizə ilə "
   ]
  },
  {
   "cell_type": "code",
   "execution_count": 376,
   "id": "7bc68ae8",
   "metadata": {},
   "outputs": [
    {
     "name": "stdout",
     "output_type": "stream",
     "text": [
      "{}\n",
      "<class 'dict'>\n"
     ]
    }
   ],
   "source": [
    "print(my_dict1)\n",
    "print(type(my_dict1))"
   ]
  },
  {
   "cell_type": "code",
   "execution_count": 377,
   "id": "da7b1c90",
   "metadata": {},
   "outputs": [
    {
     "name": "stdout",
     "output_type": "stream",
     "text": [
      "{}\n",
      "<class 'dict'>\n"
     ]
    }
   ],
   "source": [
    "print(my_dict2)\n",
    "print(type(my_dict2))"
   ]
  },
  {
   "cell_type": "code",
   "execution_count": 384,
   "id": "fe5a0ce5",
   "metadata": {},
   "outputs": [],
   "source": [
    "my_dict1 = {\n",
    "    \"name\": \"Sahil\",\n",
    "    \"age\": 27\n",
    "}"
   ]
  },
  {
   "cell_type": "code",
   "execution_count": 385,
   "id": "d222d682",
   "metadata": {},
   "outputs": [
    {
     "data": {
      "text/plain": [
       "{'name': 'Sahil', 'age': 27}"
      ]
     },
     "execution_count": 385,
     "metadata": {},
     "output_type": "execute_result"
    }
   ],
   "source": [
    "my_dict1"
   ]
  },
  {
   "cell_type": "code",
   "execution_count": 386,
   "id": "60cdc9c6",
   "metadata": {},
   "outputs": [
    {
     "data": {
      "text/plain": [
       "'Sahil'"
      ]
     },
     "execution_count": 386,
     "metadata": {},
     "output_type": "execute_result"
    }
   ],
   "source": [
    "# dictionary dən keyə əsasən value götürmək\n",
    "# kvadrat mörtərizə ilə\n",
    "my_dict1['name']"
   ]
  },
  {
   "cell_type": "code",
   "execution_count": 387,
   "id": "ae4a694a",
   "metadata": {},
   "outputs": [
    {
     "data": {
      "text/plain": [
       "'Sahil'"
      ]
     },
     "execution_count": 387,
     "metadata": {},
     "output_type": "execute_result"
    }
   ],
   "source": [
    "# .get() metodu ilə\n",
    "my_dict1.get('name')"
   ]
  },
  {
   "cell_type": "code",
   "execution_count": 392,
   "id": "6d806d6f",
   "metadata": {},
   "outputs": [],
   "source": [
    "# kvadrat mörtərizə ilə get metodunun fərqi\n",
    "# Əgər axtarılan key dict də yoxdursa [] keyerror xətası verəcək. Axtardığınız key tapılmadı\n",
    "# get metodu xəta verməyəcək sadəcə None qaytaracaq."
   ]
  },
  {
   "cell_type": "code",
   "execution_count": 395,
   "id": "3d8d9b00",
   "metadata": {},
   "outputs": [
    {
     "name": "stdout",
     "output_type": "stream",
     "text": [
      "Sahil\n",
      "Sahil\n"
     ]
    }
   ],
   "source": [
    "print(my_dict1['name'])\n",
    "print(my_dict1.get('name'))"
   ]
  },
  {
   "cell_type": "code",
   "execution_count": 398,
   "id": "b42f8e31",
   "metadata": {},
   "outputs": [
    {
     "ename": "KeyError",
     "evalue": "'number'",
     "output_type": "error",
     "traceback": [
      "\u001b[1;31m---------------------------------------------------------------------------\u001b[0m",
      "\u001b[1;31mKeyError\u001b[0m                                  Traceback (most recent call last)",
      "Input \u001b[1;32mIn [398]\u001b[0m, in \u001b[0;36m<cell line: 1>\u001b[1;34m()\u001b[0m\n\u001b[1;32m----> 1\u001b[0m \u001b[38;5;28mprint\u001b[39m(\u001b[43mmy_dict1\u001b[49m\u001b[43m[\u001b[49m\u001b[38;5;124;43m'\u001b[39;49m\u001b[38;5;124;43mnumber\u001b[39;49m\u001b[38;5;124;43m'\u001b[39;49m\u001b[43m]\u001b[49m)\n",
      "\u001b[1;31mKeyError\u001b[0m: 'number'"
     ]
    }
   ],
   "source": [
    "print(my_dict1['number'])"
   ]
  },
  {
   "cell_type": "code",
   "execution_count": 399,
   "id": "f37ca243",
   "metadata": {},
   "outputs": [
    {
     "name": "stdout",
     "output_type": "stream",
     "text": [
      "None\n"
     ]
    }
   ],
   "source": [
    "print(my_dict1.get('number'))"
   ]
  },
  {
   "cell_type": "code",
   "execution_count": 411,
   "id": "29e35b04",
   "metadata": {},
   "outputs": [],
   "source": [
    "# Qeyd: dictionary list, tuple kimi birdən çox element saxlasa da indexləmə işləmir\n",
    "my_dict1 = {\n",
    "    \"name\": \"Sahil\",\n",
    "    \"age\": 27\n",
    "}"
   ]
  },
  {
   "cell_type": "code",
   "execution_count": 412,
   "id": "87e256f6",
   "metadata": {},
   "outputs": [
    {
     "ename": "KeyError",
     "evalue": "0",
     "output_type": "error",
     "traceback": [
      "\u001b[1;31m---------------------------------------------------------------------------\u001b[0m",
      "\u001b[1;31mKeyError\u001b[0m                                  Traceback (most recent call last)",
      "Input \u001b[1;32mIn [412]\u001b[0m, in \u001b[0;36m<cell line: 2>\u001b[1;34m()\u001b[0m\n\u001b[0;32m      1\u001b[0m \u001b[38;5;66;03m# 0. element anlyışı yoxdur\u001b[39;00m\n\u001b[1;32m----> 2\u001b[0m \u001b[43mmy_dict1\u001b[49m\u001b[43m[\u001b[49m\u001b[38;5;241;43m0\u001b[39;49m\u001b[43m]\u001b[49m\n",
      "\u001b[1;31mKeyError\u001b[0m: 0"
     ]
    }
   ],
   "source": [
    "# 0. element anlyışı yoxdur\n",
    "my_dict1[0]"
   ]
  },
  {
   "cell_type": "code",
   "execution_count": 418,
   "id": "4c6d1441",
   "metadata": {},
   "outputs": [
    {
     "name": "stdout",
     "output_type": "stream",
     "text": [
      "{'name': 'Sahil', 'age': 27, 'gender': 'male'}\n"
     ]
    }
   ],
   "source": [
    "# yeni key/value pair əlavə etmək\n",
    "my_dict1 = {\n",
    "    \"name\": \"Sahil\",\n",
    "    \"age\": 27\n",
    "}\n",
    "my_dict1['gender'] = 'male'\n",
    "print(my_dict1)"
   ]
  },
  {
   "cell_type": "code",
   "execution_count": 419,
   "id": "0be6c6d7",
   "metadata": {},
   "outputs": [
    {
     "name": "stdout",
     "output_type": "stream",
     "text": [
      "{'name': 'Sahil', 'age': 21}\n"
     ]
    }
   ],
   "source": [
    "# no dublicates - eyni adlı key olduqda yeni value köhnə valueni əvəz edir və sadəcə eyni adlı bir key olur\n",
    "my_dict1 = {\n",
    "    \"name\": \"Sahil\",\n",
    "    \"age\": 27\n",
    "}\n",
    "my_dict1['age'] = 21\n",
    "print(my_dict1)"
   ]
  },
  {
   "cell_type": "code",
   "execution_count": 421,
   "id": "7e0bd203",
   "metadata": {},
   "outputs": [
    {
     "data": {
      "text/plain": [
       "2"
      ]
     },
     "execution_count": 421,
     "metadata": {},
     "output_type": "execute_result"
    }
   ],
   "source": [
    "# uzunluq\n",
    "len(my_dict1) # pair sayını qaytarır"
   ]
  },
  {
   "cell_type": "code",
   "execution_count": 422,
   "id": "230b3535",
   "metadata": {},
   "outputs": [
    {
     "data": {
      "text/plain": [
       "dict_keys(['name', 'age'])"
      ]
     },
     "execution_count": 422,
     "metadata": {},
     "output_type": "execute_result"
    }
   ],
   "source": [
    "# keylər\n",
    "my_dict1.keys()"
   ]
  },
  {
   "cell_type": "code",
   "execution_count": 423,
   "id": "dd03b392",
   "metadata": {},
   "outputs": [
    {
     "data": {
      "text/plain": [
       "dict_values(['Sahil', 21])"
      ]
     },
     "execution_count": 423,
     "metadata": {},
     "output_type": "execute_result"
    }
   ],
   "source": [
    "# valuelar\n",
    "my_dict1.values()"
   ]
  },
  {
   "cell_type": "code",
   "execution_count": 425,
   "id": "e29320df",
   "metadata": {},
   "outputs": [
    {
     "data": {
      "text/plain": [
       "dict_items([('name', 'Sahil'), ('age', 21)])"
      ]
     },
     "execution_count": 425,
     "metadata": {},
     "output_type": "execute_result"
    }
   ],
   "source": [
    "# key və valuedan ibarət list of tuple qaytarır\n",
    "my_dict1.items() "
   ]
  },
  {
   "cell_type": "code",
   "execution_count": 465,
   "id": "0d07c559",
   "metadata": {},
   "outputs": [],
   "source": [
    "# iki dictionaryni birləşdirmək\n",
    "my_dict1 = {\n",
    "    \"name\": \"Sahil\",\n",
    "    \"age\": 21\n",
    "}\n",
    "\n",
    "my_dict2 = {\n",
    "    \"gender\": \"male\",\n",
    "    \"age\": 27,\n",
    "    \"grades\": [1, 2, 4]\n",
    "}\n",
    "\n",
    "my_dict1.update(my_dict2)"
   ]
  },
  {
   "cell_type": "code",
   "execution_count": 466,
   "id": "76956ce5",
   "metadata": {},
   "outputs": [
    {
     "data": {
      "text/plain": [
       "{'name': 'Sahil', 'age': 27, 'gender': 'male', 'grades': [1, 2, 4]}"
      ]
     },
     "execution_count": 466,
     "metadata": {},
     "output_type": "execute_result"
    }
   ],
   "source": [
    "my_dict1"
   ]
  },
  {
   "cell_type": "markdown",
   "id": "6253f79b",
   "metadata": {},
   "source": [
    "QEYD: Dict keylər hashable olmalıdır! Nə deməkdir? Gəlin setlərlə davam edək və orda öyrənək "
   ]
  },
  {
   "cell_type": "markdown",
   "id": "315857eb",
   "metadata": {},
   "source": [
    "### Sets"
   ]
  },
  {
   "cell_type": "markdown",
   "id": "e78670d4",
   "metadata": {},
   "source": [
    "- unordered - yarandığı sıralamanı qorumur\n",
    "- unchangeable - dəyişilə bilməyəndi\n",
    "- unindexed -  index yoxdur\n",
    "- no dublicates - eyni qiymətlərə icazə vermir"
   ]
  },
  {
   "cell_type": "code",
   "execution_count": 439,
   "id": "6e452b95",
   "metadata": {},
   "outputs": [],
   "source": [
    "# boş set yaratmaq\n",
    "my_set = set()"
   ]
  },
  {
   "cell_type": "code",
   "execution_count": 443,
   "id": "db962f1c",
   "metadata": {},
   "outputs": [
    {
     "data": {
      "text/plain": [
       "set()"
      ]
     },
     "execution_count": 443,
     "metadata": {},
     "output_type": "execute_result"
    }
   ],
   "source": [
    "my_set"
   ]
  },
  {
   "cell_type": "code",
   "execution_count": 444,
   "id": "d7117fa6",
   "metadata": {},
   "outputs": [
    {
     "data": {
      "text/plain": [
       "set"
      ]
     },
     "execution_count": 444,
     "metadata": {},
     "output_type": "execute_result"
    }
   ],
   "source": [
    "type(my_set)"
   ]
  },
  {
   "cell_type": "code",
   "execution_count": 446,
   "id": "3a0c5e6b",
   "metadata": {},
   "outputs": [],
   "source": [
    "set_with_value = {1, 2, 3, 3, 4}"
   ]
  },
  {
   "cell_type": "code",
   "execution_count": 447,
   "id": "db28142b",
   "metadata": {},
   "outputs": [
    {
     "data": {
      "text/plain": [
       "{1, 2, 3, 4}"
      ]
     },
     "execution_count": 447,
     "metadata": {},
     "output_type": "execute_result"
    }
   ],
   "source": [
    "set_with_value"
   ]
  },
  {
   "cell_type": "code",
   "execution_count": 448,
   "id": "e8e64ab1",
   "metadata": {},
   "outputs": [
    {
     "data": {
      "text/plain": [
       "set"
      ]
     },
     "execution_count": 448,
     "metadata": {},
     "output_type": "execute_result"
    }
   ],
   "source": [
    "type(set_with_value)"
   ]
  },
  {
   "cell_type": "code",
   "execution_count": 449,
   "id": "8dcc719b",
   "metadata": {},
   "outputs": [
    {
     "data": {
      "text/plain": [
       "dict"
      ]
     },
     "execution_count": 449,
     "metadata": {},
     "output_type": "execute_result"
    }
   ],
   "source": [
    "my_set2 = {} # Diqqət: figurlu mörtərizə boş olsa dict obyekti yaradacaq, set deyil\n",
    "type(my_set2)"
   ]
  },
  {
   "cell_type": "code",
   "execution_count": 451,
   "id": "d5395101",
   "metadata": {},
   "outputs": [],
   "source": [
    "# set yarandığı sıralamanı qorumur və hər istifadə etdiyimizdə fərqli ardıcıllıqla gələ bilər\n",
    "# setin hər hansı bir elementin dəyişə bilmərik amma elementi silə və yenisini əlavə edə bilərik\n",
    "# baxmayaraqki set elementlər çoxluğu saxlayır, index yoxdur\n",
    "# təkrar olunan qiymətlərədən sadəcə biri saxlanılır"
   ]
  },
  {
   "cell_type": "code",
   "execution_count": 458,
   "id": "3af84037",
   "metadata": {},
   "outputs": [],
   "source": [
    "# set müxtəlif tip obyektlər saxlaya bilər\n",
    "ms1 = {1, 'salam', None}"
   ]
  },
  {
   "cell_type": "code",
   "execution_count": 460,
   "id": "2e832687",
   "metadata": {},
   "outputs": [
    {
     "data": {
      "text/plain": [
       "{1, None, 'salam'}"
      ]
     },
     "execution_count": 460,
     "metadata": {},
     "output_type": "execute_result"
    }
   ],
   "source": [
    "# sıralamanın pozulmasına diqqət edək \n",
    "ms1"
   ]
  },
  {
   "cell_type": "code",
   "execution_count": 461,
   "id": "97deb3b2",
   "metadata": {},
   "outputs": [
    {
     "data": {
      "text/plain": [
       "3"
      ]
     },
     "execution_count": 461,
     "metadata": {},
     "output_type": "execute_result"
    }
   ],
   "source": [
    "# uzunluq\n",
    "len(ms1)"
   ]
  },
  {
   "cell_type": "code",
   "execution_count": 463,
   "id": "2d816dd8",
   "metadata": {},
   "outputs": [
    {
     "ename": "TypeError",
     "evalue": "unhashable type: 'list'",
     "output_type": "error",
     "traceback": [
      "\u001b[1;31m---------------------------------------------------------------------------\u001b[0m",
      "\u001b[1;31mTypeError\u001b[0m                                 Traceback (most recent call last)",
      "Input \u001b[1;32mIn [463]\u001b[0m, in \u001b[0;36m<cell line: 2>\u001b[1;34m()\u001b[0m\n\u001b[0;32m      1\u001b[0m \u001b[38;5;66;03m# set müxtəlif tip obyektlər saxlaya bilər\u001b[39;00m\n\u001b[1;32m----> 2\u001b[0m ms1 \u001b[38;5;241m=\u001b[39m {\u001b[38;5;241m1\u001b[39m, \u001b[38;5;124m'\u001b[39m\u001b[38;5;124msalam\u001b[39m\u001b[38;5;124m'\u001b[39m, \u001b[38;5;28;01mNone\u001b[39;00m, [\u001b[38;5;241m1\u001b[39m, \u001b[38;5;241m2\u001b[39m, \u001b[38;5;241m4\u001b[39m]}\n",
      "\u001b[1;31mTypeError\u001b[0m: unhashable type: 'list'"
     ]
    }
   ],
   "source": [
    "# set müxtəlif tip obyektlər saxlaya bilər\n",
    "ms1 = {1, 'salam', None, [1, 2, 4]}"
   ]
  },
  {
   "cell_type": "markdown",
   "id": "14b7b47e",
   "metadata": {},
   "source": [
    "opppss! Niyəsə listi saxlaya bilmədik :("
   ]
  },
  {
   "cell_type": "markdown",
   "id": "d29ba50b",
   "metadata": {},
   "source": [
    "Dict keylər hashable olamlı idi dedik, eyni ilə set elementləri də hashable olmalıdır. "
   ]
  },
  {
   "cell_type": "markdown",
   "id": "98128ac1",
   "metadata": {},
   "source": [
    "Hash qiyməti tam ədəddir və böyük data içində daha sürətli axtarış etmək üçün faydalıdır. \\\n",
    "Dictionarydə keyləri daha rahatlıqla tapa bilək deyə keylərin hashable olması vacibdir. \\\n",
    "hash() metodu bir arqument götürür.\n"
   ]
  },
  {
   "cell_type": "code",
   "execution_count": 484,
   "id": "ba88f434",
   "metadata": {},
   "outputs": [
    {
     "data": {
      "text/plain": [
       "4"
      ]
     },
     "execution_count": 484,
     "metadata": {},
     "output_type": "execute_result"
    }
   ],
   "source": [
    "hash(4)"
   ]
  },
  {
   "cell_type": "code",
   "execution_count": 486,
   "id": "40253639",
   "metadata": {},
   "outputs": [
    {
     "data": {
      "text/plain": [
       "-2433913471491436776"
      ]
     },
     "execution_count": 486,
     "metadata": {},
     "output_type": "execute_result"
    }
   ],
   "source": [
    "hash(\"salam\")"
   ]
  },
  {
   "cell_type": "markdown",
   "id": "46db1997",
   "metadata": {},
   "source": [
    "Pythonda bütün tiplər hashable deyil. \\\n",
    "mutable/dəyişə bilən tiplər hash oluna bilmir    \\\n",
    "Yuxardakı xəta məhz listin mutable olması və setin sadəcə immutable obyektlər qəbul etməsi ilə bağlıdır"
   ]
  },
  {
   "cell_type": "markdown",
   "id": "35896564",
   "metadata": {},
   "source": [
    "Set metodları:\n",
    "- add\n",
    "- remove\n",
    "- difference\n",
    "- intersection\n",
    "- union\n",
    "- issubset\n",
    "- update \\\n",
    "və sair\n"
   ]
  },
  {
   "cell_type": "code",
   "execution_count": 498,
   "id": "a89ed0b5",
   "metadata": {},
   "outputs": [],
   "source": [
    "my_set1 = {1, 2, 2, 3}"
   ]
  },
  {
   "cell_type": "code",
   "execution_count": 499,
   "id": "70978b9e",
   "metadata": {},
   "outputs": [
    {
     "data": {
      "text/plain": [
       "{1, 2, 3}"
      ]
     },
     "execution_count": 499,
     "metadata": {},
     "output_type": "execute_result"
    }
   ],
   "source": [
    "# təkrarlanan 2 lərdən sadəcə biri qaldı\n",
    "my_set1"
   ]
  },
  {
   "cell_type": "code",
   "execution_count": 508,
   "id": "02617bdc",
   "metadata": {},
   "outputs": [],
   "source": [
    "# element əlavə etmək\n",
    "my_set1.add(5)"
   ]
  },
  {
   "cell_type": "code",
   "execution_count": 509,
   "id": "c2f91e4f",
   "metadata": {},
   "outputs": [
    {
     "data": {
      "text/plain": [
       "{1, 2, 3, 5}"
      ]
     },
     "execution_count": 509,
     "metadata": {},
     "output_type": "execute_result"
    }
   ],
   "source": [
    "my_set1"
   ]
  },
  {
   "cell_type": "code",
   "execution_count": 510,
   "id": "97b80fb3",
   "metadata": {},
   "outputs": [],
   "source": [
    "# element silmək\n",
    "my_set1.remove(5)"
   ]
  },
  {
   "cell_type": "code",
   "execution_count": 511,
   "id": "02abec63",
   "metadata": {},
   "outputs": [
    {
     "data": {
      "text/plain": [
       "{1, 2, 3}"
      ]
     },
     "execution_count": 511,
     "metadata": {},
     "output_type": "execute_result"
    }
   ],
   "source": [
    "my_set1"
   ]
  },
  {
   "cell_type": "code",
   "execution_count": 513,
   "id": "e74b5587",
   "metadata": {},
   "outputs": [
    {
     "ename": "KeyError",
     "evalue": "5",
     "output_type": "error",
     "traceback": [
      "\u001b[1;31m---------------------------------------------------------------------------\u001b[0m",
      "\u001b[1;31mKeyError\u001b[0m                                  Traceback (most recent call last)",
      "Input \u001b[1;32mIn [513]\u001b[0m, in \u001b[0;36m<cell line: 3>\u001b[1;34m()\u001b[0m\n\u001b[0;32m      1\u001b[0m \u001b[38;5;66;03m# bir daha silməyə cəht edək :)\u001b[39;00m\n\u001b[0;32m      2\u001b[0m \u001b[38;5;66;03m# Diqqət: əgər setdə silmək istədiyiniz qiymət yoxdursa xəta alacaqsınız. \u001b[39;00m\n\u001b[1;32m----> 3\u001b[0m \u001b[43mmy_set1\u001b[49m\u001b[38;5;241;43m.\u001b[39;49m\u001b[43mremove\u001b[49m\u001b[43m(\u001b[49m\u001b[38;5;241;43m5\u001b[39;49m\u001b[43m)\u001b[49m\n",
      "\u001b[1;31mKeyError\u001b[0m: 5"
     ]
    }
   ],
   "source": [
    "# bir daha silməyə cəht edək :)\n",
    "# Diqqət: əgər setdə silmək istədiyiniz qiymət yoxdursa xəta alacaqsınız. \n",
    "my_set1.remove(5)"
   ]
  },
  {
   "cell_type": "markdown",
   "id": "ff6031cc",
   "metadata": {},
   "source": [
    "Setlər daha çox riyaziyyatdan bildiyimiz çoxluq əməliyyatlarını icra edir"
   ]
  },
  {
   "cell_type": "code",
   "execution_count": 515,
   "id": "1137509e",
   "metadata": {},
   "outputs": [],
   "source": [
    "my_set1 = {1, 2, 3, 4, 4}\n",
    "my_set2 = {4, 5, 6, 7}"
   ]
  },
  {
   "cell_type": "code",
   "execution_count": 516,
   "id": "c20dbf82",
   "metadata": {},
   "outputs": [
    {
     "data": {
      "text/plain": [
       "{1, 2, 3}"
      ]
     },
     "execution_count": 516,
     "metadata": {},
     "output_type": "execute_result"
    }
   ],
   "source": [
    "# iki çoxluq arasındaki fərq\n",
    "my_set1.difference(my_set2)"
   ]
  },
  {
   "cell_type": "code",
   "execution_count": 518,
   "id": "05e9a13d",
   "metadata": {},
   "outputs": [
    {
     "data": {
      "text/plain": [
       "{4}"
      ]
     },
     "execution_count": 518,
     "metadata": {},
     "output_type": "execute_result"
    }
   ],
   "source": [
    "# kəsişmə\n",
    "my_set1.intersection(my_set2)"
   ]
  },
  {
   "cell_type": "code",
   "execution_count": 519,
   "id": "3f984971",
   "metadata": {},
   "outputs": [
    {
     "data": {
      "text/plain": [
       "{1, 2, 3, 4, 5, 6, 7}"
      ]
     },
     "execution_count": 519,
     "metadata": {},
     "output_type": "execute_result"
    }
   ],
   "source": [
    "# birləşmə\n",
    "my_set1.union(my_set2)"
   ]
  },
  {
   "cell_type": "markdown",
   "id": "de38c14b",
   "metadata": {},
   "source": [
    "Qeyd: Müəyyən səbəblərdən dolayı siz bir sequence tipindən digərinə keçid edə bilərsiniz \\\n",
    "Məsələn bizdə list var hansiki təkrar qiymətlər saxlayır və biz asanlıqla təkrarlanan qiymətləri \\\n",
    "listdən ata bilərik. Bunun üçün listi setə çevirib və yenidən listə çevirə bilərik"
   ]
  },
  {
   "cell_type": "code",
   "execution_count": 520,
   "id": "d02818fb",
   "metadata": {},
   "outputs": [],
   "source": [
    "list_with_dublicates = [1, 2, 3, 3, 4, 5, 5, 5, 5]"
   ]
  },
  {
   "cell_type": "code",
   "execution_count": 521,
   "id": "415ad65c",
   "metadata": {},
   "outputs": [],
   "source": [
    "list_to_set = set(list_with_dublicates)"
   ]
  },
  {
   "cell_type": "code",
   "execution_count": 522,
   "id": "a21ddf77",
   "metadata": {},
   "outputs": [
    {
     "data": {
      "text/plain": [
       "{1, 2, 3, 4, 5}"
      ]
     },
     "execution_count": 522,
     "metadata": {},
     "output_type": "execute_result"
    }
   ],
   "source": [
    "list_to_set"
   ]
  },
  {
   "cell_type": "code",
   "execution_count": 523,
   "id": "133d7fcb",
   "metadata": {},
   "outputs": [],
   "source": [
    "set_to_list = list(list_to_set)"
   ]
  },
  {
   "cell_type": "code",
   "execution_count": 524,
   "id": "1552ba5b",
   "metadata": {},
   "outputs": [
    {
     "data": {
      "text/plain": [
       "[1, 2, 3, 4, 5]"
      ]
     },
     "execution_count": 524,
     "metadata": {},
     "output_type": "execute_result"
    }
   ],
   "source": [
    "set_to_list"
   ]
  },
  {
   "cell_type": "markdown",
   "id": "ad5db675",
   "metadata": {},
   "source": [
    "### String Formatting"
   ]
  },
  {
   "cell_type": "markdown",
   "id": "25a7bf05",
   "metadata": {},
   "source": [
    "- format metodu ilə\n",
    "- f string ilə"
   ]
  },
  {
   "cell_type": "code",
   "execution_count": 2,
   "id": "39ab2689",
   "metadata": {},
   "outputs": [
    {
     "data": {
      "text/plain": [
       "'My name is Sahil and I am from Azərbaycan'"
      ]
     },
     "execution_count": 2,
     "metadata": {},
     "output_type": "execute_result"
    }
   ],
   "source": [
    "# boş buraxmaq istədiyimiz sözün yerinə boş fiqurlu mörtərizə yazırıq\n",
    "# format metodunda ardıcıllıq qorunmalıdır\n",
    "\"My name is {} and I am from {}\".format('Sahil', 'Azərbaycan')"
   ]
  },
  {
   "cell_type": "code",
   "execution_count": 3,
   "id": "abf8308e",
   "metadata": {},
   "outputs": [
    {
     "data": {
      "text/plain": [
       "'My name is Azərbaycan and I am from Sahil'"
      ]
     },
     "execution_count": 3,
     "metadata": {},
     "output_type": "execute_result"
    }
   ],
   "source": [
    "# Ardıcıllıq qorunmasa yalnış formada cümlə aldıq\n",
    "\"My name is {} and I am from {}\".format('Azərbaycan', 'Sahil')"
   ]
  },
  {
   "cell_type": "code",
   "execution_count": 4,
   "id": "cf7c03f3",
   "metadata": {},
   "outputs": [
    {
     "name": "stdout",
     "output_type": "stream",
     "text": [
      "My name is Sahil and I am from Azərbaycan\n",
      "My name is Sahil and I am from Azərbaycan\n"
     ]
    }
   ],
   "source": [
    "# ardıcıllığı qorumadan düzgün formada cümlə üçün isə format metodunda arqumentlərə ad vermək lazımdır\n",
    "# baxmayaraqki format metodunda ardıcıllıq fərqlidir, eyni nəticə alırıq\n",
    "print(\"My name is {name} and I am from {country}\".format(name='Sahil', country='Azərbaycan'))\n",
    "print(\"My name is {name} and I am from {country}\".format(country='Azərbaycan', name='Sahil'))"
   ]
  },
  {
   "cell_type": "code",
   "execution_count": 5,
   "id": "ebb10cb5",
   "metadata": {},
   "outputs": [
    {
     "name": "stdout",
     "output_type": "stream",
     "text": [
      "Salam Dünya\n",
      "Salam Dünya\n",
      "Salam Dünya\n",
      "Salam Dünya\n"
     ]
    }
   ],
   "source": [
    "# f string\n",
    "# f hərfi yazırıq və tək, cüt, üçlü dırnaq işlədə bilərik\n",
    "world = 'Dünya'\n",
    "print(f'Salam {world}')\n",
    "print(f\"Salam {world}\")\n",
    "print(f'''Salam {world}''')\n",
    "print(f\"\"\"Salam {world}\"\"\")"
   ]
  },
  {
   "cell_type": "markdown",
   "id": "d980ec85",
   "metadata": {},
   "source": [
    "### Comparision operators"
   ]
  },
  {
   "cell_type": "code",
   "execution_count": 6,
   "id": "6741021f",
   "metadata": {},
   "outputs": [],
   "source": [
    "# > böyükdür\n",
    "# < kiçikdir\n",
    "# >= böyük bərabərdir\n",
    "# <= kiçik bərabərdir\n",
    "# != bərabər deyil\n",
    "# == bərabərdir"
   ]
  },
  {
   "cell_type": "code",
   "execution_count": 7,
   "id": "b8f61f75",
   "metadata": {},
   "outputs": [
    {
     "data": {
      "text/plain": [
       "True"
      ]
     },
     "execution_count": 7,
     "metadata": {},
     "output_type": "execute_result"
    }
   ],
   "source": [
    "8 > 4"
   ]
  },
  {
   "cell_type": "code",
   "execution_count": 8,
   "id": "c6cf6f8e",
   "metadata": {},
   "outputs": [
    {
     "data": {
      "text/plain": [
       "True"
      ]
     },
     "execution_count": 8,
     "metadata": {},
     "output_type": "execute_result"
    }
   ],
   "source": [
    "5 < 9"
   ]
  },
  {
   "cell_type": "code",
   "execution_count": 9,
   "id": "2ff7475c",
   "metadata": {},
   "outputs": [
    {
     "data": {
      "text/plain": [
       "True"
      ]
     },
     "execution_count": 9,
     "metadata": {},
     "output_type": "execute_result"
    }
   ],
   "source": [
    "6 >= 6"
   ]
  },
  {
   "cell_type": "code",
   "execution_count": 10,
   "id": "0f873f53",
   "metadata": {},
   "outputs": [
    {
     "data": {
      "text/plain": [
       "False"
      ]
     },
     "execution_count": 10,
     "metadata": {},
     "output_type": "execute_result"
    }
   ],
   "source": [
    "7 != 7"
   ]
  },
  {
   "cell_type": "code",
   "execution_count": 11,
   "id": "2cf5ec0e",
   "metadata": {},
   "outputs": [
    {
     "data": {
      "text/plain": [
       "True"
      ]
     },
     "execution_count": 11,
     "metadata": {},
     "output_type": "execute_result"
    }
   ],
   "source": [
    "7 == 7"
   ]
  },
  {
   "cell_type": "markdown",
   "id": "a905d207",
   "metadata": {},
   "source": [
    "Qeyd: == və = qarışdırmayaq :) \\\n",
    "= mənimsətmə operatorudur a = 2, b = True \\\n",
    "== bərabərliyi yoxlayırıq a == b və s.\n"
   ]
  },
  {
   "cell_type": "code",
   "execution_count": null,
   "id": "1ea00116",
   "metadata": {},
   "outputs": [],
   "source": []
  }
 ],
 "metadata": {
  "kernelspec": {
   "display_name": "Python 3 (ipykernel)",
   "language": "python",
   "name": "python3"
  },
  "language_info": {
   "codemirror_mode": {
    "name": "ipython",
    "version": 3
   },
   "file_extension": ".py",
   "mimetype": "text/x-python",
   "name": "python",
   "nbconvert_exporter": "python",
   "pygments_lexer": "ipython3",
   "version": "3.9.12"
  }
 },
 "nbformat": 4,
 "nbformat_minor": 5
}
