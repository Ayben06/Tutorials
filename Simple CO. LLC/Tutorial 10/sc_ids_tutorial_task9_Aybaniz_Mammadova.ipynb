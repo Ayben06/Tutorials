{
 "cells": [
  {
   "cell_type": "code",
   "execution_count": 59,
   "id": "1c023a9b",
   "metadata": {},
   "outputs": [],
   "source": [
    "import numpy as np"
   ]
  },
  {
   "cell_type": "markdown",
   "id": "89b7b751",
   "metadata": {},
   "source": [
    "### 1 "
   ]
  },
  {
   "cell_type": "code",
   "execution_count": null,
   "id": "89638965",
   "metadata": {},
   "outputs": [],
   "source": [
    "#arrayin 1 ci elementinden [2] baslayaraq iki addimla elementleri secirik(even number), \n",
    "#kvadratini tapib array-e beraber edirik"
   ]
  },
  {
   "cell_type": "code",
   "execution_count": 72,
   "id": "53065e12",
   "metadata": {},
   "outputs": [],
   "source": [
    "arr = np.array([1, 2, 3, 4, 5, 6, 7, 8, 9, 10])"
   ]
  },
  {
   "cell_type": "code",
   "execution_count": 73,
   "id": "ed0566d3",
   "metadata": {},
   "outputs": [
    {
     "data": {
      "text/plain": [
       "array([ 2,  4,  6,  8, 10])"
      ]
     },
     "execution_count": 73,
     "metadata": {},
     "output_type": "execute_result"
    }
   ],
   "source": [
    "arr=arr[1::2]\n",
    "arr"
   ]
  },
  {
   "cell_type": "code",
   "execution_count": 74,
   "id": "470f8931",
   "metadata": {},
   "outputs": [
    {
     "data": {
      "text/plain": [
       "array([  4,  16,  36,  64, 100])"
      ]
     },
     "execution_count": 74,
     "metadata": {},
     "output_type": "execute_result"
    }
   ],
   "source": [
    "arr=arr*arr\n",
    "arr"
   ]
  },
  {
   "cell_type": "markdown",
   "id": "1ccbbfa2",
   "metadata": {},
   "source": [
    "### 2\n"
   ]
  },
  {
   "cell_type": "code",
   "execution_count": null,
   "id": "fca6d7b9",
   "metadata": {},
   "outputs": [],
   "source": [
    "#array-i eks terefden 1 adimla secirik"
   ]
  },
  {
   "cell_type": "code",
   "execution_count": 75,
   "id": "7e4d792b",
   "metadata": {},
   "outputs": [],
   "source": [
    "arr = np.array([1, 2, 3, 4, 5, 6, 7, 8, 9, 10])"
   ]
  },
  {
   "cell_type": "code",
   "execution_count": 76,
   "id": "42ad73f6",
   "metadata": {
    "scrolled": true
   },
   "outputs": [
    {
     "data": {
      "text/plain": [
       "array([10,  9,  8,  7,  6,  5,  4,  3,  2,  1])"
      ]
     },
     "execution_count": 76,
     "metadata": {},
     "output_type": "execute_result"
    }
   ],
   "source": [
    "arr[::-1]"
   ]
  },
  {
   "cell_type": "markdown",
   "id": "4e39b6ec",
   "metadata": {},
   "source": [
    "### 3"
   ]
  },
  {
   "cell_type": "code",
   "execution_count": 77,
   "id": "83f2e58e",
   "metadata": {},
   "outputs": [],
   "source": [
    "arr = np.array([100, 20, 32, 44, 59, 231, 5, 22, 93, 113, 16, 88])"
   ]
  },
  {
   "cell_type": "code",
   "execution_count": 78,
   "id": "ec29a2bb",
   "metadata": {},
   "outputs": [
    {
     "data": {
      "text/plain": [
       "68.58333333333333"
      ]
     },
     "execution_count": 78,
     "metadata": {},
     "output_type": "execute_result"
    }
   ],
   "source": [
    "arr.mean()"
   ]
  },
  {
   "cell_type": "code",
   "execution_count": 79,
   "id": "a4ff73e5",
   "metadata": {},
   "outputs": [
    {
     "data": {
      "text/plain": [
       "51.5"
      ]
     },
     "execution_count": 79,
     "metadata": {},
     "output_type": "execute_result"
    }
   ],
   "source": [
    "np.median(arr)"
   ]
  },
  {
   "cell_type": "code",
   "execution_count": 80,
   "id": "e1ecfb96",
   "metadata": {},
   "outputs": [
    {
     "data": {
      "text/plain": [
       "231"
      ]
     },
     "execution_count": 80,
     "metadata": {},
     "output_type": "execute_result"
    }
   ],
   "source": [
    "arr.max()"
   ]
  },
  {
   "cell_type": "code",
   "execution_count": 81,
   "id": "d20325e9",
   "metadata": {
    "scrolled": true
   },
   "outputs": [
    {
     "data": {
      "text/plain": [
       "5"
      ]
     },
     "execution_count": 81,
     "metadata": {},
     "output_type": "execute_result"
    }
   ],
   "source": [
    "arr.min()"
   ]
  },
  {
   "cell_type": "code",
   "execution_count": 82,
   "id": "45bcd89a",
   "metadata": {},
   "outputs": [
    {
     "data": {
      "text/plain": [
       "3640.4097222222226"
      ]
     },
     "execution_count": 82,
     "metadata": {},
     "output_type": "execute_result"
    }
   ],
   "source": [
    "arr.var()"
   ]
  },
  {
   "cell_type": "markdown",
   "id": "685d3fb4",
   "metadata": {},
   "source": [
    "### 4"
   ]
  },
  {
   "cell_type": "code",
   "execution_count": 83,
   "id": "e31d91a3",
   "metadata": {},
   "outputs": [],
   "source": [
    "import pandas as pd\n",
    "import numpy as np"
   ]
  },
  {
   "cell_type": "code",
   "execution_count": 159,
   "id": "42893cbb",
   "metadata": {},
   "outputs": [],
   "source": [
    "df=pd.read_csv('titles.csv')"
   ]
  },
  {
   "cell_type": "code",
   "execution_count": 105,
   "id": "966d11c2",
   "metadata": {
    "scrolled": true
   },
   "outputs": [],
   "source": [
    "df['hours']=df['runtime'].apply(lambda x: round((x/60),2)).astype(float) #runtime-i saata cevirib round edirik ve \n",
    "                                                                         #yeni column yaradiriq"
   ]
  },
  {
   "cell_type": "code",
   "execution_count": 106,
   "id": "b53836bf",
   "metadata": {},
   "outputs": [
    {
     "data": {
      "text/plain": [
       "0       0.80\n",
       "1       1.88\n",
       "2       1.52\n",
       "3       1.57\n",
       "4       2.22\n",
       "        ... \n",
       "5801    1.67\n",
       "5802    1.23\n",
       "5803    1.47\n",
       "5804    1.93\n",
       "5805    0.00\n",
       "Name: hours, Length: 5806, dtype: float64"
      ]
     },
     "execution_count": 106,
     "metadata": {},
     "output_type": "execute_result"
    }
   ],
   "source": [
    "df['hours']"
   ]
  },
  {
   "cell_type": "markdown",
   "id": "e88e9f94",
   "metadata": {},
   "source": [
    "### 5"
   ]
  },
  {
   "cell_type": "code",
   "execution_count": null,
   "id": "02644802",
   "metadata": {},
   "outputs": [],
   "source": [
    "df['tmdb_score']=df['tmdb_score'].apply(lambda x: str(x).replace(',','.')).astype(float) #vergulleri noqte ile evez edib floata ceviririk"
   ]
  },
  {
   "cell_type": "code",
   "execution_count": 173,
   "id": "32555560",
   "metadata": {
    "scrolled": false
   },
   "outputs": [
    {
     "data": {
      "text/html": [
       "<div>\n",
       "<style scoped>\n",
       "    .dataframe tbody tr th:only-of-type {\n",
       "        vertical-align: middle;\n",
       "    }\n",
       "\n",
       "    .dataframe tbody tr th {\n",
       "        vertical-align: top;\n",
       "    }\n",
       "\n",
       "    .dataframe thead tr th {\n",
       "        text-align: left;\n",
       "    }\n",
       "\n",
       "    .dataframe thead tr:last-of-type th {\n",
       "        text-align: right;\n",
       "    }\n",
       "</style>\n",
       "<table border=\"1\" class=\"dataframe\">\n",
       "  <thead>\n",
       "    <tr>\n",
       "      <th></th>\n",
       "      <th colspan=\"2\" halign=\"left\">tmdb_score</th>\n",
       "    </tr>\n",
       "    <tr>\n",
       "      <th></th>\n",
       "      <th>min</th>\n",
       "      <th>max</th>\n",
       "    </tr>\n",
       "    <tr>\n",
       "      <th>type</th>\n",
       "      <th></th>\n",
       "      <th></th>\n",
       "    </tr>\n",
       "  </thead>\n",
       "  <tbody>\n",
       "    <tr>\n",
       "      <th>MOVIE</th>\n",
       "      <td>1.0</td>\n",
       "      <td>65.0</td>\n",
       "    </tr>\n",
       "    <tr>\n",
       "      <th>SHOW</th>\n",
       "      <td>0.5</td>\n",
       "      <td>10.0</td>\n",
       "    </tr>\n",
       "  </tbody>\n",
       "</table>\n",
       "</div>"
      ],
      "text/plain": [
       "      tmdb_score      \n",
       "             min   max\n",
       "type                  \n",
       "MOVIE        1.0  65.0\n",
       "SHOW         0.5  10.0"
      ]
     },
     "execution_count": 173,
     "metadata": {},
     "output_type": "execute_result"
    }
   ],
   "source": [
    "df.groupby('type').agg({'tmdb_score': ['min','max']})#type gore qruplasdirib tmdb_score-a uygun min, max valuelarini tapiriq"
   ]
  },
  {
   "cell_type": "markdown",
   "id": "409887f2",
   "metadata": {},
   "source": [
    "### 6"
   ]
  },
  {
   "cell_type": "code",
   "execution_count": 183,
   "id": "59cd455a",
   "metadata": {
    "scrolled": true
   },
   "outputs": [
    {
     "data": {
      "text/html": [
       "<div>\n",
       "<style scoped>\n",
       "    .dataframe tbody tr th:only-of-type {\n",
       "        vertical-align: middle;\n",
       "    }\n",
       "\n",
       "    .dataframe tbody tr th {\n",
       "        vertical-align: top;\n",
       "    }\n",
       "\n",
       "    .dataframe thead tr th {\n",
       "        text-align: left;\n",
       "    }\n",
       "\n",
       "    .dataframe thead tr:last-of-type th {\n",
       "        text-align: right;\n",
       "    }\n",
       "</style>\n",
       "<table border=\"1\" class=\"dataframe\">\n",
       "  <thead>\n",
       "    <tr>\n",
       "      <th></th>\n",
       "      <th></th>\n",
       "      <th colspan=\"3\" halign=\"left\">imdb_score</th>\n",
       "    </tr>\n",
       "    <tr>\n",
       "      <th></th>\n",
       "      <th></th>\n",
       "      <th>mean</th>\n",
       "      <th>min</th>\n",
       "      <th>max</th>\n",
       "    </tr>\n",
       "    <tr>\n",
       "      <th>type</th>\n",
       "      <th>release_year</th>\n",
       "      <th></th>\n",
       "      <th></th>\n",
       "      <th></th>\n",
       "    </tr>\n",
       "  </thead>\n",
       "  <tbody>\n",
       "    <tr>\n",
       "      <th rowspan=\"5\" valign=\"top\">MOVIE</th>\n",
       "      <th>1953</th>\n",
       "      <td>6.800000</td>\n",
       "      <td>6.8</td>\n",
       "      <td>6.8</td>\n",
       "    </tr>\n",
       "    <tr>\n",
       "      <th>1954</th>\n",
       "      <td>7.450000</td>\n",
       "      <td>7.4</td>\n",
       "      <td>7.5</td>\n",
       "    </tr>\n",
       "    <tr>\n",
       "      <th>1956</th>\n",
       "      <td>6.700000</td>\n",
       "      <td>6.7</td>\n",
       "      <td>6.7</td>\n",
       "    </tr>\n",
       "    <tr>\n",
       "      <th>1958</th>\n",
       "      <td>7.500000</td>\n",
       "      <td>7.5</td>\n",
       "      <td>7.5</td>\n",
       "    </tr>\n",
       "    <tr>\n",
       "      <th>1959</th>\n",
       "      <td>6.700000</td>\n",
       "      <td>6.7</td>\n",
       "      <td>6.7</td>\n",
       "    </tr>\n",
       "    <tr>\n",
       "      <th>...</th>\n",
       "      <th>...</th>\n",
       "      <td>...</td>\n",
       "      <td>...</td>\n",
       "      <td>...</td>\n",
       "    </tr>\n",
       "    <tr>\n",
       "      <th rowspan=\"5\" valign=\"top\">SHOW</th>\n",
       "      <th>2018</th>\n",
       "      <td>7.026923</td>\n",
       "      <td>3.4</td>\n",
       "      <td>9.6</td>\n",
       "    </tr>\n",
       "    <tr>\n",
       "      <th>2019</th>\n",
       "      <td>7.009643</td>\n",
       "      <td>3.5</td>\n",
       "      <td>9.3</td>\n",
       "    </tr>\n",
       "    <tr>\n",
       "      <th>2020</th>\n",
       "      <td>6.803600</td>\n",
       "      <td>2.5</td>\n",
       "      <td>9.1</td>\n",
       "    </tr>\n",
       "    <tr>\n",
       "      <th>2021</th>\n",
       "      <td>6.747101</td>\n",
       "      <td>1.7</td>\n",
       "      <td>9.1</td>\n",
       "    </tr>\n",
       "    <tr>\n",
       "      <th>2022</th>\n",
       "      <td>6.551087</td>\n",
       "      <td>1.6</td>\n",
       "      <td>9.2</td>\n",
       "    </tr>\n",
       "  </tbody>\n",
       "</table>\n",
       "<p>108 rows × 3 columns</p>\n",
       "</div>"
      ],
      "text/plain": [
       "                   imdb_score          \n",
       "                         mean  min  max\n",
       "type  release_year                     \n",
       "MOVIE 1953           6.800000  6.8  6.8\n",
       "      1954           7.450000  7.4  7.5\n",
       "      1956           6.700000  6.7  6.7\n",
       "      1958           7.500000  7.5  7.5\n",
       "      1959           6.700000  6.7  6.7\n",
       "...                       ...  ...  ...\n",
       "SHOW  2018           7.026923  3.4  9.6\n",
       "      2019           7.009643  3.5  9.3\n",
       "      2020           6.803600  2.5  9.1\n",
       "      2021           6.747101  1.7  9.1\n",
       "      2022           6.551087  1.6  9.2\n",
       "\n",
       "[108 rows x 3 columns]"
      ]
     },
     "execution_count": 183,
     "metadata": {},
     "output_type": "execute_result"
    }
   ],
   "source": [
    "df.groupby(['type','release_year']).agg({'imdb_score': ['mean','min','max']}) #same, iki value gore qruplsdiriq"
   ]
  },
  {
   "cell_type": "markdown",
   "id": "9b32936b",
   "metadata": {},
   "source": [
    "### 7"
   ]
  },
  {
   "cell_type": "code",
   "execution_count": 283,
   "id": "87c865fb",
   "metadata": {
    "scrolled": false
   },
   "outputs": [
    {
     "data": {
      "text/plain": [
       "id                         0\n",
       "title                      1\n",
       "type                       0\n",
       "description               18\n",
       "release_year               0\n",
       "age_certification       2610\n",
       "runtime                    0\n",
       "genres                     0\n",
       "production_countries       0\n",
       "seasons                 3759\n",
       "imdb_id                  444\n",
       "imdb_score                 0\n",
       " imdb_votes              539\n",
       "tmdb_popularity           94\n",
       "tmdb_score                 0\n",
       "dif                        0\n",
       "dtype: int64"
      ]
     },
     "execution_count": 283,
     "metadata": {},
     "output_type": "execute_result"
    }
   ],
   "source": [
    "df.isna().sum()"
   ]
  },
  {
   "cell_type": "code",
   "execution_count": 277,
   "id": "8018098e",
   "metadata": {},
   "outputs": [],
   "source": [
    "mean=round(df['tmdb_score'].mean(),1) "
   ]
  },
  {
   "cell_type": "code",
   "execution_count": 263,
   "id": "aede9f36",
   "metadata": {},
   "outputs": [],
   "source": [
    "nan_mask=df['tmdb_score'].isna() #nan olanlari boollean seklinde yaziriq"
   ]
  },
  {
   "cell_type": "code",
   "execution_count": 269,
   "id": "dad7fc9a",
   "metadata": {
    "scrolled": false
   },
   "outputs": [],
   "source": [
    "df.loc[nan_mask,'tmdb_score']=df.loc[nan_mask,'tmdb_score'].apply(lambda x: mean) #nan olan tmdb_scorelara mean apply edirik"
   ]
  },
  {
   "cell_type": "code",
   "execution_count": 276,
   "id": "e3149d4c",
   "metadata": {
    "scrolled": true
   },
   "outputs": [
    {
     "data": {
      "text/plain": [
       "0        6.8\n",
       "1        8.2\n",
       "2        7.8\n",
       "3        7.8\n",
       "4        7.7\n",
       "        ... \n",
       "5801     6.8\n",
       "5802     8.5\n",
       "5803     6.8\n",
       "5804     6.8\n",
       "5805    10.0\n",
       "Name: tmdb_score, Length: 5806, dtype: float64"
      ]
     },
     "execution_count": 276,
     "metadata": {},
     "output_type": "execute_result"
    }
   ],
   "source": [
    "df['tmdb_score']"
   ]
  },
  {
   "cell_type": "code",
   "execution_count": 307,
   "id": "c8f0f6a3",
   "metadata": {},
   "outputs": [],
   "source": [
    "df.loc[df['tmdb_popularity'].isna(),'tmdb_popularity']=df.loc[df['tmdb_popularity'].isna(),'tmdb_popularity'].apply(lambda x: \n",
    "                                                                                                round(df['tmdb_popularity'].mean(),3))"
   ]
  },
  {
   "cell_type": "code",
   "execution_count": 308,
   "id": "344dedfd",
   "metadata": {},
   "outputs": [
    {
     "data": {
      "text/plain": [
       "0        0.600\n",
       "1       27.612\n",
       "2       18.216\n",
       "3       17.505\n",
       "4       95.337\n",
       "         ...  \n",
       "5801     0.966\n",
       "5802     1.036\n",
       "5803     0.709\n",
       "5804     2.186\n",
       "5805     0.979\n",
       "Name: tmdb_popularity, Length: 5806, dtype: float64"
      ]
     },
     "execution_count": 308,
     "metadata": {},
     "output_type": "execute_result"
    }
   ],
   "source": [
    "df['tmdb_popularity'] #same"
   ]
  },
  {
   "cell_type": "code",
   "execution_count": 274,
   "id": "3631b11e",
   "metadata": {},
   "outputs": [],
   "source": [
    "df.loc[df['imdb_score'].isna(),'imdb_score']=df.loc[df['imdb_score'].isna(),'imdb_score'].apply(lambda x: \n",
    "                                                                                                round(df['imdb_score'].mean(),1))"
   ]
  },
  {
   "cell_type": "code",
   "execution_count": 275,
   "id": "a14081ec",
   "metadata": {},
   "outputs": [
    {
     "data": {
      "text/plain": [
       "0       6.5\n",
       "1       8.3\n",
       "2       8.2\n",
       "3       8.0\n",
       "4       8.1\n",
       "       ... \n",
       "5801    6.9\n",
       "5802    6.5\n",
       "5803    6.5\n",
       "5804    6.2\n",
       "5805    8.8\n",
       "Name: imdb_score, Length: 5806, dtype: float64"
      ]
     },
     "execution_count": 275,
     "metadata": {},
     "output_type": "execute_result"
    }
   ],
   "source": [
    "df['imdb_score'] #same"
   ]
  },
  {
   "cell_type": "code",
   "execution_count": 289,
   "id": "1620e106",
   "metadata": {},
   "outputs": [
    {
     "data": {
      "text/plain": [
       "(0    1.0\n",
       " Name: seasons, dtype: float64,\n",
       " 1.0)"
      ]
     },
     "execution_count": 289,
     "metadata": {},
     "output_type": "execute_result"
    }
   ],
   "source": [
    "df['seasons'].mode(),df['seasons'].median() #mean yerine median ve ya mode ile evezlemek daha duzu=gun ola biler"
   ]
  },
  {
   "cell_type": "code",
   "execution_count": 290,
   "id": "d7294123",
   "metadata": {},
   "outputs": [],
   "source": [
    "df.loc[df['seasons'].isna(),'seasons']=df.loc[df['seasons'].isna(),'seasons'].apply(lambda x: 1)"
   ]
  },
  {
   "cell_type": "code",
   "execution_count": 309,
   "id": "b0c3c55c",
   "metadata": {},
   "outputs": [
    {
     "data": {
      "text/plain": [
       "id                         0\n",
       "title                      1\n",
       "type                       0\n",
       "description               18\n",
       "release_year               0\n",
       "age_certification       2610\n",
       "runtime                    0\n",
       "genres                     0\n",
       "production_countries       0\n",
       "seasons                    0\n",
       "imdb_id                  444\n",
       "imdb_score                 0\n",
       " imdb_votes              539\n",
       "tmdb_popularity            0\n",
       "tmdb_score                 0\n",
       "dif                        0\n",
       "dtype: int64"
      ]
     },
     "execution_count": 309,
     "metadata": {},
     "output_type": "execute_result"
    }
   ],
   "source": [
    "df.isna().sum()"
   ]
  },
  {
   "cell_type": "markdown",
   "id": "344fd8d3",
   "metadata": {},
   "source": [
    "### 8"
   ]
  },
  {
   "cell_type": "code",
   "execution_count": 236,
   "id": "98c1321c",
   "metadata": {},
   "outputs": [],
   "source": [
    "df['genres']=df['genres'].map(eval) #stringin esl data type-na cevirir"
   ]
  },
  {
   "cell_type": "code",
   "execution_count": 242,
   "id": "aa68c484",
   "metadata": {},
   "outputs": [
    {
     "data": {
      "text/plain": [
       "9"
      ]
     },
     "execution_count": 242,
     "metadata": {},
     "output_type": "execute_result"
    }
   ],
   "source": [
    "df['genres'].apply(lambda x: len(x)).max() #arrayin maxiumum uzunluqunu tapir"
   ]
  },
  {
   "cell_type": "markdown",
   "id": "6966fd95",
   "metadata": {},
   "source": [
    "### 9"
   ]
  },
  {
   "cell_type": "code",
   "execution_count": 281,
   "id": "1712cb74",
   "metadata": {},
   "outputs": [],
   "source": [
    "mask=df['age_certification']=='R' # sertifikati 'R' olanlari boolean mask seklinde secir"
   ]
  },
  {
   "cell_type": "code",
   "execution_count": 282,
   "id": "e51da9a5",
   "metadata": {},
   "outputs": [
    {
     "data": {
      "text/plain": [
       "2.1"
      ]
     },
     "execution_count": 282,
     "metadata": {},
     "output_type": "execute_result"
    }
   ],
   "source": [
    "df.loc[mask,'imdb_score'].min() #miniumum qiymetini tapir"
   ]
  },
  {
   "cell_type": "markdown",
   "id": "18b2774b",
   "metadata": {},
   "source": [
    "### 10"
   ]
  },
  {
   "cell_type": "code",
   "execution_count": 279,
   "id": "f910d072",
   "metadata": {},
   "outputs": [],
   "source": [
    "df['dif']=abs(df['imdb_score'].apply(lambda x: x)-df['tmdb_score'].apply(lambda y: y)) #iki column ferqinin mutleq qiymetini tapir"
   ]
  },
  {
   "cell_type": "code",
   "execution_count": 280,
   "id": "95e26be2",
   "metadata": {},
   "outputs": [
    {
     "data": {
      "text/plain": [
       "59.7"
      ]
     },
     "execution_count": 280,
     "metadata": {},
     "output_type": "execute_result"
    }
   ],
   "source": [
    "df['dif'].max() # maxiumum ferqi tapir"
   ]
  }
 ],
 "metadata": {
  "kernelspec": {
   "display_name": "Python 3 (ipykernel)",
   "language": "python",
   "name": "python3"
  },
  "language_info": {
   "codemirror_mode": {
    "name": "ipython",
    "version": 3
   },
   "file_extension": ".py",
   "mimetype": "text/x-python",
   "name": "python",
   "nbconvert_exporter": "python",
   "pygments_lexer": "ipython3",
   "version": "3.9.12"
  }
 },
 "nbformat": 4,
 "nbformat_minor": 5
}
