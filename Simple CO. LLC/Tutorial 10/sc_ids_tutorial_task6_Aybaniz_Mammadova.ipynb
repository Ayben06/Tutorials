{
 "cells": [
  {
   "cell_type": "markdown",
   "id": "68ec9515",
   "metadata": {},
   "source": [
    "### 1"
   ]
  },
  {
   "cell_type": "code",
   "execution_count": 93,
   "id": "2410200e",
   "metadata": {},
   "outputs": [],
   "source": [
    "my_list = [7, 2, 6, 12, 1, 32, 66, 43]\n",
    "my_list.sort()\n",
    "my_list.reverse()"
   ]
  },
  {
   "cell_type": "code",
   "execution_count": 94,
   "id": "482e2957",
   "metadata": {},
   "outputs": [
    {
     "data": {
      "text/plain": [
       "[66, 43, 32, 12, 7, 6, 2, 1]"
      ]
     },
     "execution_count": 94,
     "metadata": {},
     "output_type": "execute_result"
    }
   ],
   "source": [
    "my_list"
   ]
  },
  {
   "cell_type": "markdown",
   "id": "a9f8a8d1",
   "metadata": {},
   "source": [
    "### 2\n"
   ]
  },
  {
   "cell_type": "code",
   "execution_count": 117,
   "id": "3282c157",
   "metadata": {},
   "outputs": [],
   "source": [
    "language = 'Pytjon'"
   ]
  },
  {
   "cell_type": "code",
   "execution_count": 118,
   "id": "ca6ecfd0",
   "metadata": {},
   "outputs": [
    {
     "data": {
      "text/plain": [
       "'Python'"
      ]
     },
     "execution_count": 118,
     "metadata": {},
     "output_type": "execute_result"
    }
   ],
   "source": [
    "t=list()\n",
    "for i in language:\n",
    "    t.append(i)   \n",
    "t[3]='h'\n",
    "language=''.join(t)\n",
    "language"
   ]
  },
  {
   "cell_type": "markdown",
   "id": "28722f21",
   "metadata": {},
   "source": [
    "### 3"
   ]
  },
  {
   "cell_type": "code",
   "execution_count": 115,
   "id": "e05f0b43",
   "metadata": {},
   "outputs": [],
   "source": [
    "my_string = 'Gəl, gəl a yaz günləri. İlin əziz günləri.'"
   ]
  },
  {
   "cell_type": "code",
   "execution_count": 116,
   "id": "3400ef85",
   "metadata": {},
   "outputs": [
    {
     "data": {
      "text/plain": [
       "'Gəl, gəl a günləri. İlin əziz günləri.'"
      ]
     },
     "execution_count": 116,
     "metadata": {},
     "output_type": "execute_result"
    }
   ],
   "source": [
    "my_s=my_string.split()\n",
    "my_s.remove('yaz')\n",
    "my_string=' '.join(my_s)\n",
    "my_string"
   ]
  },
  {
   "cell_type": "markdown",
   "id": "8dae4d3b",
   "metadata": {},
   "source": [
    "### 4"
   ]
  },
  {
   "cell_type": "code",
   "execution_count": 121,
   "id": "68ca49c2",
   "metadata": {},
   "outputs": [],
   "source": [
    "list1 = [1, 2, 3, 4, 5]\n",
    "list2 = [3, 4, 5, 6, 7]"
   ]
  },
  {
   "cell_type": "code",
   "execution_count": 129,
   "id": "6c48980b",
   "metadata": {},
   "outputs": [
    {
     "data": {
      "text/plain": [
       "[1, 2]"
      ]
     },
     "execution_count": 129,
     "metadata": {},
     "output_type": "execute_result"
    }
   ],
   "source": [
    "list1=set(list1)\n",
    "list2=set(list2)\n",
    "dif=list(list1.difference(list2))\n",
    "dif"
   ]
  },
  {
   "cell_type": "markdown",
   "id": "a59cc41d",
   "metadata": {},
   "source": [
    "### 5"
   ]
  },
  {
   "cell_type": "code",
   "execution_count": 596,
   "id": "6bf33f53",
   "metadata": {},
   "outputs": [],
   "source": [
    "a_string = 'This is a!Very,messy_text'"
   ]
  },
  {
   "cell_type": "code",
   "execution_count": 597,
   "id": "0030984b",
   "metadata": {
    "scrolled": true
   },
   "outputs": [],
   "source": [
    "a_string=a_string.replace('!',' ')\n",
    "a_string=a_string.replace(',',' ')\n",
    "a_string=a_string.replace('_',' ')"
   ]
  },
  {
   "cell_type": "code",
   "execution_count": 598,
   "id": "a068e781",
   "metadata": {},
   "outputs": [
    {
     "data": {
      "text/plain": [
       "'this is a very messy text'"
      ]
     },
     "execution_count": 598,
     "metadata": {},
     "output_type": "execute_result"
    }
   ],
   "source": [
    "a_string=a_string.lower()\n",
    "a_string"
   ]
  },
  {
   "cell_type": "markdown",
   "id": "224fabcd",
   "metadata": {},
   "source": [
    "### 6\n"
   ]
  },
  {
   "cell_type": "code",
   "execution_count": 208,
   "id": "fc9e6de0",
   "metadata": {},
   "outputs": [],
   "source": [
    "x = tuple([1,2,3])"
   ]
  },
  {
   "cell_type": "code",
   "execution_count": 209,
   "id": "83cf4845",
   "metadata": {},
   "outputs": [
    {
     "data": {
      "text/plain": [
       "(4, 2, 3)"
      ]
     },
     "execution_count": 209,
     "metadata": {},
     "output_type": "execute_result"
    }
   ],
   "source": [
    "x=list(x)\n",
    "x[0]=4\n",
    "x=tuple(x)\n",
    "x"
   ]
  },
  {
   "cell_type": "markdown",
   "id": "23679b81",
   "metadata": {},
   "source": [
    "### 7"
   ]
  },
  {
   "cell_type": "code",
   "execution_count": 331,
   "id": "8fb88a4e",
   "metadata": {},
   "outputs": [],
   "source": [
    "n=141\n",
    "a=list()"
   ]
  },
  {
   "cell_type": "code",
   "execution_count": 332,
   "id": "4b8f7852",
   "metadata": {
    "scrolled": true
   },
   "outputs": [],
   "source": [
    "while(n>0):\n",
    "    a.append(n%2)\n",
    "    n=int(n/2)"
   ]
  },
  {
   "cell_type": "code",
   "execution_count": 333,
   "id": "0919ccd1",
   "metadata": {},
   "outputs": [
    {
     "data": {
      "text/plain": [
       "[1, 0, 0, 0, 1, 1, 0, 1]"
      ]
     },
     "execution_count": 333,
     "metadata": {},
     "output_type": "execute_result"
    }
   ],
   "source": [
    "a.reverse()\n",
    "a"
   ]
  },
  {
   "cell_type": "markdown",
   "id": "cb53ff3c",
   "metadata": {},
   "source": [
    "### 8"
   ]
  },
  {
   "cell_type": "markdown",
   "id": "0cb4beff",
   "metadata": {},
   "source": [
    "### 1"
   ]
  },
  {
   "cell_type": "code",
   "execution_count": 334,
   "id": "b4f0e30f",
   "metadata": {},
   "outputs": [],
   "source": [
    "d1 = {'Emin': {'class':11, \n",
    " 'age':17,\n",
    " 'grades':{'Math':[90, 85, 74, 84], \n",
    " 'History':[54, 78, 68, 72],\n",
    " 'Geography': [65, 79, 83, 71],\n",
    " 'English': [80, 95, 92, 63]}\n",
    " },\n",
    " 'Rovshan': {'class':10,\n",
    " 'age':16,\n",
    " 'grades':{'Math':[65, 49, 57, 62], \n",
    " 'History':[98, 94, 87, 92],\n",
    " 'Geography': [88, 94, 79, 83],\n",
    " 'English': [66, 74, 78, 68]\n",
    " }},\n",
    " 'Gulnar': {'class':10,\n",
    " 'age':17,\n",
    " 'grades':{'Math':[85, 78, 82, 62], \n",
    " 'History':[75, 54, 62, 83],\n",
    " 'Geography': [72, 63, 45, 59],\n",
    " 'English': [88, 86, 92, 90]\n",
    " }}}"
   ]
  },
  {
   "cell_type": "code",
   "execution_count": 469,
   "id": "91a0ba74",
   "metadata": {
    "scrolled": true
   },
   "outputs": [],
   "source": [
    "subj=dict()\n",
    "avgg=dict()"
   ]
  },
  {
   "cell_type": "code",
   "execution_count": 509,
   "id": "d6c9094e",
   "metadata": {
    "scrolled": true
   },
   "outputs": [
    {
     "name": "stdout",
     "output_type": "stream",
     "text": [
      "\n",
      "\n",
      "Emin\n",
      "Math\n",
      "83.25\n",
      "History\n",
      "68.0\n",
      "Geography\n",
      "74.5\n",
      "English\n",
      "82.5\n",
      "\n",
      "\n",
      "Rovshan\n",
      "Math\n",
      "58.25\n",
      "History\n",
      "92.75\n",
      "Geography\n",
      "86.0\n",
      "English\n",
      "71.5\n",
      "\n",
      "\n",
      "Gulnar\n",
      "Math\n",
      "76.75\n",
      "History\n",
      "68.5\n",
      "Geography\n",
      "59.75\n",
      "English\n",
      "89.0\n"
     ]
    }
   ],
   "source": [
    "for key,value in d1.items():\n",
    "    print('\\n')\n",
    "    print(key)\n",
    "    for keys,value in d1[key]['grades'].items():\n",
    "        s=0;\n",
    "        print(keys)\n",
    "        for i in d1[key]['grades'][keys]:\n",
    "            s+=int(i)      \n",
    "        avg=s/len(d1[key]['grades'][keys])\n",
    "        subj[keys]=avg\n",
    "        print(avg)\n",
    "    avgg[key]=subj\n",
    "        \n",
    "    "
   ]
  },
  {
   "cell_type": "code",
   "execution_count": 510,
   "id": "29bbc058",
   "metadata": {
    "scrolled": true
   },
   "outputs": [
    {
     "data": {
      "text/plain": [
       "{'Emin': {'Math': 76.75, 'History': 68.5, 'Geography': 59.75, 'English': 89.0},\n",
       " 'Rovshan': {'Math': 76.75,\n",
       "  'History': 68.5,\n",
       "  'Geography': 59.75,\n",
       "  'English': 89.0},\n",
       " 'Gulnar': {'Math': 76.75,\n",
       "  'History': 68.5,\n",
       "  'Geography': 59.75,\n",
       "  'English': 89.0}}"
      ]
     },
     "execution_count": 510,
     "metadata": {},
     "output_type": "execute_result"
    }
   ],
   "source": [
    "avgg"
   ]
  },
  {
   "cell_type": "markdown",
   "id": "959ded41",
   "metadata": {},
   "source": [
    "### 2"
   ]
  },
  {
   "cell_type": "code",
   "execution_count": 473,
   "id": "573f93d8",
   "metadata": {},
   "outputs": [],
   "source": [
    "subj2=dict()\n",
    "avgg2=dict()"
   ]
  },
  {
   "cell_type": "code",
   "execution_count": 474,
   "id": "d009a1c5",
   "metadata": {},
   "outputs": [
    {
     "name": "stdout",
     "output_type": "stream",
     "text": [
      "\n",
      "\n",
      "Emin\n",
      "Math\n",
      "87.5\n",
      "History\n",
      "66.0\n",
      "Geography\n",
      "72.0\n",
      "English\n",
      "87.5\n",
      "\n",
      "\n",
      "Rovshan\n",
      "Math\n",
      "57.0\n",
      "History\n",
      "96.0\n",
      "Geography\n",
      "91.0\n",
      "English\n",
      "70.0\n",
      "\n",
      "\n",
      "Gulnar\n",
      "Math\n",
      "81.5\n",
      "History\n",
      "64.5\n",
      "Geography\n",
      "67.5\n",
      "English\n",
      "87.0\n"
     ]
    }
   ],
   "source": [
    "for key,value in d1.items():\n",
    "    print('\\n')\n",
    "    print(key)\n",
    "    for keys,value in d1[key]['grades'].items():\n",
    "        s=0;\n",
    "        print(keys)\n",
    "        s=d1[key]['grades'][keys][0]+d1[key]['grades'][keys][1]    \n",
    "        avg=s/2\n",
    "        subj2[keys]=avg\n",
    "        print(avg)\n",
    "    avgg2[key]=sunj2\n",
    "        \n",
    "    "
   ]
  },
  {
   "cell_type": "code",
   "execution_count": 475,
   "id": "e2fd1fbb",
   "metadata": {
    "scrolled": true
   },
   "outputs": [
    {
     "data": {
      "text/plain": [
       "{'Emin': {'Math': 76.75, 'History': 68.5, 'Geography': 59.75, 'English': 89.0},\n",
       " 'Rovshan': {'Math': 76.75,\n",
       "  'History': 68.5,\n",
       "  'Geography': 59.75,\n",
       "  'English': 89.0},\n",
       " 'Gulnar': {'Math': 76.75,\n",
       "  'History': 68.5,\n",
       "  'Geography': 59.75,\n",
       "  'English': 89.0}}"
      ]
     },
     "execution_count": 475,
     "metadata": {},
     "output_type": "execute_result"
    }
   ],
   "source": [
    "avgg2"
   ]
  },
  {
   "cell_type": "markdown",
   "id": "21ed9626",
   "metadata": {},
   "source": [
    "### 3"
   ]
  },
  {
   "cell_type": "code",
   "execution_count": 526,
   "id": "ed91ee1b",
   "metadata": {},
   "outputs": [],
   "source": [
    "next={'Emin': {'Math': 70, 'History':75, 'Geography':79, 'English':83 },\n",
    "'Rovshan': {'Math':78, 'History':90, 'Geography':86, 'English':95 },\n",
    "'Gulnar': {'Math':94, 'History':56, 'Geography':97, 'English':99}}"
   ]
  },
  {
   "cell_type": "code",
   "execution_count": 522,
   "id": "f4cbfc0c",
   "metadata": {},
   "outputs": [
    {
     "data": {
      "text/plain": [
       "{'Emin': {'Math': 70, 'History': 75, 'Geography': 79, 'English': 83},\n",
       " 'Rovshan': {'Math': 78, 'History': 90, 'Geography': 86, 'English': 95},\n",
       " 'Gulnar': {'Math': 94, 'History': 56, 'Geography': 97, 'English': 99}}"
      ]
     },
     "execution_count": 522,
     "metadata": {},
     "output_type": "execute_result"
    }
   ],
   "source": [
    "next"
   ]
  },
  {
   "cell_type": "code",
   "execution_count": 507,
   "id": "9f4a598e",
   "metadata": {},
   "outputs": [
    {
     "data": {
      "text/plain": [
       "{'Emin': {'Math': 76.75, 'History': 68.5, 'Geography': 59.75, 'English': 89.0},\n",
       " 'Rovshan': {'Math': 76.75,\n",
       "  'History': 68.5,\n",
       "  'Geography': 59.75,\n",
       "  'English': 89.0},\n",
       " 'Gulnar': {'Math': 76.75,\n",
       "  'History': 68.5,\n",
       "  'Geography': 59.75,\n",
       "  'English': 89.0}}"
      ]
     },
     "execution_count": 507,
     "metadata": {},
     "output_type": "execute_result"
    }
   ],
   "source": [
    "avgg"
   ]
  },
  {
   "cell_type": "code",
   "execution_count": 527,
   "id": "87596a0b",
   "metadata": {},
   "outputs": [],
   "source": [
    "for key,value in next.items():\n",
    "    for keys,value in next[key].items():\n",
    "        avg=0\n",
    "        avg=next[key][keys]/5\n",
    "        next[key][keys]=avg\n",
    "        \n",
    "    "
   ]
  },
  {
   "cell_type": "code",
   "execution_count": 528,
   "id": "8b0f9a52",
   "metadata": {},
   "outputs": [
    {
     "data": {
      "text/plain": [
       "{'Emin': {'Math': 14.0, 'History': 15.0, 'Geography': 15.8, 'English': 16.6},\n",
       " 'Rovshan': {'Math': 15.6,\n",
       "  'History': 18.0,\n",
       "  'Geography': 17.2,\n",
       "  'English': 19.0},\n",
       " 'Gulnar': {'Math': 18.8, 'History': 11.2, 'Geography': 19.4, 'English': 19.8}}"
      ]
     },
     "execution_count": 528,
     "metadata": {},
     "output_type": "execute_result"
    }
   ],
   "source": [
    "next"
   ]
  },
  {
   "cell_type": "code",
   "execution_count": 531,
   "id": "6b67db03",
   "metadata": {},
   "outputs": [],
   "source": [
    "subj=dict()\n",
    "avgg=dict()"
   ]
  },
  {
   "cell_type": "code",
   "execution_count": 546,
   "id": "736976cf",
   "metadata": {},
   "outputs": [],
   "source": [
    "for key,value in d1.items():\n",
    "    for keys,value in d1[key]['grades'].items():\n",
    "        s=0;\n",
    "        for i in d1[key]['grades'][keys]:\n",
    "            s+=int(i)      \n",
    "        avg=s/5\n",
    "        avg+=next[key][keys]\n",
    "        subj[keys]=round(avg,2)\n",
    "    avgg[key]=subj\n",
    "    "
   ]
  },
  {
   "cell_type": "code",
   "execution_count": 547,
   "id": "5df49a47",
   "metadata": {},
   "outputs": [
    {
     "data": {
      "text/plain": [
       "{'Emin': {'Math': 80.2, 'History': 66.0, 'Geography': 67.2, 'English': 91.0},\n",
       " 'Rovshan': {'Math': 80.2,\n",
       "  'History': 66.0,\n",
       "  'Geography': 67.2,\n",
       "  'English': 91.0},\n",
       " 'Gulnar': {'Math': 80.2, 'History': 66.0, 'Geography': 67.2, 'English': 91.0}}"
      ]
     },
     "execution_count": 547,
     "metadata": {},
     "output_type": "execute_result"
    }
   ],
   "source": [
    "avgg"
   ]
  },
  {
   "cell_type": "markdown",
   "id": "59d0df07",
   "metadata": {},
   "source": [
    "### 9"
   ]
  },
  {
   "cell_type": "code",
   "execution_count": 636,
   "id": "4812a63d",
   "metadata": {},
   "outputs": [],
   "source": [
    "def grades(point):\n",
    "    if(100>=point>=95):\n",
    "        grade='A+'\n",
    "    elif(95>point>=90):\n",
    "        grade='A'\n",
    "    elif(90>point>=85):\n",
    "        grade='A-'\n",
    "    elif(85>point>=80):\n",
    "        grade='B+'\n",
    "    elif(80>point>=75):\n",
    "        grade='B'\n",
    "    elif(75>point>=70):\n",
    "        grade='B-'\n",
    "    elif(70>point>=65):\n",
    "        grade='C+'\n",
    "    elif(65>point>=60):\n",
    "        grade='C-'\n",
    "    elif(60>point>=0):\n",
    "        grade='F'\n",
    "    return grade"
   ]
  },
  {
   "cell_type": "code",
   "execution_count": 637,
   "id": "56670a4f",
   "metadata": {},
   "outputs": [
    {
     "data": {
      "text/plain": [
       "'A'"
      ]
     },
     "execution_count": 637,
     "metadata": {},
     "output_type": "execute_result"
    }
   ],
   "source": [
    "grades(90)"
   ]
  },
  {
   "cell_type": "markdown",
   "id": "fb19eb70",
   "metadata": {},
   "source": [
    "### 10"
   ]
  },
  {
   "cell_type": "code",
   "execution_count": 630,
   "id": "73c9128a",
   "metadata": {},
   "outputs": [],
   "source": [
    "action=0;\n",
    "def number(m,n):\n",
    "    action=int((m/n))\n",
    "    action+=int(m%n)\n",
    "    return action   "
   ]
  },
  {
   "cell_type": "code",
   "execution_count": 631,
   "id": "e9d174e4",
   "metadata": {},
   "outputs": [
    {
     "data": {
      "text/plain": [
       "7"
      ]
     },
     "execution_count": 631,
     "metadata": {},
     "output_type": "execute_result"
    }
   ],
   "source": [
    "number(31,7) "
   ]
  }
 ],
 "metadata": {
  "kernelspec": {
   "display_name": "Python 3 (ipykernel)",
   "language": "python",
   "name": "python3"
  },
  "language_info": {
   "codemirror_mode": {
    "name": "ipython",
    "version": 3
   },
   "file_extension": ".py",
   "mimetype": "text/x-python",
   "name": "python",
   "nbconvert_exporter": "python",
   "pygments_lexer": "ipython3",
   "version": "3.9.12"
  }
 },
 "nbformat": 4,
 "nbformat_minor": 5
}
