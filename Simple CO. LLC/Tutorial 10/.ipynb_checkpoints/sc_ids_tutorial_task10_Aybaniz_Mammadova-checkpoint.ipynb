{
 "cells": [
  {
   "cell_type": "markdown",
   "id": "8318ed18",
   "metadata": {
    "pycharm": {
     "name": "#%% md\n"
    }
   },
   "source": [
    "# Imports"
   ]
  },
  {
   "cell_type": "code",
   "execution_count": 1,
   "id": "4d253359",
   "metadata": {},
   "outputs": [],
   "source": [
    "import numpy as np\n",
    "import pandas as pd\n",
    "import scipy.stats as ss\n",
    "import matplotlib.pyplot as plt\n",
    "import seaborn  as sns\n",
    "import pymysql "
   ]
  },
  {
   "cell_type": "markdown",
   "id": "536b4d93",
   "metadata": {
    "pycharm": {
     "name": "#%% md\n"
    }
   },
   "source": [
    "# Getting Data and some cleaning"
   ]
  },
  {
   "cell_type": "code",
   "execution_count": 3,
   "id": "63e762a7",
   "metadata": {},
   "outputs": [],
   "source": [
    "conn=pymysql.connect(host='localhost',user='root',password='12345678',database='trening')"
   ]
  },
  {
   "cell_type": "code",
   "execution_count": 4,
   "id": "89bb0427",
   "metadata": {},
   "outputs": [
    {
     "name": "stderr",
     "output_type": "stream",
     "text": [
      "C:\\Users\\u\\AppData\\Local\\Programs\\Python\\Python39\\lib\\site-packages\\pandas\\io\\sql.py:761: UserWarning: pandas only support SQLAlchemy connectable(engine/connection) ordatabase string URI or sqlite3 DBAPI2 connectionother DBAPI2 objects are not tested, please consider using SQLAlchemy\n",
      "  warnings.warn(\n"
     ]
    }
   ],
   "source": [
    "df=pd.read_sql('select * from c180308',con=conn)"
   ]
  },
  {
   "cell_type": "code",
   "execution_count": 5,
   "id": "387b2587",
   "metadata": {},
   "outputs": [
    {
     "data": {
      "text/html": [
       "<div>\n",
       "<style scoped>\n",
       "    .dataframe tbody tr th:only-of-type {\n",
       "        vertical-align: middle;\n",
       "    }\n",
       "\n",
       "    .dataframe tbody tr th {\n",
       "        vertical-align: top;\n",
       "    }\n",
       "\n",
       "    .dataframe thead th {\n",
       "        text-align: right;\n",
       "    }\n",
       "</style>\n",
       "<table border=\"1\" class=\"dataframe\">\n",
       "  <thead>\n",
       "    <tr style=\"text-align: right;\">\n",
       "      <th></th>\n",
       "      <th>id</th>\n",
       "      <th>date</th>\n",
       "      <th>avtosalon</th>\n",
       "      <th>salon_yn</th>\n",
       "      <th>marka</th>\n",
       "      <th>model</th>\n",
       "      <th>shekil_sayi</th>\n",
       "      <th>satilib</th>\n",
       "      <th>baxis_sayi</th>\n",
       "      <th>elan_tarix_title</th>\n",
       "      <th>...</th>\n",
       "      <th>yagish</th>\n",
       "      <th>qapanma</th>\n",
       "      <th>radar</th>\n",
       "      <th>kondisioner</th>\n",
       "      <th>podoqrev</th>\n",
       "      <th>deri</th>\n",
       "      <th>ksenon</th>\n",
       "      <th>kamera</th>\n",
       "      <th>perde</th>\n",
       "      <th>ventilyasiya</th>\n",
       "    </tr>\n",
       "  </thead>\n",
       "  <tbody>\n",
       "    <tr>\n",
       "      <th>0</th>\n",
       "      <td>1</td>\n",
       "      <td>2018-03-08 22:12:54</td>\n",
       "      <td>none</td>\n",
       "      <td>0</td>\n",
       "      <td>Mercedes</td>\n",
       "      <td>C 200</td>\n",
       "      <td>9</td>\n",
       "      <td>yox</td>\n",
       "      <td>107</td>\n",
       "      <td>Yeniləndi</td>\n",
       "      <td>...</td>\n",
       "      <td>0</td>\n",
       "      <td>1</td>\n",
       "      <td>0</td>\n",
       "      <td>1</td>\n",
       "      <td>0</td>\n",
       "      <td>0</td>\n",
       "      <td>1</td>\n",
       "      <td>0</td>\n",
       "      <td>0</td>\n",
       "      <td>0</td>\n",
       "    </tr>\n",
       "    <tr>\n",
       "      <th>1</th>\n",
       "      <td>2</td>\n",
       "      <td>2018-03-08 22:12:54</td>\n",
       "      <td>none</td>\n",
       "      <td>0</td>\n",
       "      <td>Mitsubishi</td>\n",
       "      <td>Pajero</td>\n",
       "      <td>5</td>\n",
       "      <td>yox</td>\n",
       "      <td>78</td>\n",
       "      <td>Yeniləndi</td>\n",
       "      <td>...</td>\n",
       "      <td>0</td>\n",
       "      <td>1</td>\n",
       "      <td>1</td>\n",
       "      <td>1</td>\n",
       "      <td>0</td>\n",
       "      <td>0</td>\n",
       "      <td>0</td>\n",
       "      <td>1</td>\n",
       "      <td>0</td>\n",
       "      <td>0</td>\n",
       "    </tr>\n",
       "    <tr>\n",
       "      <th>2</th>\n",
       "      <td>3</td>\n",
       "      <td>2018-03-08 22:12:54</td>\n",
       "      <td>none</td>\n",
       "      <td>0</td>\n",
       "      <td>Mercedes</td>\n",
       "      <td>C 220</td>\n",
       "      <td>7</td>\n",
       "      <td>yox</td>\n",
       "      <td>118</td>\n",
       "      <td>Yeniləndi</td>\n",
       "      <td>...</td>\n",
       "      <td>1</td>\n",
       "      <td>1</td>\n",
       "      <td>0</td>\n",
       "      <td>1</td>\n",
       "      <td>0</td>\n",
       "      <td>0</td>\n",
       "      <td>0</td>\n",
       "      <td>0</td>\n",
       "      <td>0</td>\n",
       "      <td>0</td>\n",
       "    </tr>\n",
       "    <tr>\n",
       "      <th>3</th>\n",
       "      <td>4</td>\n",
       "      <td>2018-03-08 22:12:54</td>\n",
       "      <td>none</td>\n",
       "      <td>0</td>\n",
       "      <td>Volkswagen</td>\n",
       "      <td>Touareg</td>\n",
       "      <td>10</td>\n",
       "      <td>yox</td>\n",
       "      <td>1639</td>\n",
       "      <td>Yeniləndi</td>\n",
       "      <td>...</td>\n",
       "      <td>1</td>\n",
       "      <td>1</td>\n",
       "      <td>1</td>\n",
       "      <td>1</td>\n",
       "      <td>1</td>\n",
       "      <td>1</td>\n",
       "      <td>1</td>\n",
       "      <td>1</td>\n",
       "      <td>1</td>\n",
       "      <td>1</td>\n",
       "    </tr>\n",
       "    <tr>\n",
       "      <th>4</th>\n",
       "      <td>5</td>\n",
       "      <td>2018-03-08 22:12:54</td>\n",
       "      <td>none</td>\n",
       "      <td>0</td>\n",
       "      <td>Hyundai</td>\n",
       "      <td>Sonata</td>\n",
       "      <td>8</td>\n",
       "      <td>yox</td>\n",
       "      <td>227</td>\n",
       "      <td>Yeniləndi</td>\n",
       "      <td>...</td>\n",
       "      <td>1</td>\n",
       "      <td>1</td>\n",
       "      <td>1</td>\n",
       "      <td>1</td>\n",
       "      <td>1</td>\n",
       "      <td>1</td>\n",
       "      <td>0</td>\n",
       "      <td>0</td>\n",
       "      <td>1</td>\n",
       "      <td>0</td>\n",
       "    </tr>\n",
       "    <tr>\n",
       "      <th>...</th>\n",
       "      <td>...</td>\n",
       "      <td>...</td>\n",
       "      <td>...</td>\n",
       "      <td>...</td>\n",
       "      <td>...</td>\n",
       "      <td>...</td>\n",
       "      <td>...</td>\n",
       "      <td>...</td>\n",
       "      <td>...</td>\n",
       "      <td>...</td>\n",
       "      <td>...</td>\n",
       "      <td>...</td>\n",
       "      <td>...</td>\n",
       "      <td>...</td>\n",
       "      <td>...</td>\n",
       "      <td>...</td>\n",
       "      <td>...</td>\n",
       "      <td>...</td>\n",
       "      <td>...</td>\n",
       "      <td>...</td>\n",
       "      <td>...</td>\n",
       "    </tr>\n",
       "    <tr>\n",
       "      <th>25663</th>\n",
       "      <td>25664</td>\n",
       "      <td>2018-03-08 23:29:24</td>\n",
       "      <td>none</td>\n",
       "      <td>0</td>\n",
       "      <td>BMW</td>\n",
       "      <td>320</td>\n",
       "      <td>9</td>\n",
       "      <td>yox</td>\n",
       "      <td>988</td>\n",
       "      <td>Yeniləndi</td>\n",
       "      <td>...</td>\n",
       "      <td>0</td>\n",
       "      <td>1</td>\n",
       "      <td>0</td>\n",
       "      <td>1</td>\n",
       "      <td>0</td>\n",
       "      <td>0</td>\n",
       "      <td>1</td>\n",
       "      <td>0</td>\n",
       "      <td>1</td>\n",
       "      <td>1</td>\n",
       "    </tr>\n",
       "    <tr>\n",
       "      <th>25664</th>\n",
       "      <td>25665</td>\n",
       "      <td>2018-03-08 23:29:24</td>\n",
       "      <td>Avtosalon \"Gənclik Satış Mərkəzi\"</td>\n",
       "      <td>1</td>\n",
       "      <td>Baic</td>\n",
       "      <td>X 55</td>\n",
       "      <td>9</td>\n",
       "      <td>yox</td>\n",
       "      <td>10782</td>\n",
       "      <td>Yeniləndi</td>\n",
       "      <td>...</td>\n",
       "      <td>1</td>\n",
       "      <td>1</td>\n",
       "      <td>1</td>\n",
       "      <td>1</td>\n",
       "      <td>0</td>\n",
       "      <td>1</td>\n",
       "      <td>0</td>\n",
       "      <td>0</td>\n",
       "      <td>0</td>\n",
       "      <td>0</td>\n",
       "    </tr>\n",
       "    <tr>\n",
       "      <th>25665</th>\n",
       "      <td>25666</td>\n",
       "      <td>2018-03-08 23:29:24</td>\n",
       "      <td>none</td>\n",
       "      <td>0</td>\n",
       "      <td>GAZ</td>\n",
       "      <td>M-21</td>\n",
       "      <td>9</td>\n",
       "      <td>yox</td>\n",
       "      <td>3848</td>\n",
       "      <td>Yeniləndi</td>\n",
       "      <td>...</td>\n",
       "      <td>0</td>\n",
       "      <td>0</td>\n",
       "      <td>0</td>\n",
       "      <td>0</td>\n",
       "      <td>0</td>\n",
       "      <td>0</td>\n",
       "      <td>0</td>\n",
       "      <td>0</td>\n",
       "      <td>0</td>\n",
       "      <td>0</td>\n",
       "    </tr>\n",
       "    <tr>\n",
       "      <th>25666</th>\n",
       "      <td>25667</td>\n",
       "      <td>2018-03-08 23:29:24</td>\n",
       "      <td>Avtosalon \"Gənclik Satış Mərkəzi\"</td>\n",
       "      <td>1</td>\n",
       "      <td>Baic</td>\n",
       "      <td>X 55</td>\n",
       "      <td>9</td>\n",
       "      <td>yox</td>\n",
       "      <td>10029</td>\n",
       "      <td>Yeniləndi</td>\n",
       "      <td>...</td>\n",
       "      <td>0</td>\n",
       "      <td>1</td>\n",
       "      <td>1</td>\n",
       "      <td>1</td>\n",
       "      <td>0</td>\n",
       "      <td>1</td>\n",
       "      <td>0</td>\n",
       "      <td>0</td>\n",
       "      <td>0</td>\n",
       "      <td>0</td>\n",
       "    </tr>\n",
       "    <tr>\n",
       "      <th>25667</th>\n",
       "      <td>25668</td>\n",
       "      <td>2018-03-08 23:29:24</td>\n",
       "      <td>none</td>\n",
       "      <td>0</td>\n",
       "      <td>LADA (VAZ)</td>\n",
       "      <td>2115</td>\n",
       "      <td>10</td>\n",
       "      <td>yox</td>\n",
       "      <td>511</td>\n",
       "      <td>Yeniləndi</td>\n",
       "      <td>...</td>\n",
       "      <td>0</td>\n",
       "      <td>1</td>\n",
       "      <td>0</td>\n",
       "      <td>0</td>\n",
       "      <td>1</td>\n",
       "      <td>0</td>\n",
       "      <td>1</td>\n",
       "      <td>0</td>\n",
       "      <td>1</td>\n",
       "      <td>0</td>\n",
       "    </tr>\n",
       "  </tbody>\n",
       "</table>\n",
       "<p>25668 rows × 49 columns</p>\n",
       "</div>"
      ],
      "text/plain": [
       "          id                date                          avtosalon  salon_yn  \\\n",
       "0          1 2018-03-08 22:12:54                               none         0   \n",
       "1          2 2018-03-08 22:12:54                               none         0   \n",
       "2          3 2018-03-08 22:12:54                               none         0   \n",
       "3          4 2018-03-08 22:12:54                               none         0   \n",
       "4          5 2018-03-08 22:12:54                               none         0   \n",
       "...      ...                 ...                                ...       ...   \n",
       "25663  25664 2018-03-08 23:29:24                               none         0   \n",
       "25664  25665 2018-03-08 23:29:24  Avtosalon \"Gənclik Satış Mərkəzi\"         1   \n",
       "25665  25666 2018-03-08 23:29:24                               none         0   \n",
       "25666  25667 2018-03-08 23:29:24  Avtosalon \"Gənclik Satış Mərkəzi\"         1   \n",
       "25667  25668 2018-03-08 23:29:24                               none         0   \n",
       "\n",
       "            marka    model  shekil_sayi satilib  baxis_sayi elan_tarix_title  \\\n",
       "0        Mercedes    C 200            9     yox         107        Yeniləndi   \n",
       "1      Mitsubishi   Pajero            5     yox          78        Yeniləndi   \n",
       "2        Mercedes    C 220            7     yox         118        Yeniləndi   \n",
       "3      Volkswagen  Touareg           10     yox        1639        Yeniləndi   \n",
       "4         Hyundai   Sonata            8     yox         227        Yeniləndi   \n",
       "...           ...      ...          ...     ...         ...              ...   \n",
       "25663         BMW      320            9     yox         988        Yeniləndi   \n",
       "25664        Baic     X 55            9     yox       10782        Yeniləndi   \n",
       "25665         GAZ     M-21            9     yox        3848        Yeniləndi   \n",
       "25666        Baic     X 55            9     yox       10029        Yeniləndi   \n",
       "25667  LADA (VAZ)     2115           10     yox         511        Yeniləndi   \n",
       "\n",
       "       ... yagish  qapanma radar  kondisioner podoqrev deri ksenon kamera  \\\n",
       "0      ...      0        1     0            1        0    0      1      0   \n",
       "1      ...      0        1     1            1        0    0      0      1   \n",
       "2      ...      1        1     0            1        0    0      0      0   \n",
       "3      ...      1        1     1            1        1    1      1      1   \n",
       "4      ...      1        1     1            1        1    1      0      0   \n",
       "...    ...    ...      ...   ...          ...      ...  ...    ...    ...   \n",
       "25663  ...      0        1     0            1        0    0      1      0   \n",
       "25664  ...      1        1     1            1        0    1      0      0   \n",
       "25665  ...      0        0     0            0        0    0      0      0   \n",
       "25666  ...      0        1     1            1        0    1      0      0   \n",
       "25667  ...      0        1     0            0        1    0      1      0   \n",
       "\n",
       "      perde ventilyasiya  \n",
       "0         0            0  \n",
       "1         0            0  \n",
       "2         0            0  \n",
       "3         1            1  \n",
       "4         1            0  \n",
       "...     ...          ...  \n",
       "25663     1            1  \n",
       "25664     0            0  \n",
       "25665     0            0  \n",
       "25666     0            0  \n",
       "25667     1            0  \n",
       "\n",
       "[25668 rows x 49 columns]"
      ]
     },
     "execution_count": 5,
     "metadata": {},
     "output_type": "execute_result"
    }
   ],
   "source": [
    "df"
   ]
  },
  {
   "cell_type": "code",
   "execution_count": 7,
   "id": "86157bde",
   "metadata": {},
   "outputs": [
    {
     "name": "stderr",
     "output_type": "stream",
     "text": [
      "C:\\Users\\u\\AppData\\Local\\Temp\\ipykernel_12468\\802459562.py:1: FutureWarning: The default value of regex will change from True to False in a future version.\n",
      "  df['muherrik_guc2']=df['muherrik_guc'].str.replace(' a.g.','').astype('float64')\n"
     ]
    }
   ],
   "source": [
    "df['muherrik_guc2']=df['muherrik_guc'].str.replace(' a.g.','').astype('float64')"
   ]
  },
  {
   "cell_type": "code",
   "execution_count": 26,
   "id": "daa8ca77",
   "metadata": {},
   "outputs": [],
   "source": [
    "df['yurush2']=df['yurush'].str.replace(' km','')"
   ]
  },
  {
   "cell_type": "code",
   "execution_count": 28,
   "id": "71236710",
   "metadata": {},
   "outputs": [
    {
     "data": {
      "text/plain": [
       "dtype('O')"
      ]
     },
     "execution_count": 28,
     "metadata": {},
     "output_type": "execute_result"
    }
   ],
   "source": [
    "df['yurush2'].dtype"
   ]
  },
  {
   "cell_type": "code",
   "execution_count": 29,
   "id": "2c371a5d",
   "metadata": {},
   "outputs": [],
   "source": [
    "df['price']=np.select(condlist=[df.qiymet_valyuta=='$',df.qiymet_valyuta=='€'],\n",
    "                      choicelist=[df.qiymet*1.7,df.qiymet*2.09],default=df.qiymet)"
   ]
  },
  {
   "cell_type": "markdown",
   "id": "647144a8",
   "metadata": {
    "pycharm": {
     "name": "#%% md\n"
    }
   },
   "source": [
    "# Basic Statistics Functions"
   ]
  },
  {
   "cell_type": "code",
   "execution_count": 31,
   "id": "966cc671",
   "metadata": {},
   "outputs": [],
   "source": [
    "sample=df.sample(20,random_state=1)"
   ]
  },
  {
   "cell_type": "code",
   "execution_count": 102,
   "id": "3511924a",
   "metadata": {},
   "outputs": [],
   "source": [
    "sample1=df[(df['marka']=='BMW')&(df['price']>10000)].sample(21,random_state=1)\n",
    "sample2=df[(df['marka']=='BMW')&(df['price']<10000)].sample(21,random_state=1)"
   ]
  },
  {
   "cell_type": "code",
   "execution_count": 123,
   "id": "94c6a08c",
   "metadata": {},
   "outputs": [],
   "source": [
    "sample3=df[(df['marka']=='BMW')&(df['price']>10000)].sample(21,random_state=3)\n",
    "sample4=df[(df['marka']=='BMW')&(df['price']<10000)].sample(21,random_state=4)\n",
    "sample5=df[(df['marka']=='Mercedes')&(df['price']>1000)].sample(21,random_state=30)\n"
   ]
  },
  {
   "cell_type": "code",
   "execution_count": 33,
   "id": "e7caff61",
   "metadata": {},
   "outputs": [
    {
     "data": {
      "text/plain": [
       "(17104.6, 18461.090717235467)"
      ]
     },
     "execution_count": 33,
     "metadata": {},
     "output_type": "execute_result"
    }
   ],
   "source": [
    "sample['price'].mean(), df['price'].mean()"
   ]
  },
  {
   "cell_type": "code",
   "execution_count": 34,
   "id": "680cd3f4",
   "metadata": {},
   "outputs": [
    {
     "data": {
      "text/plain": [
       "(769747781.0947366, 901332711.5738552)"
      ]
     },
     "execution_count": 34,
     "metadata": {},
     "output_type": "execute_result"
    }
   ],
   "source": [
    "sample['price'].var(), df['price'].var()"
   ]
  },
  {
   "cell_type": "markdown",
   "id": "ab236019",
   "metadata": {
    "pycharm": {
     "name": "#%% md\n"
    }
   },
   "source": [
    "# Tests"
   ]
  },
  {
   "cell_type": "markdown",
   "id": "d664a470",
   "metadata": {
    "pycharm": {
     "name": "#%% md\n"
    }
   },
   "source": []
  },
  {
   "cell_type": "markdown",
   "id": "85331dd8",
   "metadata": {
    "pycharm": {
     "name": "#%% md\n"
    }
   },
   "source": []
  },
  {
   "cell_type": "markdown",
   "id": "9e745451",
   "metadata": {
    "pycharm": {
     "name": "#%% md\n"
    }
   },
   "source": [
    "# 1. One sample tests"
   ]
  },
  {
   "cell_type": "markdown",
   "id": "aac99ded",
   "metadata": {
    "pycharm": {
     "name": "#%% md\n"
    }
   },
   "source": [
    "## 1.1 Parametric tests"
   ]
  },
  {
   "cell_type": "markdown",
   "id": "68461c37",
   "metadata": {
    "pycharm": {
     "name": "#%% md\n"
    }
   },
   "source": [
    "## 1.1.1. t-test\n",
    "test for the null hypothesis that the expected value (mean) of a sample of independent observations \n",
    "a is equal to the given population mean, popmean."
   ]
  },
  {
   "cell_type": "code",
   "execution_count": 47,
   "id": "1aa60418",
   "metadata": {},
   "outputs": [
    {
     "data": {
      "text/plain": [
       "Ttest_1sampResult(statistic=-2.07862235161242, pvalue=0.05144276897271192)"
      ]
     },
     "execution_count": 47,
     "metadata": {},
     "output_type": "execute_result"
    }
   ],
   "source": [
    "ss.ttest_1samp(sample['price'],30000)"
   ]
  },
  {
   "cell_type": "markdown",
   "id": "3b5579fb",
   "metadata": {
    "pycharm": {
     "name": "#%% md\n"
    }
   },
   "source": [
    "## 1.1.2. Chi-square test for variance/standard deviation\n",
    "tests whether the population variance or standard deviation is equal to a specified value."
   ]
  },
  {
   "cell_type": "code",
   "execution_count": 37,
   "id": "31e52c74",
   "metadata": {},
   "outputs": [
    {
     "data": {
      "text/plain": [
       "13.85263157894737"
      ]
     },
     "execution_count": 37,
     "metadata": {},
     "output_type": "execute_result"
    }
   ],
   "source": [
    "sample['shekil_sayi'].var()"
   ]
  },
  {
   "cell_type": "code",
   "execution_count": 39,
   "id": "d047fa87",
   "metadata": {},
   "outputs": [
    {
     "data": {
      "text/plain": [
       "14.622222222222225"
      ]
     },
     "execution_count": 39,
     "metadata": {},
     "output_type": "execute_result"
    }
   ],
   "source": [
    "sample['shekil_sayi'].var(ddof=2)"
   ]
  },
  {
   "cell_type": "code",
   "execution_count": 46,
   "id": "4724a47d",
   "metadata": {},
   "outputs": [
    {
     "data": {
      "text/plain": [
       "Power_divergenceResult(statistic=28.60869565217392, pvalue=0.053376117720560036)"
      ]
     },
     "execution_count": 46,
     "metadata": {},
     "output_type": "execute_result"
    }
   ],
   "source": [
    "ss.chisquare(sample['shekil_sayi'],ddof=1)"
   ]
  },
  {
   "cell_type": "markdown",
   "id": "56ca364c",
   "metadata": {
    "pycharm": {
     "name": "#%% md\n"
    }
   },
   "source": [
    "## 1.2. Non-parametric tests"
   ]
  },
  {
   "cell_type": "markdown",
   "id": "f8696496",
   "metadata": {
    "pycharm": {
     "name": "#%% md\n"
    }
   },
   "source": [
    "## 1.2.1. Wilcoxon signed-rank test\n",
    "tests a hypothesized median, non-parametric alternative of one sample t-test"
   ]
  },
  {
   "cell_type": "code",
   "execution_count": 67,
   "id": "3327bdee",
   "metadata": {
    "scrolled": true
   },
   "outputs": [
    {
     "data": {
      "text/plain": [
       "WilcoxonResult(statistic=90.0, pvalue=0.5958194732666016)"
      ]
     },
     "execution_count": 67,
     "metadata": {},
     "output_type": "execute_result"
    }
   ],
   "source": [
    "ss.wilcoxon(sample['price']-10000)"
   ]
  },
  {
   "cell_type": "code",
   "execution_count": 66,
   "id": "e91704dc",
   "metadata": {},
   "outputs": [
    {
     "data": {
      "text/plain": [
       "8950.0"
      ]
     },
     "execution_count": 66,
     "metadata": {},
     "output_type": "execute_result"
    }
   ],
   "source": [
    "sample['price'].median()"
   ]
  },
  {
   "cell_type": "markdown",
   "id": "22657173",
   "metadata": {
    "pycharm": {
     "name": "#%% md\n"
    }
   },
   "source": [
    "## 1.2.2. Kolmogorov-Smirnov test\n",
    "compares the underlying distribution F(x) of a sample against a given continuous distribution G(x)."
   ]
  },
  {
   "cell_type": "code",
   "execution_count": 91,
   "id": "db3b0afb",
   "metadata": {},
   "outputs": [],
   "source": [
    "x=sample['shekil_sayi']"
   ]
  },
  {
   "cell_type": "code",
   "execution_count": 95,
   "id": "e7fdf797",
   "metadata": {},
   "outputs": [
    {
     "data": {
      "text/plain": [
       "KstestResult(statistic=0.0, pvalue=1.0)"
      ]
     },
     "execution_count": 95,
     "metadata": {},
     "output_type": "execute_result"
    }
   ],
   "source": [
    "ss.ks_1samp(sample['muherrik_guc2'], ss.norm.cdf,alternative='greater')"
   ]
  },
  {
   "cell_type": "code",
   "execution_count": 94,
   "id": "de208af2",
   "metadata": {},
   "outputs": [
    {
     "data": {
      "text/plain": [
       "KstestResult(statistic=0.9999997133484281, pvalue=1.4030933088023867e-131)"
      ]
     },
     "execution_count": 94,
     "metadata": {},
     "output_type": "execute_result"
    }
   ],
   "source": [
    "ss.ks_1samp(x, ss.norm.cdf,alternative='less')"
   ]
  },
  {
   "cell_type": "markdown",
   "id": "ff0a2a8b",
   "metadata": {
    "pycharm": {
     "name": "#%% md\n"
    }
   },
   "source": [
    "# 2. Two sample tests"
   ]
  },
  {
   "cell_type": "markdown",
   "id": "6d6f3ba3",
   "metadata": {
    "pycharm": {
     "name": "#%% md\n"
    }
   },
   "source": [
    "## 2.1. Parametric tests"
   ]
  },
  {
   "cell_type": "markdown",
   "id": "7a3bbf83",
   "metadata": {
    "pycharm": {
     "name": "#%% md\n"
    }
   },
   "source": [
    "## 2.1.1 F-test\n",
    "tests the null hypothesis that 2 samples are from populations with equal variances."
   ]
  },
  {
   "cell_type": "code",
   "execution_count": 117,
   "id": "ef4a2620",
   "metadata": {},
   "outputs": [],
   "source": [
    "F=sample1['price'].var(ddof=1)/sample2['price'].var(ddof=1)"
   ]
  },
  {
   "cell_type": "code",
   "execution_count": 111,
   "id": "782f2cb9",
   "metadata": {},
   "outputs": [
    {
     "data": {
      "text/plain": [
       "0.9999999999999999"
      ]
     },
     "execution_count": 111,
     "metadata": {},
     "output_type": "execute_result"
    }
   ],
   "source": [
    "ss.f.cdf(F,20,20)"
   ]
  },
  {
   "cell_type": "code",
   "execution_count": 124,
   "id": "120c1a5f",
   "metadata": {},
   "outputs": [],
   "source": [
    "F1=sample1['shekil_sayi'].var(ddof=1)/sample5['shekil_sayi'].var(ddof=1)"
   ]
  },
  {
   "cell_type": "code",
   "execution_count": 125,
   "id": "68b0ef6c",
   "metadata": {},
   "outputs": [
    {
     "data": {
      "text/plain": [
       "0.45838794268943533"
      ]
     },
     "execution_count": 125,
     "metadata": {},
     "output_type": "execute_result"
    }
   ],
   "source": [
    "ss.f.cdf(F1,20,20)"
   ]
  },
  {
   "cell_type": "markdown",
   "id": "1451656c",
   "metadata": {
    "pycharm": {
     "name": "#%% md\n"
    }
   },
   "source": [
    "## 2.1.2. Pooled variance t-test\n",
    "test for the null hypothesis that 2 independent samples have identical average (expected) values, \n",
    "assumes that the populations have identical variances by default."
   ]
  },
  {
   "cell_type": "code",
   "execution_count": 126,
   "id": "36579645",
   "metadata": {},
   "outputs": [
    {
     "data": {
      "text/plain": [
       "Ttest_indResult(statistic=-2.1334973780971986, pvalue=0.039068833081602146)"
      ]
     },
     "execution_count": 126,
     "metadata": {},
     "output_type": "execute_result"
    }
   ],
   "source": [
    "ss.ttest_ind(sample2['price'],sample5['price'])"
   ]
  },
  {
   "cell_type": "markdown",
   "id": "1be365d7",
   "metadata": {
    "pycharm": {
     "name": "#%% md\n"
    }
   },
   "source": [
    "## 2.1.3. Separate variance t-test\n",
    "same as pooled variance t-test, but does not assume equal variances"
   ]
  },
  {
   "cell_type": "markdown",
   "id": "057a34ab",
   "metadata": {
    "pycharm": {
     "name": "#%% md\n"
    }
   },
   "source": [
    "## 2.1.4. Paired samples t-test\n",
    "test for the null hypothesis that two related or repeated samples have identical average (expected) values."
   ]
  },
  {
   "cell_type": "code",
   "execution_count": 133,
   "id": "522c5491",
   "metadata": {},
   "outputs": [
    {
     "data": {
      "text/plain": [
       "Ttest_relResult(statistic=-0.6285393610547089, pvalue=0.5367634575209301)"
      ]
     },
     "execution_count": 133,
     "metadata": {},
     "output_type": "execute_result"
    }
   ],
   "source": [
    "ss.ttest_rel(sample2['shekil_sayi'],sample4['shekil_sayi'])"
   ]
  },
  {
   "cell_type": "markdown",
   "id": "658ecd5e",
   "metadata": {
    "pycharm": {
     "name": "#%% md\n"
    }
   },
   "source": [
    "## 2.2. Non-parametric tests"
   ]
  },
  {
   "cell_type": "markdown",
   "id": "6b4a8549",
   "metadata": {
    "pycharm": {
     "name": "#%% md\n"
    }
   },
   "source": [
    "## 2.2.1. Wilcoxon signed-rank test\n",
    "tests the null hypothesis that two related paired samples come from the same distribution. \n",
    "In particular, it tests whether the distribution of the differences x - y is symmetric about zero. \n",
    "It is a non-parametric version of the paired T-test."
   ]
  },
  {
   "cell_type": "code",
   "execution_count": 135,
   "id": "d0c93a08",
   "metadata": {},
   "outputs": [
    {
     "data": {
      "text/plain": [
       "WilcoxonResult(statistic=86.0, pvalue=0.7159770457605454)"
      ]
     },
     "execution_count": 135,
     "metadata": {},
     "output_type": "execute_result"
    }
   ],
   "source": [
    "ss.wilcoxon(sample2['shekil_sayi'],sample4['shekil_sayi'])"
   ]
  },
  {
   "cell_type": "markdown",
   "id": "1ac9eeca",
   "metadata": {
    "pycharm": {
     "name": "#%% md\n"
    }
   },
   "source": [
    "## 2.2.2. Mann-Whitney U rank test\n",
    "tests the distribution underlying sample x is the same as the distribution underlying sample y. "
   ]
  },
  {
   "cell_type": "code",
   "execution_count": 139,
   "id": "c7366cc8",
   "metadata": {},
   "outputs": [
    {
     "data": {
      "text/plain": [
       "MannwhitneyuResult(statistic=251.0, pvalue=0.45013346898056406)"
      ]
     },
     "execution_count": 139,
     "metadata": {},
     "output_type": "execute_result"
    }
   ],
   "source": [
    "ss.mannwhitneyu(sample2['price'],sample4['price'])"
   ]
  },
  {
   "cell_type": "markdown",
   "id": "e0929555",
   "metadata": {
    "pycharm": {
     "name": "#%% md\n"
    }
   },
   "source": [
    "## 2.2.3. Kolmogorov-Smirnov test\n",
    "compares the underlying continuous distributions F(x) and G(x) of two independent samples."
   ]
  },
  {
   "cell_type": "code",
   "execution_count": 141,
   "id": "ddd0ead1",
   "metadata": {},
   "outputs": [
    {
     "data": {
      "text/plain": [
       "KstestResult(statistic=1.0, pvalue=3.715691111961505e-12)"
      ]
     },
     "execution_count": 141,
     "metadata": {},
     "output_type": "execute_result"
    }
   ],
   "source": [
    "ss.ks_2samp(sample2['price'],sample3['price'])"
   ]
  },
  {
   "cell_type": "code",
   "execution_count": 146,
   "id": "a2363e0c",
   "metadata": {},
   "outputs": [
    {
     "data": {
      "text/plain": [
       "KstestResult(statistic=0.4523809523809524, pvalue=0.02317953445823815)"
      ]
     },
     "execution_count": 146,
     "metadata": {},
     "output_type": "execute_result"
    }
   ],
   "source": [
    "ss.ks_2samp(sample['price'],sample4['price'])"
   ]
  },
  {
   "cell_type": "markdown",
   "id": "dbac4133",
   "metadata": {
    "pycharm": {
     "name": "#%% md\n"
    }
   },
   "source": [
    "## 2.2.4. Epps-Singleton test\n",
    "Test the null hypothesis that two samples have the same underlying probability distribution."
   ]
  },
  {
   "cell_type": "code",
   "execution_count": 149,
   "id": "084b6f01",
   "metadata": {},
   "outputs": [
    {
     "data": {
      "text/plain": [
       "Epps_Singleton_2sampResult(statistic=1.0510906200754149, pvalue=0.901952533839152)"
      ]
     },
     "execution_count": 149,
     "metadata": {},
     "output_type": "execute_result"
    }
   ],
   "source": [
    "ss.epps_singleton_2samp(sample1['muherrik_guc2'],sample3['muherrik_guc2'])"
   ]
  },
  {
   "cell_type": "markdown",
   "id": "ff13c0b6",
   "metadata": {
    "pycharm": {
     "name": "#%% md\n"
    }
   },
   "source": [
    "# 3. K sample tests"
   ]
  },
  {
   "cell_type": "markdown",
   "id": "b3b2adca",
   "metadata": {
    "pycharm": {
     "name": "#%% md\n"
    }
   },
   "source": [
    "## 3.1. Parametric tests"
   ]
  },
  {
   "cell_type": "markdown",
   "id": "60740974",
   "metadata": {
    "pycharm": {
     "name": "#%% md\n"
    }
   },
   "source": [
    "## 3.1.1. Bartlett’s test\n",
    "tests the null hypothesis that all input samples are from populations with equal variances."
   ]
  },
  {
   "cell_type": "code",
   "execution_count": 160,
   "id": "107b78fa",
   "metadata": {},
   "outputs": [
    {
     "data": {
      "text/plain": [
       "BartlettResult(statistic=9.830840250271814, pvalue=0.007332636620242348)"
      ]
     },
     "execution_count": 160,
     "metadata": {},
     "output_type": "execute_result"
    }
   ],
   "source": [
    "ss.bartlett(sample1['price'],sample5['price'],sample['price'])"
   ]
  },
  {
   "cell_type": "code",
   "execution_count": 162,
   "id": "15ef70a1",
   "metadata": {},
   "outputs": [
    {
     "data": {
      "text/plain": [
       "BartlettResult(statistic=0.7417191002193877, pvalue=0.6901408649609686)"
      ]
     },
     "execution_count": 162,
     "metadata": {},
     "output_type": "execute_result"
    }
   ],
   "source": [
    "ss.bartlett(sample1['shekil_sayi'],sample5['shekil_sayi'],sample['shekil_sayi'])"
   ]
  },
  {
   "cell_type": "markdown",
   "id": "0f4feeaf",
   "metadata": {
    "pycharm": {
     "name": "#%% md\n"
    }
   },
   "source": [
    "## 3.1.2. Levene test\n",
    "tests the null hypothesis that all input samples are from populations with equal variances. \n",
    "more robust than Bartlett's test"
   ]
  },
  {
   "cell_type": "code",
   "execution_count": 161,
   "id": "76cf686d",
   "metadata": {},
   "outputs": [
    {
     "data": {
      "text/plain": [
       "BartlettResult(statistic=9.830840250271814, pvalue=0.007332636620242348)"
      ]
     },
     "execution_count": 161,
     "metadata": {},
     "output_type": "execute_result"
    }
   ],
   "source": [
    "ss.bartlett(sample1['price'],sample5['price'],sample['price'])"
   ]
  },
  {
   "cell_type": "code",
   "execution_count": 163,
   "id": "9e1c727f",
   "metadata": {},
   "outputs": [
    {
     "data": {
      "text/plain": [
       "BartlettResult(statistic=0.7417191002193877, pvalue=0.6901408649609686)"
      ]
     },
     "execution_count": 163,
     "metadata": {},
     "output_type": "execute_result"
    }
   ],
   "source": [
    "ss.bartlett(sample1['shekil_sayi'],sample5['shekil_sayi'],sample['shekil_sayi'])"
   ]
  },
  {
   "cell_type": "markdown",
   "id": "406d51d8",
   "metadata": {
    "pycharm": {
     "name": "#%% md\n"
    }
   },
   "source": [
    "## 3.1.3. One-way ANOVA test\n",
    "tests the null hypothesis that two or more groups have the same population mean. "
   ]
  },
  {
   "cell_type": "code",
   "execution_count": 164,
   "id": "34a36a08",
   "metadata": {},
   "outputs": [
    {
     "data": {
      "text/plain": [
       "F_onewayResult(statistic=6.139026095885037, pvalue=0.003783881760406545)"
      ]
     },
     "execution_count": 164,
     "metadata": {},
     "output_type": "execute_result"
    }
   ],
   "source": [
    "ss.f_oneway(sample['price'],sample1['price'],sample2['price'])"
   ]
  },
  {
   "cell_type": "code",
   "execution_count": 166,
   "id": "fa4a42a8",
   "metadata": {},
   "outputs": [
    {
     "data": {
      "text/plain": [
       "F_onewayResult(statistic=1.3607886129350237, pvalue=0.26425814859979774)"
      ]
     },
     "execution_count": 166,
     "metadata": {},
     "output_type": "execute_result"
    }
   ],
   "source": [
    "ss.f_oneway(sample3['price'],sample1['price'],sample5['price'])"
   ]
  },
  {
   "cell_type": "markdown",
   "id": "2a4598ca",
   "metadata": {
    "pycharm": {
     "name": "#%% md\n"
    }
   },
   "source": [
    "## 3.2. Non-parametric tests"
   ]
  },
  {
   "cell_type": "markdown",
   "id": "acf52f8f",
   "metadata": {
    "pycharm": {
     "name": "#%% md\n"
    }
   },
   "source": [
    "## 3.2.1. Kruskal-Wallis H-test \n",
    "Kruskal-Wallis H-test tests the null hypothesis that the population median of all of the groups are equal. It is a non-parametric version of ANOVA."
   ]
  },
  {
   "cell_type": "code",
   "execution_count": 172,
   "id": "98f30b73",
   "metadata": {
    "scrolled": true
   },
   "outputs": [
    {
     "data": {
      "text/plain": [
       "KruskalResult(statistic=11.322042925950583, pvalue=0.003478961452326621)"
      ]
     },
     "execution_count": 172,
     "metadata": {},
     "output_type": "execute_result"
    }
   ],
   "source": [
    "ss.kruskal(sample3['price'],sample1['price'],sample5['price'])"
   ]
  },
  {
   "cell_type": "code",
   "execution_count": 175,
   "id": "a4cdc68a",
   "metadata": {},
   "outputs": [
    {
     "data": {
      "text/plain": [
       "KruskalResult(statistic=0.589484706573294, pvalue=0.44261844868695854)"
      ]
     },
     "execution_count": 175,
     "metadata": {},
     "output_type": "execute_result"
    }
   ],
   "source": [
    "ss.kruskal(sample2['price'],sample4['price'])"
   ]
  },
  {
   "cell_type": "markdown",
   "id": "d3ad0408",
   "metadata": {
    "pycharm": {
     "name": "#%% md\n"
    }
   },
   "source": [
    "# 4. Correlation"
   ]
  },
  {
   "cell_type": "markdown",
   "id": "4340d59e",
   "metadata": {
    "pycharm": {
     "name": "#%% md\n"
    }
   },
   "source": [
    "## 4.1. Pearson r test - Parametric\n",
    "Returns pearson correlation coefficient and p-value for testing non-correlation."
   ]
  },
  {
   "cell_type": "code",
   "execution_count": 177,
   "id": "504865cd",
   "metadata": {},
   "outputs": [],
   "source": [
    "s1=df.sample(100)"
   ]
  },
  {
   "cell_type": "code",
   "execution_count": 180,
   "id": "1fde416e",
   "metadata": {},
   "outputs": [
    {
     "data": {
      "text/plain": [
       "(0.45743197481074316, 1.713399005185131e-06)"
      ]
     },
     "execution_count": 180,
     "metadata": {},
     "output_type": "execute_result"
    }
   ],
   "source": [
    "ss.pearsonr(s1['price'],s1['shekil_sayi'])"
   ]
  },
  {
   "cell_type": "code",
   "execution_count": 183,
   "id": "1fc4879e",
   "metadata": {},
   "outputs": [
    {
     "data": {
      "text/plain": [
       "(0.12476271271774597, 0.21616869838534106)"
      ]
     },
     "execution_count": 183,
     "metadata": {},
     "output_type": "execute_result"
    }
   ],
   "source": [
    "ss.pearsonr(s1['il'],s1['shekil_sayi'])"
   ]
  },
  {
   "cell_type": "markdown",
   "id": "60d22bf6",
   "metadata": {
    "pycharm": {
     "name": "#%% md\n"
    }
   },
   "source": [
    "## 4.2. Spearman $\\rho$  test - Non-parametric\n",
    "Non-parametric alternative of Pearson r test"
   ]
  },
  {
   "cell_type": "code",
   "execution_count": 179,
   "id": "435737eb",
   "metadata": {},
   "outputs": [
    {
     "data": {
      "text/plain": [
       "SpearmanrResult(correlation=0.08929633478180705, pvalue=0.3769643985121569)"
      ]
     },
     "execution_count": 179,
     "metadata": {},
     "output_type": "execute_result"
    }
   ],
   "source": [
    "ss.spearmanr(s1['marka'],s1['shekil_sayi'])"
   ]
  }
 ],
 "metadata": {
  "kernelspec": {
   "display_name": "Python 3 (ipykernel)",
   "language": "python",
   "name": "python3"
  },
  "language_info": {
   "codemirror_mode": {
    "name": "ipython",
    "version": 3
   },
   "file_extension": ".py",
   "mimetype": "text/x-python",
   "name": "python",
   "nbconvert_exporter": "python",
   "pygments_lexer": "ipython3",
   "version": "3.9.12"
  },
  "varInspector": {
   "cols": {
    "lenName": 16,
    "lenType": 16,
    "lenVar": 40
   },
   "kernels_config": {
    "python": {
     "delete_cmd_postfix": "",
     "delete_cmd_prefix": "del ",
     "library": "var_list.py",
     "varRefreshCmd": "print(var_dic_list())"
    },
    "r": {
     "delete_cmd_postfix": ") ",
     "delete_cmd_prefix": "rm(",
     "library": "var_list.r",
     "varRefreshCmd": "cat(var_dic_list()) "
    }
   },
   "types_to_exclude": [
    "module",
    "function",
    "builtin_function_or_method",
    "instance",
    "_Feature"
   ],
   "window_display": false
  }
 },
 "nbformat": 4,
 "nbformat_minor": 5
}
