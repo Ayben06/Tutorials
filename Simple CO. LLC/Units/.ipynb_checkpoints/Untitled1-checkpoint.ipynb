{
 "cells": [
  {
   "cell_type": "code",
   "execution_count": 4,
   "id": "7c5c1d79",
   "metadata": {},
   "outputs": [
    {
     "name": "stdout",
     "output_type": "stream",
     "text": [
      "weather is warm\n"
     ]
    }
   ],
   "source": [
    "#normal 0 and 20  isti 20 60 soyuq 0 and -40 \n",
    "x=20;\n",
    "if -40<x<=0:\n",
    "    print(\"weather is cold\")\n",
    "elif 0<x<=20:\n",
    "    print(\"weather is warm\")\n",
    "elif 20<x<60:\n",
    "    print(\"weather is hot\")\n",
    "    \n",
    "    "
   ]
  },
  {
   "cell_type": "code",
   "execution_count": 8,
   "id": "415cf1d9",
   "metadata": {},
   "outputs": [
    {
     "name": "stdout",
     "output_type": "stream",
     "text": [
      "x isn't smallest\n"
     ]
    }
   ],
   "source": [
    "x=25\n",
    "y=30\n",
    "z=20\n",
    "\n",
    "if x>y or x>z:\n",
    "    print(\"x isn't smallest\")\n",
    "\n",
    "if y>x and y>z: \n",
    "    print(\"y is greatest\")\n",
    "\n",
    "#iyi ayri condition\n",
    "\n",
    "\n",
    "    "
   ]
  },
  {
   "cell_type": "code",
   "execution_count": 11,
   "id": "9754e003",
   "metadata": {},
   "outputs": [
    {
     "name": "stdout",
     "output_type": "stream",
     "text": [
      "x isn't smallest and y is greatest\n"
     ]
    }
   ],
   "source": [
    "x=25\n",
    "y=30\n",
    "z=20\n",
    "\n",
    "if (x>y or x>z)and (y>x and y>z) :\n",
    "    print(\"x isn't smallest and y is greatest\")\n"
   ]
  },
  {
   "cell_type": "code",
   "execution_count": 13,
   "id": "7ac6fd40",
   "metadata": {},
   "outputs": [
    {
     "data": {
      "text/plain": [
       "True"
      ]
     },
     "execution_count": 13,
     "metadata": {},
     "output_type": "execute_result"
    }
   ],
   "source": [
    "name='Elman'\n",
    "'E' in name"
   ]
  },
  {
   "cell_type": "code",
   "execution_count": 43,
   "id": "f0d516e4",
   "metadata": {},
   "outputs": [],
   "source": [
    "list=[1,2,3,4,5,6,7,8,9,10]\n",
    "x=0\n",
    "for i in list:\n",
    "    x+=i"
   ]
  },
  {
   "cell_type": "code",
   "execution_count": 44,
   "id": "f43cc6bd",
   "metadata": {},
   "outputs": [
    {
     "data": {
      "text/plain": [
       "55"
      ]
     },
     "execution_count": 44,
     "metadata": {},
     "output_type": "execute_result"
    }
   ],
   "source": [
    "x"
   ]
  },
  {
   "cell_type": "code",
   "execution_count": 45,
   "id": "3f22552b",
   "metadata": {},
   "outputs": [
    {
     "name": "stdout",
     "output_type": "stream",
     "text": [
      "55\n"
     ]
    }
   ],
   "source": [
    "print(x)"
   ]
  },
  {
   "cell_type": "code",
   "execution_count": 48,
   "id": "ec16ec02",
   "metadata": {},
   "outputs": [
    {
     "name": "stdout",
     "output_type": "stream",
     "text": [
      "0\n",
      "2\n",
      "4\n",
      "6\n",
      "8\n",
      "10\n"
     ]
    }
   ],
   "source": [
    "for i in range(0,11,2):\n",
    "    print(i)"
   ]
  },
  {
   "cell_type": "code",
   "execution_count": 63,
   "id": "179bb18a",
   "metadata": {},
   "outputs": [
    {
     "ename": "IndentationError",
     "evalue": "unindent does not match any outer indentation level (<tokenize>, line 6)",
     "output_type": "error",
     "traceback": [
      "\u001b[1;36m  File \u001b[1;32m<tokenize>:6\u001b[1;36m\u001b[0m\n\u001b[1;33m    x+=1\u001b[0m\n\u001b[1;37m    ^\u001b[0m\n\u001b[1;31mIndentationError\u001b[0m\u001b[1;31m:\u001b[0m unindent does not match any outer indentation level\n"
     ]
    }
   ],
   "source": [
    "list=[1,2,3,4,5,7,8,9,10]\n",
    "x=0\n",
    "for i in list:\n",
    "     if  not (i=x):\n",
    "        print(x)\n",
    "    x+=1"
   ]
  }
 ],
 "metadata": {
  "kernelspec": {
   "display_name": "Python 3 (ipykernel)",
   "language": "python",
   "name": "python3"
  },
  "language_info": {
   "codemirror_mode": {
    "name": "ipython",
    "version": 3
   },
   "file_extension": ".py",
   "mimetype": "text/x-python",
   "name": "python",
   "nbconvert_exporter": "python",
   "pygments_lexer": "ipython3",
   "version": "3.9.12"
  }
 },
 "nbformat": 4,
 "nbformat_minor": 5
}
