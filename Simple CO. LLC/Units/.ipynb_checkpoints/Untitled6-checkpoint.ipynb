{
 "cells": [
  {
   "cell_type": "code",
   "execution_count": 1,
   "id": "44d123f0",
   "metadata": {
    "scrolled": true
   },
   "outputs": [
    {
     "name": "stdout",
     "output_type": "stream",
     "text": [
      "Requirement already satisfied: pymysql in c:\\users\\u\\appdata\\local\\programs\\python\\python39\\lib\\site-packages (1.0.2)\n"
     ]
    },
    {
     "name": "stderr",
     "output_type": "stream",
     "text": [
      "WARNING: You are using pip version 22.0.4; however, version 22.1.2 is available.\n",
      "You should consider upgrading via the 'C:\\Users\\u\\AppData\\Local\\Programs\\Python\\Python39\\python.exe -m pip install --upgrade pip' command.\n"
     ]
    }
   ],
   "source": [
    "!pip install pymysql"
   ]
  },
  {
   "cell_type": "code",
   "execution_count": 7,
   "id": "415f03c6",
   "metadata": {},
   "outputs": [],
   "source": [
    "import pymysql as ms"
   ]
  },
  {
   "cell_type": "code",
   "execution_count": 17,
   "id": "df06d6e3",
   "metadata": {},
   "outputs": [],
   "source": [
    "conn=ms.connect(host='localhost',user='root',password='12345678',database='trening')"
   ]
  },
  {
   "cell_type": "code",
   "execution_count": 6,
   "id": "3a46e44b",
   "metadata": {},
   "outputs": [],
   "source": [
    "import numpy as np\n",
    "import pandas as pd\n",
    "import matplotlib.pyplot as plt"
   ]
  },
  {
   "cell_type": "code",
   "execution_count": 18,
   "id": "e86f33c8",
   "metadata": {},
   "outputs": [],
   "source": [
    "data=pd.read_sql(sql='select * from c180308',con=conn)"
   ]
  },
  {
   "cell_type": "code",
   "execution_count": 19,
   "id": "23720fc8",
   "metadata": {},
   "outputs": [
    {
     "data": {
      "text/html": [
       "<div>\n",
       "<style scoped>\n",
       "    .dataframe tbody tr th:only-of-type {\n",
       "        vertical-align: middle;\n",
       "    }\n",
       "\n",
       "    .dataframe tbody tr th {\n",
       "        vertical-align: top;\n",
       "    }\n",
       "\n",
       "    .dataframe thead th {\n",
       "        text-align: right;\n",
       "    }\n",
       "</style>\n",
       "<table border=\"1\" class=\"dataframe\">\n",
       "  <thead>\n",
       "    <tr style=\"text-align: right;\">\n",
       "      <th></th>\n",
       "      <th>id</th>\n",
       "      <th>date</th>\n",
       "      <th>avtosalon</th>\n",
       "      <th>salon_yn</th>\n",
       "      <th>marka</th>\n",
       "      <th>model</th>\n",
       "      <th>shekil_sayi</th>\n",
       "      <th>satilib</th>\n",
       "      <th>baxis_sayi</th>\n",
       "      <th>elan_tarix_title</th>\n",
       "      <th>...</th>\n",
       "      <th>yagish</th>\n",
       "      <th>qapanma</th>\n",
       "      <th>radar</th>\n",
       "      <th>kondisioner</th>\n",
       "      <th>podoqrev</th>\n",
       "      <th>deri</th>\n",
       "      <th>ksenon</th>\n",
       "      <th>kamera</th>\n",
       "      <th>perde</th>\n",
       "      <th>ventilyasiya</th>\n",
       "    </tr>\n",
       "  </thead>\n",
       "  <tbody>\n",
       "    <tr>\n",
       "      <th>0</th>\n",
       "      <td>1</td>\n",
       "      <td>2018-03-08 22:12:54</td>\n",
       "      <td>none</td>\n",
       "      <td>0</td>\n",
       "      <td>Mercedes</td>\n",
       "      <td>C 200</td>\n",
       "      <td>9</td>\n",
       "      <td>yox</td>\n",
       "      <td>107</td>\n",
       "      <td>Yeniləndi</td>\n",
       "      <td>...</td>\n",
       "      <td>0</td>\n",
       "      <td>1</td>\n",
       "      <td>0</td>\n",
       "      <td>1</td>\n",
       "      <td>0</td>\n",
       "      <td>0</td>\n",
       "      <td>1</td>\n",
       "      <td>0</td>\n",
       "      <td>0</td>\n",
       "      <td>0</td>\n",
       "    </tr>\n",
       "    <tr>\n",
       "      <th>1</th>\n",
       "      <td>2</td>\n",
       "      <td>2018-03-08 22:12:54</td>\n",
       "      <td>none</td>\n",
       "      <td>0</td>\n",
       "      <td>Mitsubishi</td>\n",
       "      <td>Pajero</td>\n",
       "      <td>5</td>\n",
       "      <td>yox</td>\n",
       "      <td>78</td>\n",
       "      <td>Yeniləndi</td>\n",
       "      <td>...</td>\n",
       "      <td>0</td>\n",
       "      <td>1</td>\n",
       "      <td>1</td>\n",
       "      <td>1</td>\n",
       "      <td>0</td>\n",
       "      <td>0</td>\n",
       "      <td>0</td>\n",
       "      <td>1</td>\n",
       "      <td>0</td>\n",
       "      <td>0</td>\n",
       "    </tr>\n",
       "    <tr>\n",
       "      <th>2</th>\n",
       "      <td>3</td>\n",
       "      <td>2018-03-08 22:12:54</td>\n",
       "      <td>none</td>\n",
       "      <td>0</td>\n",
       "      <td>Mercedes</td>\n",
       "      <td>C 220</td>\n",
       "      <td>7</td>\n",
       "      <td>yox</td>\n",
       "      <td>118</td>\n",
       "      <td>Yeniləndi</td>\n",
       "      <td>...</td>\n",
       "      <td>1</td>\n",
       "      <td>1</td>\n",
       "      <td>0</td>\n",
       "      <td>1</td>\n",
       "      <td>0</td>\n",
       "      <td>0</td>\n",
       "      <td>0</td>\n",
       "      <td>0</td>\n",
       "      <td>0</td>\n",
       "      <td>0</td>\n",
       "    </tr>\n",
       "    <tr>\n",
       "      <th>3</th>\n",
       "      <td>4</td>\n",
       "      <td>2018-03-08 22:12:54</td>\n",
       "      <td>none</td>\n",
       "      <td>0</td>\n",
       "      <td>Volkswagen</td>\n",
       "      <td>Touareg</td>\n",
       "      <td>10</td>\n",
       "      <td>yox</td>\n",
       "      <td>1639</td>\n",
       "      <td>Yeniləndi</td>\n",
       "      <td>...</td>\n",
       "      <td>1</td>\n",
       "      <td>1</td>\n",
       "      <td>1</td>\n",
       "      <td>1</td>\n",
       "      <td>1</td>\n",
       "      <td>1</td>\n",
       "      <td>1</td>\n",
       "      <td>1</td>\n",
       "      <td>1</td>\n",
       "      <td>1</td>\n",
       "    </tr>\n",
       "    <tr>\n",
       "      <th>4</th>\n",
       "      <td>5</td>\n",
       "      <td>2018-03-08 22:12:54</td>\n",
       "      <td>none</td>\n",
       "      <td>0</td>\n",
       "      <td>Hyundai</td>\n",
       "      <td>Sonata</td>\n",
       "      <td>8</td>\n",
       "      <td>yox</td>\n",
       "      <td>227</td>\n",
       "      <td>Yeniləndi</td>\n",
       "      <td>...</td>\n",
       "      <td>1</td>\n",
       "      <td>1</td>\n",
       "      <td>1</td>\n",
       "      <td>1</td>\n",
       "      <td>1</td>\n",
       "      <td>1</td>\n",
       "      <td>0</td>\n",
       "      <td>0</td>\n",
       "      <td>1</td>\n",
       "      <td>0</td>\n",
       "    </tr>\n",
       "  </tbody>\n",
       "</table>\n",
       "<p>5 rows × 49 columns</p>\n",
       "</div>"
      ],
      "text/plain": [
       "   id                date avtosalon  salon_yn       marka    model  \\\n",
       "0   1 2018-03-08 22:12:54      none         0    Mercedes    C 200   \n",
       "1   2 2018-03-08 22:12:54      none         0  Mitsubishi   Pajero   \n",
       "2   3 2018-03-08 22:12:54      none         0    Mercedes    C 220   \n",
       "3   4 2018-03-08 22:12:54      none         0  Volkswagen  Touareg   \n",
       "4   5 2018-03-08 22:12:54      none         0     Hyundai   Sonata   \n",
       "\n",
       "   shekil_sayi satilib  baxis_sayi elan_tarix_title  ... yagish  qapanma  \\\n",
       "0            9     yox         107        Yeniləndi  ...      0        1   \n",
       "1            5     yox          78        Yeniləndi  ...      0        1   \n",
       "2            7     yox         118        Yeniləndi  ...      1        1   \n",
       "3           10     yox        1639        Yeniləndi  ...      1        1   \n",
       "4            8     yox         227        Yeniləndi  ...      1        1   \n",
       "\n",
       "  radar  kondisioner podoqrev deri ksenon kamera perde ventilyasiya  \n",
       "0     0            1        0    0      1      0     0            0  \n",
       "1     1            1        0    0      0      1     0            0  \n",
       "2     0            1        0    0      0      0     0            0  \n",
       "3     1            1        1    1      1      1     1            1  \n",
       "4     1            1        1    1      0      0     1            0  \n",
       "\n",
       "[5 rows x 49 columns]"
      ]
     },
     "execution_count": 19,
     "metadata": {},
     "output_type": "execute_result"
    }
   ],
   "source": [
    "data.head()"
   ]
  },
  {
   "cell_type": "code",
   "execution_count": 20,
   "id": "5b34a0b9",
   "metadata": {},
   "outputs": [
    {
     "data": {
      "text/plain": [
       "array([ 9,  5,  7, 10,  8,  6, 20, 11, 21,  3, 19, 15,  4, 18, 14, 12, 16,\n",
       "       13, 17, 28, 26, 22], dtype=int64)"
      ]
     },
     "execution_count": 20,
     "metadata": {},
     "output_type": "execute_result"
    }
   ],
   "source": [
    "data.shekil_sayi.unique()"
   ]
  },
  {
   "cell_type": "code",
   "execution_count": 21,
   "id": "033abff4",
   "metadata": {},
   "outputs": [
    {
     "data": {
      "text/plain": [
       "(array([3.936e+03, 6.815e+03, 7.622e+03, 2.828e+03, 2.236e+03, 9.130e+02,\n",
       "        9.370e+02, 3.790e+02, 0.000e+00, 2.000e+00]),\n",
       " array([ 3. ,  5.5,  8. , 10.5, 13. , 15.5, 18. , 20.5, 23. , 25.5, 28. ]),\n",
       " <BarContainer object of 10 artists>)"
      ]
     },
     "execution_count": 21,
     "metadata": {},
     "output_type": "execute_result"
    },
    {
     "data": {
      "image/png": "[encoded data removed]",
      "text/plain": [
       "<Figure size 432x288 with 1 Axes>"
      ]
     },
     "metadata": {
      "needs_background": "light"
     },
     "output_type": "display_data"
    }
   ],
   "source": [
    "plt.hist(data.shekil_sayi)"
   ]
  },
  {
   "cell_type": "code",
   "execution_count": 51,
   "id": "d2eb3705",
   "metadata": {},
   "outputs": [],
   "source": [
    "means2=[]\n",
    "for i in range(10000):\n",
    "    xbar=data.shekil_sayi.sample(n=2).mean()\n",
    "    means2.append(xbar)"
   ]
  },
  {
   "cell_type": "code",
   "execution_count": 41,
   "id": "e2e8013d",
   "metadata": {},
   "outputs": [
    {
     "data": {
      "text/plain": [
       "<bound method NDFrame._add_numeric_operations.<locals>.mean of 5208     7\n",
       "19782    7\n",
       "Name: shekil_sayi, dtype: int64>"
      ]
     },
     "execution_count": 41,
     "metadata": {},
     "output_type": "execute_result"
    }
   ],
   "source": [
    "data.shekil_sayi.sample(n=2).mean"
   ]
  },
  {
   "cell_type": "code",
   "execution_count": 52,
   "id": "a548df4f",
   "metadata": {},
   "outputs": [
    {
     "data": {
      "text/plain": [
       "(array([ 179., 2006., 2281., 2535., 1233., 1057.,  500.,  140.,   56.,\n",
       "          13.]),\n",
       " array([ 3. ,  4.8,  6.6,  8.4, 10.2, 12. , 13.8, 15.6, 17.4, 19.2, 21. ]),\n",
       " <BarContainer object of 10 artists>)"
      ]
     },
     "execution_count": 52,
     "metadata": {},
     "output_type": "execute_result"
    },
    {
     "data": {
      "image/png": "[encoded data removed]",
      "text/plain": [
       "<Figure size 432x288 with 1 Axes>"
      ]
     },
     "metadata": {
      "needs_background": "light"
     },
     "output_type": "display_data"
    }
   ],
   "source": [
    "plt.hist(means2)"
   ]
  },
  {
   "cell_type": "code",
   "execution_count": 58,
   "id": "c9c9db7e",
   "metadata": {},
   "outputs": [
    {
     "data": {
      "text/plain": [
       "(array([  36.,  400., 1542., 2654., 2685., 1651.,  762.,  200.,   61.,\n",
       "           9.]),\n",
       " array([ 5.3 ,  6.21,  7.12,  8.03,  8.94,  9.85, 10.76, 11.67, 12.58,\n",
       "        13.49, 14.4 ]),\n",
       " <BarContainer object of 10 artists>)"
      ]
     },
     "execution_count": 58,
     "metadata": {},
     "output_type": "execute_result"
    },
    {
     "data": {
      "image/png": "[encoded data removed]",
      "text/plain": [
       "<Figure size 432x288 with 1 Axes>"
      ]
     },
     "metadata": {
      "needs_background": "light"
     },
     "output_type": "display_data"
    }
   ],
   "source": [
    "means10=[]\n",
    "for i in range(10000):\n",
    "    xbar=data.shekil_sayi.sample(n=10).mean()\n",
    "    means10.append(xbar)\n",
    "plt.hist(means10)"
   ]
  },
  {
   "cell_type": "code",
   "execution_count": 49,
   "id": "0eb9e570",
   "metadata": {},
   "outputs": [
    {
     "data": {
      "text/plain": [
       "(array([   6.,   97.,  564., 1817., 3028., 2522., 1358.,  473.,  111.,\n",
       "          24.]),\n",
       " array([ 6.46666667,  7.00666667,  7.54666667,  8.08666667,  8.62666667,\n",
       "         9.16666667,  9.70666667, 10.24666667, 10.78666667, 11.32666667,\n",
       "        11.86666667]),\n",
       " <BarContainer object of 10 artists>)"
      ]
     },
     "execution_count": 49,
     "metadata": {},
     "output_type": "execute_result"
    },
    {
     "data": {
      "image/png": "[encoded data removed]",
      "text/plain": [
       "<Figure size 432x288 with 1 Axes>"
      ]
     },
     "metadata": {
      "needs_background": "light"
     },
     "output_type": "display_data"
    }
   ],
   "source": [
    "means30=[]\n",
    "for i in range(10000):\n",
    "    xbar=data.shekil_sayi.sample(n=30).mean()\n",
    "    means30.append(xbar)\n",
    "plt.hist(means30)"
   ]
  },
  {
   "cell_type": "code",
   "execution_count": 50,
   "id": "59d6d014",
   "metadata": {},
   "outputs": [
    {
     "data": {
      "text/plain": [
       "(array([  24.,  197.,  894., 1916., 2881., 2322., 1243.,  413.,   92.,\n",
       "          18.]),\n",
       " array([ 7.78 ,  8.065,  8.35 ,  8.635,  8.92 ,  9.205,  9.49 ,  9.775,\n",
       "        10.06 , 10.345, 10.63 ]),\n",
       " <BarContainer object of 10 artists>)"
      ]
     },
     "execution_count": 50,
     "metadata": {},
     "output_type": "execute_result"
    },
    {
     "data": {
      "image/png": "[encoded data removed]",
      "text/plain": [
       "<Figure size 432x288 with 1 Axes>"
      ]
     },
     "metadata": {
      "needs_background": "light"
     },
     "output_type": "display_data"
    }
   ],
   "source": [
    "means100=[]\n",
    "for i in range(10000):\n",
    "    xbar=data.shekil_sayi.sample(n=100).mean()\n",
    "    means100.append(xbar)"
   ]
  },
  {
   "cell_type": "code",
   "execution_count": 67,
   "id": "0b6ed3a9",
   "metadata": {},
   "outputs": [
    {
     "data": {
      "text/plain": [
       "(array([  0.,   0.,   0.,   0.,   0.,   2.,   0.,   5.,   4.,   4.,   5.,\n",
       "         21.,  17.,  15.,  39.,  48.,  61.,  93., 107., 140., 171., 179.,\n",
       "        253., 253., 318., 327., 361., 422., 459., 517., 468., 495., 548.,\n",
       "        481., 485., 424., 459., 408., 372., 329., 291., 244., 210., 184.,\n",
       "        154., 144., 131.,  70.,  62.,  63.,  40.,  27.,  29.,  20.,  11.,\n",
       "          5.,   7.,   3.,   5.,   6.,   2.,   1.,   1.,   0.,   0.,   0.,\n",
       "          0.,   0.,   0.]),\n",
       " array([ 7.5 ,  7.55,  7.6 ,  7.65,  7.7 ,  7.75,  7.8 ,  7.85,  7.9 ,\n",
       "         7.95,  8.  ,  8.05,  8.1 ,  8.15,  8.2 ,  8.25,  8.3 ,  8.35,\n",
       "         8.4 ,  8.45,  8.5 ,  8.55,  8.6 ,  8.65,  8.7 ,  8.75,  8.8 ,\n",
       "         8.85,  8.9 ,  8.95,  9.  ,  9.05,  9.1 ,  9.15,  9.2 ,  9.25,\n",
       "         9.3 ,  9.35,  9.4 ,  9.45,  9.5 ,  9.55,  9.6 ,  9.65,  9.7 ,\n",
       "         9.75,  9.8 ,  9.85,  9.9 ,  9.95, 10.  , 10.05, 10.1 , 10.15,\n",
       "        10.2 , 10.25, 10.3 , 10.35, 10.4 , 10.45, 10.5 , 10.55, 10.6 ,\n",
       "        10.65, 10.7 , 10.75, 10.8 , 10.85, 10.9 , 10.95]),\n",
       " <BarContainer object of 69 artists>)"
      ]
     },
     "execution_count": 67,
     "metadata": {},
     "output_type": "execute_result"
    },
    {
     "data": {
      "image/png": "[encoded data removed]",
      "text/plain": [
       "<Figure size 432x288 with 1 Axes>"
      ]
     },
     "metadata": {
      "needs_background": "light"
     },
     "output_type": "display_data"
    }
   ],
   "source": [
    "plt.hist(means100,bins=np.arange(7.5, 11, 0.05))"
   ]
  },
  {
   "cell_type": "code",
   "execution_count": 55,
   "id": "3bda6631",
   "metadata": {},
   "outputs": [
    {
     "data": {
      "text/plain": [
       "9.116175783076203"
      ]
     },
     "execution_count": 55,
     "metadata": {},
     "output_type": "execute_result"
    }
   ],
   "source": [
    "data.shekil_sayi.mean()"
   ]
  },
  {
   "cell_type": "code",
   "execution_count": 56,
   "id": "94cbd636",
   "metadata": {},
   "outputs": [
    {
     "data": {
      "text/plain": [
       "15.498483025474998"
      ]
     },
     "execution_count": 56,
     "metadata": {},
     "output_type": "execute_result"
    }
   ],
   "source": [
    "data.shekil_sayi.var()"
   ]
  },
  {
   "cell_type": "code",
   "execution_count": 59,
   "id": "5b4594d3",
   "metadata": {},
   "outputs": [
    {
     "data": {
      "text/plain": [
       "(9.0928, 9.127279999999999, 9.1157, 9.120832)"
      ]
     },
     "execution_count": 59,
     "metadata": {},
     "output_type": "execute_result"
    }
   ],
   "source": [
    "np.mean(means2),np.mean(means10),np.mean(means30), np.mean(means100)"
   ]
  },
  {
   "cell_type": "code",
   "execution_count": 60,
   "id": "59e25667",
   "metadata": {},
   "outputs": [
    {
     "data": {
      "text/plain": [
       "(7.80538816, 1.5374198016000002, 0.5068532877777778, 0.15781526777600002)"
      ]
     },
     "execution_count": 60,
     "metadata": {},
     "output_type": "execute_result"
    }
   ],
   "source": [
    "np.var(means2),np.var(means10),np.var(means30),np.var(means100)"
   ]
  }
 ],
 "metadata": {
  "kernelspec": {
   "display_name": "Python 3 (ipykernel)",
   "language": "python",
   "name": "python3"
  },
  "language_info": {
   "codemirror_mode": {
    "name": "ipython",
    "version": 3
   },
   "file_extension": ".py",
   "mimetype": "text/x-python",
   "name": "python",
   "nbconvert_exporter": "python",
   "pygments_lexer": "ipython3",
   "version": "3.9.12"
  }
 },
 "nbformat": 4,
 "nbformat_minor": 5
}
