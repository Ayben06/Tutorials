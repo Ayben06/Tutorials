{
 "cells": [
  {
   "cell_type": "code",
   "execution_count": 67,
   "id": "45790668",
   "metadata": {
    "scrolled": true
   },
   "outputs": [],
   "source": [
    "my_list = np.array([3000,6000,3000] )\n"
   ]
  },
  {
   "cell_type": "code",
   "execution_count": 68,
   "id": "bcc07457",
   "metadata": {},
   "outputs": [
    {
     "data": {
      "text/plain": [
       "2000000.0"
      ]
     },
     "execution_count": 68,
     "metadata": {},
     "output_type": "execute_result"
    }
   ],
   "source": [
    "np.var(my_list)"
   ]
  },
  {
   "cell_type": "code",
   "execution_count": 71,
   "id": "a71bfe70",
   "metadata": {},
   "outputs": [
    {
     "data": {
      "text/plain": [
       "2.0"
      ]
     },
     "execution_count": 71,
     "metadata": {},
     "output_type": "execute_result"
    }
   ],
   "source": [
    "bill=my_list*0.001+20\n",
    "bill\n",
    "bill.var()"
   ]
  },
  {
   "cell_type": "code",
   "execution_count": 17,
   "id": "a69b0ef9",
   "metadata": {},
   "outputs": [],
   "source": [
    "import numpy as np\n",
    "import scipy as ss"
   ]
  }
 ],
 "metadata": {
  "kernelspec": {
   "display_name": "Python 3 (ipykernel)",
   "language": "python",
   "name": "python3"
  },
  "language_info": {
   "codemirror_mode": {
    "name": "ipython",
    "version": 3
   },
   "file_extension": ".py",
   "mimetype": "text/x-python",
   "name": "python",
   "nbconvert_exporter": "python",
   "pygments_lexer": "ipython3",
   "version": "3.9.12"
  }
 },
 "nbformat": 4,
 "nbformat_minor": 5
}
