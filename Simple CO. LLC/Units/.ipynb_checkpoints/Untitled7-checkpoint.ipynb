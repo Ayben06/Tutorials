{
 "cells": [
  {
   "cell_type": "code",
   "execution_count": 2,
   "id": "f0dbdfad",
   "metadata": {},
   "outputs": [
    {
     "name": "stdout",
     "output_type": "stream",
     "text": [
      "Requirement already satisfied: numpy in c:\\users\\u\\appdata\\local\\programs\\python\\python39\\lib\\site-packages (1.22.3)\n"
     ]
    },
    {
     "name": "stderr",
     "output_type": "stream",
     "text": [
      "WARNING: You are using pip version 22.0.4; however, version 22.1.2 is available.\n",
      "You should consider upgrading via the 'C:\\Users\\u\\AppData\\Local\\Programs\\Python\\Python39\\python.exe -m pip install --upgrade pip' command.\n"
     ]
    }
   ],
   "source": [
    "!pip install numpy"
   ]
  },
  {
   "cell_type": "code",
   "execution_count": 3,
   "id": "80902a75",
   "metadata": {},
   "outputs": [],
   "source": [
    "import numpy as np"
   ]
  },
  {
   "cell_type": "code",
   "execution_count": 4,
   "id": "acfc1b55",
   "metadata": {},
   "outputs": [
    {
     "data": {
      "text/plain": [
       "array([1, 2, 3, 4, 5, 6])"
      ]
     },
     "execution_count": 4,
     "metadata": {},
     "output_type": "execute_result"
    }
   ],
   "source": [
    "np.array([1,2,3,4,5,6])"
   ]
  },
  {
   "cell_type": "code",
   "execution_count": 5,
   "id": "c9141718",
   "metadata": {},
   "outputs": [],
   "source": [
    "saylar=np.array([1,2,3,4,5,6])"
   ]
  },
  {
   "cell_type": "code",
   "execution_count": 6,
   "id": "5d339681",
   "metadata": {},
   "outputs": [
    {
     "data": {
      "text/plain": [
       "array([1, 2, 3, 4, 5, 6])"
      ]
     },
     "execution_count": 6,
     "metadata": {},
     "output_type": "execute_result"
    }
   ],
   "source": [
    "saylar"
   ]
  },
  {
   "cell_type": "code",
   "execution_count": 7,
   "id": "cce6cfc4",
   "metadata": {},
   "outputs": [
    {
     "name": "stdout",
     "output_type": "stream",
     "text": [
      "int32\n"
     ]
    }
   ],
   "source": [
    "print(saylar.dtype)"
   ]
  },
  {
   "cell_type": "code",
   "execution_count": 8,
   "id": "89a551dc",
   "metadata": {},
   "outputs": [],
   "source": [
    "mehsullar=np.array(['anything','idk','okay'])"
   ]
  },
  {
   "cell_type": "code",
   "execution_count": 9,
   "id": "17f357f3",
   "metadata": {},
   "outputs": [
    {
     "data": {
      "text/plain": [
       "dtype('<U8')"
      ]
     },
     "execution_count": 9,
     "metadata": {},
     "output_type": "execute_result"
    }
   ],
   "source": [
    "mehsullar.dtype"
   ]
  },
  {
   "cell_type": "code",
   "execution_count": 10,
   "id": "f6fa57e8",
   "metadata": {},
   "outputs": [],
   "source": [
    "kitablar=np.array(['1789','prences','anything'])"
   ]
  },
  {
   "cell_type": "code",
   "execution_count": 11,
   "id": "b816967f",
   "metadata": {},
   "outputs": [
    {
     "data": {
      "text/plain": [
       "array(['1789', 'prences', 'anything'], dtype='<U8')"
      ]
     },
     "execution_count": 11,
     "metadata": {},
     "output_type": "execute_result"
    }
   ],
   "source": [
    "kitablar"
   ]
  },
  {
   "cell_type": "code",
   "execution_count": 15,
   "id": "097389c1",
   "metadata": {},
   "outputs": [
    {
     "data": {
      "text/plain": [
       "'anything'"
      ]
     },
     "execution_count": 15,
     "metadata": {},
     "output_type": "execute_result"
    }
   ],
   "source": [
    "kitablar[-1]"
   ]
  },
  {
   "cell_type": "code",
   "execution_count": 22,
   "id": "7b477441",
   "metadata": {},
   "outputs": [
    {
     "data": {
      "text/plain": [
       "array(['1789', 'anything'], dtype='<U8')"
      ]
     },
     "execution_count": 22,
     "metadata": {},
     "output_type": "execute_result"
    }
   ],
   "source": [
    "kitablar[0:3:2]"
   ]
  },
  {
   "cell_type": "code",
   "execution_count": 23,
   "id": "d1de034b",
   "metadata": {},
   "outputs": [
    {
     "data": {
      "text/plain": [
       "array(['1789'], dtype='<U8')"
      ]
     },
     "execution_count": 23,
     "metadata": {},
     "output_type": "execute_result"
    }
   ],
   "source": [
    "kitablar[0:-2]"
   ]
  },
  {
   "cell_type": "code",
   "execution_count": 25,
   "id": "2b990fe2",
   "metadata": {},
   "outputs": [
    {
     "data": {
      "text/plain": [
       "array(['1789', 'prences'], dtype='<U8')"
      ]
     },
     "execution_count": 25,
     "metadata": {},
     "output_type": "execute_result"
    }
   ],
   "source": [
    "kitablar[-3:-1]"
   ]
  },
  {
   "cell_type": "code",
   "execution_count": null,
   "id": "bb01261b",
   "metadata": {},
   "outputs": [],
   "source": [
    "broadcasting"
   ]
  },
  {
   "cell_type": "code",
   "execution_count": 26,
   "id": "d2221300",
   "metadata": {},
   "outputs": [
    {
     "data": {
      "text/plain": [
       "array([1, 2, 3, 4, 5, 6])"
      ]
     },
     "execution_count": 26,
     "metadata": {},
     "output_type": "execute_result"
    }
   ],
   "source": [
    "saylar\n"
   ]
  },
  {
   "cell_type": "code",
   "execution_count": 21,
   "id": "335c9a66",
   "metadata": {},
   "outputs": [
    {
     "data": {
      "text/plain": [
       "array([2, 3, 4, 5, 6, 7])"
      ]
     },
     "execution_count": 21,
     "metadata": {},
     "output_type": "execute_result"
    }
   ],
   "source": [
    "saylar+1"
   ]
  },
  {
   "cell_type": "code",
   "execution_count": 31,
   "id": "db150a44",
   "metadata": {},
   "outputs": [],
   "source": [
    "x=np.array([1,2,3])\n",
    "y=np.array([1,2,3])"
   ]
  },
  {
   "cell_type": "code",
   "execution_count": 32,
   "id": "4d59cce8",
   "metadata": {},
   "outputs": [
    {
     "data": {
      "text/plain": [
       "array([1, 4, 9])"
      ]
     },
     "execution_count": 32,
     "metadata": {},
     "output_type": "execute_result"
    }
   ],
   "source": [
    "x*y"
   ]
  },
  {
   "cell_type": "code",
   "execution_count": 33,
   "id": "0e5198a5",
   "metadata": {},
   "outputs": [
    {
     "data": {
      "text/plain": [
       "14"
      ]
     },
     "execution_count": 33,
     "metadata": {},
     "output_type": "execute_result"
    }
   ],
   "source": [
    "np.dot(x,y)"
   ]
  },
  {
   "cell_type": "code",
   "execution_count": 34,
   "id": "ef63c493",
   "metadata": {},
   "outputs": [
    {
     "ename": "UFuncTypeError",
     "evalue": "ufunc 'multiply' did not contain a loop with signature matching types (dtype('<U8'), dtype('int32')) -> None",
     "output_type": "error",
     "traceback": [
      "\u001b[1;31m---------------------------------------------------------------------------\u001b[0m",
      "\u001b[1;31mUFuncTypeError\u001b[0m                            Traceback (most recent call last)",
      "Input \u001b[1;32mIn [34]\u001b[0m, in \u001b[0;36m<cell line: 1>\u001b[1;34m()\u001b[0m\n\u001b[1;32m----> 1\u001b[0m \u001b[43mkitablar\u001b[49m\u001b[38;5;241;43m*\u001b[39;49m\u001b[38;5;241;43m2\u001b[39;49m\n",
      "\u001b[1;31mUFuncTypeError\u001b[0m: ufunc 'multiply' did not contain a loop with signature matching types (dtype('<U8'), dtype('int32')) -> None"
     ]
    }
   ],
   "source": [
    "kitablar*2"
   ]
  },
  {
   "cell_type": "code",
   "execution_count": 35,
   "id": "0b4ef554",
   "metadata": {},
   "outputs": [
    {
     "data": {
      "text/plain": [
       "3.5"
      ]
     },
     "execution_count": 35,
     "metadata": {},
     "output_type": "execute_result"
    }
   ],
   "source": [
    "np.mean(saylar)"
   ]
  },
  {
   "cell_type": "code",
   "execution_count": 36,
   "id": "4d670601",
   "metadata": {},
   "outputs": [
    {
     "data": {
      "text/plain": [
       "3.5"
      ]
     },
     "execution_count": 36,
     "metadata": {},
     "output_type": "execute_result"
    }
   ],
   "source": [
    "np.median(saylar)"
   ]
  },
  {
   "cell_type": "code",
   "execution_count": 37,
   "id": "a0b3c839",
   "metadata": {},
   "outputs": [
    {
     "data": {
      "text/plain": [
       "2.9166666666666665"
      ]
     },
     "execution_count": 37,
     "metadata": {},
     "output_type": "execute_result"
    }
   ],
   "source": [
    "np.var(saylar)"
   ]
  },
  {
   "cell_type": "code",
   "execution_count": 38,
   "id": "030de249",
   "metadata": {},
   "outputs": [
    {
     "data": {
      "text/plain": [
       "1.707825127659933"
      ]
     },
     "execution_count": 38,
     "metadata": {},
     "output_type": "execute_result"
    }
   ],
   "source": [
    "np.std(saylar)"
   ]
  },
  {
   "cell_type": "code",
   "execution_count": 40,
   "id": "e2c3c7d6",
   "metadata": {},
   "outputs": [
    {
     "data": {
      "text/plain": [
       "1"
      ]
     },
     "execution_count": 40,
     "metadata": {},
     "output_type": "execute_result"
    }
   ],
   "source": [
    "np.min(saylar)"
   ]
  },
  {
   "cell_type": "code",
   "execution_count": 41,
   "id": "d108f3ec",
   "metadata": {},
   "outputs": [
    {
     "data": {
      "text/plain": [
       "6"
      ]
     },
     "execution_count": 41,
     "metadata": {},
     "output_type": "execute_result"
    }
   ],
   "source": [
    "np.max(saylar)"
   ]
  },
  {
   "cell_type": "code",
   "execution_count": 44,
   "id": "40fa778c",
   "metadata": {},
   "outputs": [
    {
     "data": {
      "text/plain": [
       "array([1, 2, 3, 4, 5, 6])"
      ]
     },
     "execution_count": 44,
     "metadata": {},
     "output_type": "execute_result"
    }
   ],
   "source": [
    "saylar"
   ]
  },
  {
   "cell_type": "code",
   "execution_count": 45,
   "id": "b12af170",
   "metadata": {},
   "outputs": [
    {
     "name": "stdout",
     "output_type": "stream",
     "text": [
      "Requirement already satisfied: pandas in c:\\users\\u\\appdata\\local\\programs\\python\\python39\\lib\\site-packages (1.4.2)\n",
      "Requirement already satisfied: numpy>=1.18.5 in c:\\users\\u\\appdata\\local\\programs\\python\\python39\\lib\\site-packages (from pandas) (1.22.3)\n",
      "Requirement already satisfied: pytz>=2020.1 in c:\\users\\u\\appdata\\local\\programs\\python\\python39\\lib\\site-packages (from pandas) (2022.1)\n",
      "Requirement already satisfied: python-dateutil>=2.8.1 in c:\\users\\u\\appdata\\local\\programs\\python\\python39\\lib\\site-packages (from pandas) (2.8.2)\n",
      "Requirement already satisfied: six>=1.5 in c:\\users\\u\\appdata\\local\\programs\\python\\python39\\lib\\site-packages (from python-dateutil>=2.8.1->pandas) (1.16.0)\n"
     ]
    },
    {
     "name": "stderr",
     "output_type": "stream",
     "text": [
      "WARNING: You are using pip version 22.0.4; however, version 22.1.2 is available.\n",
      "You should consider upgrading via the 'C:\\Users\\u\\AppData\\Local\\Programs\\Python\\Python39\\python.exe -m pip install --upgrade pip' command.\n"
     ]
    }
   ],
   "source": [
    "!pip install pandas"
   ]
  },
  {
   "cell_type": "code",
   "execution_count": 46,
   "id": "e18d7495",
   "metadata": {},
   "outputs": [],
   "source": [
    "import pandas as ps"
   ]
  },
  {
   "cell_type": "code",
   "execution_count": 49,
   "id": "cdd740f0",
   "metadata": {},
   "outputs": [],
   "source": [
    "df=ps.read_csv('tutorial9.csv')"
   ]
  },
  {
   "cell_type": "code",
   "execution_count": 50,
   "id": "c15d3b68",
   "metadata": {},
   "outputs": [
    {
     "name": "stdout",
     "output_type": "stream",
     "text": [
      "<class 'pandas.core.frame.DataFrame'>\n",
      "RangeIndex: 770 entries, 0 to 769\n",
      "Data columns (total 29 columns):\n",
      " #   Column          Non-Null Count  Dtype \n",
      "---  ------          --------------  ----- \n",
      " 0   number          770 non-null    int64 \n",
      " 1   pokemon_name    770 non-null    object\n",
      " 2   pic_url         770 non-null    object\n",
      " 3   main_type       770 non-null    object\n",
      " 4   secondary_type  376 non-null    object\n",
      " 5   region          770 non-null    object\n",
      " 6   category        770 non-null    object\n",
      " 7   height          770 non-null    object\n",
      " 8   weight          770 non-null    object\n",
      " 9   pokemon_family  770 non-null    object\n",
      " 10  attack          770 non-null    int64 \n",
      " 11  defense         770 non-null    int64 \n",
      " 12  stamina         770 non-null    int64 \n",
      " 13  cp_range        770 non-null    object\n",
      " 14  hp_range        770 non-null    object\n",
      " 15  capture_rate    700 non-null    object\n",
      " 16  flee_rate       700 non-null    object\n",
      " 17  male_perc       611 non-null    object\n",
      " 18  female_perc     611 non-null    object\n",
      " 19  resistance      762 non-null    object\n",
      " 20  weakness        762 non-null    object\n",
      " 21  wild_avail      770 non-null    object\n",
      " 22  egg_avail       770 non-null    object\n",
      " 23  raid_avail      770 non-null    object\n",
      " 24  research_avail  770 non-null    object\n",
      " 25  shiny           770 non-null    object\n",
      " 26  shadow          770 non-null    object\n",
      " 27  pkedex_desc     770 non-null    object\n",
      " 28  poss_attacks    770 non-null    object\n",
      "dtypes: int64(4), object(25)\n",
      "memory usage: 174.6+ KB\n"
     ]
    }
   ],
   "source": [
    "df.info()"
   ]
  },
  {
   "cell_type": "code",
   "execution_count": 51,
   "id": "44d0bd02",
   "metadata": {},
   "outputs": [
    {
     "data": {
      "text/html": [
       "<div>\n",
       "<style scoped>\n",
       "    .dataframe tbody tr th:only-of-type {\n",
       "        vertical-align: middle;\n",
       "    }\n",
       "\n",
       "    .dataframe tbody tr th {\n",
       "        vertical-align: top;\n",
       "    }\n",
       "\n",
       "    .dataframe thead th {\n",
       "        text-align: right;\n",
       "    }\n",
       "</style>\n",
       "<table border=\"1\" class=\"dataframe\">\n",
       "  <thead>\n",
       "    <tr style=\"text-align: right;\">\n",
       "      <th></th>\n",
       "      <th>number</th>\n",
       "      <th>attack</th>\n",
       "      <th>defense</th>\n",
       "      <th>stamina</th>\n",
       "    </tr>\n",
       "  </thead>\n",
       "  <tbody>\n",
       "    <tr>\n",
       "      <th>count</th>\n",
       "      <td>770.000000</td>\n",
       "      <td>770.000000</td>\n",
       "      <td>770.000000</td>\n",
       "      <td>770.000000</td>\n",
       "    </tr>\n",
       "    <tr>\n",
       "      <th>mean</th>\n",
       "      <td>387.740260</td>\n",
       "      <td>161.861039</td>\n",
       "      <td>142.588312</td>\n",
       "      <td>169.062338</td>\n",
       "    </tr>\n",
       "    <tr>\n",
       "      <th>std</th>\n",
       "      <td>226.559919</td>\n",
       "      <td>55.817370</td>\n",
       "      <td>50.171027</td>\n",
       "      <td>44.214794</td>\n",
       "    </tr>\n",
       "    <tr>\n",
       "      <th>min</th>\n",
       "      <td>1.000000</td>\n",
       "      <td>17.000000</td>\n",
       "      <td>32.000000</td>\n",
       "      <td>1.000000</td>\n",
       "    </tr>\n",
       "    <tr>\n",
       "      <th>25%</th>\n",
       "      <td>193.250000</td>\n",
       "      <td>118.000000</td>\n",
       "      <td>102.250000</td>\n",
       "      <td>137.000000</td>\n",
       "    </tr>\n",
       "    <tr>\n",
       "      <th>50%</th>\n",
       "      <td>385.500000</td>\n",
       "      <td>161.000000</td>\n",
       "      <td>139.000000</td>\n",
       "      <td>163.000000</td>\n",
       "    </tr>\n",
       "    <tr>\n",
       "      <th>75%</th>\n",
       "      <td>577.750000</td>\n",
       "      <td>204.000000</td>\n",
       "      <td>176.000000</td>\n",
       "      <td>190.000000</td>\n",
       "    </tr>\n",
       "    <tr>\n",
       "      <th>max</th>\n",
       "      <td>893.000000</td>\n",
       "      <td>345.000000</td>\n",
       "      <td>396.000000</td>\n",
       "      <td>496.000000</td>\n",
       "    </tr>\n",
       "  </tbody>\n",
       "</table>\n",
       "</div>"
      ],
      "text/plain": [
       "           number      attack     defense     stamina\n",
       "count  770.000000  770.000000  770.000000  770.000000\n",
       "mean   387.740260  161.861039  142.588312  169.062338\n",
       "std    226.559919   55.817370   50.171027   44.214794\n",
       "min      1.000000   17.000000   32.000000    1.000000\n",
       "25%    193.250000  118.000000  102.250000  137.000000\n",
       "50%    385.500000  161.000000  139.000000  163.000000\n",
       "75%    577.750000  204.000000  176.000000  190.000000\n",
       "max    893.000000  345.000000  396.000000  496.000000"
      ]
     },
     "execution_count": 51,
     "metadata": {},
     "output_type": "execute_result"
    }
   ],
   "source": [
    "df.describe()"
   ]
  },
  {
   "cell_type": "code",
   "execution_count": 53,
   "id": "53fcbcb6",
   "metadata": {},
   "outputs": [
    {
     "data": {
      "text/plain": [
       "number              0\n",
       "pokemon_name        0\n",
       "pic_url             0\n",
       "main_type           0\n",
       "secondary_type    394\n",
       "region              0\n",
       "category            0\n",
       "height              0\n",
       "weight              0\n",
       "pokemon_family      0\n",
       "attack              0\n",
       "defense             0\n",
       "stamina             0\n",
       "cp_range            0\n",
       "hp_range            0\n",
       "capture_rate       70\n",
       "flee_rate          70\n",
       "male_perc         159\n",
       "female_perc       159\n",
       "resistance          8\n",
       "weakness            8\n",
       "wild_avail          0\n",
       "egg_avail           0\n",
       "raid_avail          0\n",
       "research_avail      0\n",
       "shiny               0\n",
       "shadow              0\n",
       "pkedex_desc         0\n",
       "poss_attacks        0\n",
       "dtype: int64"
      ]
     },
     "execution_count": 53,
     "metadata": {},
     "output_type": "execute_result"
    }
   ],
   "source": [
    "df.isna().sum()"
   ]
  },
  {
   "cell_type": "code",
   "execution_count": 54,
   "id": "d4118163",
   "metadata": {
    "scrolled": true
   },
   "outputs": [
    {
     "data": {
      "text/plain": [
       "0       Bulbasaur\n",
       "1         Ivysaur\n",
       "2        Venusaur\n",
       "3      Charmander\n",
       "4      Charmeleon\n",
       "          ...    \n",
       "765     Runerigus\n",
       "766       Falinks\n",
       "767        Zacian\n",
       "768     Zamazenta\n",
       "769        Zarude\n",
       "Name: pokemon_name, Length: 770, dtype: object"
      ]
     },
     "execution_count": 54,
     "metadata": {},
     "output_type": "execute_result"
    }
   ],
   "source": [
    "df['pokemon_name']"
   ]
  },
  {
   "cell_type": "code",
   "execution_count": 55,
   "id": "14d9719f",
   "metadata": {},
   "outputs": [
    {
     "data": {
      "text/plain": [
       "0      Bulbasaur\n",
       "1        Ivysaur\n",
       "2       Venusaur\n",
       "3     Charmander\n",
       "4     Charmeleon\n",
       "5      Charizard\n",
       "6       Squirtle\n",
       "7      Wartortle\n",
       "8      Blastoise\n",
       "9       Caterpie\n",
       "10       Metapod\n",
       "Name: pokemon_name, dtype: object"
      ]
     },
     "execution_count": 55,
     "metadata": {},
     "output_type": "execute_result"
    }
   ],
   "source": [
    "df.loc[0:10,'pokemon_name']"
   ]
  },
  {
   "cell_type": "code",
   "execution_count": 56,
   "id": "4509cf5d",
   "metadata": {},
   "outputs": [
    {
     "data": {
      "text/html": [
       "<div>\n",
       "<style scoped>\n",
       "    .dataframe tbody tr th:only-of-type {\n",
       "        vertical-align: middle;\n",
       "    }\n",
       "\n",
       "    .dataframe tbody tr th {\n",
       "        vertical-align: top;\n",
       "    }\n",
       "\n",
       "    .dataframe thead th {\n",
       "        text-align: right;\n",
       "    }\n",
       "</style>\n",
       "<table border=\"1\" class=\"dataframe\">\n",
       "  <thead>\n",
       "    <tr style=\"text-align: right;\">\n",
       "      <th></th>\n",
       "      <th>pokemon_name</th>\n",
       "      <th>category</th>\n",
       "    </tr>\n",
       "  </thead>\n",
       "  <tbody>\n",
       "    <tr>\n",
       "      <th>0</th>\n",
       "      <td>Bulbasaur</td>\n",
       "      <td>Seed</td>\n",
       "    </tr>\n",
       "    <tr>\n",
       "      <th>1</th>\n",
       "      <td>Ivysaur</td>\n",
       "      <td>Seed</td>\n",
       "    </tr>\n",
       "    <tr>\n",
       "      <th>2</th>\n",
       "      <td>Venusaur</td>\n",
       "      <td>Seed</td>\n",
       "    </tr>\n",
       "    <tr>\n",
       "      <th>3</th>\n",
       "      <td>Charmander</td>\n",
       "      <td>Lizard</td>\n",
       "    </tr>\n",
       "    <tr>\n",
       "      <th>4</th>\n",
       "      <td>Charmeleon</td>\n",
       "      <td>Flame</td>\n",
       "    </tr>\n",
       "    <tr>\n",
       "      <th>...</th>\n",
       "      <td>...</td>\n",
       "      <td>...</td>\n",
       "    </tr>\n",
       "    <tr>\n",
       "      <th>765</th>\n",
       "      <td>Runerigus</td>\n",
       "      <td>Grudge</td>\n",
       "    </tr>\n",
       "    <tr>\n",
       "      <th>766</th>\n",
       "      <td>Falinks</td>\n",
       "      <td>Formation</td>\n",
       "    </tr>\n",
       "    <tr>\n",
       "      <th>767</th>\n",
       "      <td>Zacian</td>\n",
       "      <td>Warrior</td>\n",
       "    </tr>\n",
       "    <tr>\n",
       "      <th>768</th>\n",
       "      <td>Zamazenta</td>\n",
       "      <td>Warrior</td>\n",
       "    </tr>\n",
       "    <tr>\n",
       "      <th>769</th>\n",
       "      <td>Zarude</td>\n",
       "      <td>Rogue</td>\n",
       "    </tr>\n",
       "  </tbody>\n",
       "</table>\n",
       "<p>770 rows × 2 columns</p>\n",
       "</div>"
      ],
      "text/plain": [
       "    pokemon_name   category\n",
       "0      Bulbasaur       Seed\n",
       "1        Ivysaur       Seed\n",
       "2       Venusaur       Seed\n",
       "3     Charmander     Lizard\n",
       "4     Charmeleon      Flame\n",
       "..           ...        ...\n",
       "765    Runerigus     Grudge\n",
       "766      Falinks  Formation\n",
       "767       Zacian    Warrior\n",
       "768    Zamazenta    Warrior\n",
       "769       Zarude      Rogue\n",
       "\n",
       "[770 rows x 2 columns]"
      ]
     },
     "execution_count": 56,
     "metadata": {},
     "output_type": "execute_result"
    }
   ],
   "source": [
    "df[['pokemon_name','category']]"
   ]
  },
  {
   "cell_type": "code",
   "execution_count": null,
   "id": "fb205b03",
   "metadata": {},
   "outputs": [],
   "source": [
    "df.loc[]"
   ]
  },
  {
   "cell_type": "code",
   "execution_count": 58,
   "id": "e3df5208",
   "metadata": {},
   "outputs": [
    {
     "data": {
      "text/plain": [
       "0      False\n",
       "1      False\n",
       "2      False\n",
       "3      False\n",
       "4      False\n",
       "       ...  \n",
       "765    False\n",
       "766    False\n",
       "767    False\n",
       "768    False\n",
       "769    False\n",
       "Name: pokemon_name, Length: 770, dtype: bool"
      ]
     },
     "execution_count": 58,
     "metadata": {},
     "output_type": "execute_result"
    }
   ],
   "source": [
    "df['pokemon_name']=='Charizard'"
   ]
  },
  {
   "cell_type": "code",
   "execution_count": 59,
   "id": "b5787c74",
   "metadata": {},
   "outputs": [],
   "source": [
    "mask=df['pokemon_name']=='Charizard'"
   ]
  },
  {
   "cell_type": "code",
   "execution_count": 67,
   "id": "8ab49857",
   "metadata": {},
   "outputs": [
    {
     "data": {
      "text/plain": [
       "1       Ivysaur\n",
       "2      Venusaur\n",
       "3    Charmander\n",
       "4    Charmeleon\n",
       "5     Charizard\n",
       "Name: pokemon_name, dtype: object"
      ]
     },
     "execution_count": 67,
     "metadata": {},
     "output_type": "execute_result"
    }
   ],
   "source": [
    "df.loc[1:5,'pokemon_name']"
   ]
  },
  {
   "cell_type": "code",
   "execution_count": 69,
   "id": "16400419",
   "metadata": {},
   "outputs": [],
   "source": [
    "##Data cleaning and wrangling"
   ]
  },
  {
   "cell_type": "code",
   "execution_count": 70,
   "id": "a36a9f2c",
   "metadata": {},
   "outputs": [
    {
     "data": {
      "text/html": [
       "<div>\n",
       "<style scoped>\n",
       "    .dataframe tbody tr th:only-of-type {\n",
       "        vertical-align: middle;\n",
       "    }\n",
       "\n",
       "    .dataframe tbody tr th {\n",
       "        vertical-align: top;\n",
       "    }\n",
       "\n",
       "    .dataframe thead th {\n",
       "        text-align: right;\n",
       "    }\n",
       "</style>\n",
       "<table border=\"1\" class=\"dataframe\">\n",
       "  <thead>\n",
       "    <tr style=\"text-align: right;\">\n",
       "      <th></th>\n",
       "      <th>number</th>\n",
       "      <th>pokemon_name</th>\n",
       "      <th>pic_url</th>\n",
       "      <th>main_type</th>\n",
       "      <th>secondary_type</th>\n",
       "      <th>region</th>\n",
       "      <th>category</th>\n",
       "      <th>height</th>\n",
       "      <th>weight</th>\n",
       "      <th>pokemon_family</th>\n",
       "      <th>...</th>\n",
       "      <th>resistance</th>\n",
       "      <th>weakness</th>\n",
       "      <th>wild_avail</th>\n",
       "      <th>egg_avail</th>\n",
       "      <th>raid_avail</th>\n",
       "      <th>research_avail</th>\n",
       "      <th>shiny</th>\n",
       "      <th>shadow</th>\n",
       "      <th>pkedex_desc</th>\n",
       "      <th>poss_attacks</th>\n",
       "    </tr>\n",
       "  </thead>\n",
       "  <tbody>\n",
       "    <tr>\n",
       "      <th>0</th>\n",
       "      <td>1</td>\n",
       "      <td>Bulbasaur</td>\n",
       "      <td>https://static.wikia.nocookie.net/pokemongo/im...</td>\n",
       "      <td>Grass</td>\n",
       "      <td>Poison</td>\n",
       "      <td>Kanto</td>\n",
       "      <td>Seed</td>\n",
       "      <td>0.7 m</td>\n",
       "      <td>6.9 kg</td>\n",
       "      <td>Bulbasaur family</td>\n",
       "      <td>...</td>\n",
       "      <td>{'62.5%': ['Electric', 'Fairy', 'Fighting', 'W...</td>\n",
       "      <td>{'160%': ['Fire', 'Flying', 'Ice', 'Psychic']}</td>\n",
       "      <td>Yes</td>\n",
       "      <td>No</td>\n",
       "      <td>Formerly  (1st tier level)</td>\n",
       "      <td>Yes</td>\n",
       "      <td>Yes</td>\n",
       "      <td>Yes</td>\n",
       "      <td>Bulbasaur can be seen napping in bright sunlig...</td>\n",
       "      <td>['Tackle', 'Vine Whip', 'Power Whip', 'Seed Bo...</td>\n",
       "    </tr>\n",
       "    <tr>\n",
       "      <th>1</th>\n",
       "      <td>2</td>\n",
       "      <td>Ivysaur</td>\n",
       "      <td>https://static.wikia.nocookie.net/pokemongo/im...</td>\n",
       "      <td>Grass</td>\n",
       "      <td>Poison</td>\n",
       "      <td>Kanto</td>\n",
       "      <td>Seed</td>\n",
       "      <td>1 m</td>\n",
       "      <td>13 kg</td>\n",
       "      <td>Bulbasaur family</td>\n",
       "      <td>...</td>\n",
       "      <td>{'62.5%': ['Electric', 'Fairy', 'Fighting', 'W...</td>\n",
       "      <td>{'160%': ['Fire', 'Flying', 'Ice', 'Psychic']}</td>\n",
       "      <td>Yes</td>\n",
       "      <td>No</td>\n",
       "      <td>Formerly  (1st tier level)</td>\n",
       "      <td>No</td>\n",
       "      <td>Yes</td>\n",
       "      <td>Yes</td>\n",
       "      <td>There is a bud on this Pokémon's back. To supp...</td>\n",
       "      <td>['Razor Leaf', 'Vine Whip', 'Power Whip', 'Slu...</td>\n",
       "    </tr>\n",
       "    <tr>\n",
       "      <th>2</th>\n",
       "      <td>3</td>\n",
       "      <td>Venusaur</td>\n",
       "      <td>https://static.wikia.nocookie.net/pokemongo/im...</td>\n",
       "      <td>Grass</td>\n",
       "      <td>Poison</td>\n",
       "      <td>Kanto</td>\n",
       "      <td>Seed</td>\n",
       "      <td>2 m</td>\n",
       "      <td>100 kg</td>\n",
       "      <td>Bulbasaur family</td>\n",
       "      <td>...</td>\n",
       "      <td>{'62.5%': ['Electric', 'Fairy', 'Fighting', 'W...</td>\n",
       "      <td>{'160%': ['Fire', 'Flying', 'Ice', 'Psychic']}</td>\n",
       "      <td>Yes</td>\n",
       "      <td>No</td>\n",
       "      <td>Formerly  (3rd tier level)</td>\n",
       "      <td>Formerly</td>\n",
       "      <td>Yes</td>\n",
       "      <td>Yes</td>\n",
       "      <td>Standard Pokédex description\\nThere is a large...</td>\n",
       "      <td>['Razor Leaf', 'Vine Whip', 'Petal Blizzard', ...</td>\n",
       "    </tr>\n",
       "    <tr>\n",
       "      <th>3</th>\n",
       "      <td>4</td>\n",
       "      <td>Charmander</td>\n",
       "      <td>https://static.wikia.nocookie.net/pokemongo/im...</td>\n",
       "      <td>Fire</td>\n",
       "      <td>NaN</td>\n",
       "      <td>Kanto</td>\n",
       "      <td>Lizard</td>\n",
       "      <td>0.6 m</td>\n",
       "      <td>8.5 kg</td>\n",
       "      <td>Charmander family</td>\n",
       "      <td>...</td>\n",
       "      <td>{'62.5%': ['Bug', 'Fairy', 'Fire', 'Grass', 'I...</td>\n",
       "      <td>{'160%': ['Ground', 'Rock', 'Water']}</td>\n",
       "      <td>Yes</td>\n",
       "      <td>No</td>\n",
       "      <td>Formerly  (1st tier level)</td>\n",
       "      <td>Yes</td>\n",
       "      <td>Yes</td>\n",
       "      <td>Yes</td>\n",
       "      <td>The flame that burns at the tip of its tail is...</td>\n",
       "      <td>['Ember', 'Scratch', 'Flame Burst', 'Flame Cha...</td>\n",
       "    </tr>\n",
       "    <tr>\n",
       "      <th>4</th>\n",
       "      <td>5</td>\n",
       "      <td>Charmeleon</td>\n",
       "      <td>https://static.wikia.nocookie.net/pokemongo/im...</td>\n",
       "      <td>Fire</td>\n",
       "      <td>NaN</td>\n",
       "      <td>Kanto</td>\n",
       "      <td>Flame</td>\n",
       "      <td>1.1 m</td>\n",
       "      <td>19 kg</td>\n",
       "      <td>Charmander family</td>\n",
       "      <td>...</td>\n",
       "      <td>{'62.5%': ['Bug', 'Fairy', 'Fire', 'Grass', 'I...</td>\n",
       "      <td>{'160%': ['Ground', 'Rock', 'Water']}</td>\n",
       "      <td>Yes</td>\n",
       "      <td>No</td>\n",
       "      <td>Formerly  (2nd tier level)</td>\n",
       "      <td>Formerly</td>\n",
       "      <td>Yes</td>\n",
       "      <td>Yes</td>\n",
       "      <td>Charmeleon mercilessly destroys its foes using...</td>\n",
       "      <td>['Ember', 'Fire Fang', 'Scratch', 'Fire Punch'...</td>\n",
       "    </tr>\n",
       "  </tbody>\n",
       "</table>\n",
       "<p>5 rows × 29 columns</p>\n",
       "</div>"
      ],
      "text/plain": [
       "   number pokemon_name                                            pic_url  \\\n",
       "0       1    Bulbasaur  https://static.wikia.nocookie.net/pokemongo/im...   \n",
       "1       2      Ivysaur  https://static.wikia.nocookie.net/pokemongo/im...   \n",
       "2       3     Venusaur  https://static.wikia.nocookie.net/pokemongo/im...   \n",
       "3       4   Charmander  https://static.wikia.nocookie.net/pokemongo/im...   \n",
       "4       5   Charmeleon  https://static.wikia.nocookie.net/pokemongo/im...   \n",
       "\n",
       "  main_type secondary_type region category height  weight     pokemon_family  \\\n",
       "0     Grass         Poison  Kanto     Seed  0.7 m  6.9 kg   Bulbasaur family   \n",
       "1     Grass         Poison  Kanto     Seed    1 m   13 kg   Bulbasaur family   \n",
       "2     Grass         Poison  Kanto     Seed    2 m  100 kg   Bulbasaur family   \n",
       "3      Fire            NaN  Kanto   Lizard  0.6 m  8.5 kg  Charmander family   \n",
       "4      Fire            NaN  Kanto    Flame  1.1 m   19 kg  Charmander family   \n",
       "\n",
       "   ...                                         resistance  \\\n",
       "0  ...  {'62.5%': ['Electric', 'Fairy', 'Fighting', 'W...   \n",
       "1  ...  {'62.5%': ['Electric', 'Fairy', 'Fighting', 'W...   \n",
       "2  ...  {'62.5%': ['Electric', 'Fairy', 'Fighting', 'W...   \n",
       "3  ...  {'62.5%': ['Bug', 'Fairy', 'Fire', 'Grass', 'I...   \n",
       "4  ...  {'62.5%': ['Bug', 'Fairy', 'Fire', 'Grass', 'I...   \n",
       "\n",
       "                                         weakness  wild_avail egg_avail  \\\n",
       "0  {'160%': ['Fire', 'Flying', 'Ice', 'Psychic']}        Yes         No   \n",
       "1  {'160%': ['Fire', 'Flying', 'Ice', 'Psychic']}        Yes         No   \n",
       "2  {'160%': ['Fire', 'Flying', 'Ice', 'Psychic']}        Yes         No   \n",
       "3           {'160%': ['Ground', 'Rock', 'Water']}        Yes         No   \n",
       "4           {'160%': ['Ground', 'Rock', 'Water']}        Yes         No   \n",
       "\n",
       "                   raid_avail research_avail shiny shadow  \\\n",
       "0  Formerly  (1st tier level)           Yes    Yes    Yes   \n",
       "1  Formerly  (1st tier level)             No   Yes    Yes   \n",
       "2  Formerly  (3rd tier level)      Formerly    Yes    Yes   \n",
       "3  Formerly  (1st tier level)           Yes    Yes    Yes   \n",
       "4  Formerly  (2nd tier level)      Formerly    Yes    Yes   \n",
       "\n",
       "                                         pkedex_desc  \\\n",
       "0  Bulbasaur can be seen napping in bright sunlig...   \n",
       "1  There is a bud on this Pokémon's back. To supp...   \n",
       "2  Standard Pokédex description\\nThere is a large...   \n",
       "3  The flame that burns at the tip of its tail is...   \n",
       "4  Charmeleon mercilessly destroys its foes using...   \n",
       "\n",
       "                                        poss_attacks  \n",
       "0  ['Tackle', 'Vine Whip', 'Power Whip', 'Seed Bo...  \n",
       "1  ['Razor Leaf', 'Vine Whip', 'Power Whip', 'Slu...  \n",
       "2  ['Razor Leaf', 'Vine Whip', 'Petal Blizzard', ...  \n",
       "3  ['Ember', 'Scratch', 'Flame Burst', 'Flame Cha...  \n",
       "4  ['Ember', 'Fire Fang', 'Scratch', 'Fire Punch'...  \n",
       "\n",
       "[5 rows x 29 columns]"
      ]
     },
     "execution_count": 70,
     "metadata": {},
     "output_type": "execute_result"
    }
   ],
   "source": [
    "df.head()"
   ]
  },
  {
   "cell_type": "code",
   "execution_count": 71,
   "id": "b6a68bbb",
   "metadata": {},
   "outputs": [],
   "source": [
    "kg='6.9 kg'"
   ]
  },
  {
   "cell_type": "code",
   "execution_count": 72,
   "id": "0e234124",
   "metadata": {},
   "outputs": [
    {
     "data": {
      "text/plain": [
       "str"
      ]
     },
     "execution_count": 72,
     "metadata": {},
     "output_type": "execute_result"
    }
   ],
   "source": [
    "type(kg)"
   ]
  },
  {
   "cell_type": "code",
   "execution_count": 76,
   "id": "6c86b782",
   "metadata": {},
   "outputs": [
    {
     "data": {
      "text/plain": [
       "'6.9'"
      ]
     },
     "execution_count": 76,
     "metadata": {},
     "output_type": "execute_result"
    }
   ],
   "source": [
    "kg.replace(' kg','')"
   ]
  },
  {
   "cell_type": "code",
   "execution_count": 77,
   "id": "12ffc1e6",
   "metadata": {},
   "outputs": [],
   "source": [
    "kg=kg[:3]"
   ]
  },
  {
   "cell_type": "code",
   "execution_count": 80,
   "id": "d9c8a3f4",
   "metadata": {},
   "outputs": [],
   "source": [
    "kg=float(kg.split()[0])"
   ]
  },
  {
   "cell_type": "code",
   "execution_count": 92,
   "id": "1351dca1",
   "metadata": {},
   "outputs": [],
   "source": [
    "df['weight']=df['weight'].apply(lambda x: float(x.split()[0]))"
   ]
  },
  {
   "cell_type": "code",
   "execution_count": 93,
   "id": "798eede8",
   "metadata": {
    "scrolled": true
   },
   "outputs": [
    {
     "data": {
      "text/plain": [
       "0        6.9\n",
       "1       13.0\n",
       "2      100.0\n",
       "3        8.5\n",
       "4       19.0\n",
       "       ...  \n",
       "765     66.6\n",
       "766     62.0\n",
       "767    110.0\n",
       "768    210.0\n",
       "769     70.0\n",
       "Name: weight, Length: 770, dtype: float64"
      ]
     },
     "execution_count": 93,
     "metadata": {},
     "output_type": "execute_result"
    }
   ],
   "source": [
    "df['weight']"
   ]
  },
  {
   "cell_type": "code",
   "execution_count": 94,
   "id": "7979e658",
   "metadata": {},
   "outputs": [
    {
     "data": {
      "text/plain": [
       "0      12-1,115\n",
       "1      19-1,699\n",
       "2      33-2,720\n",
       "3        10-980\n",
       "4      19-1,653\n",
       "         ...   \n",
       "765    27-2,273\n",
       "766    28-2,357\n",
       "767    47-3,829\n",
       "768    47-3,829\n",
       "769    47-3,833\n",
       "Name: cp_range, Length: 770, dtype: object"
      ]
     },
     "execution_count": 94,
     "metadata": {},
     "output_type": "execute_result"
    }
   ],
   "source": [
    "df['cp_range']"
   ]
  },
  {
   "cell_type": "code",
   "execution_count": 96,
   "id": "995f49ef",
   "metadata": {},
   "outputs": [
    {
     "data": {
      "text/html": [
       "<div>\n",
       "<style scoped>\n",
       "    .dataframe tbody tr th:only-of-type {\n",
       "        vertical-align: middle;\n",
       "    }\n",
       "\n",
       "    .dataframe tbody tr th {\n",
       "        vertical-align: top;\n",
       "    }\n",
       "\n",
       "    .dataframe thead th {\n",
       "        text-align: right;\n",
       "    }\n",
       "</style>\n",
       "<table border=\"1\" class=\"dataframe\">\n",
       "  <thead>\n",
       "    <tr style=\"text-align: right;\">\n",
       "      <th></th>\n",
       "      <th>number</th>\n",
       "      <th>pokemon_name</th>\n",
       "      <th>pic_url</th>\n",
       "      <th>main_type</th>\n",
       "      <th>secondary_type</th>\n",
       "      <th>region</th>\n",
       "      <th>category</th>\n",
       "      <th>height</th>\n",
       "      <th>weight</th>\n",
       "      <th>pokemon_family</th>\n",
       "      <th>...</th>\n",
       "      <th>resistance</th>\n",
       "      <th>weakness</th>\n",
       "      <th>wild_avail</th>\n",
       "      <th>egg_avail</th>\n",
       "      <th>raid_avail</th>\n",
       "      <th>research_avail</th>\n",
       "      <th>shiny</th>\n",
       "      <th>shadow</th>\n",
       "      <th>pkedex_desc</th>\n",
       "      <th>poss_attacks</th>\n",
       "    </tr>\n",
       "  </thead>\n",
       "  <tbody>\n",
       "    <tr>\n",
       "      <th>0</th>\n",
       "      <td>1</td>\n",
       "      <td>Bulbasaur</td>\n",
       "      <td>https://static.wikia.nocookie.net/pokemongo/im...</td>\n",
       "      <td>Grass</td>\n",
       "      <td>Poison</td>\n",
       "      <td>Kanto</td>\n",
       "      <td>Seed</td>\n",
       "      <td>0.7 m</td>\n",
       "      <td>6.9</td>\n",
       "      <td>Bulbasaur family</td>\n",
       "      <td>...</td>\n",
       "      <td>{'62.5%': ['Electric', 'Fairy', 'Fighting', 'W...</td>\n",
       "      <td>{'160%': ['Fire', 'Flying', 'Ice', 'Psychic']}</td>\n",
       "      <td>Yes</td>\n",
       "      <td>No</td>\n",
       "      <td>Formerly  (1st tier level)</td>\n",
       "      <td>Yes</td>\n",
       "      <td>Yes</td>\n",
       "      <td>Yes</td>\n",
       "      <td>Bulbasaur can be seen napping in bright sunlig...</td>\n",
       "      <td>['Tackle', 'Vine Whip', 'Power Whip', 'Seed Bo...</td>\n",
       "    </tr>\n",
       "    <tr>\n",
       "      <th>1</th>\n",
       "      <td>2</td>\n",
       "      <td>Ivysaur</td>\n",
       "      <td>https://static.wikia.nocookie.net/pokemongo/im...</td>\n",
       "      <td>Grass</td>\n",
       "      <td>Poison</td>\n",
       "      <td>Kanto</td>\n",
       "      <td>Seed</td>\n",
       "      <td>1 m</td>\n",
       "      <td>13.0</td>\n",
       "      <td>Bulbasaur family</td>\n",
       "      <td>...</td>\n",
       "      <td>{'62.5%': ['Electric', 'Fairy', 'Fighting', 'W...</td>\n",
       "      <td>{'160%': ['Fire', 'Flying', 'Ice', 'Psychic']}</td>\n",
       "      <td>Yes</td>\n",
       "      <td>No</td>\n",
       "      <td>Formerly  (1st tier level)</td>\n",
       "      <td>No</td>\n",
       "      <td>Yes</td>\n",
       "      <td>Yes</td>\n",
       "      <td>There is a bud on this Pokémon's back. To supp...</td>\n",
       "      <td>['Razor Leaf', 'Vine Whip', 'Power Whip', 'Slu...</td>\n",
       "    </tr>\n",
       "    <tr>\n",
       "      <th>2</th>\n",
       "      <td>3</td>\n",
       "      <td>Venusaur</td>\n",
       "      <td>https://static.wikia.nocookie.net/pokemongo/im...</td>\n",
       "      <td>Grass</td>\n",
       "      <td>Poison</td>\n",
       "      <td>Kanto</td>\n",
       "      <td>Seed</td>\n",
       "      <td>2 m</td>\n",
       "      <td>100.0</td>\n",
       "      <td>Bulbasaur family</td>\n",
       "      <td>...</td>\n",
       "      <td>{'62.5%': ['Electric', 'Fairy', 'Fighting', 'W...</td>\n",
       "      <td>{'160%': ['Fire', 'Flying', 'Ice', 'Psychic']}</td>\n",
       "      <td>Yes</td>\n",
       "      <td>No</td>\n",
       "      <td>Formerly  (3rd tier level)</td>\n",
       "      <td>Formerly</td>\n",
       "      <td>Yes</td>\n",
       "      <td>Yes</td>\n",
       "      <td>Standard Pokédex description\\nThere is a large...</td>\n",
       "      <td>['Razor Leaf', 'Vine Whip', 'Petal Blizzard', ...</td>\n",
       "    </tr>\n",
       "    <tr>\n",
       "      <th>3</th>\n",
       "      <td>4</td>\n",
       "      <td>Charmander</td>\n",
       "      <td>https://static.wikia.nocookie.net/pokemongo/im...</td>\n",
       "      <td>Fire</td>\n",
       "      <td>NaN</td>\n",
       "      <td>Kanto</td>\n",
       "      <td>Lizard</td>\n",
       "      <td>0.6 m</td>\n",
       "      <td>8.5</td>\n",
       "      <td>Charmander family</td>\n",
       "      <td>...</td>\n",
       "      <td>{'62.5%': ['Bug', 'Fairy', 'Fire', 'Grass', 'I...</td>\n",
       "      <td>{'160%': ['Ground', 'Rock', 'Water']}</td>\n",
       "      <td>Yes</td>\n",
       "      <td>No</td>\n",
       "      <td>Formerly  (1st tier level)</td>\n",
       "      <td>Yes</td>\n",
       "      <td>Yes</td>\n",
       "      <td>Yes</td>\n",
       "      <td>The flame that burns at the tip of its tail is...</td>\n",
       "      <td>['Ember', 'Scratch', 'Flame Burst', 'Flame Cha...</td>\n",
       "    </tr>\n",
       "    <tr>\n",
       "      <th>4</th>\n",
       "      <td>5</td>\n",
       "      <td>Charmeleon</td>\n",
       "      <td>https://static.wikia.nocookie.net/pokemongo/im...</td>\n",
       "      <td>Fire</td>\n",
       "      <td>NaN</td>\n",
       "      <td>Kanto</td>\n",
       "      <td>Flame</td>\n",
       "      <td>1.1 m</td>\n",
       "      <td>19.0</td>\n",
       "      <td>Charmander family</td>\n",
       "      <td>...</td>\n",
       "      <td>{'62.5%': ['Bug', 'Fairy', 'Fire', 'Grass', 'I...</td>\n",
       "      <td>{'160%': ['Ground', 'Rock', 'Water']}</td>\n",
       "      <td>Yes</td>\n",
       "      <td>No</td>\n",
       "      <td>Formerly  (2nd tier level)</td>\n",
       "      <td>Formerly</td>\n",
       "      <td>Yes</td>\n",
       "      <td>Yes</td>\n",
       "      <td>Charmeleon mercilessly destroys its foes using...</td>\n",
       "      <td>['Ember', 'Fire Fang', 'Scratch', 'Fire Punch'...</td>\n",
       "    </tr>\n",
       "  </tbody>\n",
       "</table>\n",
       "<p>5 rows × 29 columns</p>\n",
       "</div>"
      ],
      "text/plain": [
       "   number pokemon_name                                            pic_url  \\\n",
       "0       1    Bulbasaur  https://static.wikia.nocookie.net/pokemongo/im...   \n",
       "1       2      Ivysaur  https://static.wikia.nocookie.net/pokemongo/im...   \n",
       "2       3     Venusaur  https://static.wikia.nocookie.net/pokemongo/im...   \n",
       "3       4   Charmander  https://static.wikia.nocookie.net/pokemongo/im...   \n",
       "4       5   Charmeleon  https://static.wikia.nocookie.net/pokemongo/im...   \n",
       "\n",
       "  main_type secondary_type region category height  weight     pokemon_family  \\\n",
       "0     Grass         Poison  Kanto     Seed  0.7 m     6.9   Bulbasaur family   \n",
       "1     Grass         Poison  Kanto     Seed    1 m    13.0   Bulbasaur family   \n",
       "2     Grass         Poison  Kanto     Seed    2 m   100.0   Bulbasaur family   \n",
       "3      Fire            NaN  Kanto   Lizard  0.6 m     8.5  Charmander family   \n",
       "4      Fire            NaN  Kanto    Flame  1.1 m    19.0  Charmander family   \n",
       "\n",
       "   ...                                         resistance  \\\n",
       "0  ...  {'62.5%': ['Electric', 'Fairy', 'Fighting', 'W...   \n",
       "1  ...  {'62.5%': ['Electric', 'Fairy', 'Fighting', 'W...   \n",
       "2  ...  {'62.5%': ['Electric', 'Fairy', 'Fighting', 'W...   \n",
       "3  ...  {'62.5%': ['Bug', 'Fairy', 'Fire', 'Grass', 'I...   \n",
       "4  ...  {'62.5%': ['Bug', 'Fairy', 'Fire', 'Grass', 'I...   \n",
       "\n",
       "                                         weakness  wild_avail egg_avail  \\\n",
       "0  {'160%': ['Fire', 'Flying', 'Ice', 'Psychic']}        Yes         No   \n",
       "1  {'160%': ['Fire', 'Flying', 'Ice', 'Psychic']}        Yes         No   \n",
       "2  {'160%': ['Fire', 'Flying', 'Ice', 'Psychic']}        Yes         No   \n",
       "3           {'160%': ['Ground', 'Rock', 'Water']}        Yes         No   \n",
       "4           {'160%': ['Ground', 'Rock', 'Water']}        Yes         No   \n",
       "\n",
       "                   raid_avail research_avail shiny shadow  \\\n",
       "0  Formerly  (1st tier level)           Yes    Yes    Yes   \n",
       "1  Formerly  (1st tier level)             No   Yes    Yes   \n",
       "2  Formerly  (3rd tier level)      Formerly    Yes    Yes   \n",
       "3  Formerly  (1st tier level)           Yes    Yes    Yes   \n",
       "4  Formerly  (2nd tier level)      Formerly    Yes    Yes   \n",
       "\n",
       "                                         pkedex_desc  \\\n",
       "0  Bulbasaur can be seen napping in bright sunlig...   \n",
       "1  There is a bud on this Pokémon's back. To supp...   \n",
       "2  Standard Pokédex description\\nThere is a large...   \n",
       "3  The flame that burns at the tip of its tail is...   \n",
       "4  Charmeleon mercilessly destroys its foes using...   \n",
       "\n",
       "                                        poss_attacks  \n",
       "0  ['Tackle', 'Vine Whip', 'Power Whip', 'Seed Bo...  \n",
       "1  ['Razor Leaf', 'Vine Whip', 'Power Whip', 'Slu...  \n",
       "2  ['Razor Leaf', 'Vine Whip', 'Petal Blizzard', ...  \n",
       "3  ['Ember', 'Scratch', 'Flame Burst', 'Flame Cha...  \n",
       "4  ['Ember', 'Fire Fang', 'Scratch', 'Fire Punch'...  \n",
       "\n",
       "[5 rows x 29 columns]"
      ]
     },
     "execution_count": 96,
     "metadata": {},
     "output_type": "execute_result"
    }
   ],
   "source": [
    "df.head()"
   ]
  },
  {
   "cell_type": "code",
   "execution_count": 99,
   "id": "0e914ebb",
   "metadata": {},
   "outputs": [],
   "source": [
    "test1=df['resistance'][0]"
   ]
  },
  {
   "cell_type": "code",
   "execution_count": 100,
   "id": "e7a80ab3",
   "metadata": {},
   "outputs": [
    {
     "data": {
      "text/plain": [
       "\"{'62.5%': ['Electric', 'Fairy', 'Fighting', 'Water'], '39%': ['Grass']}\""
      ]
     },
     "execution_count": 100,
     "metadata": {},
     "output_type": "execute_result"
    }
   ],
   "source": [
    "test1\n"
   ]
  },
  {
   "cell_type": "code",
   "execution_count": 101,
   "id": "2181ce78",
   "metadata": {},
   "outputs": [
    {
     "data": {
      "text/plain": [
       "str"
      ]
     },
     "execution_count": 101,
     "metadata": {},
     "output_type": "execute_result"
    }
   ],
   "source": [
    "type(test1)"
   ]
  },
  {
   "cell_type": "code",
   "execution_count": 103,
   "id": "0ba910a1",
   "metadata": {},
   "outputs": [],
   "source": [
    "test1=eval(test1) #heyqi data tipini qaytarir"
   ]
  },
  {
   "cell_type": "code",
   "execution_count": 104,
   "id": "dbc1bb58",
   "metadata": {},
   "outputs": [
    {
     "data": {
      "text/plain": [
       "{'62.5%': ['Electric', 'Fairy', 'Fighting', 'Water'], '39%': ['Grass']}"
      ]
     },
     "execution_count": 104,
     "metadata": {},
     "output_type": "execute_result"
    }
   ],
   "source": [
    "test1"
   ]
  },
  {
   "cell_type": "code",
   "execution_count": 107,
   "id": "4ce02c73",
   "metadata": {},
   "outputs": [
    {
     "data": {
      "text/plain": [
       "dict_keys(['62.5%', '39%'])"
      ]
     },
     "execution_count": 107,
     "metadata": {},
     "output_type": "execute_result"
    }
   ],
   "source": [
    "test1.keys()"
   ]
  },
  {
   "cell_type": "code",
   "execution_count": 120,
   "id": "af7ff0dc",
   "metadata": {},
   "outputs": [
    {
     "data": {
      "text/plain": [
       "['62.5%', '39%']"
      ]
     },
     "execution_count": 120,
     "metadata": {},
     "output_type": "execute_result"
    }
   ],
   "source": [
    "list(test1.keys())"
   ]
  },
  {
   "cell_type": "code",
   "execution_count": 122,
   "id": "6521a8e5",
   "metadata": {},
   "outputs": [
    {
     "name": "stdout",
     "output_type": "stream",
     "text": [
      "Grass 39\n",
      "Grass 39\n"
     ]
    }
   ],
   "source": [
    "for i in list(test1.keys()):\n",
    "    i=i.replace('%','')\n",
    "    i=float(i)\n",
    "    "
   ]
  },
  {
   "cell_type": "code",
   "execution_count": 124,
   "id": "31453bc4",
   "metadata": {},
   "outputs": [
    {
     "name": "stdout",
     "output_type": "stream",
     "text": [
      "Electric 62.5\n",
      "Fairy 62.5\n",
      "Fighting 62.5\n",
      "Water 62.5\n",
      "Grass 39\n"
     ]
    }
   ],
   "source": [
    "for key, value in test1.items():\n",
    "\n",
    "    for cat in value:\n",
    "        print(cat,key.replace('%',''))"
   ]
  },
  {
   "cell_type": "code",
   "execution_count": 126,
   "id": "c7dead0f",
   "metadata": {
    "scrolled": true
   },
   "outputs": [
    {
     "ename": "KeyError",
     "evalue": "'resistance'",
     "output_type": "error",
     "traceback": [
      "\u001b[1;31m---------------------------------------------------------------------------\u001b[0m",
      "\u001b[1;31mKeyError\u001b[0m                                  Traceback (most recent call last)",
      "Input \u001b[1;32mIn [126]\u001b[0m, in \u001b[0;36m<cell line: 1>\u001b[1;34m()\u001b[0m\n\u001b[1;32m----> 1\u001b[0m df\u001b[38;5;241m.\u001b[39mloc[\u001b[38;5;124m'\u001b[39m\u001b[38;5;124mresistance\u001b[39m\u001b[38;5;124m'\u001b[39m]\u001b[38;5;241m=\u001b[39m\u001b[43mdf\u001b[49m\u001b[38;5;241;43m.\u001b[39;49m\u001b[43mloc\u001b[49m\u001b[43m[\u001b[49m\u001b[38;5;124;43m'\u001b[39;49m\u001b[38;5;124;43mresistance\u001b[39;49m\u001b[38;5;124;43m'\u001b[39;49m\u001b[43m]\u001b[49m\u001b[38;5;241m.\u001b[39mmap(\u001b[38;5;28meval\u001b[39m)\n",
      "File \u001b[1;32m~\\AppData\\Local\\Programs\\Python\\Python39\\lib\\site-packages\\pandas\\core\\indexing.py:967\u001b[0m, in \u001b[0;36m_LocationIndexer.__getitem__\u001b[1;34m(self, key)\u001b[0m\n\u001b[0;32m    964\u001b[0m axis \u001b[38;5;241m=\u001b[39m \u001b[38;5;28mself\u001b[39m\u001b[38;5;241m.\u001b[39maxis \u001b[38;5;129;01mor\u001b[39;00m \u001b[38;5;241m0\u001b[39m\n\u001b[0;32m    966\u001b[0m maybe_callable \u001b[38;5;241m=\u001b[39m com\u001b[38;5;241m.\u001b[39mapply_if_callable(key, \u001b[38;5;28mself\u001b[39m\u001b[38;5;241m.\u001b[39mobj)\n\u001b[1;32m--> 967\u001b[0m \u001b[38;5;28;01mreturn\u001b[39;00m \u001b[38;5;28;43mself\u001b[39;49m\u001b[38;5;241;43m.\u001b[39;49m\u001b[43m_getitem_axis\u001b[49m\u001b[43m(\u001b[49m\u001b[43mmaybe_callable\u001b[49m\u001b[43m,\u001b[49m\u001b[43m \u001b[49m\u001b[43maxis\u001b[49m\u001b[38;5;241;43m=\u001b[39;49m\u001b[43maxis\u001b[49m\u001b[43m)\u001b[49m\n",
      "File \u001b[1;32m~\\AppData\\Local\\Programs\\Python\\Python39\\lib\\site-packages\\pandas\\core\\indexing.py:1202\u001b[0m, in \u001b[0;36m_LocIndexer._getitem_axis\u001b[1;34m(self, key, axis)\u001b[0m\n\u001b[0;32m   1200\u001b[0m \u001b[38;5;66;03m# fall thru to straight lookup\u001b[39;00m\n\u001b[0;32m   1201\u001b[0m \u001b[38;5;28mself\u001b[39m\u001b[38;5;241m.\u001b[39m_validate_key(key, axis)\n\u001b[1;32m-> 1202\u001b[0m \u001b[38;5;28;01mreturn\u001b[39;00m \u001b[38;5;28;43mself\u001b[39;49m\u001b[38;5;241;43m.\u001b[39;49m\u001b[43m_get_label\u001b[49m\u001b[43m(\u001b[49m\u001b[43mkey\u001b[49m\u001b[43m,\u001b[49m\u001b[43m \u001b[49m\u001b[43maxis\u001b[49m\u001b[38;5;241;43m=\u001b[39;49m\u001b[43maxis\u001b[49m\u001b[43m)\u001b[49m\n",
      "File \u001b[1;32m~\\AppData\\Local\\Programs\\Python\\Python39\\lib\\site-packages\\pandas\\core\\indexing.py:1153\u001b[0m, in \u001b[0;36m_LocIndexer._get_label\u001b[1;34m(self, label, axis)\u001b[0m\n\u001b[0;32m   1151\u001b[0m \u001b[38;5;28;01mdef\u001b[39;00m \u001b[38;5;21m_get_label\u001b[39m(\u001b[38;5;28mself\u001b[39m, label, axis: \u001b[38;5;28mint\u001b[39m):\n\u001b[0;32m   1152\u001b[0m     \u001b[38;5;66;03m# GH#5667 this will fail if the label is not present in the axis.\u001b[39;00m\n\u001b[1;32m-> 1153\u001b[0m     \u001b[38;5;28;01mreturn\u001b[39;00m \u001b[38;5;28;43mself\u001b[39;49m\u001b[38;5;241;43m.\u001b[39;49m\u001b[43mobj\u001b[49m\u001b[38;5;241;43m.\u001b[39;49m\u001b[43mxs\u001b[49m\u001b[43m(\u001b[49m\u001b[43mlabel\u001b[49m\u001b[43m,\u001b[49m\u001b[43m \u001b[49m\u001b[43maxis\u001b[49m\u001b[38;5;241;43m=\u001b[39;49m\u001b[43maxis\u001b[49m\u001b[43m)\u001b[49m\n",
      "File \u001b[1;32m~\\AppData\\Local\\Programs\\Python\\Python39\\lib\\site-packages\\pandas\\core\\generic.py:3864\u001b[0m, in \u001b[0;36mNDFrame.xs\u001b[1;34m(self, key, axis, level, drop_level)\u001b[0m\n\u001b[0;32m   3862\u001b[0m             new_index \u001b[38;5;241m=\u001b[39m index[loc]\n\u001b[0;32m   3863\u001b[0m \u001b[38;5;28;01melse\u001b[39;00m:\n\u001b[1;32m-> 3864\u001b[0m     loc \u001b[38;5;241m=\u001b[39m \u001b[43mindex\u001b[49m\u001b[38;5;241;43m.\u001b[39;49m\u001b[43mget_loc\u001b[49m\u001b[43m(\u001b[49m\u001b[43mkey\u001b[49m\u001b[43m)\u001b[49m\n\u001b[0;32m   3866\u001b[0m     \u001b[38;5;28;01mif\u001b[39;00m \u001b[38;5;28misinstance\u001b[39m(loc, np\u001b[38;5;241m.\u001b[39mndarray):\n\u001b[0;32m   3867\u001b[0m         \u001b[38;5;28;01mif\u001b[39;00m loc\u001b[38;5;241m.\u001b[39mdtype \u001b[38;5;241m==\u001b[39m np\u001b[38;5;241m.\u001b[39mbool_:\n",
      "File \u001b[1;32m~\\AppData\\Local\\Programs\\Python\\Python39\\lib\\site-packages\\pandas\\core\\indexes\\range.py:389\u001b[0m, in \u001b[0;36mRangeIndex.get_loc\u001b[1;34m(self, key, method, tolerance)\u001b[0m\n\u001b[0;32m    387\u001b[0m             \u001b[38;5;28;01mraise\u001b[39;00m \u001b[38;5;167;01mKeyError\u001b[39;00m(key) \u001b[38;5;28;01mfrom\u001b[39;00m \u001b[38;5;21;01merr\u001b[39;00m\n\u001b[0;32m    388\u001b[0m     \u001b[38;5;28mself\u001b[39m\u001b[38;5;241m.\u001b[39m_check_indexing_error(key)\n\u001b[1;32m--> 389\u001b[0m     \u001b[38;5;28;01mraise\u001b[39;00m \u001b[38;5;167;01mKeyError\u001b[39;00m(key)\n\u001b[0;32m    390\u001b[0m \u001b[38;5;28;01mreturn\u001b[39;00m \u001b[38;5;28msuper\u001b[39m()\u001b[38;5;241m.\u001b[39mget_loc(key, method\u001b[38;5;241m=\u001b[39mmethod, tolerance\u001b[38;5;241m=\u001b[39mtolerance)\n",
      "\u001b[1;31mKeyError\u001b[0m: 'resistance'"
     ]
    }
   ],
   "source": [
    "df.loc['resistance']=df.loc['resistance'].map(eval)"
   ]
  },
  {
   "cell_type": "code",
   "execution_count": 130,
   "id": "6eb63e7e",
   "metadata": {
    "scrolled": true
   },
   "outputs": [],
   "source": [
    "df.loc[~df['resistance'].isna(),'resistance']=df.loc[~df['resistance'].isna(),'resistance'].map(eval)"
   ]
  },
  {
   "cell_type": "code",
   "execution_count": 151,
   "id": "53699828",
   "metadata": {},
   "outputs": [
    {
     "data": {
      "text/html": [
       "<div>\n",
       "<style scoped>\n",
       "    .dataframe tbody tr th:only-of-type {\n",
       "        vertical-align: middle;\n",
       "    }\n",
       "\n",
       "    .dataframe tbody tr th {\n",
       "        vertical-align: top;\n",
       "    }\n",
       "\n",
       "    .dataframe thead th {\n",
       "        text-align: right;\n",
       "    }\n",
       "</style>\n",
       "<table border=\"1\" class=\"dataframe\">\n",
       "  <thead>\n",
       "    <tr style=\"text-align: right;\">\n",
       "      <th></th>\n",
       "      <th>Electricresistance</th>\n",
       "      <th>Bugresistance</th>\n",
       "      <th>Fairyresistance</th>\n",
       "      <th>Fireresistance</th>\n",
       "      <th>Fightingresistance</th>\n",
       "      <th>Ghostresistance</th>\n",
       "      <th>Poisonresistance</th>\n",
       "      <th>Waterresistance</th>\n",
       "      <th>Psychicresistance</th>\n",
       "      <th>Iceresistance</th>\n",
       "      <th>Flyingresistance</th>\n",
       "      <th>Darkresistance</th>\n",
       "      <th>Grassresistance</th>\n",
       "      <th>Normalresistance</th>\n",
       "      <th>Dragonresistance</th>\n",
       "      <th>Steelresistance</th>\n",
       "      <th>Groundresistance</th>\n",
       "    </tr>\n",
       "  </thead>\n",
       "  <tbody>\n",
       "    <tr>\n",
       "      <th>0</th>\n",
       "      <td>62.5</td>\n",
       "      <td>NaN</td>\n",
       "      <td>NaN</td>\n",
       "      <td>NaN</td>\n",
       "      <td>NaN</td>\n",
       "      <td>NaN</td>\n",
       "      <td>NaN</td>\n",
       "      <td>NaN</td>\n",
       "      <td>NaN</td>\n",
       "      <td>NaN</td>\n",
       "      <td>NaN</td>\n",
       "      <td>NaN</td>\n",
       "      <td>NaN</td>\n",
       "      <td>NaN</td>\n",
       "      <td>NaN</td>\n",
       "      <td>NaN</td>\n",
       "      <td>NaN</td>\n",
       "    </tr>\n",
       "    <tr>\n",
       "      <th>1</th>\n",
       "      <td>62.5</td>\n",
       "      <td>NaN</td>\n",
       "      <td>NaN</td>\n",
       "      <td>NaN</td>\n",
       "      <td>NaN</td>\n",
       "      <td>NaN</td>\n",
       "      <td>NaN</td>\n",
       "      <td>NaN</td>\n",
       "      <td>NaN</td>\n",
       "      <td>NaN</td>\n",
       "      <td>NaN</td>\n",
       "      <td>NaN</td>\n",
       "      <td>NaN</td>\n",
       "      <td>NaN</td>\n",
       "      <td>NaN</td>\n",
       "      <td>NaN</td>\n",
       "      <td>NaN</td>\n",
       "    </tr>\n",
       "    <tr>\n",
       "      <th>2</th>\n",
       "      <td>62.5</td>\n",
       "      <td>NaN</td>\n",
       "      <td>NaN</td>\n",
       "      <td>NaN</td>\n",
       "      <td>NaN</td>\n",
       "      <td>NaN</td>\n",
       "      <td>NaN</td>\n",
       "      <td>NaN</td>\n",
       "      <td>NaN</td>\n",
       "      <td>NaN</td>\n",
       "      <td>NaN</td>\n",
       "      <td>NaN</td>\n",
       "      <td>NaN</td>\n",
       "      <td>NaN</td>\n",
       "      <td>NaN</td>\n",
       "      <td>NaN</td>\n",
       "      <td>NaN</td>\n",
       "    </tr>\n",
       "    <tr>\n",
       "      <th>3</th>\n",
       "      <td>NaN</td>\n",
       "      <td>62.5</td>\n",
       "      <td>NaN</td>\n",
       "      <td>NaN</td>\n",
       "      <td>NaN</td>\n",
       "      <td>NaN</td>\n",
       "      <td>NaN</td>\n",
       "      <td>NaN</td>\n",
       "      <td>NaN</td>\n",
       "      <td>NaN</td>\n",
       "      <td>NaN</td>\n",
       "      <td>NaN</td>\n",
       "      <td>NaN</td>\n",
       "      <td>NaN</td>\n",
       "      <td>NaN</td>\n",
       "      <td>NaN</td>\n",
       "      <td>NaN</td>\n",
       "    </tr>\n",
       "    <tr>\n",
       "      <th>4</th>\n",
       "      <td>NaN</td>\n",
       "      <td>62.5</td>\n",
       "      <td>NaN</td>\n",
       "      <td>NaN</td>\n",
       "      <td>NaN</td>\n",
       "      <td>NaN</td>\n",
       "      <td>NaN</td>\n",
       "      <td>NaN</td>\n",
       "      <td>NaN</td>\n",
       "      <td>NaN</td>\n",
       "      <td>NaN</td>\n",
       "      <td>NaN</td>\n",
       "      <td>NaN</td>\n",
       "      <td>NaN</td>\n",
       "      <td>NaN</td>\n",
       "      <td>NaN</td>\n",
       "      <td>NaN</td>\n",
       "    </tr>\n",
       "    <tr>\n",
       "      <th>...</th>\n",
       "      <td>...</td>\n",
       "      <td>...</td>\n",
       "      <td>...</td>\n",
       "      <td>...</td>\n",
       "      <td>...</td>\n",
       "      <td>...</td>\n",
       "      <td>...</td>\n",
       "      <td>...</td>\n",
       "      <td>...</td>\n",
       "      <td>...</td>\n",
       "      <td>...</td>\n",
       "      <td>...</td>\n",
       "      <td>...</td>\n",
       "      <td>...</td>\n",
       "      <td>...</td>\n",
       "      <td>...</td>\n",
       "      <td>...</td>\n",
       "    </tr>\n",
       "    <tr>\n",
       "      <th>765</th>\n",
       "      <td>NaN</td>\n",
       "      <td>62.5</td>\n",
       "      <td>NaN</td>\n",
       "      <td>NaN</td>\n",
       "      <td>NaN</td>\n",
       "      <td>NaN</td>\n",
       "      <td>NaN</td>\n",
       "      <td>NaN</td>\n",
       "      <td>NaN</td>\n",
       "      <td>NaN</td>\n",
       "      <td>NaN</td>\n",
       "      <td>NaN</td>\n",
       "      <td>NaN</td>\n",
       "      <td>NaN</td>\n",
       "      <td>NaN</td>\n",
       "      <td>NaN</td>\n",
       "      <td>NaN</td>\n",
       "    </tr>\n",
       "    <tr>\n",
       "      <th>766</th>\n",
       "      <td>NaN</td>\n",
       "      <td>62.5</td>\n",
       "      <td>NaN</td>\n",
       "      <td>NaN</td>\n",
       "      <td>NaN</td>\n",
       "      <td>NaN</td>\n",
       "      <td>NaN</td>\n",
       "      <td>NaN</td>\n",
       "      <td>NaN</td>\n",
       "      <td>NaN</td>\n",
       "      <td>NaN</td>\n",
       "      <td>NaN</td>\n",
       "      <td>NaN</td>\n",
       "      <td>NaN</td>\n",
       "      <td>NaN</td>\n",
       "      <td>NaN</td>\n",
       "      <td>NaN</td>\n",
       "    </tr>\n",
       "    <tr>\n",
       "      <th>767</th>\n",
       "      <td>NaN</td>\n",
       "      <td>62.5</td>\n",
       "      <td>NaN</td>\n",
       "      <td>NaN</td>\n",
       "      <td>NaN</td>\n",
       "      <td>NaN</td>\n",
       "      <td>NaN</td>\n",
       "      <td>NaN</td>\n",
       "      <td>NaN</td>\n",
       "      <td>NaN</td>\n",
       "      <td>NaN</td>\n",
       "      <td>NaN</td>\n",
       "      <td>NaN</td>\n",
       "      <td>NaN</td>\n",
       "      <td>NaN</td>\n",
       "      <td>NaN</td>\n",
       "      <td>NaN</td>\n",
       "    </tr>\n",
       "    <tr>\n",
       "      <th>768</th>\n",
       "      <td>NaN</td>\n",
       "      <td>62.5</td>\n",
       "      <td>NaN</td>\n",
       "      <td>NaN</td>\n",
       "      <td>NaN</td>\n",
       "      <td>NaN</td>\n",
       "      <td>NaN</td>\n",
       "      <td>NaN</td>\n",
       "      <td>NaN</td>\n",
       "      <td>NaN</td>\n",
       "      <td>NaN</td>\n",
       "      <td>NaN</td>\n",
       "      <td>NaN</td>\n",
       "      <td>NaN</td>\n",
       "      <td>NaN</td>\n",
       "      <td>NaN</td>\n",
       "      <td>NaN</td>\n",
       "    </tr>\n",
       "    <tr>\n",
       "      <th>769</th>\n",
       "      <td>NaN</td>\n",
       "      <td>NaN</td>\n",
       "      <td>NaN</td>\n",
       "      <td>NaN</td>\n",
       "      <td>NaN</td>\n",
       "      <td>NaN</td>\n",
       "      <td>NaN</td>\n",
       "      <td>NaN</td>\n",
       "      <td>NaN</td>\n",
       "      <td>NaN</td>\n",
       "      <td>NaN</td>\n",
       "      <td>62.5</td>\n",
       "      <td>NaN</td>\n",
       "      <td>NaN</td>\n",
       "      <td>NaN</td>\n",
       "      <td>NaN</td>\n",
       "      <td>NaN</td>\n",
       "    </tr>\n",
       "  </tbody>\n",
       "</table>\n",
       "<p>762 rows × 17 columns</p>\n",
       "</div>"
      ],
      "text/plain": [
       "     Electricresistance  Bugresistance  Fairyresistance  Fireresistance  \\\n",
       "0                  62.5            NaN              NaN             NaN   \n",
       "1                  62.5            NaN              NaN             NaN   \n",
       "2                  62.5            NaN              NaN             NaN   \n",
       "3                   NaN           62.5              NaN             NaN   \n",
       "4                   NaN           62.5              NaN             NaN   \n",
       "..                  ...            ...              ...             ...   \n",
       "765                 NaN           62.5              NaN             NaN   \n",
       "766                 NaN           62.5              NaN             NaN   \n",
       "767                 NaN           62.5              NaN             NaN   \n",
       "768                 NaN           62.5              NaN             NaN   \n",
       "769                 NaN            NaN              NaN             NaN   \n",
       "\n",
       "     Fightingresistance  Ghostresistance  Poisonresistance  Waterresistance  \\\n",
       "0                   NaN              NaN               NaN              NaN   \n",
       "1                   NaN              NaN               NaN              NaN   \n",
       "2                   NaN              NaN               NaN              NaN   \n",
       "3                   NaN              NaN               NaN              NaN   \n",
       "4                   NaN              NaN               NaN              NaN   \n",
       "..                  ...              ...               ...              ...   \n",
       "765                 NaN              NaN               NaN              NaN   \n",
       "766                 NaN              NaN               NaN              NaN   \n",
       "767                 NaN              NaN               NaN              NaN   \n",
       "768                 NaN              NaN               NaN              NaN   \n",
       "769                 NaN              NaN               NaN              NaN   \n",
       "\n",
       "     Psychicresistance  Iceresistance  Flyingresistance  Darkresistance  \\\n",
       "0                  NaN            NaN               NaN             NaN   \n",
       "1                  NaN            NaN               NaN             NaN   \n",
       "2                  NaN            NaN               NaN             NaN   \n",
       "3                  NaN            NaN               NaN             NaN   \n",
       "4                  NaN            NaN               NaN             NaN   \n",
       "..                 ...            ...               ...             ...   \n",
       "765                NaN            NaN               NaN             NaN   \n",
       "766                NaN            NaN               NaN             NaN   \n",
       "767                NaN            NaN               NaN             NaN   \n",
       "768                NaN            NaN               NaN             NaN   \n",
       "769                NaN            NaN               NaN            62.5   \n",
       "\n",
       "     Grassresistance  Normalresistance  Dragonresistance  Steelresistance  \\\n",
       "0                NaN               NaN               NaN              NaN   \n",
       "1                NaN               NaN               NaN              NaN   \n",
       "2                NaN               NaN               NaN              NaN   \n",
       "3                NaN               NaN               NaN              NaN   \n",
       "4                NaN               NaN               NaN              NaN   \n",
       "..               ...               ...               ...              ...   \n",
       "765              NaN               NaN               NaN              NaN   \n",
       "766              NaN               NaN               NaN              NaN   \n",
       "767              NaN               NaN               NaN              NaN   \n",
       "768              NaN               NaN               NaN              NaN   \n",
       "769              NaN               NaN               NaN              NaN   \n",
       "\n",
       "     Groundresistance  \n",
       "0                 NaN  \n",
       "1                 NaN  \n",
       "2                 NaN  \n",
       "3                 NaN  \n",
       "4                 NaN  \n",
       "..                ...  \n",
       "765               NaN  \n",
       "766               NaN  \n",
       "767               NaN  \n",
       "768               NaN  \n",
       "769               NaN  \n",
       "\n",
       "[762 rows x 17 columns]"
      ]
     },
     "execution_count": 151,
     "metadata": {},
     "output_type": "execute_result"
    }
   ],
   "source": [
    "df.loc[~df['resistance'].isna(),'resistance'].apply(clean_column,colname='resistance').apply(ps.Series)"
   ]
  },
  {
   "cell_type": "code",
   "execution_count": 132,
   "id": "8c0b8702",
   "metadata": {},
   "outputs": [
    {
     "name": "stdout",
     "output_type": "stream",
     "text": [
      "62.5% ['Electric', 'Fairy', 'Fighting', 'Water']\n",
      "39% ['Grass']\n"
     ]
    }
   ],
   "source": [
    "val_dict=dict()\n",
    "for key,value in test1.items():\n",
    "    print(key,value)\n",
    "    for cat in value:\n",
    "        val_dict[f'{cat} resistance']=float(key.replace('%',''))"
   ]
  },
  {
   "cell_type": "code",
   "execution_count": 133,
   "id": "66068adc",
   "metadata": {},
   "outputs": [
    {
     "data": {
      "text/plain": [
       "{'Electric resistance': 62.5,\n",
       " 'Fairy resistance': 62.5,\n",
       " 'Fighting resistance': 62.5,\n",
       " 'Water resistance': 62.5,\n",
       " 'Grass resistance': 39.0}"
      ]
     },
     "execution_count": 133,
     "metadata": {},
     "output_type": "execute_result"
    }
   ],
   "source": [
    "val_dict"
   ]
  },
  {
   "cell_type": "code",
   "execution_count": 148,
   "id": "5b95e4ff",
   "metadata": {},
   "outputs": [],
   "source": [
    "def clean_column(row,colname):\n",
    "    val_dict=dict()\n",
    "    for key,value in row.items():\n",
    "        for cat in value:\n",
    "            val_dict[f'{cat}{colname}']=float(key.replace('%',''))\n",
    "            return val_dict"
   ]
  }
 ],
 "metadata": {
  "kernelspec": {
   "display_name": "Python 3 (ipykernel)",
   "language": "python",
   "name": "python3"
  },
  "language_info": {
   "codemirror_mode": {
    "name": "ipython",
    "version": 3
   },
   "file_extension": ".py",
   "mimetype": "text/x-python",
   "name": "python",
   "nbconvert_exporter": "python",
   "pygments_lexer": "ipython3",
   "version": "3.9.12"
  }
 },
 "nbformat": 4,
 "nbformat_minor": 5
}
