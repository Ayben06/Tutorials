{
 "cells": [
  {
   "cell_type": "code",
   "execution_count": 1,
   "id": "36903f8c",
   "metadata": {
    "scrolled": true
   },
   "outputs": [
    {
     "name": "stdout",
     "output_type": "stream",
     "text": [
      "Requirement already satisfied: requests in c:\\users\\u\\appdata\\local\\programs\\python\\python39\\lib\\site-packages (2.27.1)\n",
      "Requirement already satisfied: certifi>=2017.4.17 in c:\\users\\u\\appdata\\local\\programs\\python\\python39\\lib\\site-packages (from requests) (2022.5.18.1)\n",
      "Requirement already satisfied: idna<4,>=2.5 in c:\\users\\u\\appdata\\local\\programs\\python\\python39\\lib\\site-packages (from requests) (3.3)\n",
      "Requirement already satisfied: urllib3<1.27,>=1.21.1 in c:\\users\\u\\appdata\\local\\programs\\python\\python39\\lib\\site-packages (from requests) (1.26.9)\n",
      "Requirement already satisfied: charset-normalizer~=2.0.0 in c:\\users\\u\\appdata\\local\\programs\\python\\python39\\lib\\site-packages (from requests) (2.0.12)\n"
     ]
    },
    {
     "name": "stderr",
     "output_type": "stream",
     "text": [
      "WARNING: You are using pip version 22.0.4; however, version 22.1.2 is available.\n",
      "You should consider upgrading via the 'C:\\Users\\u\\AppData\\Local\\Programs\\Python\\Python39\\python.exe -m pip install --upgrade pip' command.\n"
     ]
    }
   ],
   "source": [
    "!pip install requests\n"
   ]
  },
  {
   "cell_type": "code",
   "execution_count": 3,
   "id": "12c08c6d",
   "metadata": {},
   "outputs": [],
   "source": [
    "base_url='https://turbo.az/autos'"
   ]
  },
  {
   "cell_type": "code",
   "execution_count": 4,
   "id": "370aea2a",
   "metadata": {},
   "outputs": [],
   "source": [
    "import requests"
   ]
  },
  {
   "cell_type": "code",
   "execution_count": 5,
   "id": "01719c20",
   "metadata": {},
   "outputs": [],
   "source": [
    "response=requests.get(base_url)"
   ]
  },
  {
   "cell_type": "code",
   "execution_count": 6,
   "id": "c77b8974",
   "metadata": {},
   "outputs": [
    {
     "data": {
      "text/plain": [
       "200"
      ]
     },
     "execution_count": 6,
     "metadata": {},
     "output_type": "execute_result"
    }
   ],
   "source": [
    "response.status_code"
   ]
  },
  {
   "cell_type": "code",
   "execution_count": 7,
   "id": "cc68b8c1",
   "metadata": {},
   "outputs": [
    {
     "name": "stdout",
     "output_type": "stream",
     "text": [
      "Requirement already satisfied: bs4 in c:\\users\\u\\appdata\\local\\programs\\python\\python39\\lib\\site-packages (0.0.1)\n",
      "Requirement already satisfied: beautifulsoup4 in c:\\users\\u\\appdata\\local\\programs\\python\\python39\\lib\\site-packages (from bs4) (4.11.1)\n",
      "Requirement already satisfied: soupsieve>1.2 in c:\\users\\u\\appdata\\local\\programs\\python\\python39\\lib\\site-packages (from beautifulsoup4->bs4) (2.3.2.post1)\n"
     ]
    },
    {
     "name": "stderr",
     "output_type": "stream",
     "text": [
      "WARNING: You are using pip version 22.0.4; however, version 22.1.2 is available.\n",
      "You should consider upgrading via the 'C:\\Users\\u\\AppData\\Local\\Programs\\Python\\Python39\\python.exe -m pip install --upgrade pip' command.\n"
     ]
    }
   ],
   "source": [
    "!pip install bs4"
   ]
  },
  {
   "cell_type": "code",
   "execution_count": 8,
   "id": "6bbaa492",
   "metadata": {},
   "outputs": [],
   "source": [
    "from bs4 import BeautifulSoup"
   ]
  },
  {
   "cell_type": "code",
   "execution_count": 9,
   "id": "5f2d4a7c",
   "metadata": {},
   "outputs": [
    {
     "name": "stdout",
     "output_type": "stream",
     "text": [
      "Requirement already satisfied: lxml in c:\\users\\u\\appdata\\local\\programs\\python\\python39\\lib\\site-packages (4.9.0)\n"
     ]
    },
    {
     "name": "stderr",
     "output_type": "stream",
     "text": [
      "WARNING: You are using pip version 22.0.4; however, version 22.1.2 is available.\n",
      "You should consider upgrading via the 'C:\\Users\\u\\AppData\\Local\\Programs\\Python\\Python39\\python.exe -m pip install --upgrade pip' command.\n"
     ]
    }
   ],
   "source": [
    "!pip install lxml"
   ]
  },
  {
   "cell_type": "code",
   "execution_count": 11,
   "id": "e5862625",
   "metadata": {},
   "outputs": [],
   "source": [
    "soup=BeautifulSoup(response.content, 'lxml')"
   ]
  },
  {
   "cell_type": "code",
   "execution_count": 11,
   "id": "9012ea50",
   "metadata": {},
   "outputs": [],
   "source": [
    "elanlar= soup.find('div',)"
   ]
  },
  {
   "cell_type": "code",
   "execution_count": 12,
   "id": "c9434e8e",
   "metadata": {},
   "outputs": [
    {
     "data": {
      "text/plain": [
       "bs4.BeautifulSoup"
      ]
     },
     "execution_count": 12,
     "metadata": {},
     "output_type": "execute_result"
    }
   ],
   "source": [
    "type(soup)"
   ]
  },
  {
   "cell_type": "code",
   "execution_count": null,
   "id": "8123545b",
   "metadata": {},
   "outputs": [],
   "source": [
    "elanlar= soup.find('div',id='')"
   ]
  },
  {
   "cell_type": "code",
   "execution_count": 14,
   "id": "16bed45a",
   "metadata": {},
   "outputs": [],
   "source": [
    "elanlar= soup.find('div',class_='tz-container')"
   ]
  },
  {
   "cell_type": "code",
   "execution_count": null,
   "id": "7a453d11",
   "metadata": {
    "scrolled": true
   },
   "outputs": [],
   "source": [
    "elanlar"
   ]
  },
  {
   "cell_type": "code",
   "execution_count": 13,
   "id": "153bdf39",
   "metadata": {},
   "outputs": [],
   "source": [
    "page_content=soup.find('div',class_='products-container')"
   ]
  },
  {
   "cell_type": "code",
   "execution_count": 22,
   "id": "47dcef21",
   "metadata": {},
   "outputs": [
    {
     "data": {
      "text/plain": [
       "<div class=\"products-container\"><div class=\"tz-container\"><div class=\"products\"><div class=\"products-i vipped featured salon\"><a class=\"products-i__link\" href=\"/autos/4938893-mitsubishi-attrage\" target=\"_blank\"></a><a class=\"js-bookmark-item-4938893\" data-method=\"post\" data-remote=\"true\" href=\"/autos/4938893-mitsubishi-attrage/bookmarks\" rel=\"nofollow\"><div class=\"bookmarking\"></div></a><a class=\"hide js-unbookmark-item-4938893\" data-method=\"delete\" data-remote=\"true\" href=\"/autos/4938893-mitsubishi-attrage/bookmarks\" rel=\"nofollow\"><div class=\"bookmarking added\"></div></a><div class=\"products-i__top\"><img alt=\"Mitsubishi Attrage\" loading=\"lazy\" src=\"https://turbo.azstatic.com/uploads/f460x343/2021%2F04%2F02%2F13%2F17%2F30%2F228caf2e-9cbb-4716-b69c-f44da352728e%2F64033_rb89emgpz_bNdmgJg2k-Hw.jpg\"/><div class=\"products-i__label products-i__label--salon\">Salon</div><div class=\"products-i__paid\"><span class=\"featured-icon\"></span><span class=\"vipped-icon\"></span></div><div class=\"products-i__info\"></div></div><div class=\"products-i__bottom\"><div class=\"products-i__price products-i__bottom-text\"><div class=\"product-price\">15 800 <span>$</span></div></div><div class=\"products-i__name products-i__bottom-text\">Mitsubishi Attrage</div><div class=\"products-i__attributes products-i__bottom-text\">2021, 1.2 L, 0 km</div><div class=\"products-i__datetime\">Bakı, 07.06.2022 15:15</div></div></div><div class=\"products-i vipped salon\"><a class=\"products-i__link\" href=\"/autos/6144540-lexus-nx-300h\" target=\"_blank\"></a><a class=\"js-bookmark-item-6144540\" data-method=\"post\" data-remote=\"true\" href=\"/autos/6144540-lexus-nx-300h/bookmarks\" rel=\"nofollow\"><div class=\"bookmarking\"></div></a><a class=\"hide js-unbookmark-item-6144540\" data-method=\"delete\" data-remote=\"true\" href=\"/autos/6144540-lexus-nx-300h/bookmarks\" rel=\"nofollow\"><div class=\"bookmarking added\"></div></a><div class=\"products-i__top\"><img alt=\"Lexus NX 300h\" loading=\"lazy\" src=\"https://turbo.azstatic.com/uploads/f460x343/2022%2F04%2F01%2F10%2F04%2F03%2Fbe31a321-6999-456f-a476-8c94f00cd65e%2F90844_n0b84thwXx0kd9HWzprevw.jpg\"/><div class=\"products-i__label products-i__label--salon\">Salon</div><div class=\"products-i__paid\"><span class=\"vipped-icon\"></span></div><div class=\"products-i__info\"><div class=\"products-i__icon products-i__icon--barter\"><div class=\"products-i__tooltip products-i__tooltip--barter\">Barter mümkündür</div></div></div></div><div class=\"products-i__bottom\"><div class=\"products-i__price products-i__bottom-text\"><div class=\"product-price\">63 500 <span>$</span></div></div><div class=\"products-i__name products-i__bottom-text\">Lexus NX 300h</div><div class=\"products-i__attributes products-i__bottom-text\">2021, 2.5 L, 0 km</div><div class=\"products-i__datetime\">Bakı, 07.06.2022 11:42</div></div></div><div class=\"products-i vipped featured salon\"><a class=\"products-i__link\" href=\"/autos/5018083-porsche-cayenne\" target=\"_blank\"></a><a class=\"js-bookmark-item-5018083\" data-method=\"post\" data-remote=\"true\" href=\"/autos/5018083-porsche-cayenne/bookmarks\" rel=\"nofollow\"><div class=\"bookmarking\"></div></a><a class=\"hide js-unbookmark-item-5018083\" data-method=\"delete\" data-remote=\"true\" href=\"/autos/5018083-porsche-cayenne/bookmarks\" rel=\"nofollow\"><div class=\"bookmarking added\"></div></a><div class=\"products-i__top\"><img alt=\"Porsche Cayenne\" loading=\"lazy\" src=\"https://turbo.azstatic.com/uploads/f460x343/2021%2F04%2F22%2F22%2F06%2F29%2Fe8b127b8-7927-4388-90be-f0cf7772dcba%2F91536_0dMSI8s0tyMgcGI_UdWTlQ.jpg\"/><div class=\"products-i__label products-i__label--salon\">Salon</div><div class=\"products-i__paid\"><span class=\"featured-icon\"></span><span class=\"vipped-icon\"></span></div><div class=\"products-i__info\"><div class=\"products-i__icon products-i__icon--barter\"><div class=\"products-i__tooltip products-i__tooltip--barter\">Barter mümkündür</div></div><div class=\"products-i__icon products-i__icon--loan\"><div class=\"products-i__tooltip products-i__tooltip--loan\">Kreditdədir</div></div></div></div><div class=\"products-i__bottom\"><div class=\"products-i__price products-i__bottom-text\"><div class=\"product-price\">79 500 <span>$</span></div></div><div class=\"products-i__name products-i__bottom-text\">Porsche Cayenne</div><div class=\"products-i__attributes products-i__bottom-text\">2018, 3.0 L, 60 000 km</div><div class=\"products-i__datetime\">Bakı, 06.06.2022 13:29</div></div></div><div class=\"products-i vipped salon\"><a class=\"products-i__link\" href=\"/autos/6358952-volkswagen-polo\" target=\"_blank\"></a><a class=\"js-bookmark-item-6358952\" data-method=\"post\" data-remote=\"true\" href=\"/autos/6358952-volkswagen-polo/bookmarks\" rel=\"nofollow\"><div class=\"bookmarking\"></div></a><a class=\"hide js-unbookmark-item-6358952\" data-method=\"delete\" data-remote=\"true\" href=\"/autos/6358952-volkswagen-polo/bookmarks\" rel=\"nofollow\"><div class=\"bookmarking added\"></div></a><div class=\"products-i__top\"><img alt=\"Volkswagen Polo\" loading=\"lazy\" src=\"https://turbo.azstatic.com/uploads/f460x343/2022%2F06%2F06%2F12%2F43%2F27%2F56c96d04-93a6-4c95-9cbd-eb78d800e72f%2F33637_ttsvpMYV_6-6akDR2wSfPA.jpg\"/><div class=\"products-i__label products-i__label--salon\">Salon</div><div class=\"products-i__paid\"><span class=\"vipped-icon\"></span></div><div class=\"products-i__info\"><div class=\"products-i__icon products-i__icon--barter\"><div class=\"products-i__tooltip products-i__tooltip--barter\">Barter mümkündür</div></div><div class=\"products-i__icon products-i__icon--loan\"><div class=\"products-i__tooltip products-i__tooltip--loan\">Kreditdədir</div></div></div></div><div class=\"products-i__bottom\"><div class=\"products-i__price products-i__bottom-text\"><div class=\"product-price\">27 500 <span>AZN</span></div></div><div class=\"products-i__name products-i__bottom-text\">Volkswagen Polo</div><div class=\"products-i__attributes products-i__bottom-text\">2020, 1.6 L, 25 000 km</div><div class=\"products-i__datetime\">Bakı, 07.06.2022 12:21</div></div></div></div></div><div class=\"section-title section-title--grey\"><div class=\"tz-container tz-align-center tz-d-flex tz-justify-between\"><p class=\"section-title_name\">VIP ELANLAR</p><a class=\"section-title_more\" href=\"/autos/vip\" target=\"_blank\">Bütün VIP elanlar</a></div></div><div class=\"tz-container\"><div class=\"products\"><div class=\"products-i vipped\"><a class=\"products-i__link\" href=\"/autos/6268738-chevrolet-cruze\" target=\"_blank\"></a><a class=\"js-bookmark-item-6268738\" data-method=\"post\" data-remote=\"true\" href=\"/autos/6268738-chevrolet-cruze/bookmarks\" rel=\"nofollow\"><div class=\"bookmarking\"></div></a><a class=\"hide js-unbookmark-item-6268738\" data-method=\"delete\" data-remote=\"true\" href=\"/autos/6268738-chevrolet-cruze/bookmarks\" rel=\"nofollow\"><div class=\"bookmarking added\"></div></a><div class=\"products-i__top\"><img alt=\"Chevrolet Cruze\" loading=\"lazy\" src=\"https://turbo.azstatic.com/uploads/f460x343/2022%2F05%2F10%2F19%2F32%2F59%2F1f06fcd5-fd94-422d-b39c-f9a7eee3ff0c%2F86473_lKHup1W5ljLqaIJuxlmBDQ.jpg\"/><div class=\"products-i__paid\"><span class=\"vipped-icon\"></span></div><div class=\"products-i__info\"><div class=\"products-i__icon products-i__icon--barter\"><div class=\"products-i__tooltip products-i__tooltip--barter\">Barter mümkündür</div></div></div></div><div class=\"products-i__bottom\"><div class=\"products-i__price products-i__bottom-text\"><div class=\"product-price\">17 700 <span>AZN</span></div></div><div class=\"products-i__name products-i__bottom-text\">Chevrolet Cruze</div><div class=\"products-i__attributes products-i__bottom-text\">2015, 1.4 L, 208 000 km</div><div class=\"products-i__datetime\">Bakı, 30.05.2022 17:53</div></div></div><div class=\"products-i vipped\"><a class=\"products-i__link\" href=\"/autos/6066524-land-rover-range-rover\" target=\"_blank\"></a><a class=\"js-bookmark-item-6066524\" data-method=\"post\" data-remote=\"true\" href=\"/autos/6066524-land-rover-range-rover/bookmarks\" rel=\"nofollow\"><div class=\"bookmarking\"></div></a><a class=\"hide js-unbookmark-item-6066524\" data-method=\"delete\" data-remote=\"true\" href=\"/autos/6066524-land-rover-range-rover/bookmarks\" rel=\"nofollow\"><div class=\"bookmarking added\"></div></a><div class=\"products-i__top\"><img alt=\"Land Rover Range Rover\" loading=\"lazy\" src=\"https://turbo.azstatic.com/uploads/f460x343/2022%2F03%2F06%2F19%2F51%2F41%2Fd24542de-485d-401a-b6a1-7e16684f940f%2F50362_fnl_gsMCezP2dPlYExHJZA.jpg\"/><div class=\"products-i__paid\"><span class=\"vipped-icon\"></span></div><div class=\"products-i__info\"></div></div><div class=\"products-i__bottom\"><div class=\"products-i__price products-i__bottom-text\"><div class=\"product-price\">27 500 <span>$</span></div></div><div class=\"products-i__name products-i__bottom-text\">Land Rover Range Rover</div><div class=\"products-i__attributes products-i__bottom-text\">2012, 5.0 L, 219 112 km</div><div class=\"products-i__datetime\">Bakı, 01.06.2022 18:34</div></div></div><div class=\"products-i vipped\"><a class=\"products-i__link\" href=\"/autos/6259069-nissan-x-trail\" target=\"_blank\"></a><a class=\"js-bookmark-item-6259069\" data-method=\"post\" data-remote=\"true\" href=\"/autos/6259069-nissan-x-trail/bookmarks\" rel=\"nofollow\"><div class=\"bookmarking\"></div></a><a class=\"hide js-unbookmark-item-6259069\" data-method=\"delete\" data-remote=\"true\" href=\"/autos/6259069-nissan-x-trail/bookmarks\" rel=\"nofollow\"><div class=\"bookmarking added\"></div></a><div class=\"products-i__top\"><img alt=\"Nissan X-Trail\" loading=\"lazy\" src=\"https://turbo.azstatic.com/uploads/f460x343/2022%2F05%2F03%2F22%2F00%2F29%2F1399cf05-9488-4440-9dd0-c4577b56230d%2F8644_OIQszeinTvNDjeqxb1_Iqg.jpg\"/><div class=\"products-i__paid\"><span class=\"vipped-icon\"></span></div><div class=\"products-i__info\"></div></div><div class=\"products-i__bottom\"><div class=\"products-i__price products-i__bottom-text\"><div class=\"product-price\">21 000 <span>AZN</span></div></div><div class=\"products-i__name products-i__bottom-text\">Nissan X-Trail</div><div class=\"products-i__attributes products-i__bottom-text\">2013, 2.5 L, 143 500 km</div><div class=\"products-i__datetime\">Bakı, dünən 18:54</div></div></div><div class=\"products-i vipped\"><a class=\"products-i__link\" href=\"/autos/6360576-toyota-prado\" target=\"_blank\"></a><a class=\"js-bookmark-item-6360576\" data-method=\"post\" data-remote=\"true\" href=\"/autos/6360576-toyota-prado/bookmarks\" rel=\"nofollow\"><div class=\"bookmarking\"></div></a><a class=\"hide js-unbookmark-item-6360576\" data-method=\"delete\" data-remote=\"true\" href=\"/autos/6360576-toyota-prado/bookmarks\" rel=\"nofollow\"><div class=\"bookmarking added\"></div></a><div class=\"products-i__top\"><img alt=\"Toyota Prado\" loading=\"lazy\" src=\"https://turbo.azstatic.com/uploads/f460x343/2022%2F06%2F06%2F20%2F26%2F29%2Fdea31395-3675-47ff-bc2c-7fdbbb98e630%2F33633_D82zyj_uMHH9uGnHrj5z-A.jpg\"/><div class=\"products-i__paid\"><span class=\"vipped-icon\"></span></div><div class=\"products-i__info\"></div></div><div class=\"products-i__bottom\"><div class=\"products-i__price products-i__bottom-text\"><div class=\"product-price\">38 500 <span>AZN</span></div></div><div class=\"products-i__name products-i__bottom-text\">Toyota Prado</div><div class=\"products-i__attributes products-i__bottom-text\">2010, 2.7 L, 183 000 km</div><div class=\"products-i__datetime\">Yevlax, 07.06.2022 09:03</div></div></div><div class=\"products-i vipped\"><a class=\"products-i__link\" href=\"/autos/6328227-opel-astra\" target=\"_blank\"></a><a class=\"js-bookmark-item-6328227\" data-method=\"post\" data-remote=\"true\" href=\"/autos/6328227-opel-astra/bookmarks\" rel=\"nofollow\"><div class=\"bookmarking\"></div></a><a class=\"hide js-unbookmark-item-6328227\" data-method=\"delete\" data-remote=\"true\" href=\"/autos/6328227-opel-astra/bookmarks\" rel=\"nofollow\"><div class=\"bookmarking added\"></div></a><div class=\"products-i__top\"><img alt=\"Opel Astra\" loading=\"lazy\" src=\"https://turbo.azstatic.com/uploads/f460x343/2022%2F05%2F26%2F21%2F02%2F52%2F4bc95d4c-0ae6-4e87-827a-2143c6af8621%2F62965_qNfNWuNvk376p_W5WA2gBg.jpg\"/><div class=\"products-i__paid\"><span class=\"vipped-icon\"></span></div><div class=\"products-i__info\"><div class=\"products-i__icon products-i__icon--loan\"><div class=\"products-i__tooltip products-i__tooltip--loan\">Kreditdədir</div></div></div></div><div class=\"products-i__bottom\"><div class=\"products-i__price products-i__bottom-text\"><div class=\"product-price\">8 000 <span>AZN</span></div></div><div class=\"products-i__name products-i__bottom-text\">Opel Astra</div><div class=\"products-i__attributes products-i__bottom-text\">2005, 1.9 L, 233 724 km</div><div class=\"products-i__datetime\">Bakı, bugün 00:17</div></div></div><div class=\"products-i vipped featured\"><a class=\"products-i__link\" href=\"/autos/6297863-chevrolet-cruze\" target=\"_blank\"></a><a class=\"js-bookmark-item-6297863\" data-method=\"post\" data-remote=\"true\" href=\"/autos/6297863-chevrolet-cruze/bookmarks\" rel=\"nofollow\"><div class=\"bookmarking\"></div></a><a class=\"hide js-unbookmark-item-6297863\" data-method=\"delete\" data-remote=\"true\" href=\"/autos/6297863-chevrolet-cruze/bookmarks\" rel=\"nofollow\"><div class=\"bookmarking added\"></div></a><div class=\"products-i__top\"><img alt=\"Chevrolet Cruze\" loading=\"lazy\" src=\"https://turbo.azstatic.com/uploads/f460x343/2022%2F05%2F16%2F19%2F42%2F04%2F400f1346-de41-4c21-9e6e-3f7d0ff942b0%2F95737_Uc65wBGDrtjXbe7cQ39JNw.jpg\"/><div class=\"products-i__paid\"><span class=\"featured-icon\"></span><span class=\"vipped-icon\"></span></div><div class=\"products-i__info\"><div class=\"products-i__icon products-i__icon--loan\"><div class=\"products-i__tooltip products-i__tooltip--loan\">Kreditdədir</div></div></div></div><div class=\"products-i__bottom\"><div class=\"products-i__price products-i__bottom-text\"><div class=\"product-price\">15 400 <span>AZN</span></div></div><div class=\"products-i__name products-i__bottom-text\">Chevrolet Cruze</div><div class=\"products-i__attributes products-i__bottom-text\">2013, 1.4 L, 155 600 km</div><div class=\"products-i__datetime\">Bakı, 05.06.2022 23:33</div></div></div><div class=\"products-i vipped\"><a class=\"products-i__link\" href=\"/autos/6302447-chrysler-300c\" target=\"_blank\"></a><a class=\"js-bookmark-item-6302447\" data-method=\"post\" data-remote=\"true\" href=\"/autos/6302447-chrysler-300c/bookmarks\" rel=\"nofollow\"><div class=\"bookmarking\"></div></a><a class=\"hide js-unbookmark-item-6302447\" data-method=\"delete\" data-remote=\"true\" href=\"/autos/6302447-chrysler-300c/bookmarks\" rel=\"nofollow\"><div class=\"bookmarking added\"></div></a><div class=\"products-i__top\"><img alt=\"Chrysler 300C\" loading=\"lazy\" src=\"https://turbo.azstatic.com/uploads/f460x343/2022%2F05%2F18%2F12%2F53%2F17%2Fbcd42b43-fc7f-4475-9888-b726f3bb29f8%2F83588_4rd9PHlTxRcH-IOKFnlBkA.jpg\"/><div class=\"products-i__paid\"><span class=\"vipped-icon\"></span></div><div class=\"products-i__info\"></div></div><div class=\"products-i__bottom\"><div class=\"products-i__price products-i__bottom-text\"><div class=\"product-price\">13 500 <span>AZN</span></div></div><div class=\"products-i__name products-i__bottom-text\">Chrysler 300C</div><div class=\"products-i__attributes products-i__bottom-text\">2005, 2.7 L, 195 000 km</div><div class=\"products-i__datetime\">Sumqayıt, 07.06.2022 14:13</div></div></div><div class=\"products-i vipped\"><a class=\"products-i__link\" href=\"/autos/6237037-opel-astra\" target=\"_blank\"></a><a class=\"js-bookmark-item-6237037\" data-method=\"post\" data-remote=\"true\" href=\"/autos/6237037-opel-astra/bookmarks\" rel=\"nofollow\"><div class=\"bookmarking\"></div></a><a class=\"hide js-unbookmark-item-6237037\" data-method=\"delete\" data-remote=\"true\" href=\"/autos/6237037-opel-astra/bookmarks\" rel=\"nofollow\"><div class=\"bookmarking added\"></div></a><div class=\"products-i__top\"><img alt=\"Opel Astra\" loading=\"lazy\" src=\"https://turbo.azstatic.com/uploads/f460x343/2022%2F04%2F26%2F20%2F33%2F20%2Fcff43c0d-04d4-414b-9cee-d86add6b709e%2F87415_Kzl9ReeZBFiaxgwXmpyknw.jpg\"/><div class=\"products-i__paid\"><span class=\"vipped-icon\"></span></div><div class=\"products-i__info\"><div class=\"products-i__icon products-i__icon--loan\"><div class=\"products-i__tooltip products-i__tooltip--loan\">Kreditdədir</div></div></div></div><div class=\"products-i__bottom\"><div class=\"products-i__price products-i__bottom-text\"><div class=\"product-price\">14 000 <span>AZN</span></div></div><div class=\"products-i__name products-i__bottom-text\">Opel Astra</div><div class=\"products-i__attributes products-i__bottom-text\">2007, 1.8 L, 148 000 km</div><div class=\"products-i__datetime\">Bakı, 28.05.2022 13:21</div></div></div></div></div><div class=\"section-title section-title--grey\"><div class=\"tz-container tz-align-center tz-d-flex tz-justify-between\"><p class=\"section-title_name\">ELANLAR</p></div></div><div class=\"tz-container\"><div class=\"products-title\"><p class=\"products-title-amount\">10000 elan</p><div class=\"products-title-sort\"><select id=\"sort-variants\" name=\"sort-variants\"><option data-path=\"/autos?q%5Bsort%5D=created_at\" value=\"created_at\">Tarixə görə</option>\n",
       "<option data-path=\"/autos?q%5Bsort%5D=price_asc\" value=\"price_asc\">Əvvəlcə ucuz</option>\n",
       "<option data-path=\"/autos?q%5Bsort%5D=price_desc\" value=\"price_desc\">Əvvəlcə bahalı</option>\n",
       "<option data-path=\"/autos?q%5Bsort%5D=mileage\" value=\"mileage\">Yürüş</option>\n",
       "<option data-path=\"/autos?q%5Bsort%5D=reg_year\" value=\"reg_year\">Buraxılış ili</option></select></div></div><div class=\"products\"><div class=\"products-i vipped featured\"><a class=\"products-i__link\" href=\"/autos/6235796-mitsubishi-pajero\" target=\"_blank\"></a><a class=\"js-bookmark-item-6235796\" data-method=\"post\" data-remote=\"true\" href=\"/autos/6235796-mitsubishi-pajero/bookmarks\" rel=\"nofollow\"><div class=\"bookmarking\"></div></a><a class=\"hide js-unbookmark-item-6235796\" data-method=\"delete\" data-remote=\"true\" href=\"/autos/6235796-mitsubishi-pajero/bookmarks\" rel=\"nofollow\"><div class=\"bookmarking added\"></div></a><div class=\"products-i__top\"><img alt=\"Mitsubishi Pajero\" loading=\"lazy\" src=\"https://turbo.azstatic.com/uploads/f460x343/2022%2F04%2F26%2F15%2F26%2F15%2F011ea45c-06d0-4375-9a70-a79e34ccc03e%2F25947_vlWzPqOtB_IDcHcy0ZlfvQ.jpg\"/><div class=\"products-i__paid\"><span class=\"featured-icon\"></span><span class=\"vipped-icon\"></span></div><div class=\"products-i__info\"></div></div><div class=\"products-i__bottom\"><div class=\"products-i__price products-i__bottom-text\"><div class=\"product-price\">26 900 <span>AZN</span></div></div><div class=\"products-i__name products-i__bottom-text\">Mitsubishi Pajero</div><div class=\"products-i__attributes products-i__bottom-text\">2010, 3.5 L, 224 000 km</div><div class=\"products-i__datetime\">Bakı, bugün 18:58</div></div></div><div class=\"products-i\"><a class=\"products-i__link\" href=\"/autos/6368675-mercedes-190\" target=\"_blank\"></a><a class=\"js-bookmark-item-6368675\" data-method=\"post\" data-remote=\"true\" href=\"/autos/6368675-mercedes-190/bookmarks\" rel=\"nofollow\"><div class=\"bookmarking\"></div></a><a class=\"hide js-unbookmark-item-6368675\" data-method=\"delete\" data-remote=\"true\" href=\"/autos/6368675-mercedes-190/bookmarks\" rel=\"nofollow\"><div class=\"bookmarking added\"></div></a><div class=\"products-i__top\"><img alt=\"Mercedes 190\" loading=\"lazy\" src=\"https://turbo.azstatic.com/uploads/f460x343/2022%2F06%2F09%2F18%2F45%2F37%2F1cab5d9e-9031-42e1-88ea-0845b5533e2b%2F21597_LaWSGB2EiiTJSVBw2lKnqQ.jpg\"/><div class=\"products-i__info\"></div></div><div class=\"products-i__bottom\"><div class=\"products-i__price products-i__bottom-text\"><div class=\"product-price\">5 200 <span>AZN</span></div></div><div class=\"products-i__name products-i__bottom-text\">Mercedes 190</div><div class=\"products-i__attributes products-i__bottom-text\">1990, 2.0 L, 316 000 km</div><div class=\"products-i__datetime\">Bakı, bugün 18:57</div></div></div><div class=\"products-i\"><a class=\"products-i__link\" href=\"/autos/6368676-toyota-prius\" target=\"_blank\"></a><a class=\"js-bookmark-item-6368676\" data-method=\"post\" data-remote=\"true\" href=\"/autos/6368676-toyota-prius/bookmarks\" rel=\"nofollow\"><div class=\"bookmarking\"></div></a><a class=\"hide js-unbookmark-item-6368676\" data-method=\"delete\" data-remote=\"true\" href=\"/autos/6368676-toyota-prius/bookmarks\" rel=\"nofollow\"><div class=\"bookmarking added\"></div></a><div class=\"products-i__top\"><img alt=\"Toyota Prius\" loading=\"lazy\" src=\"https://turbo.azstatic.com/uploads/f460x343/2022%2F06%2F09%2F18%2F53%2F24%2Fe97be05e-ba41-4ea4-9a24-af2163cf4037%2F90563_Mw1O8be2X13Cp86WpFZijw.jpg\"/><div class=\"products-i__info\"></div></div><div class=\"products-i__bottom\"><div class=\"products-i__price products-i__bottom-text\"><div class=\"product-price\">13 300 <span>AZN</span></div></div><div class=\"products-i__name products-i__bottom-text\">Toyota Prius</div><div class=\"products-i__attributes products-i__bottom-text\">2008, 1.5 L, 190 000 km</div><div class=\"products-i__datetime\">Bakı, bugün 18:57</div></div></div><div class=\"products-i\"><a class=\"products-i__link\" href=\"/autos/6238445-kia-sorento\" target=\"_blank\"></a><a class=\"js-bookmark-item-6238445\" data-method=\"post\" data-remote=\"true\" href=\"/autos/6238445-kia-sorento/bookmarks\" rel=\"nofollow\"><div class=\"bookmarking\"></div></a><a class=\"hide js-unbookmark-item-6238445\" data-method=\"delete\" data-remote=\"true\" href=\"/autos/6238445-kia-sorento/bookmarks\" rel=\"nofollow\"><div class=\"bookmarking added\"></div></a><div class=\"products-i__top\"><img alt=\"Kia Sorento\" loading=\"lazy\" src=\"https://turbo.azstatic.com/uploads/f460x343/2022%2F04%2F27%2F11%2F54%2F46%2F35793735-fead-4ece-923d-bb850bc50929%2F96194_ZwcnaIonGWIMRGKBZjVIbg.jpg\"/><div class=\"products-i__info\"></div></div><div class=\"products-i__bottom\"><div class=\"products-i__price products-i__bottom-text\"><div class=\"product-price\">28 500 <span>AZN</span></div></div><div class=\"products-i__name products-i__bottom-text\">Kia Sorento</div><div class=\"products-i__attributes products-i__bottom-text\">2010, 2.0 L, 146 000 km</div><div class=\"products-i__datetime\">Bakı, bugün 18:57</div></div></div><div class=\"products-i\"><a class=\"products-i__link\" href=\"/autos/6368674-lada-vaz-21011\" target=\"_blank\"></a><a class=\"js-bookmark-item-6368674\" data-method=\"post\" data-remote=\"true\" href=\"/autos/6368674-lada-vaz-21011/bookmarks\" rel=\"nofollow\"><div class=\"bookmarking\"></div></a><a class=\"hide js-unbookmark-item-6368674\" data-method=\"delete\" data-remote=\"true\" href=\"/autos/6368674-lada-vaz-21011/bookmarks\" rel=\"nofollow\"><div class=\"bookmarking added\"></div></a><div class=\"products-i__top\"><img alt=\"LADA (VAZ) 21011\" loading=\"lazy\" src=\"https://turbo.azstatic.com/uploads/f460x343/2022%2F06%2F09%2F18%2F47%2F16%2F290e87a3-bf5d-44a5-9617-baf37e04b1f1%2F91296_y97hzl4zJoGRtp67l1bfEA.jpg\"/><div class=\"products-i__info\"></div></div><div class=\"products-i__bottom\"><div class=\"products-i__price products-i__bottom-text\"><div class=\"product-price\">2 800 <span>AZN</span></div></div><div class=\"products-i__name products-i__bottom-text\">LADA (VAZ) 21011</div><div class=\"products-i__attributes products-i__bottom-text\">1976, 1.6 L, 28 480 km</div><div class=\"products-i__datetime\">Gəncə, bugün 18:57</div></div></div><div class=\"products-i\"><a class=\"products-i__link\" href=\"/autos/6349623-ford-transit\" target=\"_blank\"></a><a class=\"js-bookmark-item-6349623\" data-method=\"post\" data-remote=\"true\" href=\"/autos/6349623-ford-transit/bookmarks\" rel=\"nofollow\"><div class=\"bookmarking\"></div></a><a class=\"hide js-unbookmark-item-6349623\" data-method=\"delete\" data-remote=\"true\" href=\"/autos/6349623-ford-transit/bookmarks\" rel=\"nofollow\"><div class=\"bookmarking added\"></div></a><div class=\"products-i__top\"><img alt=\"Ford Transit\" loading=\"lazy\" src=\"https://turbo.azstatic.com/uploads/f460x343/2022%2F06%2F02%2F22%2F50%2F50%2F53ea83c6-660c-4697-8c9f-7b506481f8fe%2F30287_YT7hO9hy4jP2FV5aDghftg.jpg\"/><div class=\"products-i__info\"></div></div><div class=\"products-i__bottom\"><div class=\"products-i__price products-i__bottom-text\"><div class=\"product-price\">21 800 <span>AZN</span></div></div><div class=\"products-i__name products-i__bottom-text\">Ford Transit</div><div class=\"products-i__attributes products-i__bottom-text\">1999, 2.5 L, 142 130 km</div><div class=\"products-i__datetime\">Göygöl, bugün 18:57</div></div></div><div class=\"products-i\"><a class=\"products-i__link\" href=\"/autos/6335796-hyundai-santa-fe\" target=\"_blank\"></a><a class=\"js-bookmark-item-6335796\" data-method=\"post\" data-remote=\"true\" href=\"/autos/6335796-hyundai-santa-fe/bookmarks\" rel=\"nofollow\"><div class=\"bookmarking\"></div></a><a class=\"hide js-unbookmark-item-6335796\" data-method=\"delete\" data-remote=\"true\" href=\"/autos/6335796-hyundai-santa-fe/bookmarks\" rel=\"nofollow\"><div class=\"bookmarking added\"></div></a><div class=\"products-i__top\"><img alt=\"Hyundai Santa Fe\" loading=\"lazy\" src=\"https://turbo.azstatic.com/uploads/f460x343/2022%2F05%2F29%2F15%2F05%2F27%2F7386e410-7bc5-4c2d-a445-e28260d92356%2F99263_X1-osMtwMThsOuZg_Nldvw.jpg\"/><div class=\"products-i__info\"></div></div><div class=\"products-i__bottom\"><div class=\"products-i__price products-i__bottom-text\"><div class=\"product-price\">19 200 <span>AZN</span></div></div><div class=\"products-i__name products-i__bottom-text\">Hyundai Santa Fe</div><div class=\"products-i__attributes products-i__bottom-text\">2009, 2.7 L, 166 400 km</div><div class=\"products-i__datetime\">Bakı, bugün 18:56</div></div></div><div class=\"products-i\"><a class=\"products-i__link\" href=\"/autos/6300446-toyota-prius\" target=\"_blank\"></a><a class=\"js-bookmark-item-6300446\" data-method=\"post\" data-remote=\"true\" href=\"/autos/6300446-toyota-prius/bookmarks\" rel=\"nofollow\"><div class=\"bookmarking\"></div></a><a class=\"hide js-unbookmark-item-6300446\" data-method=\"delete\" data-remote=\"true\" href=\"/autos/6300446-toyota-prius/bookmarks\" rel=\"nofollow\"><div class=\"bookmarking added\"></div></a><div class=\"products-i__top\"><img alt=\"Toyota Prius\" loading=\"lazy\" src=\"https://turbo.azstatic.com/uploads/f460x343/2022%2F05%2F17%2F18%2F25%2F55%2F226f66fa-8a8c-460f-95c7-dc2459f7fad6%2F83561_q1xkPFpaaGw9qEDSROJF4g.jpg\"/><div class=\"products-i__info\"><div class=\"products-i__icon products-i__icon--loan\"><div class=\"products-i__tooltip products-i__tooltip--loan\">Kreditdədir</div></div></div></div><div class=\"products-i__bottom\"><div class=\"products-i__price products-i__bottom-text\"><div class=\"product-price\">12 700 <span>AZN</span></div></div><div class=\"products-i__name products-i__bottom-text\">Toyota Prius</div><div class=\"products-i__attributes products-i__bottom-text\">2008, 1.5 L, 174 000 km</div><div class=\"products-i__datetime\">Bakı, bugün 18:56</div></div></div><div class=\"products-i salon\"><a class=\"products-i__link\" href=\"/autos/6368679-toyota-prado\" target=\"_blank\"></a><a class=\"js-bookmark-item-6368679\" data-method=\"post\" data-remote=\"true\" href=\"/autos/6368679-toyota-prado/bookmarks\" rel=\"nofollow\"><div class=\"bookmarking\"></div></a><a class=\"hide js-unbookmark-item-6368679\" data-method=\"delete\" data-remote=\"true\" href=\"/autos/6368679-toyota-prado/bookmarks\" rel=\"nofollow\"><div class=\"bookmarking added\"></div></a><div class=\"products-i__top\"><img alt=\"Toyota Prado\" loading=\"lazy\" src=\"https://turbo.azstatic.com/uploads/f460x343/2022%2F06%2F09%2F18%2F53%2F27%2Fbe7a94da-4047-42b1-a25a-54fba5905aa2%2F91288_QVw7s47iT4k_EkvIdcLNuA.jpg\"/><div class=\"products-i__label products-i__label--salon\">Salon</div><div class=\"products-i__info\"><div class=\"products-i__icon products-i__icon--barter\"><div class=\"products-i__tooltip products-i__tooltip--barter\">Barter mümkündür</div></div></div></div><div class=\"products-i__bottom\"><div class=\"products-i__price products-i__bottom-text\"><div class=\"product-price\">32 800 <span>$</span></div></div><div class=\"products-i__name products-i__bottom-text\">Toyota Prado</div><div class=\"products-i__attributes products-i__bottom-text\">2014, 2.7 L, 95 000 km</div><div class=\"products-i__datetime\">Bakı, bugün 18:56</div></div></div><div class=\"products-i\"><a class=\"products-i__link\" href=\"/autos/6304592-volkswagen-passat\" target=\"_blank\"></a><a class=\"js-bookmark-item-6304592\" data-method=\"post\" data-remote=\"true\" href=\"/autos/6304592-volkswagen-passat/bookmarks\" rel=\"nofollow\"><div class=\"bookmarking\"></div></a><a class=\"hide js-unbookmark-item-6304592\" data-method=\"delete\" data-remote=\"true\" href=\"/autos/6304592-volkswagen-passat/bookmarks\" rel=\"nofollow\"><div class=\"bookmarking added\"></div></a><div class=\"products-i__top\"><img alt=\"Volkswagen Passat\" loading=\"lazy\" src=\"https://turbo.azstatic.com/uploads/f460x343/2022%2F05%2F18%2F22%2F34%2F47%2Fde0ad89d-0e1c-4cae-be66-3dae09ce66e0%2F83563_Xu4QkXPOpPZk_72YtWld_g.jpg\"/><div class=\"products-i__info\"></div></div><div class=\"products-i__bottom\"><div class=\"products-i__price products-i__bottom-text\"><div class=\"product-price\">17 000 <span>AZN</span></div></div><div class=\"products-i__name products-i__bottom-text\">Volkswagen Passat</div><div class=\"products-i__attributes products-i__bottom-text\">2012, 2.0 L, 160 000 km</div><div class=\"products-i__datetime\">Bakı, bugün 18:56</div></div></div><div class=\"products-i vipped\"><a class=\"products-i__link\" href=\"/autos/6333199-chevrolet-cruze\" target=\"_blank\"></a><a class=\"js-bookmark-item-6333199\" data-method=\"post\" data-remote=\"true\" href=\"/autos/6333199-chevrolet-cruze/bookmarks\" rel=\"nofollow\"><div class=\"bookmarking\"></div></a><a class=\"hide js-unbookmark-item-6333199\" data-method=\"delete\" data-remote=\"true\" href=\"/autos/6333199-chevrolet-cruze/bookmarks\" rel=\"nofollow\"><div class=\"bookmarking added\"></div></a><div class=\"products-i__top\"><img alt=\"Chevrolet Cruze\" loading=\"lazy\" src=\"https://turbo.azstatic.com/uploads/f460x343/2022%2F06%2F05%2F19%2F00%2F35%2F4eea698c-983b-4cf2-ae8d-be149a178e44%2F16233_lDsvIiEVwI8ak1GBZy7o5w.jpg\"/><div class=\"products-i__paid\"><span class=\"vipped-icon\"></span></div><div class=\"products-i__info\"></div></div><div class=\"products-i__bottom\"><div class=\"products-i__price products-i__bottom-text\"><div class=\"product-price\">16 500 <span>AZN</span></div></div><div class=\"products-i__name products-i__bottom-text\">Chevrolet Cruze</div><div class=\"products-i__attributes products-i__bottom-text\">2016, 1.4 L, 118 000 km</div><div class=\"products-i__datetime\">Bakı, bugün 18:55</div></div></div><div class=\"products-i salon\"><a class=\"products-i__link\" href=\"/autos/6368672-ford-focus\" target=\"_blank\"></a><a class=\"js-bookmark-item-6368672\" data-method=\"post\" data-remote=\"true\" href=\"/autos/6368672-ford-focus/bookmarks\" rel=\"nofollow\"><div class=\"bookmarking\"></div></a><a class=\"hide js-unbookmark-item-6368672\" data-method=\"delete\" data-remote=\"true\" href=\"/autos/6368672-ford-focus/bookmarks\" rel=\"nofollow\"><div class=\"bookmarking added\"></div></a><div class=\"products-i__top\"><img alt=\"Ford Focus\" loading=\"lazy\" src=\"https://turbo.azstatic.com/uploads/f460x343/2022%2F06%2F09%2F18%2F52%2F08%2F24f8e309-c517-4fcf-a3bb-c790d385ad7c%2F22157_Dp898-eOnKshwj1Ebx64Zw.jpg\"/><div class=\"products-i__label products-i__label--salon\">Salon</div><div class=\"products-i__info\"><div class=\"products-i__icon products-i__icon--barter\"><div class=\"products-i__tooltip products-i__tooltip--barter\">Barter mümkündür</div></div><div class=\"products-i__icon products-i__icon--loan\"><div class=\"products-i__tooltip products-i__tooltip--loan\">Kreditdədir</div></div></div></div><div class=\"products-i__bottom\"><div class=\"products-i__price products-i__bottom-text\"><div class=\"product-price\">14 400 <span>AZN</span></div></div><div class=\"products-i__name products-i__bottom-text\">Ford Focus</div><div class=\"products-i__attributes products-i__bottom-text\">2014, 1.6 L, 131 300 km</div><div class=\"products-i__datetime\">Sumqayıt, bugün 18:54</div></div></div><div class=\"products-i\"><a class=\"products-i__link\" href=\"/autos/6368669-opel-astra\" target=\"_blank\"></a><a class=\"js-bookmark-item-6368669\" data-method=\"post\" data-remote=\"true\" href=\"/autos/6368669-opel-astra/bookmarks\" rel=\"nofollow\"><div class=\"bookmarking\"></div></a><a class=\"hide js-unbookmark-item-6368669\" data-method=\"delete\" data-remote=\"true\" href=\"/autos/6368669-opel-astra/bookmarks\" rel=\"nofollow\"><div class=\"bookmarking added\"></div></a><div class=\"products-i__top\"><img alt=\"Opel Astra\" loading=\"lazy\" src=\"https://turbo.azstatic.com/uploads/f460x343/2022%2F06%2F09%2F18%2F38%2F38%2Fe0bf871d-542b-42bf-8945-eb09de8cbcd1%2F91300_pqNoGQXd7ndu4-YfV1Lqew.jpg\"/><div class=\"products-i__info\"><div class=\"products-i__icon products-i__icon--barter\"><div class=\"products-i__tooltip products-i__tooltip--barter\">Barter mümkündür</div></div></div></div><div class=\"products-i__bottom\"><div class=\"products-i__price products-i__bottom-text\"><div class=\"product-price\">13 700 <span>AZN</span></div></div><div class=\"products-i__name products-i__bottom-text\">Opel Astra</div><div class=\"products-i__attributes products-i__bottom-text\">2007, 1.8 L, 212 000 km</div><div class=\"products-i__datetime\">Bakı, bugün 18:52</div></div></div><div class=\"products-i\"><a class=\"products-i__link\" href=\"/autos/6368664-kia-ceed\" target=\"_blank\"></a><a class=\"js-bookmark-item-6368664\" data-method=\"post\" data-remote=\"true\" href=\"/autos/6368664-kia-ceed/bookmarks\" rel=\"nofollow\"><div class=\"bookmarking\"></div></a><a class=\"hide js-unbookmark-item-6368664\" data-method=\"delete\" data-remote=\"true\" href=\"/autos/6368664-kia-ceed/bookmarks\" rel=\"nofollow\"><div class=\"bookmarking added\"></div></a><div class=\"products-i__top\"><img alt=\"Kia Ceed\" loading=\"lazy\" src=\"https://turbo.azstatic.com/uploads/f460x343/2022%2F06%2F09%2F18%2F48%2F11%2F57b26b92-630d-4b96-a5ce-ce2248431efe%2F85091_90ZU0onGiDSoLmHbPBNj1Q.jpg\"/><div class=\"products-i__info\"></div></div><div class=\"products-i__bottom\"><div class=\"products-i__price products-i__bottom-text\"><div class=\"product-price\">17 200 <span>AZN</span></div></div><div class=\"products-i__name products-i__bottom-text\">Kia Ceed</div><div class=\"products-i__attributes products-i__bottom-text\">2012, 1.6 L, 260 000 km</div><div class=\"products-i__datetime\">Sumqayıt, bugün 18:52</div></div></div><div class=\"products-i\"><a class=\"products-i__link\" href=\"/autos/6368663-hyundai-elantra\" target=\"_blank\"></a><a class=\"js-bookmark-item-6368663\" data-method=\"post\" data-remote=\"true\" href=\"/autos/6368663-hyundai-elantra/bookmarks\" rel=\"nofollow\"><div class=\"bookmarking\"></div></a><a class=\"hide js-unbookmark-item-6368663\" data-method=\"delete\" data-remote=\"true\" href=\"/autos/6368663-hyundai-elantra/bookmarks\" rel=\"nofollow\"><div class=\"bookmarking added\"></div></a><div class=\"products-i__top\"><img alt=\"Hyundai Elantra\" loading=\"lazy\" src=\"https://turbo.azstatic.com/uploads/f460x343/2022%2F06%2F09%2F18%2F44%2F29%2Fb4d3fc89-8878-45a7-9ce0-53837b4f3469%2F85117_KBJa8nHbw9Kok6_AScDTug.jpg\"/><div class=\"products-i__info\"><div class=\"products-i__icon products-i__icon--barter\"><div class=\"products-i__tooltip products-i__tooltip--barter\">Barter mümkündür</div></div></div></div><div class=\"products-i__bottom\"><div class=\"products-i__price products-i__bottom-text\"><div class=\"product-price\">14 000 <span>AZN</span></div></div><div class=\"products-i__name products-i__bottom-text\">Hyundai Elantra</div><div class=\"products-i__attributes products-i__bottom-text\">2011, 1.8 L, 295 300 km</div><div class=\"products-i__datetime\">Bakı, bugün 18:51</div></div></div><div class=\"products-i salon\"><a class=\"products-i__link\" href=\"/autos/6368662-chevrolet-malibu\" target=\"_blank\"></a><a class=\"js-bookmark-item-6368662\" data-method=\"post\" data-remote=\"true\" href=\"/autos/6368662-chevrolet-malibu/bookmarks\" rel=\"nofollow\"><div class=\"bookmarking\"></div></a><a class=\"hide js-unbookmark-item-6368662\" data-method=\"delete\" data-remote=\"true\" href=\"/autos/6368662-chevrolet-malibu/bookmarks\" rel=\"nofollow\"><div class=\"bookmarking added\"></div></a><div class=\"products-i__top\"><img alt=\"Chevrolet Malibu\" loading=\"lazy\" src=\"https://turbo.azstatic.com/uploads/f460x343/2022%2F06%2F09%2F18%2F50%2F08%2F44f6bdb9-a0a1-475f-82cf-1b0c744139fc%2F85110_nC0ly6hinlNU4N8ZNFIPaA.jpg\"/><div class=\"products-i__label products-i__label--salon\">Salon</div><div class=\"products-i__info\"><div class=\"products-i__icon products-i__icon--barter\"><div class=\"products-i__tooltip products-i__tooltip--barter\">Barter mümkündür</div></div><div class=\"products-i__icon products-i__icon--loan\"><div class=\"products-i__tooltip products-i__tooltip--loan\">Kreditdədir</div></div></div></div><div class=\"products-i__bottom\"><div class=\"products-i__price products-i__bottom-text\"><div class=\"product-price\">16 800 <span>AZN</span></div></div><div class=\"products-i__name products-i__bottom-text\">Chevrolet Malibu</div><div class=\"products-i__attributes products-i__bottom-text\">2012, 2.4 L, 191 900 km</div><div class=\"products-i__datetime\">Sumqayıt, bugün 18:51</div></div></div><div class=\"products-i\"><a class=\"products-i__link\" href=\"/autos/6145256-gaz-3302-744\" target=\"_blank\"></a><a class=\"js-bookmark-item-6145256\" data-method=\"post\" data-remote=\"true\" href=\"/autos/6145256-gaz-3302-744/bookmarks\" rel=\"nofollow\"><div class=\"bookmarking\"></div></a><a class=\"hide js-unbookmark-item-6145256\" data-method=\"delete\" data-remote=\"true\" href=\"/autos/6145256-gaz-3302-744/bookmarks\" rel=\"nofollow\"><div class=\"bookmarking added\"></div></a><div class=\"products-i__top\"><img alt=\"GAZ 3302-744\" loading=\"lazy\" src=\"https://turbo.azstatic.com/uploads/f460x343/2022%2F04%2F01%2F13%2F31%2F52%2F0c2edf6e-6cf6-4451-b57f-a713a2d49a79%2F77546_70WsdNRm0CMpG8GHEA_sTg.jpg\"/><div class=\"products-i__info\"></div></div><div class=\"products-i__bottom\"><div class=\"products-i__price products-i__bottom-text\"><div class=\"product-price\">16 500 <span>AZN</span></div></div><div class=\"products-i__name products-i__bottom-text\">GAZ 3302-744</div><div class=\"products-i__attributes products-i__bottom-text\">2005, 2.4 L, 12 455 km</div><div class=\"products-i__datetime\">Cəlilabad, bugün 18:51</div></div></div><div class=\"products-i\"><a class=\"products-i__link\" href=\"/autos/6306062-hyundai-i30\" target=\"_blank\"></a><a class=\"js-bookmark-item-6306062\" data-method=\"post\" data-remote=\"true\" href=\"/autos/6306062-hyundai-i30/bookmarks\" rel=\"nofollow\"><div class=\"bookmarking\"></div></a><a class=\"hide js-unbookmark-item-6306062\" data-method=\"delete\" data-remote=\"true\" href=\"/autos/6306062-hyundai-i30/bookmarks\" rel=\"nofollow\"><div class=\"bookmarking added\"></div></a><div class=\"products-i__top\"><img alt=\"Hyundai i30\" loading=\"lazy\" src=\"https://turbo.azstatic.com/uploads/f460x343/2022%2F05%2F19%2F14%2F34%2F53%2F7b896560-1110-49f0-8451-2af7ab0e7e6f%2F37247_SpVdTsHfZRlV4DQucfHOLA.jpg\"/><div class=\"products-i__info\"><div class=\"products-i__icon products-i__icon--barter\"><div class=\"products-i__tooltip products-i__tooltip--barter\">Barter mümkündür</div></div></div></div><div class=\"products-i__bottom\"><div class=\"products-i__price products-i__bottom-text\"><div class=\"product-price\">14 500 <span>AZN</span></div></div><div class=\"products-i__name products-i__bottom-text\">Hyundai i30</div><div class=\"products-i__attributes products-i__bottom-text\">2010, 1.4 L, 156 000 km</div><div class=\"products-i__datetime\">Bakı, bugün 18:51</div></div></div><div class=\"products-i\"><a class=\"products-i__link\" href=\"/autos/6108685-opel-astra\" target=\"_blank\"></a><a class=\"js-bookmark-item-6108685\" data-method=\"post\" data-remote=\"true\" href=\"/autos/6108685-opel-astra/bookmarks\" rel=\"nofollow\"><div class=\"bookmarking\"></div></a><a class=\"hide js-unbookmark-item-6108685\" data-method=\"delete\" data-remote=\"true\" href=\"/autos/6108685-opel-astra/bookmarks\" rel=\"nofollow\"><div class=\"bookmarking added\"></div></a><div class=\"products-i__top\"><img alt=\"Opel Astra\" loading=\"lazy\" src=\"https://turbo.azstatic.com/uploads/f460x343/2022%2F03%2F21%2F15%2F31%2F30%2F321c87b9-1216-41c4-8533-b0dd124f7364%2F485_Ki0FKP7cVB-mTVISSs72qg.jpg\"/><div class=\"products-i__info\"></div></div><div class=\"products-i__bottom\"><div class=\"products-i__price products-i__bottom-text\"><div class=\"product-price\">9 200 <span>AZN</span></div></div><div class=\"products-i__name products-i__bottom-text\">Opel Astra</div><div class=\"products-i__attributes products-i__bottom-text\">2005, 1.4 L, 179 000 km</div><div class=\"products-i__datetime\">Bakı, bugün 18:49</div></div></div><div class=\"products-i\"><a class=\"products-i__link\" href=\"/autos/6336581-hyundai-accent\" target=\"_blank\"></a><a class=\"js-bookmark-item-6336581\" data-method=\"post\" data-remote=\"true\" href=\"/autos/6336581-hyundai-accent/bookmarks\" rel=\"nofollow\"><div class=\"bookmarking\"></div></a><a class=\"hide js-unbookmark-item-6336581\" data-method=\"delete\" data-remote=\"true\" href=\"/autos/6336581-hyundai-accent/bookmarks\" rel=\"nofollow\"><div class=\"bookmarking added\"></div></a><div class=\"products-i__top\"><img alt=\"Hyundai Accent\" loading=\"lazy\" src=\"https://turbo.azstatic.com/uploads/f460x343/2022%2F06%2F09%2F13%2F50%2F52%2F70e742dd-d9aa-404b-8897-c9242ae15e02%2F91283_c48fkkB-UFufAjFNNLPJ4A.jpg\"/><div class=\"products-i__info\"></div></div><div class=\"products-i__bottom\"><div class=\"products-i__price products-i__bottom-text\"><div class=\"product-price\">14 800 <span>AZN</span></div></div><div class=\"products-i__name products-i__bottom-text\">Hyundai Accent</div><div class=\"products-i__attributes products-i__bottom-text\">2011, 1.6 L, 146 000 km</div><div class=\"products-i__datetime\">Bakı, bugün 18:48</div></div></div><div class=\"products-i\"><a class=\"products-i__link\" href=\"/autos/6368651-lada-vaz-niva\" target=\"_blank\"></a><a class=\"js-bookmark-item-6368651\" data-method=\"post\" data-remote=\"true\" href=\"/autos/6368651-lada-vaz-niva/bookmarks\" rel=\"nofollow\"><div class=\"bookmarking\"></div></a><a class=\"hide js-unbookmark-item-6368651\" data-method=\"delete\" data-remote=\"true\" href=\"/autos/6368651-lada-vaz-niva/bookmarks\" rel=\"nofollow\"><div class=\"bookmarking added\"></div></a><div class=\"products-i__top\"><img alt=\"LADA (VAZ) Niva\" loading=\"lazy\" src=\"https://turbo.azstatic.com/uploads/f460x343/2022%2F06%2F09%2F18%2F41%2F23%2Fc7ec8351-d044-4dd8-a511-3d4c92c26714%2F85107_YAxmW85IZ83R5cNLabseVg.jpg\"/><div class=\"products-i__info\"></div></div><div class=\"products-i__bottom\"><div class=\"products-i__price products-i__bottom-text\"><div class=\"product-price\">11 000 <span>AZN</span></div></div><div class=\"products-i__name products-i__bottom-text\">LADA (VAZ) Niva</div><div class=\"products-i__attributes products-i__bottom-text\">2015, 1.7 L, 145 376 km</div><div class=\"products-i__datetime\">Mingəçevir, bugün 18:48</div></div></div><div class=\"products-i\"><a class=\"products-i__link\" href=\"/autos/6368652-lada-vaz-2107\" target=\"_blank\"></a><a class=\"js-bookmark-item-6368652\" data-method=\"post\" data-remote=\"true\" href=\"/autos/6368652-lada-vaz-2107/bookmarks\" rel=\"nofollow\"><div class=\"bookmarking\"></div></a><a class=\"hide js-unbookmark-item-6368652\" data-method=\"delete\" data-remote=\"true\" href=\"/autos/6368652-lada-vaz-2107/bookmarks\" rel=\"nofollow\"><div class=\"bookmarking added\"></div></a><div class=\"products-i__top\"><img alt=\"LADA (VAZ) 2107\" loading=\"lazy\" src=\"https://turbo.azstatic.com/uploads/f460x343/2022%2F06%2F09%2F18%2F39%2F14%2F29e57381-2f0e-4b13-add0-2a99bdbd8784%2F91317_3ajcHm_9md02g_v7SKb5ig.jpg\"/><div class=\"products-i__info\"></div></div><div class=\"products-i__bottom\"><div class=\"products-i__price products-i__bottom-text\"><div class=\"product-price\">4 700 <span>AZN</span></div></div><div class=\"products-i__name products-i__bottom-text\">LADA (VAZ) 2107</div><div class=\"products-i__attributes products-i__bottom-text\">1983, 1.6 L, 320 000 km</div><div class=\"products-i__datetime\">Saatlı, bugün 18:48</div></div></div><div class=\"products-i\"><a class=\"products-i__link\" href=\"/autos/6368648-mercedes-viano\" target=\"_blank\"></a><a class=\"js-bookmark-item-6368648\" data-method=\"post\" data-remote=\"true\" href=\"/autos/6368648-mercedes-viano/bookmarks\" rel=\"nofollow\"><div class=\"bookmarking\"></div></a><a class=\"hide js-unbookmark-item-6368648\" data-method=\"delete\" data-remote=\"true\" href=\"/autos/6368648-mercedes-viano/bookmarks\" rel=\"nofollow\"><div class=\"bookmarking added\"></div></a><div class=\"products-i__top\"><img alt=\"Mercedes Viano\" loading=\"lazy\" src=\"https://turbo.azstatic.com/uploads/f460x343/2022%2F06%2F09%2F18%2F32%2F30%2F4a7217e1-bccd-47c3-849d-d6bf547fe108%2F90569_yCgTZF9l6pqvPUNR56-AcA.jpg\"/><div class=\"products-i__info\"></div></div><div class=\"products-i__bottom\"><div class=\"products-i__price products-i__bottom-text\"><div class=\"product-price\">26 500 <span>AZN</span></div></div><div class=\"products-i__name products-i__bottom-text\">Mercedes Viano</div><div class=\"products-i__attributes products-i__bottom-text\">2005, 2.2 L, 289 000 km</div><div class=\"products-i__datetime\">Bakı, bugün 18:48</div></div></div><div class=\"products-i\"><a class=\"products-i__link\" href=\"/autos/6368645-mercedes-e-350\" target=\"_blank\"></a><a class=\"js-bookmark-item-6368645\" data-method=\"post\" data-remote=\"true\" href=\"/autos/6368645-mercedes-e-350/bookmarks\" rel=\"nofollow\"><div class=\"bookmarking\"></div></a><a class=\"hide js-unbookmark-item-6368645\" data-method=\"delete\" data-remote=\"true\" href=\"/autos/6368645-mercedes-e-350/bookmarks\" rel=\"nofollow\"><div class=\"bookmarking added\"></div></a><div class=\"products-i__top\"><img alt=\"Mercedes E 350\" loading=\"lazy\" src=\"https://turbo.azstatic.com/uploads/f460x343/2022%2F06%2F09%2F18%2F42%2F49%2Fd033a3b0-e4d4-4faf-8659-b72d3ab389d1%2F91305_zDGlTPMKBfMjQ7qrK4H9RQ.jpg\"/><div class=\"products-i__info\"><div class=\"products-i__icon products-i__icon--barter\"><div class=\"products-i__tooltip products-i__tooltip--barter\">Barter mümkündür</div></div></div></div><div class=\"products-i__bottom\"><div class=\"products-i__price products-i__bottom-text\"><div class=\"product-price\">24 000 <span>AZN</span></div></div><div class=\"products-i__name products-i__bottom-text\">Mercedes E 350</div><div class=\"products-i__attributes products-i__bottom-text\">2008, 3.5 L, 237 000 km</div><div class=\"products-i__datetime\">Bakı, bugün 18:48</div></div></div></div></div><div class=\"section-title section-title--grey\"><div class=\"tz-container tz-align-center tz-d-flex\"><a href=\"https://tap.az/elanlar/neqliyyat/ehtiyyat-hisseleri-ve-aksesuarlar\" target=\"_blank\"><p class=\"section-title_name\">Ehtiyat hissələri və aksesuarlar</p></a></div></div><iframe class=\"embed embed--products\" frameborder=\"0\" src=\"https://tap.az/embed/turboaz.html?category=parts-accessories&amp;amp;block_type=other-page\"></iframe><div class=\"section-title section-title--grey\"><div class=\"tz-container tz-align-center tz-d-flex\"><a href=\"https://tap.az/all/consumer-electronics/phones\" target=\"_blank\"><p class=\"section-title_name\">Telefonlar 50 AZN-dən</p></a></div></div><iframe class=\"embed embed--products\" frameborder=\"0\" src=\"https://tap.az/embed/turboaz.html?category=phones&amp;amp;block_type=other-page\"></iframe><div class=\"pagination-container\"><nav class=\"pagination\"><span class=\"page current\">1</span> <span class=\"page\"><a href=\"/autos?page=2\" rel=\"next\">2</a></span> <span class=\"page\"><a href=\"/autos?page=3\">3</a></span> <span class=\"page\"><a href=\"/autos?page=4\">4</a></span> <span class=\"page\"><a href=\"/autos?page=5\">5</a></span> <span class=\"last\"><a href=\"/autos?page=417\">...</a></span> <span class=\"page gap\"></span><span class=\"next\"><a href=\"/autos?page=2\" rel=\"next\">Növbəti</a></span> </nav></div></div>"
      ]
     },
     "execution_count": 22,
     "metadata": {},
     "output_type": "execute_result"
    }
   ],
   "source": [
    "page_content"
   ]
  },
  {
   "cell_type": "code",
   "execution_count": 14,
   "id": "c692f3c4",
   "metadata": {},
   "outputs": [],
   "source": [
    "all_=page_content.find_all('div',class_='tz-container')"
   ]
  },
  {
   "cell_type": "code",
   "execution_count": 17,
   "id": "30eb0526",
   "metadata": {},
   "outputs": [],
   "source": [
    "elanlar=all_[4]"
   ]
  },
  {
   "cell_type": "code",
   "execution_count": null,
   "id": "b4d29642",
   "metadata": {},
   "outputs": [],
   "source": [
    "elanlar"
   ]
  },
  {
   "cell_type": "code",
   "execution_count": 18,
   "id": "7bca6496",
   "metadata": {},
   "outputs": [],
   "source": [
    "items = elanlar.find_all('div', class_='products-i')"
   ]
  },
  {
   "cell_type": "code",
   "execution_count": 19,
   "id": "c2c63442",
   "metadata": {},
   "outputs": [
    {
     "data": {
      "text/plain": [
       "24"
      ]
     },
     "execution_count": 19,
     "metadata": {},
     "output_type": "execute_result"
    }
   ],
   "source": [
    "len(items)"
   ]
  },
  {
   "cell_type": "code",
   "execution_count": 31,
   "id": "9e5706db",
   "metadata": {},
   "outputs": [
    {
     "data": {
      "text/plain": [
       "<div class=\"tz-container\"><div class=\"products-title\"><p class=\"products-title-amount\">10000 elan</p><div class=\"products-title-sort\"><select id=\"sort-variants\" name=\"sort-variants\"><option data-path=\"/autos?q%5Bsort%5D=created_at\" value=\"created_at\">Tarixə görə</option>\n",
       "<option data-path=\"/autos?q%5Bsort%5D=price_asc\" value=\"price_asc\">Əvvəlcə ucuz</option>\n",
       "<option data-path=\"/autos?q%5Bsort%5D=price_desc\" value=\"price_desc\">Əvvəlcə bahalı</option>\n",
       "<option data-path=\"/autos?q%5Bsort%5D=mileage\" value=\"mileage\">Yürüş</option>\n",
       "<option data-path=\"/autos?q%5Bsort%5D=reg_year\" value=\"reg_year\">Buraxılış ili</option></select></div></div><div class=\"products\"><div class=\"products-i vipped featured\"><a class=\"products-i__link\" href=\"/autos/6235796-mitsubishi-pajero\" target=\"_blank\"></a><a class=\"js-bookmark-item-6235796\" data-method=\"post\" data-remote=\"true\" href=\"/autos/6235796-mitsubishi-pajero/bookmarks\" rel=\"nofollow\"><div class=\"bookmarking\"></div></a><a class=\"hide js-unbookmark-item-6235796\" data-method=\"delete\" data-remote=\"true\" href=\"/autos/6235796-mitsubishi-pajero/bookmarks\" rel=\"nofollow\"><div class=\"bookmarking added\"></div></a><div class=\"products-i__top\"><img alt=\"Mitsubishi Pajero\" loading=\"lazy\" src=\"https://turbo.azstatic.com/uploads/f460x343/2022%2F04%2F26%2F15%2F26%2F15%2F011ea45c-06d0-4375-9a70-a79e34ccc03e%2F25947_vlWzPqOtB_IDcHcy0ZlfvQ.jpg\"/><div class=\"products-i__paid\"><span class=\"featured-icon\"></span><span class=\"vipped-icon\"></span></div><div class=\"products-i__info\"></div></div><div class=\"products-i__bottom\"><div class=\"products-i__price products-i__bottom-text\"><div class=\"product-price\">26 900 <span>AZN</span></div></div><div class=\"products-i__name products-i__bottom-text\">Mitsubishi Pajero</div><div class=\"products-i__attributes products-i__bottom-text\">2010, 3.5 L, 224 000 km</div><div class=\"products-i__datetime\">Bakı, bugün 18:58</div></div></div><div class=\"products-i\"><a class=\"products-i__link\" href=\"/autos/6368675-mercedes-190\" target=\"_blank\"></a><a class=\"js-bookmark-item-6368675\" data-method=\"post\" data-remote=\"true\" href=\"/autos/6368675-mercedes-190/bookmarks\" rel=\"nofollow\"><div class=\"bookmarking\"></div></a><a class=\"hide js-unbookmark-item-6368675\" data-method=\"delete\" data-remote=\"true\" href=\"/autos/6368675-mercedes-190/bookmarks\" rel=\"nofollow\"><div class=\"bookmarking added\"></div></a><div class=\"products-i__top\"><img alt=\"Mercedes 190\" loading=\"lazy\" src=\"https://turbo.azstatic.com/uploads/f460x343/2022%2F06%2F09%2F18%2F45%2F37%2F1cab5d9e-9031-42e1-88ea-0845b5533e2b%2F21597_LaWSGB2EiiTJSVBw2lKnqQ.jpg\"/><div class=\"products-i__info\"></div></div><div class=\"products-i__bottom\"><div class=\"products-i__price products-i__bottom-text\"><div class=\"product-price\">5 200 <span>AZN</span></div></div><div class=\"products-i__name products-i__bottom-text\">Mercedes 190</div><div class=\"products-i__attributes products-i__bottom-text\">1990, 2.0 L, 316 000 km</div><div class=\"products-i__datetime\">Bakı, bugün 18:57</div></div></div><div class=\"products-i\"><a class=\"products-i__link\" href=\"/autos/6368676-toyota-prius\" target=\"_blank\"></a><a class=\"js-bookmark-item-6368676\" data-method=\"post\" data-remote=\"true\" href=\"/autos/6368676-toyota-prius/bookmarks\" rel=\"nofollow\"><div class=\"bookmarking\"></div></a><a class=\"hide js-unbookmark-item-6368676\" data-method=\"delete\" data-remote=\"true\" href=\"/autos/6368676-toyota-prius/bookmarks\" rel=\"nofollow\"><div class=\"bookmarking added\"></div></a><div class=\"products-i__top\"><img alt=\"Toyota Prius\" loading=\"lazy\" src=\"https://turbo.azstatic.com/uploads/f460x343/2022%2F06%2F09%2F18%2F53%2F24%2Fe97be05e-ba41-4ea4-9a24-af2163cf4037%2F90563_Mw1O8be2X13Cp86WpFZijw.jpg\"/><div class=\"products-i__info\"></div></div><div class=\"products-i__bottom\"><div class=\"products-i__price products-i__bottom-text\"><div class=\"product-price\">13 300 <span>AZN</span></div></div><div class=\"products-i__name products-i__bottom-text\">Toyota Prius</div><div class=\"products-i__attributes products-i__bottom-text\">2008, 1.5 L, 190 000 km</div><div class=\"products-i__datetime\">Bakı, bugün 18:57</div></div></div><div class=\"products-i\"><a class=\"products-i__link\" href=\"/autos/6238445-kia-sorento\" target=\"_blank\"></a><a class=\"js-bookmark-item-6238445\" data-method=\"post\" data-remote=\"true\" href=\"/autos/6238445-kia-sorento/bookmarks\" rel=\"nofollow\"><div class=\"bookmarking\"></div></a><a class=\"hide js-unbookmark-item-6238445\" data-method=\"delete\" data-remote=\"true\" href=\"/autos/6238445-kia-sorento/bookmarks\" rel=\"nofollow\"><div class=\"bookmarking added\"></div></a><div class=\"products-i__top\"><img alt=\"Kia Sorento\" loading=\"lazy\" src=\"https://turbo.azstatic.com/uploads/f460x343/2022%2F04%2F27%2F11%2F54%2F46%2F35793735-fead-4ece-923d-bb850bc50929%2F96194_ZwcnaIonGWIMRGKBZjVIbg.jpg\"/><div class=\"products-i__info\"></div></div><div class=\"products-i__bottom\"><div class=\"products-i__price products-i__bottom-text\"><div class=\"product-price\">28 500 <span>AZN</span></div></div><div class=\"products-i__name products-i__bottom-text\">Kia Sorento</div><div class=\"products-i__attributes products-i__bottom-text\">2010, 2.0 L, 146 000 km</div><div class=\"products-i__datetime\">Bakı, bugün 18:57</div></div></div><div class=\"products-i\"><a class=\"products-i__link\" href=\"/autos/6368674-lada-vaz-21011\" target=\"_blank\"></a><a class=\"js-bookmark-item-6368674\" data-method=\"post\" data-remote=\"true\" href=\"/autos/6368674-lada-vaz-21011/bookmarks\" rel=\"nofollow\"><div class=\"bookmarking\"></div></a><a class=\"hide js-unbookmark-item-6368674\" data-method=\"delete\" data-remote=\"true\" href=\"/autos/6368674-lada-vaz-21011/bookmarks\" rel=\"nofollow\"><div class=\"bookmarking added\"></div></a><div class=\"products-i__top\"><img alt=\"LADA (VAZ) 21011\" loading=\"lazy\" src=\"https://turbo.azstatic.com/uploads/f460x343/2022%2F06%2F09%2F18%2F47%2F16%2F290e87a3-bf5d-44a5-9617-baf37e04b1f1%2F91296_y97hzl4zJoGRtp67l1bfEA.jpg\"/><div class=\"products-i__info\"></div></div><div class=\"products-i__bottom\"><div class=\"products-i__price products-i__bottom-text\"><div class=\"product-price\">2 800 <span>AZN</span></div></div><div class=\"products-i__name products-i__bottom-text\">LADA (VAZ) 21011</div><div class=\"products-i__attributes products-i__bottom-text\">1976, 1.6 L, 28 480 km</div><div class=\"products-i__datetime\">Gəncə, bugün 18:57</div></div></div><div class=\"products-i\"><a class=\"products-i__link\" href=\"/autos/6349623-ford-transit\" target=\"_blank\"></a><a class=\"js-bookmark-item-6349623\" data-method=\"post\" data-remote=\"true\" href=\"/autos/6349623-ford-transit/bookmarks\" rel=\"nofollow\"><div class=\"bookmarking\"></div></a><a class=\"hide js-unbookmark-item-6349623\" data-method=\"delete\" data-remote=\"true\" href=\"/autos/6349623-ford-transit/bookmarks\" rel=\"nofollow\"><div class=\"bookmarking added\"></div></a><div class=\"products-i__top\"><img alt=\"Ford Transit\" loading=\"lazy\" src=\"https://turbo.azstatic.com/uploads/f460x343/2022%2F06%2F02%2F22%2F50%2F50%2F53ea83c6-660c-4697-8c9f-7b506481f8fe%2F30287_YT7hO9hy4jP2FV5aDghftg.jpg\"/><div class=\"products-i__info\"></div></div><div class=\"products-i__bottom\"><div class=\"products-i__price products-i__bottom-text\"><div class=\"product-price\">21 800 <span>AZN</span></div></div><div class=\"products-i__name products-i__bottom-text\">Ford Transit</div><div class=\"products-i__attributes products-i__bottom-text\">1999, 2.5 L, 142 130 km</div><div class=\"products-i__datetime\">Göygöl, bugün 18:57</div></div></div><div class=\"products-i\"><a class=\"products-i__link\" href=\"/autos/6335796-hyundai-santa-fe\" target=\"_blank\"></a><a class=\"js-bookmark-item-6335796\" data-method=\"post\" data-remote=\"true\" href=\"/autos/6335796-hyundai-santa-fe/bookmarks\" rel=\"nofollow\"><div class=\"bookmarking\"></div></a><a class=\"hide js-unbookmark-item-6335796\" data-method=\"delete\" data-remote=\"true\" href=\"/autos/6335796-hyundai-santa-fe/bookmarks\" rel=\"nofollow\"><div class=\"bookmarking added\"></div></a><div class=\"products-i__top\"><img alt=\"Hyundai Santa Fe\" loading=\"lazy\" src=\"https://turbo.azstatic.com/uploads/f460x343/2022%2F05%2F29%2F15%2F05%2F27%2F7386e410-7bc5-4c2d-a445-e28260d92356%2F99263_X1-osMtwMThsOuZg_Nldvw.jpg\"/><div class=\"products-i__info\"></div></div><div class=\"products-i__bottom\"><div class=\"products-i__price products-i__bottom-text\"><div class=\"product-price\">19 200 <span>AZN</span></div></div><div class=\"products-i__name products-i__bottom-text\">Hyundai Santa Fe</div><div class=\"products-i__attributes products-i__bottom-text\">2009, 2.7 L, 166 400 km</div><div class=\"products-i__datetime\">Bakı, bugün 18:56</div></div></div><div class=\"products-i\"><a class=\"products-i__link\" href=\"/autos/6300446-toyota-prius\" target=\"_blank\"></a><a class=\"js-bookmark-item-6300446\" data-method=\"post\" data-remote=\"true\" href=\"/autos/6300446-toyota-prius/bookmarks\" rel=\"nofollow\"><div class=\"bookmarking\"></div></a><a class=\"hide js-unbookmark-item-6300446\" data-method=\"delete\" data-remote=\"true\" href=\"/autos/6300446-toyota-prius/bookmarks\" rel=\"nofollow\"><div class=\"bookmarking added\"></div></a><div class=\"products-i__top\"><img alt=\"Toyota Prius\" loading=\"lazy\" src=\"https://turbo.azstatic.com/uploads/f460x343/2022%2F05%2F17%2F18%2F25%2F55%2F226f66fa-8a8c-460f-95c7-dc2459f7fad6%2F83561_q1xkPFpaaGw9qEDSROJF4g.jpg\"/><div class=\"products-i__info\"><div class=\"products-i__icon products-i__icon--loan\"><div class=\"products-i__tooltip products-i__tooltip--loan\">Kreditdədir</div></div></div></div><div class=\"products-i__bottom\"><div class=\"products-i__price products-i__bottom-text\"><div class=\"product-price\">12 700 <span>AZN</span></div></div><div class=\"products-i__name products-i__bottom-text\">Toyota Prius</div><div class=\"products-i__attributes products-i__bottom-text\">2008, 1.5 L, 174 000 km</div><div class=\"products-i__datetime\">Bakı, bugün 18:56</div></div></div><div class=\"products-i salon\"><a class=\"products-i__link\" href=\"/autos/6368679-toyota-prado\" target=\"_blank\"></a><a class=\"js-bookmark-item-6368679\" data-method=\"post\" data-remote=\"true\" href=\"/autos/6368679-toyota-prado/bookmarks\" rel=\"nofollow\"><div class=\"bookmarking\"></div></a><a class=\"hide js-unbookmark-item-6368679\" data-method=\"delete\" data-remote=\"true\" href=\"/autos/6368679-toyota-prado/bookmarks\" rel=\"nofollow\"><div class=\"bookmarking added\"></div></a><div class=\"products-i__top\"><img alt=\"Toyota Prado\" loading=\"lazy\" src=\"https://turbo.azstatic.com/uploads/f460x343/2022%2F06%2F09%2F18%2F53%2F27%2Fbe7a94da-4047-42b1-a25a-54fba5905aa2%2F91288_QVw7s47iT4k_EkvIdcLNuA.jpg\"/><div class=\"products-i__label products-i__label--salon\">Salon</div><div class=\"products-i__info\"><div class=\"products-i__icon products-i__icon--barter\"><div class=\"products-i__tooltip products-i__tooltip--barter\">Barter mümkündür</div></div></div></div><div class=\"products-i__bottom\"><div class=\"products-i__price products-i__bottom-text\"><div class=\"product-price\">32 800 <span>$</span></div></div><div class=\"products-i__name products-i__bottom-text\">Toyota Prado</div><div class=\"products-i__attributes products-i__bottom-text\">2014, 2.7 L, 95 000 km</div><div class=\"products-i__datetime\">Bakı, bugün 18:56</div></div></div><div class=\"products-i\"><a class=\"products-i__link\" href=\"/autos/6304592-volkswagen-passat\" target=\"_blank\"></a><a class=\"js-bookmark-item-6304592\" data-method=\"post\" data-remote=\"true\" href=\"/autos/6304592-volkswagen-passat/bookmarks\" rel=\"nofollow\"><div class=\"bookmarking\"></div></a><a class=\"hide js-unbookmark-item-6304592\" data-method=\"delete\" data-remote=\"true\" href=\"/autos/6304592-volkswagen-passat/bookmarks\" rel=\"nofollow\"><div class=\"bookmarking added\"></div></a><div class=\"products-i__top\"><img alt=\"Volkswagen Passat\" loading=\"lazy\" src=\"https://turbo.azstatic.com/uploads/f460x343/2022%2F05%2F18%2F22%2F34%2F47%2Fde0ad89d-0e1c-4cae-be66-3dae09ce66e0%2F83563_Xu4QkXPOpPZk_72YtWld_g.jpg\"/><div class=\"products-i__info\"></div></div><div class=\"products-i__bottom\"><div class=\"products-i__price products-i__bottom-text\"><div class=\"product-price\">17 000 <span>AZN</span></div></div><div class=\"products-i__name products-i__bottom-text\">Volkswagen Passat</div><div class=\"products-i__attributes products-i__bottom-text\">2012, 2.0 L, 160 000 km</div><div class=\"products-i__datetime\">Bakı, bugün 18:56</div></div></div><div class=\"products-i vipped\"><a class=\"products-i__link\" href=\"/autos/6333199-chevrolet-cruze\" target=\"_blank\"></a><a class=\"js-bookmark-item-6333199\" data-method=\"post\" data-remote=\"true\" href=\"/autos/6333199-chevrolet-cruze/bookmarks\" rel=\"nofollow\"><div class=\"bookmarking\"></div></a><a class=\"hide js-unbookmark-item-6333199\" data-method=\"delete\" data-remote=\"true\" href=\"/autos/6333199-chevrolet-cruze/bookmarks\" rel=\"nofollow\"><div class=\"bookmarking added\"></div></a><div class=\"products-i__top\"><img alt=\"Chevrolet Cruze\" loading=\"lazy\" src=\"https://turbo.azstatic.com/uploads/f460x343/2022%2F06%2F05%2F19%2F00%2F35%2F4eea698c-983b-4cf2-ae8d-be149a178e44%2F16233_lDsvIiEVwI8ak1GBZy7o5w.jpg\"/><div class=\"products-i__paid\"><span class=\"vipped-icon\"></span></div><div class=\"products-i__info\"></div></div><div class=\"products-i__bottom\"><div class=\"products-i__price products-i__bottom-text\"><div class=\"product-price\">16 500 <span>AZN</span></div></div><div class=\"products-i__name products-i__bottom-text\">Chevrolet Cruze</div><div class=\"products-i__attributes products-i__bottom-text\">2016, 1.4 L, 118 000 km</div><div class=\"products-i__datetime\">Bakı, bugün 18:55</div></div></div><div class=\"products-i salon\"><a class=\"products-i__link\" href=\"/autos/6368672-ford-focus\" target=\"_blank\"></a><a class=\"js-bookmark-item-6368672\" data-method=\"post\" data-remote=\"true\" href=\"/autos/6368672-ford-focus/bookmarks\" rel=\"nofollow\"><div class=\"bookmarking\"></div></a><a class=\"hide js-unbookmark-item-6368672\" data-method=\"delete\" data-remote=\"true\" href=\"/autos/6368672-ford-focus/bookmarks\" rel=\"nofollow\"><div class=\"bookmarking added\"></div></a><div class=\"products-i__top\"><img alt=\"Ford Focus\" loading=\"lazy\" src=\"https://turbo.azstatic.com/uploads/f460x343/2022%2F06%2F09%2F18%2F52%2F08%2F24f8e309-c517-4fcf-a3bb-c790d385ad7c%2F22157_Dp898-eOnKshwj1Ebx64Zw.jpg\"/><div class=\"products-i__label products-i__label--salon\">Salon</div><div class=\"products-i__info\"><div class=\"products-i__icon products-i__icon--barter\"><div class=\"products-i__tooltip products-i__tooltip--barter\">Barter mümkündür</div></div><div class=\"products-i__icon products-i__icon--loan\"><div class=\"products-i__tooltip products-i__tooltip--loan\">Kreditdədir</div></div></div></div><div class=\"products-i__bottom\"><div class=\"products-i__price products-i__bottom-text\"><div class=\"product-price\">14 400 <span>AZN</span></div></div><div class=\"products-i__name products-i__bottom-text\">Ford Focus</div><div class=\"products-i__attributes products-i__bottom-text\">2014, 1.6 L, 131 300 km</div><div class=\"products-i__datetime\">Sumqayıt, bugün 18:54</div></div></div><div class=\"products-i\"><a class=\"products-i__link\" href=\"/autos/6368669-opel-astra\" target=\"_blank\"></a><a class=\"js-bookmark-item-6368669\" data-method=\"post\" data-remote=\"true\" href=\"/autos/6368669-opel-astra/bookmarks\" rel=\"nofollow\"><div class=\"bookmarking\"></div></a><a class=\"hide js-unbookmark-item-6368669\" data-method=\"delete\" data-remote=\"true\" href=\"/autos/6368669-opel-astra/bookmarks\" rel=\"nofollow\"><div class=\"bookmarking added\"></div></a><div class=\"products-i__top\"><img alt=\"Opel Astra\" loading=\"lazy\" src=\"https://turbo.azstatic.com/uploads/f460x343/2022%2F06%2F09%2F18%2F38%2F38%2Fe0bf871d-542b-42bf-8945-eb09de8cbcd1%2F91300_pqNoGQXd7ndu4-YfV1Lqew.jpg\"/><div class=\"products-i__info\"><div class=\"products-i__icon products-i__icon--barter\"><div class=\"products-i__tooltip products-i__tooltip--barter\">Barter mümkündür</div></div></div></div><div class=\"products-i__bottom\"><div class=\"products-i__price products-i__bottom-text\"><div class=\"product-price\">13 700 <span>AZN</span></div></div><div class=\"products-i__name products-i__bottom-text\">Opel Astra</div><div class=\"products-i__attributes products-i__bottom-text\">2007, 1.8 L, 212 000 km</div><div class=\"products-i__datetime\">Bakı, bugün 18:52</div></div></div><div class=\"products-i\"><a class=\"products-i__link\" href=\"/autos/6368664-kia-ceed\" target=\"_blank\"></a><a class=\"js-bookmark-item-6368664\" data-method=\"post\" data-remote=\"true\" href=\"/autos/6368664-kia-ceed/bookmarks\" rel=\"nofollow\"><div class=\"bookmarking\"></div></a><a class=\"hide js-unbookmark-item-6368664\" data-method=\"delete\" data-remote=\"true\" href=\"/autos/6368664-kia-ceed/bookmarks\" rel=\"nofollow\"><div class=\"bookmarking added\"></div></a><div class=\"products-i__top\"><img alt=\"Kia Ceed\" loading=\"lazy\" src=\"https://turbo.azstatic.com/uploads/f460x343/2022%2F06%2F09%2F18%2F48%2F11%2F57b26b92-630d-4b96-a5ce-ce2248431efe%2F85091_90ZU0onGiDSoLmHbPBNj1Q.jpg\"/><div class=\"products-i__info\"></div></div><div class=\"products-i__bottom\"><div class=\"products-i__price products-i__bottom-text\"><div class=\"product-price\">17 200 <span>AZN</span></div></div><div class=\"products-i__name products-i__bottom-text\">Kia Ceed</div><div class=\"products-i__attributes products-i__bottom-text\">2012, 1.6 L, 260 000 km</div><div class=\"products-i__datetime\">Sumqayıt, bugün 18:52</div></div></div><div class=\"products-i\"><a class=\"products-i__link\" href=\"/autos/6368663-hyundai-elantra\" target=\"_blank\"></a><a class=\"js-bookmark-item-6368663\" data-method=\"post\" data-remote=\"true\" href=\"/autos/6368663-hyundai-elantra/bookmarks\" rel=\"nofollow\"><div class=\"bookmarking\"></div></a><a class=\"hide js-unbookmark-item-6368663\" data-method=\"delete\" data-remote=\"true\" href=\"/autos/6368663-hyundai-elantra/bookmarks\" rel=\"nofollow\"><div class=\"bookmarking added\"></div></a><div class=\"products-i__top\"><img alt=\"Hyundai Elantra\" loading=\"lazy\" src=\"https://turbo.azstatic.com/uploads/f460x343/2022%2F06%2F09%2F18%2F44%2F29%2Fb4d3fc89-8878-45a7-9ce0-53837b4f3469%2F85117_KBJa8nHbw9Kok6_AScDTug.jpg\"/><div class=\"products-i__info\"><div class=\"products-i__icon products-i__icon--barter\"><div class=\"products-i__tooltip products-i__tooltip--barter\">Barter mümkündür</div></div></div></div><div class=\"products-i__bottom\"><div class=\"products-i__price products-i__bottom-text\"><div class=\"product-price\">14 000 <span>AZN</span></div></div><div class=\"products-i__name products-i__bottom-text\">Hyundai Elantra</div><div class=\"products-i__attributes products-i__bottom-text\">2011, 1.8 L, 295 300 km</div><div class=\"products-i__datetime\">Bakı, bugün 18:51</div></div></div><div class=\"products-i salon\"><a class=\"products-i__link\" href=\"/autos/6368662-chevrolet-malibu\" target=\"_blank\"></a><a class=\"js-bookmark-item-6368662\" data-method=\"post\" data-remote=\"true\" href=\"/autos/6368662-chevrolet-malibu/bookmarks\" rel=\"nofollow\"><div class=\"bookmarking\"></div></a><a class=\"hide js-unbookmark-item-6368662\" data-method=\"delete\" data-remote=\"true\" href=\"/autos/6368662-chevrolet-malibu/bookmarks\" rel=\"nofollow\"><div class=\"bookmarking added\"></div></a><div class=\"products-i__top\"><img alt=\"Chevrolet Malibu\" loading=\"lazy\" src=\"https://turbo.azstatic.com/uploads/f460x343/2022%2F06%2F09%2F18%2F50%2F08%2F44f6bdb9-a0a1-475f-82cf-1b0c744139fc%2F85110_nC0ly6hinlNU4N8ZNFIPaA.jpg\"/><div class=\"products-i__label products-i__label--salon\">Salon</div><div class=\"products-i__info\"><div class=\"products-i__icon products-i__icon--barter\"><div class=\"products-i__tooltip products-i__tooltip--barter\">Barter mümkündür</div></div><div class=\"products-i__icon products-i__icon--loan\"><div class=\"products-i__tooltip products-i__tooltip--loan\">Kreditdədir</div></div></div></div><div class=\"products-i__bottom\"><div class=\"products-i__price products-i__bottom-text\"><div class=\"product-price\">16 800 <span>AZN</span></div></div><div class=\"products-i__name products-i__bottom-text\">Chevrolet Malibu</div><div class=\"products-i__attributes products-i__bottom-text\">2012, 2.4 L, 191 900 km</div><div class=\"products-i__datetime\">Sumqayıt, bugün 18:51</div></div></div><div class=\"products-i\"><a class=\"products-i__link\" href=\"/autos/6145256-gaz-3302-744\" target=\"_blank\"></a><a class=\"js-bookmark-item-6145256\" data-method=\"post\" data-remote=\"true\" href=\"/autos/6145256-gaz-3302-744/bookmarks\" rel=\"nofollow\"><div class=\"bookmarking\"></div></a><a class=\"hide js-unbookmark-item-6145256\" data-method=\"delete\" data-remote=\"true\" href=\"/autos/6145256-gaz-3302-744/bookmarks\" rel=\"nofollow\"><div class=\"bookmarking added\"></div></a><div class=\"products-i__top\"><img alt=\"GAZ 3302-744\" loading=\"lazy\" src=\"https://turbo.azstatic.com/uploads/f460x343/2022%2F04%2F01%2F13%2F31%2F52%2F0c2edf6e-6cf6-4451-b57f-a713a2d49a79%2F77546_70WsdNRm0CMpG8GHEA_sTg.jpg\"/><div class=\"products-i__info\"></div></div><div class=\"products-i__bottom\"><div class=\"products-i__price products-i__bottom-text\"><div class=\"product-price\">16 500 <span>AZN</span></div></div><div class=\"products-i__name products-i__bottom-text\">GAZ 3302-744</div><div class=\"products-i__attributes products-i__bottom-text\">2005, 2.4 L, 12 455 km</div><div class=\"products-i__datetime\">Cəlilabad, bugün 18:51</div></div></div><div class=\"products-i\"><a class=\"products-i__link\" href=\"/autos/6306062-hyundai-i30\" target=\"_blank\"></a><a class=\"js-bookmark-item-6306062\" data-method=\"post\" data-remote=\"true\" href=\"/autos/6306062-hyundai-i30/bookmarks\" rel=\"nofollow\"><div class=\"bookmarking\"></div></a><a class=\"hide js-unbookmark-item-6306062\" data-method=\"delete\" data-remote=\"true\" href=\"/autos/6306062-hyundai-i30/bookmarks\" rel=\"nofollow\"><div class=\"bookmarking added\"></div></a><div class=\"products-i__top\"><img alt=\"Hyundai i30\" loading=\"lazy\" src=\"https://turbo.azstatic.com/uploads/f460x343/2022%2F05%2F19%2F14%2F34%2F53%2F7b896560-1110-49f0-8451-2af7ab0e7e6f%2F37247_SpVdTsHfZRlV4DQucfHOLA.jpg\"/><div class=\"products-i__info\"><div class=\"products-i__icon products-i__icon--barter\"><div class=\"products-i__tooltip products-i__tooltip--barter\">Barter mümkündür</div></div></div></div><div class=\"products-i__bottom\"><div class=\"products-i__price products-i__bottom-text\"><div class=\"product-price\">14 500 <span>AZN</span></div></div><div class=\"products-i__name products-i__bottom-text\">Hyundai i30</div><div class=\"products-i__attributes products-i__bottom-text\">2010, 1.4 L, 156 000 km</div><div class=\"products-i__datetime\">Bakı, bugün 18:51</div></div></div><div class=\"products-i\"><a class=\"products-i__link\" href=\"/autos/6108685-opel-astra\" target=\"_blank\"></a><a class=\"js-bookmark-item-6108685\" data-method=\"post\" data-remote=\"true\" href=\"/autos/6108685-opel-astra/bookmarks\" rel=\"nofollow\"><div class=\"bookmarking\"></div></a><a class=\"hide js-unbookmark-item-6108685\" data-method=\"delete\" data-remote=\"true\" href=\"/autos/6108685-opel-astra/bookmarks\" rel=\"nofollow\"><div class=\"bookmarking added\"></div></a><div class=\"products-i__top\"><img alt=\"Opel Astra\" loading=\"lazy\" src=\"https://turbo.azstatic.com/uploads/f460x343/2022%2F03%2F21%2F15%2F31%2F30%2F321c87b9-1216-41c4-8533-b0dd124f7364%2F485_Ki0FKP7cVB-mTVISSs72qg.jpg\"/><div class=\"products-i__info\"></div></div><div class=\"products-i__bottom\"><div class=\"products-i__price products-i__bottom-text\"><div class=\"product-price\">9 200 <span>AZN</span></div></div><div class=\"products-i__name products-i__bottom-text\">Opel Astra</div><div class=\"products-i__attributes products-i__bottom-text\">2005, 1.4 L, 179 000 km</div><div class=\"products-i__datetime\">Bakı, bugün 18:49</div></div></div><div class=\"products-i\"><a class=\"products-i__link\" href=\"/autos/6336581-hyundai-accent\" target=\"_blank\"></a><a class=\"js-bookmark-item-6336581\" data-method=\"post\" data-remote=\"true\" href=\"/autos/6336581-hyundai-accent/bookmarks\" rel=\"nofollow\"><div class=\"bookmarking\"></div></a><a class=\"hide js-unbookmark-item-6336581\" data-method=\"delete\" data-remote=\"true\" href=\"/autos/6336581-hyundai-accent/bookmarks\" rel=\"nofollow\"><div class=\"bookmarking added\"></div></a><div class=\"products-i__top\"><img alt=\"Hyundai Accent\" loading=\"lazy\" src=\"https://turbo.azstatic.com/uploads/f460x343/2022%2F06%2F09%2F13%2F50%2F52%2F70e742dd-d9aa-404b-8897-c9242ae15e02%2F91283_c48fkkB-UFufAjFNNLPJ4A.jpg\"/><div class=\"products-i__info\"></div></div><div class=\"products-i__bottom\"><div class=\"products-i__price products-i__bottom-text\"><div class=\"product-price\">14 800 <span>AZN</span></div></div><div class=\"products-i__name products-i__bottom-text\">Hyundai Accent</div><div class=\"products-i__attributes products-i__bottom-text\">2011, 1.6 L, 146 000 km</div><div class=\"products-i__datetime\">Bakı, bugün 18:48</div></div></div><div class=\"products-i\"><a class=\"products-i__link\" href=\"/autos/6368651-lada-vaz-niva\" target=\"_blank\"></a><a class=\"js-bookmark-item-6368651\" data-method=\"post\" data-remote=\"true\" href=\"/autos/6368651-lada-vaz-niva/bookmarks\" rel=\"nofollow\"><div class=\"bookmarking\"></div></a><a class=\"hide js-unbookmark-item-6368651\" data-method=\"delete\" data-remote=\"true\" href=\"/autos/6368651-lada-vaz-niva/bookmarks\" rel=\"nofollow\"><div class=\"bookmarking added\"></div></a><div class=\"products-i__top\"><img alt=\"LADA (VAZ) Niva\" loading=\"lazy\" src=\"https://turbo.azstatic.com/uploads/f460x343/2022%2F06%2F09%2F18%2F41%2F23%2Fc7ec8351-d044-4dd8-a511-3d4c92c26714%2F85107_YAxmW85IZ83R5cNLabseVg.jpg\"/><div class=\"products-i__info\"></div></div><div class=\"products-i__bottom\"><div class=\"products-i__price products-i__bottom-text\"><div class=\"product-price\">11 000 <span>AZN</span></div></div><div class=\"products-i__name products-i__bottom-text\">LADA (VAZ) Niva</div><div class=\"products-i__attributes products-i__bottom-text\">2015, 1.7 L, 145 376 km</div><div class=\"products-i__datetime\">Mingəçevir, bugün 18:48</div></div></div><div class=\"products-i\"><a class=\"products-i__link\" href=\"/autos/6368652-lada-vaz-2107\" target=\"_blank\"></a><a class=\"js-bookmark-item-6368652\" data-method=\"post\" data-remote=\"true\" href=\"/autos/6368652-lada-vaz-2107/bookmarks\" rel=\"nofollow\"><div class=\"bookmarking\"></div></a><a class=\"hide js-unbookmark-item-6368652\" data-method=\"delete\" data-remote=\"true\" href=\"/autos/6368652-lada-vaz-2107/bookmarks\" rel=\"nofollow\"><div class=\"bookmarking added\"></div></a><div class=\"products-i__top\"><img alt=\"LADA (VAZ) 2107\" loading=\"lazy\" src=\"https://turbo.azstatic.com/uploads/f460x343/2022%2F06%2F09%2F18%2F39%2F14%2F29e57381-2f0e-4b13-add0-2a99bdbd8784%2F91317_3ajcHm_9md02g_v7SKb5ig.jpg\"/><div class=\"products-i__info\"></div></div><div class=\"products-i__bottom\"><div class=\"products-i__price products-i__bottom-text\"><div class=\"product-price\">4 700 <span>AZN</span></div></div><div class=\"products-i__name products-i__bottom-text\">LADA (VAZ) 2107</div><div class=\"products-i__attributes products-i__bottom-text\">1983, 1.6 L, 320 000 km</div><div class=\"products-i__datetime\">Saatlı, bugün 18:48</div></div></div><div class=\"products-i\"><a class=\"products-i__link\" href=\"/autos/6368648-mercedes-viano\" target=\"_blank\"></a><a class=\"js-bookmark-item-6368648\" data-method=\"post\" data-remote=\"true\" href=\"/autos/6368648-mercedes-viano/bookmarks\" rel=\"nofollow\"><div class=\"bookmarking\"></div></a><a class=\"hide js-unbookmark-item-6368648\" data-method=\"delete\" data-remote=\"true\" href=\"/autos/6368648-mercedes-viano/bookmarks\" rel=\"nofollow\"><div class=\"bookmarking added\"></div></a><div class=\"products-i__top\"><img alt=\"Mercedes Viano\" loading=\"lazy\" src=\"https://turbo.azstatic.com/uploads/f460x343/2022%2F06%2F09%2F18%2F32%2F30%2F4a7217e1-bccd-47c3-849d-d6bf547fe108%2F90569_yCgTZF9l6pqvPUNR56-AcA.jpg\"/><div class=\"products-i__info\"></div></div><div class=\"products-i__bottom\"><div class=\"products-i__price products-i__bottom-text\"><div class=\"product-price\">26 500 <span>AZN</span></div></div><div class=\"products-i__name products-i__bottom-text\">Mercedes Viano</div><div class=\"products-i__attributes products-i__bottom-text\">2005, 2.2 L, 289 000 km</div><div class=\"products-i__datetime\">Bakı, bugün 18:48</div></div></div><div class=\"products-i\"><a class=\"products-i__link\" href=\"/autos/6368645-mercedes-e-350\" target=\"_blank\"></a><a class=\"js-bookmark-item-6368645\" data-method=\"post\" data-remote=\"true\" href=\"/autos/6368645-mercedes-e-350/bookmarks\" rel=\"nofollow\"><div class=\"bookmarking\"></div></a><a class=\"hide js-unbookmark-item-6368645\" data-method=\"delete\" data-remote=\"true\" href=\"/autos/6368645-mercedes-e-350/bookmarks\" rel=\"nofollow\"><div class=\"bookmarking added\"></div></a><div class=\"products-i__top\"><img alt=\"Mercedes E 350\" loading=\"lazy\" src=\"https://turbo.azstatic.com/uploads/f460x343/2022%2F06%2F09%2F18%2F42%2F49%2Fd033a3b0-e4d4-4faf-8659-b72d3ab389d1%2F91305_zDGlTPMKBfMjQ7qrK4H9RQ.jpg\"/><div class=\"products-i__info\"><div class=\"products-i__icon products-i__icon--barter\"><div class=\"products-i__tooltip products-i__tooltip--barter\">Barter mümkündür</div></div></div></div><div class=\"products-i__bottom\"><div class=\"products-i__price products-i__bottom-text\"><div class=\"product-price\">24 000 <span>AZN</span></div></div><div class=\"products-i__name products-i__bottom-text\">Mercedes E 350</div><div class=\"products-i__attributes products-i__bottom-text\">2008, 3.5 L, 237 000 km</div><div class=\"products-i__datetime\">Bakı, bugün 18:48</div></div></div></div></div>"
      ]
     },
     "execution_count": 31,
     "metadata": {},
     "output_type": "execute_result"
    }
   ],
   "source": [
    "elanlar"
   ]
  },
  {
   "cell_type": "code",
   "execution_count": 33,
   "id": "e0730780",
   "metadata": {},
   "outputs": [],
   "source": [
    "item_url='https://turbo.az'+items[0].find('a')['href']"
   ]
  },
  {
   "cell_type": "code",
   "execution_count": 34,
   "id": "a07927bd",
   "metadata": {},
   "outputs": [
    {
     "data": {
      "text/plain": [
       "'https://turbo.az/autos/6235796-mitsubishi-pajero'"
      ]
     },
     "execution_count": 34,
     "metadata": {},
     "output_type": "execute_result"
    }
   ],
   "source": [
    "item_url"
   ]
  },
  {
   "cell_type": "code",
   "execution_count": 35,
   "id": "a336d75a",
   "metadata": {},
   "outputs": [
    {
     "ename": "NameError",
     "evalue": "name 'item' is not defined",
     "output_type": "error",
     "traceback": [
      "\u001b[1;31m---------------------------------------------------------------------------\u001b[0m",
      "\u001b[1;31mNameError\u001b[0m                                 Traceback (most recent call last)",
      "Input \u001b[1;32mIn [35]\u001b[0m, in \u001b[0;36m<cell line: 1>\u001b[1;34m()\u001b[0m\n\u001b[1;32m----> 1\u001b[0m details\u001b[38;5;241m=\u001b[39m\u001b[43mitem\u001b[49m\u001b[38;5;241m.\u001b[39mfind(\u001b[38;5;124m'\u001b[39m\u001b[38;5;124mdiv\u001b[39m\u001b[38;5;124m'\u001b[39m,class_\u001b[38;5;241m=\u001b[39m\u001b[38;5;124m'\u001b[39m\u001b[38;5;124mproducts-i__bottom\u001b[39m\u001b[38;5;124m'\u001b[39m)\n",
      "\u001b[1;31mNameError\u001b[0m: name 'item' is not defined"
     ]
    }
   ],
   "source": [
    "details=item.find('div',class_='products-i__bottom')"
   ]
  },
  {
   "cell_type": "code",
   "execution_count": 36,
   "id": "a4b9921f",
   "metadata": {},
   "outputs": [
    {
     "ename": "NameError",
     "evalue": "name 'details' is not defined",
     "output_type": "error",
     "traceback": [
      "\u001b[1;31m---------------------------------------------------------------------------\u001b[0m",
      "\u001b[1;31mNameError\u001b[0m                                 Traceback (most recent call last)",
      "Input \u001b[1;32mIn [36]\u001b[0m, in \u001b[0;36m<cell line: 1>\u001b[1;34m()\u001b[0m\n\u001b[1;32m----> 1\u001b[0m \u001b[43mdetails\u001b[49m\u001b[38;5;241m.\u001b[39mfind(\u001b[38;5;124m'\u001b[39m\u001b[38;5;124mdiv\u001b[39m\u001b[38;5;124m'\u001b[39m,class_\u001b[38;5;241m=\u001b[39m\u001b[38;5;124m'\u001b[39m\u001b[38;5;124mproduct-price\u001b[39m\u001b[38;5;124m'\u001b[39m)\u001b[38;5;241m.\u001b[39mtext\n",
      "\u001b[1;31mNameError\u001b[0m: name 'details' is not defined"
     ]
    }
   ],
   "source": [
    "details.find('div',class_='product-price').text"
   ]
  },
  {
   "cell_type": "code",
   "execution_count": 128,
   "id": "6f53d9d5",
   "metadata": {},
   "outputs": [
    {
     "data": {
      "text/plain": [
       "'Toyota Prius'"
      ]
     },
     "execution_count": 128,
     "metadata": {},
     "output_type": "execute_result"
    }
   ],
   "source": [
    "details.find('div',class_='products-i__name products-i__bottom-text').text"
   ]
  },
  {
   "cell_type": "code",
   "execution_count": null,
   "id": "abc9cefe",
   "metadata": {},
   "outputs": [],
   "source": []
  },
  {
   "cell_type": "code",
   "execution_count": 46,
   "id": "386481af",
   "metadata": {},
   "outputs": [
    {
     "name": "stdout",
     "output_type": "stream",
     "text": [
      "https://turbo.az/autos/6235796-mitsubishi-pajero 26 900 AZN Mitsubishi Pajero\n",
      "https://turbo.az/autos/6368675-mercedes-190 5 200 AZN Mercedes 190\n",
      "https://turbo.az/autos/6368676-toyota-prius 13 300 AZN Toyota Prius\n",
      "https://turbo.az/autos/6238445-kia-sorento 28 500 AZN Kia Sorento\n",
      "https://turbo.az/autos/6368674-lada-vaz-21011 2 800 AZN LADA (VAZ) 21011\n",
      "https://turbo.az/autos/6349623-ford-transit 21 800 AZN Ford Transit\n",
      "https://turbo.az/autos/6335796-hyundai-santa-fe 19 200 AZN Hyundai Santa Fe\n",
      "https://turbo.az/autos/6300446-toyota-prius 12 700 AZN Toyota Prius\n",
      "https://turbo.az/autos/6368679-toyota-prado 32 800 $ Toyota Prado\n",
      "https://turbo.az/autos/6304592-volkswagen-passat 17 000 AZN Volkswagen Passat\n",
      "https://turbo.az/autos/6333199-chevrolet-cruze 16 500 AZN Chevrolet Cruze\n",
      "https://turbo.az/autos/6368672-ford-focus 14 400 AZN Ford Focus\n",
      "https://turbo.az/autos/6368669-opel-astra 13 700 AZN Opel Astra\n",
      "https://turbo.az/autos/6368664-kia-ceed 17 200 AZN Kia Ceed\n",
      "https://turbo.az/autos/6368663-hyundai-elantra 14 000 AZN Hyundai Elantra\n",
      "https://turbo.az/autos/6368662-chevrolet-malibu 16 800 AZN Chevrolet Malibu\n",
      "https://turbo.az/autos/6145256-gaz-3302-744 16 500 AZN GAZ 3302-744\n",
      "https://turbo.az/autos/6306062-hyundai-i30 14 500 AZN Hyundai i30\n",
      "https://turbo.az/autos/6108685-opel-astra 9 200 AZN Opel Astra\n",
      "https://turbo.az/autos/6336581-hyundai-accent 14 800 AZN Hyundai Accent\n",
      "https://turbo.az/autos/6368651-lada-vaz-niva 11 000 AZN LADA (VAZ) Niva\n",
      "https://turbo.az/autos/6368652-lada-vaz-2107 4 700 AZN LADA (VAZ) 2107\n",
      "https://turbo.az/autos/6368648-mercedes-viano 26 500 AZN Mercedes Viano\n",
      "https://turbo.az/autos/6368645-mercedes-e-350 24 000 AZN Mercedes E 350\n"
     ]
    }
   ],
   "source": [
    "for item in items:\n",
    "    details=item.find('div',class_='products-i__bottom')\n",
    "    item_url='https://turbo.az'+item.find('a')['href']\n",
    "    price=details.find('div',class_='product-price').text\n",
    "    marka=details.find('div',class_='products-i__name products-i__bottom-text').text\n",
    "    print(item_url,price,marka)\n",
    "    insert_sql='insert into cars values(%s,%s,%s)'\n",
    "    values=(item_url,price,marka)"
   ]
  },
  {
   "cell_type": "code",
   "execution_count": 37,
   "id": "3a26d31d",
   "metadata": {},
   "outputs": [
    {
     "name": "stdout",
     "output_type": "stream",
     "text": [
      "Requirement already satisfied: pymysql in c:\\users\\u\\appdata\\local\\programs\\python\\python39\\lib\\site-packages (1.0.2)\n"
     ]
    },
    {
     "name": "stderr",
     "output_type": "stream",
     "text": [
      "WARNING: You are using pip version 22.0.4; however, version 22.1.2 is available.\n",
      "You should consider upgrading via the 'C:\\Users\\u\\AppData\\Local\\Programs\\Python\\Python39\\python.exe -m pip install --upgrade pip' command.\n"
     ]
    }
   ],
   "source": [
    "!pip install pymysql"
   ]
  },
  {
   "cell_type": "code",
   "execution_count": 22,
   "id": "28a4b8e7",
   "metadata": {},
   "outputs": [],
   "source": [
    "import pymysql"
   ]
  },
  {
   "cell_type": "code",
   "execution_count": 23,
   "id": "536651b9",
   "metadata": {},
   "outputs": [],
   "source": [
    "connection=pymysql.connect(host='localhost',user='root',password='12345678',database='lesson')"
   ]
  },
  {
   "cell_type": "code",
   "execution_count": 40,
   "id": "0e144d67",
   "metadata": {},
   "outputs": [
    {
     "data": {
      "text/plain": [
       "<pymysql.connections.Connection at 0x17e82106940>"
      ]
     },
     "execution_count": 40,
     "metadata": {},
     "output_type": "execute_result"
    }
   ],
   "source": [
    "connection"
   ]
  },
  {
   "cell_type": "code",
   "execution_count": 136,
   "id": "f8252100",
   "metadata": {},
   "outputs": [],
   "source": [
    "create_table=\"\"\"\n",
    "create table cars (\n",
    "id int(11) not null auto_increment,\n",
    "url varchar(400) not null,\n",
    "price varchar(100),\n",
    "marka_model varchar(200),\n",
    "primary key(id) )\n",
    "\n",
    "\"\"\"\n"
   ]
  },
  {
   "cell_type": "code",
   "execution_count": null,
   "id": "9806548f",
   "metadata": {},
   "outputs": [],
   "source": [
    "with connection :\n",
    "    with connection.cursor() as cursor:\n",
    "        cursor.execute(create_table)"
   ]
  },
  {
   "cell_type": "code",
   "execution_count": 63,
   "id": "e7b09b54",
   "metadata": {},
   "outputs": [],
   "source": [
    "for item in items:\n",
    "    details=item.find('div',class_='products-i__bottom')\n",
    "    \n",
    "    item_url='https://turbo.az'+item.find('a')['href']\n",
    "    \n",
    "    price=details.find('div',class_='product-price').text\n",
    "    marka=details.find('div',class_='products-i__name products-i__bottom-text').text\n",
    "    insert_sql='insert into cars (url,price,marka_model) values(%s,%s,%s)'\n",
    "    \n",
    "    values=(item_url,price,marka)\n",
    "    with connection.cursor() as cursor:\n",
    "        cursor.execute(insert_sql,values)\n",
    "        connection.commit()"
   ]
  },
  {
   "cell_type": "code",
   "execution_count": 56,
   "id": "3521e1f8",
   "metadata": {},
   "outputs": [],
   "source": []
  },
  {
   "cell_type": "code",
   "execution_count": 53,
   "id": "4df16142",
   "metadata": {},
   "outputs": [],
   "source": [
    "with connection :\n",
    "    with connection.cursor() as cursor:\n",
    "        cursor.execute(sql)"
   ]
  },
  {
   "cell_type": "code",
   "execution_count": 64,
   "id": "8dd806d6",
   "metadata": {},
   "outputs": [],
   "source": [
    "select_sql='select * from cars;'"
   ]
  },
  {
   "cell_type": "code",
   "execution_count": 103,
   "id": "ae5a1a80",
   "metadata": {},
   "outputs": [],
   "source": [
    "with connection.cursor() as cursor:\n",
    "    cursor.execute(select_sql)"
   ]
  },
  {
   "cell_type": "code",
   "execution_count": 67,
   "id": "5c3a73c8",
   "metadata": {},
   "outputs": [
    {
     "data": {
      "text/plain": [
       "((49,\n",
       "  'https://turbo.az/autos/6235796-mitsubishi-pajero',\n",
       "  '26 900 AZN',\n",
       "  'Mitsubishi Pajero'),\n",
       " (50,\n",
       "  'https://turbo.az/autos/6368675-mercedes-190',\n",
       "  '5 200 AZN',\n",
       "  'Mercedes 190'),\n",
       " (51,\n",
       "  'https://turbo.az/autos/6368676-toyota-prius',\n",
       "  '13 300 AZN',\n",
       "  'Toyota Prius'),\n",
       " (52,\n",
       "  'https://turbo.az/autos/6238445-kia-sorento',\n",
       "  '28 500 AZN',\n",
       "  'Kia Sorento'),\n",
       " (53,\n",
       "  'https://turbo.az/autos/6368674-lada-vaz-21011',\n",
       "  '2 800 AZN',\n",
       "  'LADA (VAZ) 21011'),\n",
       " (54,\n",
       "  'https://turbo.az/autos/6349623-ford-transit',\n",
       "  '21 800 AZN',\n",
       "  'Ford Transit'),\n",
       " (55,\n",
       "  'https://turbo.az/autos/6335796-hyundai-santa-fe',\n",
       "  '19 200 AZN',\n",
       "  'Hyundai Santa Fe'),\n",
       " (56,\n",
       "  'https://turbo.az/autos/6300446-toyota-prius',\n",
       "  '12 700 AZN',\n",
       "  'Toyota Prius'),\n",
       " (57,\n",
       "  'https://turbo.az/autos/6368679-toyota-prado',\n",
       "  '32 800 $',\n",
       "  'Toyota Prado'),\n",
       " (58,\n",
       "  'https://turbo.az/autos/6304592-volkswagen-passat',\n",
       "  '17 000 AZN',\n",
       "  'Volkswagen Passat'),\n",
       " (59,\n",
       "  'https://turbo.az/autos/6333199-chevrolet-cruze',\n",
       "  '16 500 AZN',\n",
       "  'Chevrolet Cruze'),\n",
       " (60, 'https://turbo.az/autos/6368672-ford-focus', '14 400 AZN', 'Ford Focus'),\n",
       " (61, 'https://turbo.az/autos/6368669-opel-astra', '13 700 AZN', 'Opel Astra'),\n",
       " (62, 'https://turbo.az/autos/6368664-kia-ceed', '17 200 AZN', 'Kia Ceed'),\n",
       " (63,\n",
       "  'https://turbo.az/autos/6368663-hyundai-elantra',\n",
       "  '14 000 AZN',\n",
       "  'Hyundai Elantra'),\n",
       " (64,\n",
       "  'https://turbo.az/autos/6368662-chevrolet-malibu',\n",
       "  '16 800 AZN',\n",
       "  'Chevrolet Malibu'),\n",
       " (65,\n",
       "  'https://turbo.az/autos/6145256-gaz-3302-744',\n",
       "  '16 500 AZN',\n",
       "  'GAZ 3302-744'),\n",
       " (66,\n",
       "  'https://turbo.az/autos/6306062-hyundai-i30',\n",
       "  '14 500 AZN',\n",
       "  'Hyundai i30'),\n",
       " (67, 'https://turbo.az/autos/6108685-opel-astra', '9 200 AZN', 'Opel Astra'),\n",
       " (68,\n",
       "  'https://turbo.az/autos/6336581-hyundai-accent',\n",
       "  '14 800 AZN',\n",
       "  'Hyundai Accent'),\n",
       " (69,\n",
       "  'https://turbo.az/autos/6368651-lada-vaz-niva',\n",
       "  '11 000 AZN',\n",
       "  'LADA (VAZ) Niva'),\n",
       " (70,\n",
       "  'https://turbo.az/autos/6368652-lada-vaz-2107',\n",
       "  '4 700 AZN',\n",
       "  'LADA (VAZ) 2107'),\n",
       " (71,\n",
       "  'https://turbo.az/autos/6368648-mercedes-viano',\n",
       "  '26 500 AZN',\n",
       "  'Mercedes Viano'),\n",
       " (72,\n",
       "  'https://turbo.az/autos/6368645-mercedes-e-350',\n",
       "  '24 000 AZN',\n",
       "  'Mercedes E 350'),\n",
       " (73,\n",
       "  'https://turbo.az/autos/6235796-mitsubishi-pajero',\n",
       "  '26 900 AZN',\n",
       "  'Mitsubishi Pajero'),\n",
       " (74,\n",
       "  'https://turbo.az/autos/6368675-mercedes-190',\n",
       "  '5 200 AZN',\n",
       "  'Mercedes 190'),\n",
       " (75,\n",
       "  'https://turbo.az/autos/6368676-toyota-prius',\n",
       "  '13 300 AZN',\n",
       "  'Toyota Prius'),\n",
       " (76,\n",
       "  'https://turbo.az/autos/6238445-kia-sorento',\n",
       "  '28 500 AZN',\n",
       "  'Kia Sorento'),\n",
       " (77,\n",
       "  'https://turbo.az/autos/6368674-lada-vaz-21011',\n",
       "  '2 800 AZN',\n",
       "  'LADA (VAZ) 21011'),\n",
       " (78,\n",
       "  'https://turbo.az/autos/6349623-ford-transit',\n",
       "  '21 800 AZN',\n",
       "  'Ford Transit'),\n",
       " (79,\n",
       "  'https://turbo.az/autos/6335796-hyundai-santa-fe',\n",
       "  '19 200 AZN',\n",
       "  'Hyundai Santa Fe'),\n",
       " (80,\n",
       "  'https://turbo.az/autos/6300446-toyota-prius',\n",
       "  '12 700 AZN',\n",
       "  'Toyota Prius'),\n",
       " (81,\n",
       "  'https://turbo.az/autos/6368679-toyota-prado',\n",
       "  '32 800 $',\n",
       "  'Toyota Prado'),\n",
       " (82,\n",
       "  'https://turbo.az/autos/6304592-volkswagen-passat',\n",
       "  '17 000 AZN',\n",
       "  'Volkswagen Passat'),\n",
       " (83,\n",
       "  'https://turbo.az/autos/6333199-chevrolet-cruze',\n",
       "  '16 500 AZN',\n",
       "  'Chevrolet Cruze'),\n",
       " (84, 'https://turbo.az/autos/6368672-ford-focus', '14 400 AZN', 'Ford Focus'),\n",
       " (85, 'https://turbo.az/autos/6368669-opel-astra', '13 700 AZN', 'Opel Astra'),\n",
       " (86, 'https://turbo.az/autos/6368664-kia-ceed', '17 200 AZN', 'Kia Ceed'),\n",
       " (87,\n",
       "  'https://turbo.az/autos/6368663-hyundai-elantra',\n",
       "  '14 000 AZN',\n",
       "  'Hyundai Elantra'),\n",
       " (88,\n",
       "  'https://turbo.az/autos/6368662-chevrolet-malibu',\n",
       "  '16 800 AZN',\n",
       "  'Chevrolet Malibu'),\n",
       " (89,\n",
       "  'https://turbo.az/autos/6145256-gaz-3302-744',\n",
       "  '16 500 AZN',\n",
       "  'GAZ 3302-744'),\n",
       " (90,\n",
       "  'https://turbo.az/autos/6306062-hyundai-i30',\n",
       "  '14 500 AZN',\n",
       "  'Hyundai i30'),\n",
       " (91, 'https://turbo.az/autos/6108685-opel-astra', '9 200 AZN', 'Opel Astra'),\n",
       " (92,\n",
       "  'https://turbo.az/autos/6336581-hyundai-accent',\n",
       "  '14 800 AZN',\n",
       "  'Hyundai Accent'),\n",
       " (93,\n",
       "  'https://turbo.az/autos/6368651-lada-vaz-niva',\n",
       "  '11 000 AZN',\n",
       "  'LADA (VAZ) Niva'),\n",
       " (94,\n",
       "  'https://turbo.az/autos/6368652-lada-vaz-2107',\n",
       "  '4 700 AZN',\n",
       "  'LADA (VAZ) 2107'),\n",
       " (95,\n",
       "  'https://turbo.az/autos/6368648-mercedes-viano',\n",
       "  '26 500 AZN',\n",
       "  'Mercedes Viano'),\n",
       " (96,\n",
       "  'https://turbo.az/autos/6368645-mercedes-e-350',\n",
       "  '24 000 AZN',\n",
       "  'Mercedes E 350'))"
      ]
     },
     "execution_count": 67,
     "metadata": {},
     "output_type": "execute_result"
    }
   ],
   "source": [
    "cursor.fetchall()"
   ]
  },
  {
   "cell_type": "code",
   "execution_count": 24,
   "id": "9b00f4ec",
   "metadata": {},
   "outputs": [],
   "source": [
    "connection=pymysql.connect(host='localhost',user='root',password='12345678',database='lesson',cursorclass=pymysql.cursors.DictCursor\n",
    ")"
   ]
  },
  {
   "cell_type": "code",
   "execution_count": 104,
   "id": "d3f19cb7",
   "metadata": {},
   "outputs": [],
   "source": [
    "items=cursor.fetchall()"
   ]
  },
  {
   "cell_type": "code",
   "execution_count": 105,
   "id": "bef1137b",
   "metadata": {},
   "outputs": [
    {
     "data": {
      "text/plain": [
       "[{'id': 49,\n",
       "  'url': 'https://turbo.az/autos/6235796-mitsubishi-pajero',\n",
       "  'price': '26 900 AZN',\n",
       "  'marka_model': 'Mitsubishi Pajero'},\n",
       " {'id': 50,\n",
       "  'url': 'https://turbo.az/autos/6368675-mercedes-190',\n",
       "  'price': '5 200 AZN',\n",
       "  'marka_model': 'Mercedes 190'},\n",
       " {'id': 51,\n",
       "  'url': 'https://turbo.az/autos/6368676-toyota-prius',\n",
       "  'price': '13 300 AZN',\n",
       "  'marka_model': 'Toyota Prius'},\n",
       " {'id': 52,\n",
       "  'url': 'https://turbo.az/autos/6238445-kia-sorento',\n",
       "  'price': '28 500 AZN',\n",
       "  'marka_model': 'Kia Sorento'},\n",
       " {'id': 53,\n",
       "  'url': 'https://turbo.az/autos/6368674-lada-vaz-21011',\n",
       "  'price': '2 800 AZN',\n",
       "  'marka_model': 'LADA (VAZ) 21011'},\n",
       " {'id': 54,\n",
       "  'url': 'https://turbo.az/autos/6349623-ford-transit',\n",
       "  'price': '21 800 AZN',\n",
       "  'marka_model': 'Ford Transit'},\n",
       " {'id': 55,\n",
       "  'url': 'https://turbo.az/autos/6335796-hyundai-santa-fe',\n",
       "  'price': '19 200 AZN',\n",
       "  'marka_model': 'Hyundai Santa Fe'},\n",
       " {'id': 56,\n",
       "  'url': 'https://turbo.az/autos/6300446-toyota-prius',\n",
       "  'price': '12 700 AZN',\n",
       "  'marka_model': 'Toyota Prius'},\n",
       " {'id': 57,\n",
       "  'url': 'https://turbo.az/autos/6368679-toyota-prado',\n",
       "  'price': '32 800 $',\n",
       "  'marka_model': 'Toyota Prado'},\n",
       " {'id': 58,\n",
       "  'url': 'https://turbo.az/autos/6304592-volkswagen-passat',\n",
       "  'price': '17 000 AZN',\n",
       "  'marka_model': 'Volkswagen Passat'},\n",
       " {'id': 59,\n",
       "  'url': 'https://turbo.az/autos/6333199-chevrolet-cruze',\n",
       "  'price': '16 500 AZN',\n",
       "  'marka_model': 'Chevrolet Cruze'},\n",
       " {'id': 60,\n",
       "  'url': 'https://turbo.az/autos/6368672-ford-focus',\n",
       "  'price': '14 400 AZN',\n",
       "  'marka_model': 'Ford Focus'},\n",
       " {'id': 61,\n",
       "  'url': 'https://turbo.az/autos/6368669-opel-astra',\n",
       "  'price': '13 700 AZN',\n",
       "  'marka_model': 'Opel Astra'},\n",
       " {'id': 62,\n",
       "  'url': 'https://turbo.az/autos/6368664-kia-ceed',\n",
       "  'price': '17 200 AZN',\n",
       "  'marka_model': 'Kia Ceed'},\n",
       " {'id': 63,\n",
       "  'url': 'https://turbo.az/autos/6368663-hyundai-elantra',\n",
       "  'price': '14 000 AZN',\n",
       "  'marka_model': 'Hyundai Elantra'},\n",
       " {'id': 64,\n",
       "  'url': 'https://turbo.az/autos/6368662-chevrolet-malibu',\n",
       "  'price': '16 800 AZN',\n",
       "  'marka_model': 'Chevrolet Malibu'},\n",
       " {'id': 65,\n",
       "  'url': 'https://turbo.az/autos/6145256-gaz-3302-744',\n",
       "  'price': '16 500 AZN',\n",
       "  'marka_model': 'GAZ 3302-744'},\n",
       " {'id': 66,\n",
       "  'url': 'https://turbo.az/autos/6306062-hyundai-i30',\n",
       "  'price': '14 500 AZN',\n",
       "  'marka_model': 'Hyundai i30'},\n",
       " {'id': 67,\n",
       "  'url': 'https://turbo.az/autos/6108685-opel-astra',\n",
       "  'price': '9 200 AZN',\n",
       "  'marka_model': 'Opel Astra'},\n",
       " {'id': 68,\n",
       "  'url': 'https://turbo.az/autos/6336581-hyundai-accent',\n",
       "  'price': '14 800 AZN',\n",
       "  'marka_model': 'Hyundai Accent'},\n",
       " {'id': 69,\n",
       "  'url': 'https://turbo.az/autos/6368651-lada-vaz-niva',\n",
       "  'price': '11 000 AZN',\n",
       "  'marka_model': 'LADA (VAZ) Niva'},\n",
       " {'id': 70,\n",
       "  'url': 'https://turbo.az/autos/6368652-lada-vaz-2107',\n",
       "  'price': '4 700 AZN',\n",
       "  'marka_model': 'LADA (VAZ) 2107'},\n",
       " {'id': 71,\n",
       "  'url': 'https://turbo.az/autos/6368648-mercedes-viano',\n",
       "  'price': '26 500 AZN',\n",
       "  'marka_model': 'Mercedes Viano'},\n",
       " {'id': 72,\n",
       "  'url': 'https://turbo.az/autos/6368645-mercedes-e-350',\n",
       "  'price': '24 000 AZN',\n",
       "  'marka_model': 'Mercedes E 350'},\n",
       " {'id': 73,\n",
       "  'url': 'https://turbo.az/autos/6235796-mitsubishi-pajero',\n",
       "  'price': '26 900 AZN',\n",
       "  'marka_model': 'Mitsubishi Pajero'},\n",
       " {'id': 74,\n",
       "  'url': 'https://turbo.az/autos/6368675-mercedes-190',\n",
       "  'price': '5 200 AZN',\n",
       "  'marka_model': 'Mercedes 190'},\n",
       " {'id': 75,\n",
       "  'url': 'https://turbo.az/autos/6368676-toyota-prius',\n",
       "  'price': '13 300 AZN',\n",
       "  'marka_model': 'Toyota Prius'},\n",
       " {'id': 76,\n",
       "  'url': 'https://turbo.az/autos/6238445-kia-sorento',\n",
       "  'price': '28 500 AZN',\n",
       "  'marka_model': 'Kia Sorento'},\n",
       " {'id': 77,\n",
       "  'url': 'https://turbo.az/autos/6368674-lada-vaz-21011',\n",
       "  'price': '2 800 AZN',\n",
       "  'marka_model': 'LADA (VAZ) 21011'},\n",
       " {'id': 78,\n",
       "  'url': 'https://turbo.az/autos/6349623-ford-transit',\n",
       "  'price': '21 800 AZN',\n",
       "  'marka_model': 'Ford Transit'},\n",
       " {'id': 79,\n",
       "  'url': 'https://turbo.az/autos/6335796-hyundai-santa-fe',\n",
       "  'price': '19 200 AZN',\n",
       "  'marka_model': 'Hyundai Santa Fe'},\n",
       " {'id': 80,\n",
       "  'url': 'https://turbo.az/autos/6300446-toyota-prius',\n",
       "  'price': '12 700 AZN',\n",
       "  'marka_model': 'Toyota Prius'},\n",
       " {'id': 81,\n",
       "  'url': 'https://turbo.az/autos/6368679-toyota-prado',\n",
       "  'price': '32 800 $',\n",
       "  'marka_model': 'Toyota Prado'},\n",
       " {'id': 82,\n",
       "  'url': 'https://turbo.az/autos/6304592-volkswagen-passat',\n",
       "  'price': '17 000 AZN',\n",
       "  'marka_model': 'Volkswagen Passat'},\n",
       " {'id': 83,\n",
       "  'url': 'https://turbo.az/autos/6333199-chevrolet-cruze',\n",
       "  'price': '16 500 AZN',\n",
       "  'marka_model': 'Chevrolet Cruze'},\n",
       " {'id': 84,\n",
       "  'url': 'https://turbo.az/autos/6368672-ford-focus',\n",
       "  'price': '14 400 AZN',\n",
       "  'marka_model': 'Ford Focus'},\n",
       " {'id': 85,\n",
       "  'url': 'https://turbo.az/autos/6368669-opel-astra',\n",
       "  'price': '13 700 AZN',\n",
       "  'marka_model': 'Opel Astra'},\n",
       " {'id': 86,\n",
       "  'url': 'https://turbo.az/autos/6368664-kia-ceed',\n",
       "  'price': '17 200 AZN',\n",
       "  'marka_model': 'Kia Ceed'},\n",
       " {'id': 87,\n",
       "  'url': 'https://turbo.az/autos/6368663-hyundai-elantra',\n",
       "  'price': '14 000 AZN',\n",
       "  'marka_model': 'Hyundai Elantra'},\n",
       " {'id': 88,\n",
       "  'url': 'https://turbo.az/autos/6368662-chevrolet-malibu',\n",
       "  'price': '16 800 AZN',\n",
       "  'marka_model': 'Chevrolet Malibu'},\n",
       " {'id': 89,\n",
       "  'url': 'https://turbo.az/autos/6145256-gaz-3302-744',\n",
       "  'price': '16 500 AZN',\n",
       "  'marka_model': 'GAZ 3302-744'},\n",
       " {'id': 90,\n",
       "  'url': 'https://turbo.az/autos/6306062-hyundai-i30',\n",
       "  'price': '14 500 AZN',\n",
       "  'marka_model': 'Hyundai i30'},\n",
       " {'id': 91,\n",
       "  'url': 'https://turbo.az/autos/6108685-opel-astra',\n",
       "  'price': '9 200 AZN',\n",
       "  'marka_model': 'Opel Astra'},\n",
       " {'id': 92,\n",
       "  'url': 'https://turbo.az/autos/6336581-hyundai-accent',\n",
       "  'price': '14 800 AZN',\n",
       "  'marka_model': 'Hyundai Accent'},\n",
       " {'id': 93,\n",
       "  'url': 'https://turbo.az/autos/6368651-lada-vaz-niva',\n",
       "  'price': '11 000 AZN',\n",
       "  'marka_model': 'LADA (VAZ) Niva'},\n",
       " {'id': 94,\n",
       "  'url': 'https://turbo.az/autos/6368652-lada-vaz-2107',\n",
       "  'price': '4 700 AZN',\n",
       "  'marka_model': 'LADA (VAZ) 2107'},\n",
       " {'id': 95,\n",
       "  'url': 'https://turbo.az/autos/6368648-mercedes-viano',\n",
       "  'price': '26 500 AZN',\n",
       "  'marka_model': 'Mercedes Viano'},\n",
       " {'id': 96,\n",
       "  'url': 'https://turbo.az/autos/6368645-mercedes-e-350',\n",
       "  'price': '24 000 AZN',\n",
       "  'marka_model': 'Mercedes E 350'}]"
      ]
     },
     "execution_count": 105,
     "metadata": {},
     "output_type": "execute_result"
    }
   ],
   "source": [
    "items"
   ]
  },
  {
   "cell_type": "code",
   "execution_count": 128,
   "id": "5de42b21",
   "metadata": {},
   "outputs": [
    {
     "name": "stdout",
     "output_type": "stream",
     "text": [
      "{'id': 49,\n",
      " 'marka_model': 'Mitsubishi Pajero',\n",
      " 'price': '26 900 AZN',\n",
      " 'url': 'https://turbo.az/autos/6235796-mitsubishi-pajero'}\n",
      "-----\n",
      "<Response [200]>\n",
      "<li class=\"product-properties-i\"><label for=\"ad_region\">Şəhər</label><div class=\"product-properties-value\">Bakı</div></li>\n",
      "{'Ban növü': 'Offroader / SUV',\n",
      " 'Buraxılış ili': '2010',\n",
      " 'Marka': 'Mitsubishi',\n",
      " 'Model': 'Pajero',\n",
      " 'Mühərrik': '3.5 L',\n",
      " 'Mühərrikin gücü': '202 a.g.',\n",
      " 'Qiymət': '26 900 AZN',\n",
      " 'Rəng': 'Ağ',\n",
      " 'Sürətlər qutusu': 'Avtomat',\n",
      " 'Yanacaq növü': 'Benzin',\n",
      " 'Yeni': 'Xeyr',\n",
      " 'Yürüş': '224 000 km',\n",
      " 'Ötürücü': 'Tam',\n",
      " 'Şəhər': 'Bakı'}\n"
     ]
    }
   ],
   "source": [
    "from pprint import pprint as pp\n",
    "for item in items[:1]:\n",
    "    pp(item)\n",
    "    print(\"-----\")\n",
    "    url=item['url']\n",
    "    response=requests.get(url)\n",
    "    print(response)\n",
    "    if response.status_code==200:\n",
    "        inner_bs=BeautifulSoup(response.content,'lxml')\n",
    "        props=inner_bs.find('ul',class_='product-properties')\n",
    "        li_items=props.find_all('li')\n",
    "        print(li_items[0])\n",
    "        md=dict()\n",
    "        for li_item in li_items:\n",
    "            key=li_item.find('label')\n",
    "            value=li_item.find('div')\n",
    "            if key:\n",
    "                key=key.text\n",
    "            if value:\n",
    "                value=value.text\n",
    "            \n",
    "            if key:\n",
    "                md[key]=value\n",
    "        pp(inner_dict)\n",
    "        uptade_values=(md['Qiymet'],\n",
    "                       md['Marka'],\n",
    "                       md['Model'],\n",
    "                       md['Şəhər']\n",
    "                       md['id'])\n",
    "        with connection .cursor() as cursor\n",
    "        cursor.execution(update_query,)\n",
    "    else :\n",
    "        print(\"could not fetch url\", url)\n",
    "        "
   ]
  },
  {
   "cell_type": "code",
   "execution_count": 130,
   "id": "7bb52cb9",
   "metadata": {},
   "outputs": [],
   "source": [
    "create_table = \"\"\"\n",
    "create table cars (\n",
    "    id int(11) not null auto_increment,\n",
    "    url varchar(400) not null,\n",
    "    price varchar(100),\n",
    "    marka varchar(200),\n",
    "    model varchar(200),\n",
    "    city varchar(100),\n",
    "    year smallint(4),\n",
    "    ban_type varchar(100),\n",
    "    color varchar(100),\n",
    "    engine varchar(20),\n",
    "    horsepower varchar(20),\n",
    "    fuel_type varchar(20),\n",
    "    used_by_mk varchar(100),\n",
    "    gearbox varchar(100),\n",
    "    tranmission varchar(20),\n",
    "    is_new BOOLEAN,\n",
    "    \n",
    "    primary key (id)\n",
    ")\n",
    "\"\"\"\n"
   ]
  },
  {
   "cell_type": "code",
   "execution_count": 25,
   "id": "96d76a91",
   "metadata": {},
   "outputs": [],
   "source": [
    "for item in items:\n",
    "    item_url = 'https://turbo.az' + item.find('a').get('href')\n",
    "    \n",
    "    insert_sql = 'insert into cars (url) values(%s)'\n",
    "    values = (item_url)\n",
    "    \n",
    "    with connection.cursor() as cursor:\n",
    "        cursor.execute(insert_sql, values)\n",
    "        connection.commit()\n"
   ]
  },
  {
   "cell_type": "code",
   "execution_count": 26,
   "id": "772b61e0",
   "metadata": {},
   "outputs": [],
   "source": [
    "update_qeury=\"\"\"update cars set price=%s, marka=$s,city=%s where id=%s;\"\"\"\n"
   ]
  }
 ],
 "metadata": {
  "kernelspec": {
   "display_name": "Python 3 (ipykernel)",
   "language": "python",
   "name": "python3"
  },
  "language_info": {
   "codemirror_mode": {
    "name": "ipython",
    "version": 3
   },
   "file_extension": ".py",
   "mimetype": "text/x-python",
   "name": "python",
   "nbconvert_exporter": "python",
   "pygments_lexer": "ipython3",
   "version": "3.9.12"
  }
 },
 "nbformat": 4,
 "nbformat_minor": 5
}
