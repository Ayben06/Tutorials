{
 "cells": [
  {
   "cell_type": "code",
   "execution_count": 2,
   "id": "269a0b40",
   "metadata": {},
   "outputs": [],
   "source": [
    "import numpy as np\n",
    "import pandas as pd\n",
    "import scipy.stats as ss\n",
    "import matplotlib.pyplot as plt\n",
    "import seaborn  as sns\n",
    "import pymysql "
   ]
  },
  {
   "cell_type": "code",
   "execution_count": 10,
   "id": "f3d01d6a",
   "metadata": {},
   "outputs": [],
   "source": [
    "conn=pymysql.connect(host='localhost',user='root',password='12345678',database='trening')"
   ]
  },
  {
   "cell_type": "code",
   "execution_count": 11,
   "id": "18fb8b74",
   "metadata": {},
   "outputs": [
    {
     "name": "stderr",
     "output_type": "stream",
     "text": [
      "C:\\Users\\u\\AppData\\Local\\Programs\\Python\\Python39\\lib\\site-packages\\pandas\\io\\sql.py:761: UserWarning: pandas only support SQLAlchemy connectable(engine/connection) ordatabase string URI or sqlite3 DBAPI2 connectionother DBAPI2 objects are not tested, please consider using SQLAlchemy\n",
      "  warnings.warn(\n"
     ]
    }
   ],
   "source": [
    "df=pd.read_sql('select * from c180308',con=conn)"
   ]
  },
  {
   "cell_type": "code",
   "execution_count": 12,
   "id": "5a2a6670",
   "metadata": {},
   "outputs": [
    {
     "data": {
      "text/html": [
       "<div>\n",
       "<style scoped>\n",
       "    .dataframe tbody tr th:only-of-type {\n",
       "        vertical-align: middle;\n",
       "    }\n",
       "\n",
       "    .dataframe tbody tr th {\n",
       "        vertical-align: top;\n",
       "    }\n",
       "\n",
       "    .dataframe thead th {\n",
       "        text-align: right;\n",
       "    }\n",
       "</style>\n",
       "<table border=\"1\" class=\"dataframe\">\n",
       "  <thead>\n",
       "    <tr style=\"text-align: right;\">\n",
       "      <th></th>\n",
       "      <th>id</th>\n",
       "      <th>date</th>\n",
       "      <th>avtosalon</th>\n",
       "      <th>salon_yn</th>\n",
       "      <th>marka</th>\n",
       "      <th>model</th>\n",
       "      <th>shekil_sayi</th>\n",
       "      <th>satilib</th>\n",
       "      <th>baxis_sayi</th>\n",
       "      <th>elan_tarix_title</th>\n",
       "      <th>...</th>\n",
       "      <th>yagish</th>\n",
       "      <th>qapanma</th>\n",
       "      <th>radar</th>\n",
       "      <th>kondisioner</th>\n",
       "      <th>podoqrev</th>\n",
       "      <th>deri</th>\n",
       "      <th>ksenon</th>\n",
       "      <th>kamera</th>\n",
       "      <th>perde</th>\n",
       "      <th>ventilyasiya</th>\n",
       "    </tr>\n",
       "  </thead>\n",
       "  <tbody>\n",
       "    <tr>\n",
       "      <th>0</th>\n",
       "      <td>1</td>\n",
       "      <td>2018-03-08 22:12:54</td>\n",
       "      <td>none</td>\n",
       "      <td>0</td>\n",
       "      <td>Mercedes</td>\n",
       "      <td>C 200</td>\n",
       "      <td>9</td>\n",
       "      <td>yox</td>\n",
       "      <td>107</td>\n",
       "      <td>Yeniləndi</td>\n",
       "      <td>...</td>\n",
       "      <td>0</td>\n",
       "      <td>1</td>\n",
       "      <td>0</td>\n",
       "      <td>1</td>\n",
       "      <td>0</td>\n",
       "      <td>0</td>\n",
       "      <td>1</td>\n",
       "      <td>0</td>\n",
       "      <td>0</td>\n",
       "      <td>0</td>\n",
       "    </tr>\n",
       "    <tr>\n",
       "      <th>1</th>\n",
       "      <td>2</td>\n",
       "      <td>2018-03-08 22:12:54</td>\n",
       "      <td>none</td>\n",
       "      <td>0</td>\n",
       "      <td>Mitsubishi</td>\n",
       "      <td>Pajero</td>\n",
       "      <td>5</td>\n",
       "      <td>yox</td>\n",
       "      <td>78</td>\n",
       "      <td>Yeniləndi</td>\n",
       "      <td>...</td>\n",
       "      <td>0</td>\n",
       "      <td>1</td>\n",
       "      <td>1</td>\n",
       "      <td>1</td>\n",
       "      <td>0</td>\n",
       "      <td>0</td>\n",
       "      <td>0</td>\n",
       "      <td>1</td>\n",
       "      <td>0</td>\n",
       "      <td>0</td>\n",
       "    </tr>\n",
       "    <tr>\n",
       "      <th>2</th>\n",
       "      <td>3</td>\n",
       "      <td>2018-03-08 22:12:54</td>\n",
       "      <td>none</td>\n",
       "      <td>0</td>\n",
       "      <td>Mercedes</td>\n",
       "      <td>C 220</td>\n",
       "      <td>7</td>\n",
       "      <td>yox</td>\n",
       "      <td>118</td>\n",
       "      <td>Yeniləndi</td>\n",
       "      <td>...</td>\n",
       "      <td>1</td>\n",
       "      <td>1</td>\n",
       "      <td>0</td>\n",
       "      <td>1</td>\n",
       "      <td>0</td>\n",
       "      <td>0</td>\n",
       "      <td>0</td>\n",
       "      <td>0</td>\n",
       "      <td>0</td>\n",
       "      <td>0</td>\n",
       "    </tr>\n",
       "    <tr>\n",
       "      <th>3</th>\n",
       "      <td>4</td>\n",
       "      <td>2018-03-08 22:12:54</td>\n",
       "      <td>none</td>\n",
       "      <td>0</td>\n",
       "      <td>Volkswagen</td>\n",
       "      <td>Touareg</td>\n",
       "      <td>10</td>\n",
       "      <td>yox</td>\n",
       "      <td>1639</td>\n",
       "      <td>Yeniləndi</td>\n",
       "      <td>...</td>\n",
       "      <td>1</td>\n",
       "      <td>1</td>\n",
       "      <td>1</td>\n",
       "      <td>1</td>\n",
       "      <td>1</td>\n",
       "      <td>1</td>\n",
       "      <td>1</td>\n",
       "      <td>1</td>\n",
       "      <td>1</td>\n",
       "      <td>1</td>\n",
       "    </tr>\n",
       "    <tr>\n",
       "      <th>4</th>\n",
       "      <td>5</td>\n",
       "      <td>2018-03-08 22:12:54</td>\n",
       "      <td>none</td>\n",
       "      <td>0</td>\n",
       "      <td>Hyundai</td>\n",
       "      <td>Sonata</td>\n",
       "      <td>8</td>\n",
       "      <td>yox</td>\n",
       "      <td>227</td>\n",
       "      <td>Yeniləndi</td>\n",
       "      <td>...</td>\n",
       "      <td>1</td>\n",
       "      <td>1</td>\n",
       "      <td>1</td>\n",
       "      <td>1</td>\n",
       "      <td>1</td>\n",
       "      <td>1</td>\n",
       "      <td>0</td>\n",
       "      <td>0</td>\n",
       "      <td>1</td>\n",
       "      <td>0</td>\n",
       "    </tr>\n",
       "  </tbody>\n",
       "</table>\n",
       "<p>5 rows × 49 columns</p>\n",
       "</div>"
      ],
      "text/plain": [
       "   id                date avtosalon  salon_yn       marka    model  \\\n",
       "0   1 2018-03-08 22:12:54      none         0    Mercedes    C 200   \n",
       "1   2 2018-03-08 22:12:54      none         0  Mitsubishi   Pajero   \n",
       "2   3 2018-03-08 22:12:54      none         0    Mercedes    C 220   \n",
       "3   4 2018-03-08 22:12:54      none         0  Volkswagen  Touareg   \n",
       "4   5 2018-03-08 22:12:54      none         0     Hyundai   Sonata   \n",
       "\n",
       "   shekil_sayi satilib  baxis_sayi elan_tarix_title  ... yagish  qapanma  \\\n",
       "0            9     yox         107        Yeniləndi  ...      0        1   \n",
       "1            5     yox          78        Yeniləndi  ...      0        1   \n",
       "2            7     yox         118        Yeniləndi  ...      1        1   \n",
       "3           10     yox        1639        Yeniləndi  ...      1        1   \n",
       "4            8     yox         227        Yeniləndi  ...      1        1   \n",
       "\n",
       "  radar  kondisioner podoqrev deri ksenon kamera perde ventilyasiya  \n",
       "0     0            1        0    0      1      0     0            0  \n",
       "1     1            1        0    0      0      1     0            0  \n",
       "2     0            1        0    0      0      0     0            0  \n",
       "3     1            1        1    1      1      1     1            1  \n",
       "4     1            1        1    1      0      0     1            0  \n",
       "\n",
       "[5 rows x 49 columns]"
      ]
     },
     "execution_count": 12,
     "metadata": {},
     "output_type": "execute_result"
    }
   ],
   "source": [
    "df.head()"
   ]
  },
  {
   "cell_type": "code",
   "execution_count": 41,
   "id": "8eb9eaf5",
   "metadata": {},
   "outputs": [
    {
     "name": "stderr",
     "output_type": "stream",
     "text": [
      "C:\\Users\\u\\AppData\\Local\\Temp\\ipykernel_12860\\2757651615.py:1: FutureWarning: The default value of regex will change from True to False in a future version.\n",
      "  df['muherrik_guc2']=df['muherrik_guc'].str.replace (' a.g.','').astype('float64')\n"
     ]
    }
   ],
   "source": [
    "df['muherrik_guc2']=df['muherrik_guc'].str.replace (' a.g.','').astype('float64')"
   ]
  },
  {
   "cell_type": "code",
   "execution_count": 14,
   "id": "a7b89d44",
   "metadata": {},
   "outputs": [],
   "source": [
    "df['yurush2']=df['yurush'].str.replace (' km','')"
   ]
  },
  {
   "cell_type": "code",
   "execution_count": 15,
   "id": "5eaf2eb0",
   "metadata": {
    "scrolled": false
   },
   "outputs": [
    {
     "data": {
      "text/plain": [
       "AZN    22186\n",
       "$       3446\n",
       "€         36\n",
       "Name: qiymet_valyuta, dtype: int64"
      ]
     },
     "execution_count": 15,
     "metadata": {},
     "output_type": "execute_result"
    }
   ],
   "source": [
    "df.qiymet_valyuta.value_counts()"
   ]
  },
  {
   "cell_type": "code",
   "execution_count": 16,
   "id": "0d3b9542",
   "metadata": {},
   "outputs": [],
   "source": [
    "df['price']=np.select(condlist=[df.qiymet_valyuta=='$',df.qiymet_valyuta=='€'],choicelist=[df.qiymet*1.7,df.qiymet*2.09],default=df.qiymet)"
   ]
  },
  {
   "cell_type": "code",
   "execution_count": 17,
   "id": "a4a28d33",
   "metadata": {
    "scrolled": true
   },
   "outputs": [
    {
     "data": {
      "text/html": [
       "<div>\n",
       "<style scoped>\n",
       "    .dataframe tbody tr th:only-of-type {\n",
       "        vertical-align: middle;\n",
       "    }\n",
       "\n",
       "    .dataframe tbody tr th {\n",
       "        vertical-align: top;\n",
       "    }\n",
       "\n",
       "    .dataframe thead th {\n",
       "        text-align: right;\n",
       "    }\n",
       "</style>\n",
       "<table border=\"1\" class=\"dataframe\">\n",
       "  <thead>\n",
       "    <tr style=\"text-align: right;\">\n",
       "      <th></th>\n",
       "      <th>id</th>\n",
       "      <th>date</th>\n",
       "      <th>avtosalon</th>\n",
       "      <th>salon_yn</th>\n",
       "      <th>marka</th>\n",
       "      <th>model</th>\n",
       "      <th>shekil_sayi</th>\n",
       "      <th>satilib</th>\n",
       "      <th>baxis_sayi</th>\n",
       "      <th>elan_tarix_title</th>\n",
       "      <th>...</th>\n",
       "      <th>radar</th>\n",
       "      <th>kondisioner</th>\n",
       "      <th>podoqrev</th>\n",
       "      <th>deri</th>\n",
       "      <th>ksenon</th>\n",
       "      <th>kamera</th>\n",
       "      <th>perde</th>\n",
       "      <th>ventilyasiya</th>\n",
       "      <th>yurush2</th>\n",
       "      <th>price</th>\n",
       "    </tr>\n",
       "  </thead>\n",
       "  <tbody>\n",
       "    <tr>\n",
       "      <th>6589</th>\n",
       "      <td>6590</td>\n",
       "      <td>2018-03-08 22:24:46</td>\n",
       "      <td>Avtosalon \"100 Cars\"</td>\n",
       "      <td>1</td>\n",
       "      <td>Lexus</td>\n",
       "      <td>LX 470</td>\n",
       "      <td>21</td>\n",
       "      <td>yox</td>\n",
       "      <td>15945</td>\n",
       "      <td>Yeniləndi</td>\n",
       "      <td>...</td>\n",
       "      <td>1</td>\n",
       "      <td>1</td>\n",
       "      <td>1</td>\n",
       "      <td>1</td>\n",
       "      <td>1</td>\n",
       "      <td>1</td>\n",
       "      <td>1</td>\n",
       "      <td>1</td>\n",
       "      <td>25 726</td>\n",
       "      <td>68850.0</td>\n",
       "    </tr>\n",
       "    <tr>\n",
       "      <th>231</th>\n",
       "      <td>232</td>\n",
       "      <td>2018-03-08 22:13:17</td>\n",
       "      <td>none</td>\n",
       "      <td>0</td>\n",
       "      <td>GAZ</td>\n",
       "      <td>330202-740</td>\n",
       "      <td>12</td>\n",
       "      <td>yox</td>\n",
       "      <td>181</td>\n",
       "      <td>Yeniləndi</td>\n",
       "      <td>...</td>\n",
       "      <td>0</td>\n",
       "      <td>0</td>\n",
       "      <td>0</td>\n",
       "      <td>0</td>\n",
       "      <td>0</td>\n",
       "      <td>0</td>\n",
       "      <td>0</td>\n",
       "      <td>0</td>\n",
       "      <td>77 000</td>\n",
       "      <td>5200.0</td>\n",
       "    </tr>\n",
       "    <tr>\n",
       "      <th>16047</th>\n",
       "      <td>16048</td>\n",
       "      <td>2018-03-08 23:13:19</td>\n",
       "      <td>none</td>\n",
       "      <td>0</td>\n",
       "      <td>LADA (VAZ)</td>\n",
       "      <td>Niva</td>\n",
       "      <td>7</td>\n",
       "      <td>yox</td>\n",
       "      <td>366</td>\n",
       "      <td>Yeniləndi</td>\n",
       "      <td>...</td>\n",
       "      <td>0</td>\n",
       "      <td>0</td>\n",
       "      <td>0</td>\n",
       "      <td>0</td>\n",
       "      <td>0</td>\n",
       "      <td>0</td>\n",
       "      <td>0</td>\n",
       "      <td>0</td>\n",
       "      <td>105 000</td>\n",
       "      <td>8400.0</td>\n",
       "    </tr>\n",
       "    <tr>\n",
       "      <th>11624</th>\n",
       "      <td>11625</td>\n",
       "      <td>2018-03-08 22:50:09</td>\n",
       "      <td>none</td>\n",
       "      <td>0</td>\n",
       "      <td>Ford</td>\n",
       "      <td>Tourneo Connect</td>\n",
       "      <td>12</td>\n",
       "      <td>yox</td>\n",
       "      <td>1137</td>\n",
       "      <td>Yeniləndi</td>\n",
       "      <td>...</td>\n",
       "      <td>0</td>\n",
       "      <td>1</td>\n",
       "      <td>0</td>\n",
       "      <td>0</td>\n",
       "      <td>0</td>\n",
       "      <td>0</td>\n",
       "      <td>0</td>\n",
       "      <td>0</td>\n",
       "      <td>172 700</td>\n",
       "      <td>15500.0</td>\n",
       "    </tr>\n",
       "    <tr>\n",
       "      <th>21450</th>\n",
       "      <td>21451</td>\n",
       "      <td>2018-03-08 23:22:44</td>\n",
       "      <td>none</td>\n",
       "      <td>0</td>\n",
       "      <td>Tofas</td>\n",
       "      <td>Sahin</td>\n",
       "      <td>5</td>\n",
       "      <td>yox</td>\n",
       "      <td>931</td>\n",
       "      <td>Yeniləndi</td>\n",
       "      <td>...</td>\n",
       "      <td>0</td>\n",
       "      <td>0</td>\n",
       "      <td>0</td>\n",
       "      <td>0</td>\n",
       "      <td>0</td>\n",
       "      <td>0</td>\n",
       "      <td>0</td>\n",
       "      <td>0</td>\n",
       "      <td>250 000</td>\n",
       "      <td>2400.0</td>\n",
       "    </tr>\n",
       "  </tbody>\n",
       "</table>\n",
       "<p>5 rows × 51 columns</p>\n",
       "</div>"
      ],
      "text/plain": [
       "          id                date             avtosalon  salon_yn       marka  \\\n",
       "6589    6590 2018-03-08 22:24:46  Avtosalon \"100 Cars\"         1       Lexus   \n",
       "231      232 2018-03-08 22:13:17                  none         0         GAZ   \n",
       "16047  16048 2018-03-08 23:13:19                  none         0  LADA (VAZ)   \n",
       "11624  11625 2018-03-08 22:50:09                  none         0        Ford   \n",
       "21450  21451 2018-03-08 23:22:44                  none         0       Tofas   \n",
       "\n",
       "                 model  shekil_sayi satilib  baxis_sayi elan_tarix_title  ...  \\\n",
       "6589            LX 470           21     yox       15945        Yeniləndi  ...   \n",
       "231         330202-740           12     yox         181        Yeniləndi  ...   \n",
       "16047             Niva            7     yox         366        Yeniləndi  ...   \n",
       "11624  Tourneo Connect           12     yox        1137        Yeniləndi  ...   \n",
       "21450            Sahin            5     yox         931        Yeniləndi  ...   \n",
       "\n",
       "      radar  kondisioner podoqrev  deri ksenon kamera perde ventilyasiya  \\\n",
       "6589      1            1        1     1      1      1     1            1   \n",
       "231       0            0        0     0      0      0     0            0   \n",
       "16047     0            0        0     0      0      0     0            0   \n",
       "11624     0            1        0     0      0      0     0            0   \n",
       "21450     0            0        0     0      0      0     0            0   \n",
       "\n",
       "       yurush2    price  \n",
       "6589    25 726  68850.0  \n",
       "231     77 000   5200.0  \n",
       "16047  105 000   8400.0  \n",
       "11624  172 700  15500.0  \n",
       "21450  250 000   2400.0  \n",
       "\n",
       "[5 rows x 51 columns]"
      ]
     },
     "execution_count": 17,
     "metadata": {},
     "output_type": "execute_result"
    }
   ],
   "source": [
    "sample=df.sample(20,random_state=1)\n",
    "sample.head()"
   ]
  },
  {
   "cell_type": "code",
   "execution_count": 35,
   "id": "0aea22db",
   "metadata": {
    "scrolled": true
   },
   "outputs": [
    {
     "data": {
      "text/plain": [
       "18461.090717235467"
      ]
     },
     "execution_count": 35,
     "metadata": {},
     "output_type": "execute_result"
    }
   ],
   "source": [
    "df['price'].mean()"
   ]
  },
  {
   "cell_type": "code",
   "execution_count": 62,
   "id": "8b964dee",
   "metadata": {},
   "outputs": [
    {
     "data": {
      "text/plain": [
       "17104.6"
      ]
     },
     "execution_count": 62,
     "metadata": {},
     "output_type": "execute_result"
    }
   ],
   "source": [
    "sample['price'].mean()"
   ]
  },
  {
   "cell_type": "code",
   "execution_count": 34,
   "id": "df6224bb",
   "metadata": {},
   "outputs": [
    {
     "data": {
      "text/plain": [
       "901332711.5738552"
      ]
     },
     "execution_count": 34,
     "metadata": {},
     "output_type": "execute_result"
    }
   ],
   "source": [
    "df['price'].var()"
   ]
  },
  {
   "cell_type": "code",
   "execution_count": 63,
   "id": "e1ea7a17",
   "metadata": {
    "scrolled": true
   },
   "outputs": [
    {
     "data": {
      "text/plain": [
       "769747781.0947366"
      ]
     },
     "execution_count": 63,
     "metadata": {},
     "output_type": "execute_result"
    }
   ],
   "source": [
    "sample['price'].var()"
   ]
  },
  {
   "cell_type": "code",
   "execution_count": 39,
   "id": "db0392d5",
   "metadata": {},
   "outputs": [
    {
     "data": {
      "text/plain": [
       "10500.0"
      ]
     },
     "execution_count": 39,
     "metadata": {},
     "output_type": "execute_result"
    }
   ],
   "source": [
    "df['price'].median()"
   ]
  },
  {
   "cell_type": "code",
   "execution_count": 40,
   "id": "434911f4",
   "metadata": {},
   "outputs": [
    {
     "data": {
      "text/plain": [
       "0    4500.0\n",
       "Name: price, dtype: float64"
      ]
     },
     "execution_count": 40,
     "metadata": {},
     "output_type": "execute_result"
    }
   ],
   "source": [
    "df['price'].mode()"
   ]
  },
  {
   "cell_type": "code",
   "execution_count": 41,
   "id": "ce9b8607",
   "metadata": {},
   "outputs": [
    {
     "data": {
      "text/plain": [
       "7    3444\n",
       "6    3371\n",
       "8    3097\n",
       "5    2590\n",
       "9    2470\n",
       "Name: shekil_sayi, dtype: int64"
      ]
     },
     "execution_count": 41,
     "metadata": {},
     "output_type": "execute_result"
    }
   ],
   "source": [
    "df['shekil_sayi'].value_counts()[:5]"
   ]
  },
  {
   "cell_type": "code",
   "execution_count": 55,
   "id": "abd57138",
   "metadata": {},
   "outputs": [
    {
     "data": {
      "text/plain": [
       "Ttest_1sampResult(statistic=-0.9612555113260537, pvalue=0.34849834428408655)"
      ]
     },
     "execution_count": 55,
     "metadata": {},
     "output_type": "execute_result"
    }
   ],
   "source": [
    "ss.ttest_1samp(sample['shekil_sayi'],10)"
   ]
  },
  {
   "cell_type": "code",
   "execution_count": 53,
   "id": "45f2cd58",
   "metadata": {},
   "outputs": [
    {
     "data": {
      "text/plain": [
       "13.85263157894737"
      ]
     },
     "execution_count": 53,
     "metadata": {},
     "output_type": "execute_result"
    }
   ],
   "source": [
    "sample['shekil_sayi'].var(ddof=1)"
   ]
  },
  {
   "cell_type": "code",
   "execution_count": 54,
   "id": "204a7adc",
   "metadata": {},
   "outputs": [
    {
     "data": {
      "text/plain": [
       "9.2"
      ]
     },
     "execution_count": 54,
     "metadata": {},
     "output_type": "execute_result"
    }
   ],
   "source": [
    "sample['shekil_sayi'].var()"
   ]
  },
  {
   "cell_type": "code",
   "execution_count": 60,
   "id": "59e05c98",
   "metadata": {
    "scrolled": true
   },
   "outputs": [
    {
     "data": {
      "text/plain": [
       "0         9750.0\n",
       "1        13800.0\n",
       "2         9900.0\n",
       "3        32810.0\n",
       "4        18700.0\n",
       "          ...   \n",
       "25663     5500.0\n",
       "25664    32100.0\n",
       "25665     3000.0\n",
       "25666    32100.0\n",
       "25667     8700.0\n",
       "Name: price, Length: 25668, dtype: float64"
      ]
     },
     "execution_count": 60,
     "metadata": {},
     "output_type": "execute_result"
    }
   ],
   "source": [
    "df['price']"
   ]
  },
  {
   "cell_type": "code",
   "execution_count": 70,
   "id": "d4afaea0",
   "metadata": {},
   "outputs": [
    {
     "data": {
      "text/plain": [
       "WilcoxonResult(statistic=39.0, pvalue=0.012079238891601562)"
      ]
     },
     "execution_count": 70,
     "metadata": {},
     "output_type": "execute_result"
    }
   ],
   "source": [
    "ss.wilcoxon(sample['price']-20000)"
   ]
  },
  {
   "cell_type": "code",
   "execution_count": 66,
   "id": "804c0ae3",
   "metadata": {},
   "outputs": [
    {
     "data": {
      "text/plain": [
       "8950.0"
      ]
     },
     "execution_count": 66,
     "metadata": {},
     "output_type": "execute_result"
    }
   ],
   "source": [
    "sample['price'].median()"
   ]
  },
  {
   "cell_type": "code",
   "execution_count": 72,
   "id": "6f34e2c3",
   "metadata": {},
   "outputs": [
    {
     "data": {
      "text/plain": [
       "KstestResult(statistic=0.9999997133484281, pvalue=2.8061866176047734e-131)"
      ]
     },
     "execution_count": 72,
     "metadata": {},
     "output_type": "execute_result"
    }
   ],
   "source": [
    "ss.ks_1samp(sample['shekil_sayi'],ss.norm.cdf)"
   ]
  },
  {
   "cell_type": "markdown",
   "id": "79cfd1f9",
   "metadata": {},
   "source": [
    "### two sample test"
   ]
  },
  {
   "cell_type": "code",
   "execution_count": 42,
   "id": "b2e8834a",
   "metadata": {},
   "outputs": [],
   "source": [
    "sample2=df[(df.marka=='Toyota')&(df.qiymet_valyuta=='AZN')].sample(20,random_state=1)"
   ]
  },
  {
   "cell_type": "code",
   "execution_count": 19,
   "id": "51620e27",
   "metadata": {},
   "outputs": [],
   "source": [
    "sample3=df[(df.marka=='Toyota')&(df.qiymet_valyuta=='$')].sample(20,random_state=1)"
   ]
  },
  {
   "cell_type": "code",
   "execution_count": 83,
   "id": "bfb2b69e",
   "metadata": {},
   "outputs": [
    {
     "data": {
      "text/plain": [
       "0.17288118502285962"
      ]
     },
     "execution_count": 83,
     "metadata": {},
     "output_type": "execute_result"
    }
   ],
   "source": [
    "F=sample2['price'].var(ddof=1)/sample3['price'].var(ddof=1)\n",
    "F"
   ]
  },
  {
   "cell_type": "code",
   "execution_count": 85,
   "id": "097fb553",
   "metadata": {},
   "outputs": [
    {
     "data": {
      "text/plain": [
       "0.9998218230636718"
      ]
     },
     "execution_count": 85,
     "metadata": {},
     "output_type": "execute_result"
    }
   ],
   "source": [
    "1-ss.f.cdf(F,19,19)"
   ]
  },
  {
   "cell_type": "code",
   "execution_count": 18,
   "id": "8c67ffad",
   "metadata": {},
   "outputs": [],
   "source": [
    "sample4=df[(df.marka=='Toyota')&(df.qiymet_valyuta=='AZN')].sample(20,random_state=2)\n",
    "sample5=df[(df.marka=='Toyota')&(df.qiymet_valyuta=='AZN')].sample(20,random_state=33)\n"
   ]
  },
  {
   "cell_type": "code",
   "execution_count": 93,
   "id": "2898d992",
   "metadata": {},
   "outputs": [
    {
     "data": {
      "text/plain": [
       "0.17288118502285962"
      ]
     },
     "execution_count": 93,
     "metadata": {},
     "output_type": "execute_result"
    }
   ],
   "source": [
    "F1=sample2['price'].var(ddof=1)/sample4['price'].var(ddof=1)\n",
    "F"
   ]
  },
  {
   "cell_type": "code",
   "execution_count": 97,
   "id": "772b62d8",
   "metadata": {},
   "outputs": [
    {
     "data": {
      "text/plain": [
       "Ttest_indResult(statistic=-8.018661752753339, pvalue=1.0768509004776572e-09)"
      ]
     },
     "execution_count": 97,
     "metadata": {},
     "output_type": "execute_result"
    }
   ],
   "source": [
    "ss.ttest_ind(sample2['price'],sample4['price'])"
   ]
  },
  {
   "cell_type": "code",
   "execution_count": null,
   "id": "d67abf9a",
   "metadata": {},
   "outputs": [],
   "source": [
    "ss.ttest_ind(sa"
   ]
  },
  {
   "cell_type": "code",
   "execution_count": 100,
   "id": "a2794632",
   "metadata": {},
   "outputs": [
    {
     "data": {
      "text/plain": [
       "Ttest_indResult(statistic=-5.6839154934100025, pvalue=1.5452074316157421e-06)"
      ]
     },
     "execution_count": 100,
     "metadata": {},
     "output_type": "execute_result"
    }
   ],
   "source": [
    "mple2['price'],sample3['price'])"
   ]
  },
  {
   "cell_type": "code",
   "execution_count": 6,
   "id": "5bd114d7",
   "metadata": {},
   "outputs": [
    {
     "data": {
      "text/plain": [
       "Ttest_relResult(statistic=102.71878933248887, pvalue=3.985721702187597e-15)"
      ]
     },
     "execution_count": 6,
     "metadata": {},
     "output_type": "execute_result"
    }
   ],
   "source": [
    "ss.ttest_rel(pre,post)"
   ]
  },
  {
   "cell_type": "code",
   "execution_count": 3,
   "id": "06096316",
   "metadata": {},
   "outputs": [],
   "source": [
    "pre=140+np.random.rand(10)\n",
    "post=120+np.random.rand(10)"
   ]
  },
  {
   "cell_type": "code",
   "execution_count": 4,
   "id": "d44a1cf1",
   "metadata": {},
   "outputs": [
    {
     "data": {
      "text/plain": [
       "array([140.38488119, 140.08781624, 140.75847958, 140.20590818,\n",
       "       140.97181144, 140.15855541, 140.87893337, 140.90791026,\n",
       "       140.55018698, 140.14887352])"
      ]
     },
     "execution_count": 4,
     "metadata": {},
     "output_type": "execute_result"
    }
   ],
   "source": [
    "pre"
   ]
  },
  {
   "cell_type": "code",
   "execution_count": 5,
   "id": "766bd9fa",
   "metadata": {},
   "outputs": [
    {
     "data": {
      "text/plain": [
       "array([120.43715175, 120.95559227, 120.58270391, 120.21670139,\n",
       "       120.14836786, 120.9319997 , 120.1713809 , 120.32359863,\n",
       "       120.74321552, 120.83306356])"
      ]
     },
     "execution_count": 5,
     "metadata": {},
     "output_type": "execute_result"
    }
   ],
   "source": [
    "post"
   ]
  },
  {
   "cell_type": "code",
   "execution_count": 7,
   "id": "b73139b2",
   "metadata": {},
   "outputs": [
    {
     "data": {
      "text/plain": [
       "WilcoxonResult(statistic=0.0, pvalue=0.001953125)"
      ]
     },
     "execution_count": 7,
     "metadata": {},
     "output_type": "execute_result"
    }
   ],
   "source": [
    "ss.wilcoxon(pre,post)"
   ]
  },
  {
   "cell_type": "code",
   "execution_count": 21,
   "id": "fc867aeb",
   "metadata": {},
   "outputs": [
    {
     "data": {
      "text/plain": [
       "MannwhitneyuResult(statistic=345.0, pvalue=9.256855465327253e-05)"
      ]
     },
     "execution_count": 21,
     "metadata": {},
     "output_type": "execute_result"
    }
   ],
   "source": [
    "ss.mannwhitneyu(sample2['price'],sample['price'])"
   ]
  },
  {
   "cell_type": "code",
   "execution_count": 25,
   "id": "d7e47e38",
   "metadata": {},
   "outputs": [
    {
     "data": {
      "text/plain": [
       "KstestResult(statistic=0.85, pvalue=1.4334782434603487e-07)"
      ]
     },
     "execution_count": 25,
     "metadata": {},
     "output_type": "execute_result"
    }
   ],
   "source": [
    "ss.ks_2samp(sample2['price'],sample4['price'])"
   ]
  },
  {
   "cell_type": "code",
   "execution_count": 26,
   "id": "539d1c90",
   "metadata": {},
   "outputs": [
    {
     "data": {
      "text/plain": [
       "Epps_Singleton_2sampResult(statistic=71.93137544092298, pvalue=8.873584218177598e-15)"
      ]
     },
     "execution_count": 26,
     "metadata": {},
     "output_type": "execute_result"
    }
   ],
   "source": [
    "ss.epps_singleton_2samp(sample2['price'],sample4['price'])"
   ]
  },
  {
   "cell_type": "code",
   "execution_count": 27,
   "id": "fc8043a4",
   "metadata": {},
   "outputs": [
    {
     "data": {
      "text/plain": [
       "BartlettResult(statistic=11.403080379114481, pvalue=0.0033408160030007415)"
      ]
     },
     "execution_count": 27,
     "metadata": {},
     "output_type": "execute_result"
    }
   ],
   "source": [
    "ss.bartlett(sample2['price'],sample4['price'],sample5['price'])"
   ]
  },
  {
   "cell_type": "code",
   "execution_count": 31,
   "id": "d57278da",
   "metadata": {},
   "outputs": [
    {
     "data": {
      "text/plain": [
       "LeveneResult(statistic=6.757923840458191, pvalue=0.002324136083717744)"
      ]
     },
     "execution_count": 31,
     "metadata": {},
     "output_type": "execute_result"
    }
   ],
   "source": [
    "ss.levene(sample2['price'],sample4['price'],sample5['price'])"
   ]
  },
  {
   "cell_type": "code",
   "execution_count": 34,
   "id": "c500879a",
   "metadata": {},
   "outputs": [
    {
     "data": {
      "text/plain": [
       "F_onewayResult(statistic=0.006141954526902947, pvalue=0.9938772996280884)"
      ]
     },
     "execution_count": 34,
     "metadata": {},
     "output_type": "execute_result"
    }
   ],
   "source": [
    "ss.f_oneway(sample10['price'],sample11['price'],sample12['price'])"
   ]
  },
  {
   "cell_type": "code",
   "execution_count": 44,
   "id": "5d38a690",
   "metadata": {},
   "outputs": [],
   "source": [
    "sample10=df.sample(30)\n",
    "sample11=df.sample(30)\n",
    "sample12=df.sample(30)"
   ]
  },
  {
   "cell_type": "code",
   "execution_count": 37,
   "id": "bd0e06e8",
   "metadata": {},
   "outputs": [
    {
     "data": {
      "text/plain": [
       "KruskalResult(statistic=0.7467105227046984, pvalue=0.6884206201553098)"
      ]
     },
     "execution_count": 37,
     "metadata": {},
     "output_type": "execute_result"
    }
   ],
   "source": [
    "ss.kruskal(sample10['price'],sample11['price'],sample12['price'])"
   ]
  },
  {
   "cell_type": "code",
   "execution_count": null,
   "id": "f8d90213",
   "metadata": {},
   "outputs": [],
   "source": [
    "ss.kruskal(sample10['price'],sample11['price'],sample12['price'])"
   ]
  },
  {
   "cell_type": "code",
   "execution_count": 39,
   "id": "ef52fea5",
   "metadata": {},
   "outputs": [],
   "source": [
    "sample13=df[df.marka=='Porsche'].sample(30)"
   ]
  },
  {
   "cell_type": "code",
   "execution_count": 48,
   "id": "26b9ef64",
   "metadata": {},
   "outputs": [
    {
     "data": {
      "text/plain": [
       "(0.09049061003373517, 0.634391608541768)"
      ]
     },
     "execution_count": 48,
     "metadata": {},
     "output_type": "execute_result"
    }
   ],
   "source": [
    "ss.pearsonr(sample10.price,sample10.shekil_sayi)"
   ]
  },
  {
   "cell_type": "code",
   "execution_count": 50,
   "id": "57a4b482",
   "metadata": {},
   "outputs": [
    {
     "data": {
      "text/plain": [
       "SpearmanrResult(correlation=0.7927659400409766, pvalue=1.765745306663109e-07)"
      ]
     },
     "execution_count": 50,
     "metadata": {},
     "output_type": "execute_result"
    }
   ],
   "source": [
    "ss.spearmanr(sample10.price,sample10.muherrik_guc2)"
   ]
  }
 ],
 "metadata": {
  "kernelspec": {
   "display_name": "Python 3 (ipykernel)",
   "language": "python",
   "name": "python3"
  },
  "language_info": {
   "codemirror_mode": {
    "name": "ipython",
    "version": 3
   },
   "file_extension": ".py",
   "mimetype": "text/x-python",
   "name": "python",
   "nbconvert_exporter": "python",
   "pygments_lexer": "ipython3",
   "version": "3.9.12"
  }
 },
 "nbformat": 4,
 "nbformat_minor": 5
}
