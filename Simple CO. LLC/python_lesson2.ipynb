{
 "cells": [
  {
   "cell_type": "markdown",
   "id": "f3805ece",
   "metadata": {},
   "source": [
    "# Conditional Statements"
   ]
  },
  {
   "cell_type": "markdown",
   "id": "76a08440",
   "metadata": {},
   "source": [
    "Indiyə qərər baxdığımız python kodları ardıcıl icra olunurdu. \\\n",
    "Lakin programlaşdırma hər zaman bu qədər sadə deyil. \n",
    "\n",
    "Adi bir izahla başlayaq. Siz evdən çıxanda havanın tempraturuna görə üstən geyinmək üçün bir şey götürüb \n",
    "götürməyəcəyinizə qərar verirsiniz. \n",
    "\n",
    "Əgər tempratur 30 dərəcə üstüdürsə biz yəqinki qısa qolla kifayətlənə bilərik. \\\n",
    "Yağış yağırsa yaxşı olarki su keçirtməyən nəsə geyinək. \n",
    "\n",
    "Gördüyümüz kimi adi həyatımızda belə biz müəyyən şərtlərə uyğun qərarlar verməli oluruq. \\\n",
    "Eləcə də kod yazarkən də biz müəyyən şərtləri gözləyir, onların ödənib ödənməməsindən aslı olaraq \\\n",
    "fərqli kod hissələri yazır/icra edirik.\n"
   ]
  },
  {
   "cell_type": "markdown",
   "id": "74165bb3",
   "metadata": {},
   "source": [
    "### if lə tanış olaq\n",
    "\n",
    "- code 1\n",
    "```\n",
    "if <şərt>:\n",
    "    <icra olunacaq kod>\n",
    "```"
   ]
  },
  {
   "cell_type": "markdown",
   "id": "cd8cd808",
   "metadata": {},
   "source": [
    "İki sətirlik kodda artıq bizim üçün tanış olmayan qoşa nöqtə və ikinci sətirdə buraxılmış boşluq \n",
    "olaraq 2 yeni python xüsusiyyəti ilə qarşılaşdıq. \n",
    "\n",
    "Gəlin məsələnin mahiyyətini başa düşmək üçün digər programlaşdırma dillərindən izahlar gətirək. \n"
   ]
  },
  {
   "cell_type": "markdown",
   "id": "b66804f3",
   "metadata": {},
   "source": [
    "- code 2\n",
    "```\n",
    "if (condition){\n",
    "    expression\n",
    "}\n",
    "```\n",
    "\n",
    "Code 2 də gördüyümüz kod hissəsi javascript dilində yazılıb və code 1 də yazılmış\n",
    "python kodu ilə eyni işi icra edir. "
   ]
  },
  {
   "cell_type": "markdown",
   "id": "1d494e80",
   "metadata": {},
   "source": [
    "if ifadəsi normal kod axışına şərtli müdaxilə etdiyi üçün biz bu hissənin bitməsinə də nəzarət etməliyik. \n",
    "Bunun üçün programlaşdırma dillərində `Code Block` anlayışı vardır və həmin hissə sadəcə hər hansı bir \n",
    "şərt ödənəndə/ödənməyəndə icra olunur. \n",
    "\n",
    "Digər progrmalaşdırma dillərində Java, JavaScript, C# və s. `Code Block`un başlamasını və bitməsini fiqurlu mörtərizə ilə edirlər. Misal üçün javascript ilə yazılmış code 2 hissəsinə baxa bilərsiz. \n",
    "\n",
    "Python isə fiqurlu mörtərizə işlətmir deyə necəsə code blockunu bildirməlidir və bunu \n",
    "indentation(boşluq buraxamaq)la edir. \n",
    "\n"
   ]
  },
  {
   "cell_type": "markdown",
   "id": "5779fa94",
   "metadata": {},
   "source": [
    "Dediyimiz kimi kod bloku hər hansı bir şərt ödəndikdə/ödənmədikdə icra olunur. \n",
    "Gəlin sadə məsələlərlə başlayaq."
   ]
  },
  {
   "cell_type": "code",
   "execution_count": 13,
   "id": "50a7d3d8",
   "metadata": {},
   "outputs": [],
   "source": [
    "x = 3\n",
    "y = 6\n",
    "z = 0"
   ]
  },
  {
   "cell_type": "code",
   "execution_count": 8,
   "id": "a13dab77",
   "metadata": {},
   "outputs": [
    {
     "name": "stdout",
     "output_type": "stream",
     "text": [
      "Y is greater than X\n"
     ]
    }
   ],
   "source": [
    "# şərt ödəndi, kod bloku icra olundu\n",
    "if y > x :\n",
    "    print('Y is greater than X')"
   ]
  },
  {
   "cell_type": "code",
   "execution_count": 9,
   "id": "ac17fd4e",
   "metadata": {},
   "outputs": [],
   "source": [
    "# şərt ödənmədiyi üçün kod bloku icra olunmadı\n",
    "if y < x :\n",
    "    print('X is greater than Y')"
   ]
  },
  {
   "cell_type": "markdown",
   "id": "b9e4d1db",
   "metadata": {},
   "source": [
    "### Truthy Falsy"
   ]
  },
  {
   "cell_type": "code",
   "execution_count": 14,
   "id": "99026597",
   "metadata": {},
   "outputs": [],
   "source": [
    "# 0 axı tam ədədir nə baş verdi?\n",
    "if z:\n",
    "    print(f\"Z is {z}\")"
   ]
  },
  {
   "cell_type": "markdown",
   "id": "4a5cc237",
   "metadata": {},
   "source": [
    "Bu yerdə gəlin şərtlərin hansı prinsiplərlə hesablandığına baxaq. "
   ]
  },
  {
   "cell_type": "code",
   "execution_count": 17,
   "id": "3a06e72b",
   "metadata": {},
   "outputs": [
    {
     "data": {
      "text/plain": [
       "False"
      ]
     },
     "execution_count": 17,
     "metadata": {},
     "output_type": "execute_result"
    }
   ],
   "source": [
    "y < z  # y 6, x 3 ədələri saxladığı üçün y < z False verir normal olaraq"
   ]
  },
  {
   "cell_type": "code",
   "execution_count": 18,
   "id": "06dc5514",
   "metadata": {},
   "outputs": [
    {
     "data": {
      "text/plain": [
       "True"
      ]
     },
     "execution_count": 18,
     "metadata": {},
     "output_type": "execute_result"
    }
   ],
   "source": [
    "y > z  # y 6, x 3 ədələri saxladığı üçün y > z True verir normal olaraq"
   ]
  },
  {
   "cell_type": "markdown",
   "id": "b9dab08c",
   "metadata": {},
   "source": [
    "0 la mələsə nədən ibarətdir"
   ]
  },
  {
   "cell_type": "markdown",
   "id": "6165af8f",
   "metadata": {},
   "source": [
    "Pythonda həqiqi boolean qiymətlərdən əlavə True, False Truthy və Falsy anlayışları da vardır. \\\n",
    "0 Falsy olduğu halda digər bütün ədələr(tam/kəsr) Truthy'dir. \\\n",
    "Boş list [] / list() Falsy'dir. \\\n",
    "Boş tuple, boş dictionary, boş set və boş string Falsy'dir. \\\n",
    "if şərti ya True/False ya da Truthy/Falsy qaytarır. Bu səbəbdən biz if z yazanda şərtimiz Falsy \\\n",
    "qaytardığı üçün kod blokunun növbəti sətirləri icra olunmadı. \n"
   ]
  },
  {
   "cell_type": "markdown",
   "id": "37705dad",
   "metadata": {},
   "source": [
    "### else \n",
    "\n",
    "Əgər if hissə True və ya Truthy qiymət qaytarmırsa else hissə icra olunmağa başlayır"
   ]
  },
  {
   "cell_type": "code",
   "execution_count": 23,
   "id": "5f11ddd1",
   "metadata": {},
   "outputs": [
    {
     "name": "stdout",
     "output_type": "stream",
     "text": [
      "Sorry, X is NOT greater than Y\n"
     ]
    }
   ],
   "source": [
    "# şərt ödənmədiyi üçün kod bloku icra olunmadı\n",
    "# gəlin şərtin ödənmədiyini printlə göstərək\n",
    "if y < x :\n",
    "    print('X is greater than Y')\n",
    "else:\n",
    "    print('Sorry, X is NOT greater than Y')"
   ]
  },
  {
   "cell_type": "code",
   "execution_count": 24,
   "id": "ef6da2f6",
   "metadata": {},
   "outputs": [
    {
     "name": "stdout",
     "output_type": "stream",
     "text": [
      "Z is zero, That is i am executed\n"
     ]
    }
   ],
   "source": [
    "if z:\n",
    "    print('Z is not zero')\n",
    "else:\n",
    "    print('Z is zero, That is i am executed')"
   ]
  },
  {
   "cell_type": "code",
   "execution_count": 25,
   "id": "e6fb14e7",
   "metadata": {},
   "outputs": [
    {
     "name": "stdout",
     "output_type": "stream",
     "text": [
      "my_list is empty\n"
     ]
    }
   ],
   "source": [
    "# boş list ilə izah\n",
    "my_list = list()\n",
    "if my_list:\n",
    "    print(my_list)\n",
    "else:\n",
    "    print('my_list is empty')"
   ]
  },
  {
   "cell_type": "markdown",
   "id": "f95a8923",
   "metadata": {},
   "source": [
    "### elif \n",
    "Bəzən bizə düz/səhv olmaqla iki hissə bəs etmir və bizim əlavə göstəricilər baxmağımıza gərək yaranır. \\\n",
    "Məsələn bildiyimiz kimi insan yaşına görə körpə, uşaq, yeniyetmə, gənc, yetkin və qoca kategoriyalarına bölünür. \\\n",
    "Gəlin bunu kodla yazaq."
   ]
  },
  {
   "cell_type": "code",
   "execution_count": 30,
   "id": "2f4775e4",
   "metadata": {},
   "outputs": [
    {
     "name": "stdout",
     "output_type": "stream",
     "text": [
      "uşaq\n"
     ]
    }
   ],
   "source": [
    "age = 5\n",
    "if age < 2:\n",
    "    print('körpə')\n",
    "elif 2 < age < 15:\n",
    "    print('uşaq')\n",
    "elif 15 < age < 18:\n",
    "    print('yeniyetmə')\n",
    "elif 18 < age < 35:\n",
    "    print('gənc')\n",
    "elif 35 < age < 50:\n",
    "    print('yetkin')\n",
    "else:\n",
    "    print('qoca')"
   ]
  },
  {
   "cell_type": "code",
   "execution_count": 31,
   "id": "9a775259",
   "metadata": {},
   "outputs": [
    {
     "name": "stdout",
     "output_type": "stream",
     "text": [
      "qoca\n"
     ]
    }
   ],
   "source": [
    "# yazdığımız kodu biraz daha əziyyətə salaq və yaşı hər hansı bir sərhəd ədədinə bərabər edər\n",
    "\n",
    "age = 15 # 15 birinci elif in ikinci sərhəddidir\n",
    "if age < 2:\n",
    "    print('körpə')\n",
    "elif 2 < age < 15:\n",
    "    print('uşaq')\n",
    "elif 15 < age < 18:\n",
    "    print('yeniyetmə')\n",
    "elif 18 < age < 35:\n",
    "    print('gənc')\n",
    "elif 35 < age < 50:\n",
    "    print('yetkin')\n",
    "else:\n",
    "    print('qoca')"
   ]
  },
  {
   "cell_type": "markdown",
   "id": "e8d6abf4",
   "metadata": {},
   "source": [
    "Gördüyümüz kimi gözlənilməz nəticə aldıq. Həqiqətənmi gözlənilməzdir? Xeyr \\\n",
    "Biz sadəcə böyük və kiçik yoxlaması etmişik və bu doğru deyil.  \\\n",
    "Yaş ən azı və ən çoxu bir intervala daxil olmalıdır. \\\n",
    "Yəniki insanın yaşa görə kateroriyası olmalıdır və insan eyni vaxtda birdən çox yaş kategoriyasında \\\n",
    "ola bilməz. \\\n",
    "Gəlin kodumuzu düzəldək"
   ]
  },
  {
   "cell_type": "code",
   "execution_count": 41,
   "id": "e8528cdd",
   "metadata": {},
   "outputs": [
    {
     "name": "stdout",
     "output_type": "stream",
     "text": [
      "körpə\n"
     ]
    }
   ],
   "source": [
    "age = 1\n",
    "if age < 2:\n",
    "    print('körpə')\n",
    "elif 2 <= age < 15:\n",
    "    print('uşaq')\n",
    "elif 15 <= age < 18:\n",
    "    print('yeniyetmə')\n",
    "elif 18 <= age < 35:\n",
    "    print('gənc')\n",
    "elif 35 <= age < 50:\n",
    "    print('yetkin')\n",
    "else:\n",
    "    print('qoca')"
   ]
  },
  {
   "cell_type": "code",
   "execution_count": 48,
   "id": "ecb3e5a1",
   "metadata": {},
   "outputs": [
    {
     "name": "stdout",
     "output_type": "stream",
     "text": [
      "körpə\n"
     ]
    }
   ],
   "source": [
    "# yaşa sıfır verək. Fiziki olaraq mümkün olmasa da texniki olaraq mümkündür :) \n",
    "age = 0\n",
    "if age < 2:\n",
    "    print('körpə')\n",
    "elif 2 <= age < 15:\n",
    "    print('uşaq')\n",
    "elif 15 <= age < 18:\n",
    "    print('yeniyetmə')\n",
    "elif 18 <= age < 35:\n",
    "    print('gənc')\n",
    "elif 35 <= age < 50:\n",
    "    print('yetkin')\n",
    "else:\n",
    "    print('qoca')"
   ]
  },
  {
   "cell_type": "markdown",
   "id": "a7bf2bd3",
   "metadata": {},
   "source": [
    "Gördüyümüz kimi yazdığımız kod çoxda dayanıqlı deyil. \\\n",
    "Düzəlişə davam edək"
   ]
  },
  {
   "cell_type": "code",
   "execution_count": 49,
   "id": "386bdc07",
   "metadata": {},
   "outputs": [
    {
     "name": "stdout",
     "output_type": "stream",
     "text": [
      "qoca\n"
     ]
    }
   ],
   "source": [
    "# yaş sıfır ola bilməz\n",
    "age = -12\n",
    "if 0 < age < 2:\n",
    "    print('körpə')\n",
    "elif 2 <= age < 15:\n",
    "    print('uşaq')\n",
    "elif 15 <= age < 18:\n",
    "    print('yeniyetmə')\n",
    "elif 18 <= age < 35:\n",
    "    print('gənc')\n",
    "elif 35 <= age < 50:\n",
    "    print('yetkin')\n",
    "else:\n",
    "    print('qoca')"
   ]
  },
  {
   "cell_type": "code",
   "execution_count": 50,
   "id": "dcdb0533",
   "metadata": {},
   "outputs": [
    {
     "name": "stdout",
     "output_type": "stream",
     "text": [
      "qoca\n"
     ]
    }
   ],
   "source": [
    "# her we go again\n",
    "# yenə düz olmadı :(\n",
    "# axı yaş mənfi ədəd də ola bilməz\n",
    "age = -12\n",
    "if 0 < age < 2:\n",
    "    print('körpə')\n",
    "elif 2 <= age < 15:\n",
    "    print('uşaq')\n",
    "elif 15 <= age < 18:\n",
    "    print('yeniyetmə')\n",
    "elif 18 <= age < 35:\n",
    "    print('gənc')\n",
    "elif 35 <= age < 50:\n",
    "    print('yetkin')\n",
    "else:\n",
    "    print('qoca')"
   ]
  },
  {
   "cell_type": "markdown",
   "id": "ce98c3e7",
   "metadata": {},
   "source": [
    "Gördüyümüz kimi mənfi ədəd yuxarda yazdığımız heç bir şərti ödəmir deyə else hissə işləyir.\n",
    "Əslində olmalı olan isə hər hansı bir şəkildə xəta almaq idi."
   ]
  },
  {
   "cell_type": "code",
   "execution_count": 53,
   "id": "6d0a561f",
   "metadata": {},
   "outputs": [
    {
     "name": "stdout",
     "output_type": "stream",
     "text": [
      "Yaş sıfırdan böyük olmalıdır\n"
     ]
    }
   ],
   "source": [
    "age = -12\n",
    "if age > 0:\n",
    "    if < 2:\n",
    "        print('körpə')\n",
    "    elif 2 <= age < 15:\n",
    "        print('uşaq')\n",
    "    elif 15 <= age < 18:\n",
    "        print('yeniyetmə')\n",
    "    elif 18 <= age < 35:\n",
    "        print('gənc')\n",
    "    elif 35 <= age < 50:\n",
    "        print('yetkin')\n",
    "    else:\n",
    "        print('qoca')\n",
    "else:\n",
    "    print('Yaş sıfırdan böyük olmalıdır')"
   ]
  },
  {
   "cell_type": "code",
   "execution_count": 54,
   "id": "854fcbfe",
   "metadata": {},
   "outputs": [
    {
     "name": "stdout",
     "output_type": "stream",
     "text": [
      "qoca\n"
     ]
    }
   ],
   "source": [
    "# və son olaraq \n",
    "age = 1000\n",
    "if age > 0:\n",
    "    if 0 < age < 2:\n",
    "        print('körpə')\n",
    "    elif 2 <= age < 15:\n",
    "        print('uşaq')\n",
    "    elif 15 <= age < 18:\n",
    "        print('yeniyetmə')\n",
    "    elif 18 <= age < 35:\n",
    "        print('gənc')\n",
    "    elif 35 <= age < 50:\n",
    "        print('yetkin')\n",
    "    else:\n",
    "        print('qoca')\n",
    "else:\n",
    "    print('Yaş sıfırdan böyük olmalıdır')"
   ]
  },
  {
   "cell_type": "markdown",
   "id": "38f69fbd",
   "metadata": {},
   "source": [
    "Min yaşında insan neçə nəfər tanıyırıq? :) \\\n",
    "Bu halda bizə yuxarı sərhəddimizə də limit qoymaq lazım gəlir"
   ]
  },
  {
   "cell_type": "code",
   "execution_count": 59,
   "id": "268aae47",
   "metadata": {},
   "outputs": [
    {
     "name": "stdout",
     "output_type": "stream",
     "text": [
      "Yaş 1 dən az 150 dən çox ola bilməz!\n"
     ]
    }
   ],
   "source": [
    "age = 1000\n",
    "if age > 0 and age < 150:\n",
    "    if 0 < age < 2:\n",
    "        print('körpə')\n",
    "    elif 2 <= age < 15:\n",
    "        print('uşaq')\n",
    "    elif 15 <= age < 18:\n",
    "        print('yeniyetmə')\n",
    "    elif 18 <= age < 35:\n",
    "        print('gənc')\n",
    "    elif 35 <= age < 50:\n",
    "        print('yetkin')\n",
    "    else:\n",
    "        print('qoca')\n",
    "else:\n",
    "    print('Yaş 1 dən az 150 dən çox ola bilməz!')"
   ]
  },
  {
   "cell_type": "markdown",
   "id": "1cd2c7cc",
   "metadata": {},
   "source": [
    "#### Ligical (məntiqi operatorlar)\n",
    "\n",
    "Yuxarıda and işlətdik. \"And\" nədir? Buna oxşar başqa hansı operatorlar var? \\\n",
    "and, or və not operatorları pythonda logical(məntiqi) operatorlardır.\n",
    "\n",
    "and hər iki tərəfin düz olmasını tələb edir. Məsələn `a and b` həm a həm də b düz olmaldır. \\\n",
    "or ən azı birinin düz olmasını tələb edir. `a or b` ya a ya da b düz olsa şərtimiz ödənir\n",
    "not isə inkarlıq üçün işlənir. `not a` \\\n",
    "İzahlarla davam edək"
   ]
  },
  {
   "cell_type": "code",
   "execution_count": 65,
   "id": "44c123b8",
   "metadata": {},
   "outputs": [],
   "source": [
    "age = 18\n",
    "gender = 'female'\n",
    "country = 'Azerbaijan'"
   ]
  },
  {
   "cell_type": "markdown",
   "id": "cc9632cb",
   "metadata": {},
   "source": [
    "##### and"
   ]
  },
  {
   "cell_type": "code",
   "execution_count": 67,
   "id": "c39193e7",
   "metadata": {},
   "outputs": [],
   "source": [
    "# hər 3 şərt ödənməlidir\n",
    "if age >= 18 and country == 'Azerbaijan' and gender == 'male':\n",
    "    print('Call him to military service!')"
   ]
  },
  {
   "cell_type": "markdown",
   "id": "960bb869",
   "metadata": {},
   "source": [
    "##### or"
   ]
  },
  {
   "cell_type": "code",
   "execution_count": 69,
   "id": "b438b812",
   "metadata": {},
   "outputs": [],
   "source": [
    "# ən azı bir şərt ödənməlidir\n",
    "country = \"Japan\"\n",
    "\n",
    "if country == 'Turkey' or country == 'Iran':\n",
    "    print('Visit Azerbaijan without Visa!')"
   ]
  },
  {
   "cell_type": "markdown",
   "id": "4daa52d4",
   "metadata": {},
   "source": [
    "#### not"
   ]
  },
  {
   "cell_type": "code",
   "execution_count": 73,
   "id": "15169541",
   "metadata": {},
   "outputs": [
    {
     "name": "stdout",
     "output_type": "stream",
     "text": [
      "You are not from Azerbaijan, sorry!\n"
     ]
    }
   ],
   "source": [
    "# dəyimənin bərabər olmadığını yoxlayır\n",
    "country = 'Italy'\n",
    "\n",
    "if not country ==  'Azerbaijan':\n",
    "    print('You are not from Azerbaijan, sorry!')"
   ]
  },
  {
   "cell_type": "markdown",
   "id": "fbf135a1",
   "metadata": {},
   "source": [
    "### in operatori ilə tanış olaq\n",
    "Contains \\\n",
    "in operatoru axtardığımız elementin axtarılan obyektdə olub olmamasın yoxlayır. \\\n",
    "Məsələn, 1 in [1, 2, 3, 4], 'a' in 'salam' 5 in (1, 2, 3, 4)\n",
    "Əgər varsa True yoxdursa False verir"
   ]
  },
  {
   "cell_type": "code",
   "execution_count": 4,
   "id": "70270a1d",
   "metadata": {},
   "outputs": [
    {
     "name": "stdout",
     "output_type": "stream",
     "text": [
      "True\n",
      "False\n"
     ]
    }
   ],
   "source": [
    "my_list = [1, 2, 3, 4]\n",
    "print(1 in my_list)\n",
    "print('salam' in my_list)"
   ]
  },
  {
   "cell_type": "markdown",
   "id": "f0f89c7c",
   "metadata": {},
   "source": [
    "### Loops - Döngü\n",
    "İterating over a sequence - birdən çox element saxlayan obyektərin hər bir elementinə baxmaq\n",
    "\n",
    "İterable object - foorlop istifadə edə biləcəyimiz obyektlər\n",
    "- list\n",
    "- tuple\n",
    "- set\n",
    "- dict\n",
    "- string\n",
    "\n",
    "\n",
    "```\n",
    "for item in iterable:\n",
    "    do something with single item\n",
    "```"
   ]
  },
  {
   "cell_type": "code",
   "execution_count": 80,
   "id": "49e337d1",
   "metadata": {},
   "outputs": [
    {
     "name": "stdout",
     "output_type": "stream",
     "text": [
      "1\n",
      "2\n",
      "3\n",
      "4\n",
      "5\n"
     ]
    }
   ],
   "source": [
    "for number in [1, 2, 3, 4, 5]:\n",
    "    print(number)"
   ]
  },
  {
   "cell_type": "code",
   "execution_count": 81,
   "id": "936e5a28",
   "metadata": {},
   "outputs": [
    {
     "name": "stdout",
     "output_type": "stream",
     "text": [
      "Anar\n",
      "Orxan\n",
      "Telman\n"
     ]
    }
   ],
   "source": [
    "for name in ('Anar', \"Orxan\", 'Telman'):\n",
    "    print(name)"
   ]
  },
  {
   "cell_type": "code",
   "execution_count": 82,
   "id": "b52e6ae8",
   "metadata": {},
   "outputs": [
    {
     "name": "stdout",
     "output_type": "stream",
     "text": [
      "1\n",
      "2\n",
      "4\n"
     ]
    }
   ],
   "source": [
    "for item in {1, 2, 4, 4}:\n",
    "    print(item)"
   ]
  },
  {
   "cell_type": "code",
   "execution_count": 6,
   "id": "2a7042b0",
   "metadata": {},
   "outputs": [],
   "source": [
    "md ={\n",
    "    'name': 'Orxan',\n",
    "    'surname': 'Aliyev',\n",
    "    'age': 21\n",
    "}"
   ]
  },
  {
   "cell_type": "code",
   "execution_count": 7,
   "id": "08aca541",
   "metadata": {},
   "outputs": [
    {
     "name": "stdout",
     "output_type": "stream",
     "text": [
      "name\n",
      "surname\n",
      "age\n"
     ]
    }
   ],
   "source": [
    "# get dict keys\n",
    "for item in md.keys():\n",
    "    print(item)"
   ]
  },
  {
   "cell_type": "code",
   "execution_count": 8,
   "id": "84fc1d47",
   "metadata": {},
   "outputs": [
    {
     "name": "stdout",
     "output_type": "stream",
     "text": [
      "Orxan\n",
      "Aliyev\n",
      "21\n"
     ]
    }
   ],
   "source": [
    "# get dict values\n",
    "for item in md.values():\n",
    "    print(item)"
   ]
  },
  {
   "cell_type": "code",
   "execution_count": 9,
   "id": "5cd64d2d",
   "metadata": {},
   "outputs": [
    {
     "name": "stdout",
     "output_type": "stream",
     "text": [
      "('name', 'Orxan')\n",
      "('surname', 'Aliyev')\n",
      "('age', 21)\n"
     ]
    }
   ],
   "source": [
    "# get key, value pair from dict\n",
    "for item in md.items():\n",
    "    print(item)"
   ]
  },
  {
   "cell_type": "markdown",
   "id": "18df73e6",
   "metadata": {},
   "source": [
    "### Unpacking\n",
    "unpacking daha cox funksiya return'larinda istifade olunur. \\\n",
    "mesel ucun, `a, b = some_function(param1, param2, param3)`"
   ]
  },
  {
   "cell_type": "code",
   "execution_count": 10,
   "id": "029c35f8",
   "metadata": {},
   "outputs": [],
   "source": [
    "# unpacking from list\n",
    "a, b = [1, 2]\n",
    "# unpacking from tuple\n",
    "a, b = (1, 2)"
   ]
  },
  {
   "cell_type": "markdown",
   "id": "1571e54b",
   "metadata": {},
   "source": [
    "#### iterating over string"
   ]
  },
  {
   "cell_type": "code",
   "execution_count": 11,
   "id": "1d4e18be",
   "metadata": {},
   "outputs": [
    {
     "name": "stdout",
     "output_type": "stream",
     "text": [
      "S\n",
      "a\n",
      "l\n",
      "a\n",
      "m\n"
     ]
    }
   ],
   "source": [
    "# string \n",
    "for char in \"Salam\":\n",
    "    print(char)"
   ]
  },
  {
   "cell_type": "markdown",
   "id": "50ec61b9",
   "metadata": {},
   "source": [
    "### range funksiyası\n",
    "\n",
    "range funksiyası bir arqument alır (hələlik biri ilə tanış olaq) \\\n",
    "range(6) və bu bizə 0dan (daxil) 6a qədər(daxil deyil) ədədlər verir"
   ]
  },
  {
   "cell_type": "code",
   "execution_count": 98,
   "id": "8adbc7fc",
   "metadata": {},
   "outputs": [
    {
     "name": "stdout",
     "output_type": "stream",
     "text": [
      "0\n",
      "1\n",
      "2\n",
      "3\n",
      "4\n",
      "5\n"
     ]
    }
   ],
   "source": [
    "for number in range(6):\n",
    "    print(number)"
   ]
  },
  {
   "cell_type": "code",
   "execution_count": 99,
   "id": "332f993c",
   "metadata": {},
   "outputs": [
    {
     "name": "stdout",
     "output_type": "stream",
     "text": [
      "1\n",
      "2\n",
      "3\n",
      "4\n",
      "5\n",
      "6\n",
      "7\n",
      "8\n",
      "9\n",
      "10\n"
     ]
    }
   ],
   "source": [
    "# başlanğıc ədədi (hazırda 0dır) dəyişmək üçün range funksiyasına 2ci arqumenti ötürə bilərik\n",
    "for number in range(1, 11):\n",
    "    print(number)"
   ]
  },
  {
   "cell_type": "code",
   "execution_count": 102,
   "id": "4cb2d3ce",
   "metadata": {},
   "outputs": [
    {
     "name": "stdout",
     "output_type": "stream",
     "text": [
      "1\n",
      "3\n",
      "5\n",
      "7\n",
      "9\n"
     ]
    }
   ],
   "source": [
    "# range funksiyası bir addımla irəliləyir. 1 2 3 və s\n",
    "# 3. arqument ötürərək bunu dəyişə bilərik\n",
    "for number in range(1, 11, 2):\n",
    "    print(number)"
   ]
  },
  {
   "cell_type": "markdown",
   "id": "614e493e",
   "metadata": {},
   "source": [
    "break, continue, pass"
   ]
  },
  {
   "cell_type": "markdown",
   "id": "a89f2536",
   "metadata": {},
   "source": [
    "#### Break"
   ]
  },
  {
   "cell_type": "code",
   "execution_count": 12,
   "id": "cd0ad7d0",
   "metadata": {},
   "outputs": [],
   "source": [
    "# break loopu qırmaq üçün / loopdan birdəfəlik çıxmaq üçün işlənir\n",
    "# loop başladı və başlayan kimi break ilə qarşılaşdı deyə loopdan çıxdı\n",
    "for item in range(10):\n",
    "    break"
   ]
  },
  {
   "cell_type": "code",
   "execution_count": 107,
   "id": "308515bd",
   "metadata": {},
   "outputs": [
    {
     "name": "stdout",
     "output_type": "stream",
     "text": [
      "Name is : Akif\n",
      "Name is : Ali\n",
      "Name is : Elman\n",
      "Name is : Orxan\n",
      "Orxan founded!\n"
     ]
    }
   ],
   "source": [
    "# more usefull case\n",
    "wanted = 'Orxan'\n",
    "for name in ['Akif', 'Ali', 'Elman', 'Orxan', 'Telman']:\n",
    "    print(f\"Name is : {name}\")\n",
    "    if name == wanted: # iki dəyişəni qiymət olaraq yoxlamaq\n",
    "        print(\"Orxan founded!\")\n",
    "        break\n",
    "        "
   ]
  },
  {
   "cell_type": "markdown",
   "id": "2063253b",
   "metadata": {},
   "source": [
    "### value equality vs reference equality"
   ]
  },
  {
   "cell_type": "code",
   "execution_count": 14,
   "id": "aa791d15",
   "metadata": {},
   "outputs": [],
   "source": [
    "num1 = 34\n",
    "num2 = 34"
   ]
  },
  {
   "cell_type": "code",
   "execution_count": 15,
   "id": "fd0eb011",
   "metadata": {},
   "outputs": [
    {
     "data": {
      "text/plain": [
       "True"
      ]
     },
     "execution_count": 15,
     "metadata": {},
     "output_type": "execute_result"
    }
   ],
   "source": [
    "# num1 qiyemt olaraq num2 e beraberdir\n",
    "num1 == num2"
   ]
  },
  {
   "cell_type": "code",
   "execution_count": 16,
   "id": "8f99282a",
   "metadata": {},
   "outputs": [
    {
     "data": {
      "text/plain": [
       "True"
      ]
     },
     "execution_count": 16,
     "metadata": {},
     "output_type": "execute_result"
    }
   ],
   "source": [
    "# num1 ve num2 yaddasin eyni hissesinde duran melumata refereance saxlayir\n",
    "num1 is num2"
   ]
  },
  {
   "cell_type": "code",
   "execution_count": 29,
   "id": "d6fe08c0",
   "metadata": {},
   "outputs": [],
   "source": [
    "# iki bos string yaradaq\n",
    "name = ''\n",
    "new_name = ''"
   ]
  },
  {
   "cell_type": "code",
   "execution_count": 32,
   "id": "7b58c527",
   "metadata": {},
   "outputs": [
    {
     "data": {
      "text/plain": [
       "True"
      ]
     },
     "execution_count": 32,
     "metadata": {},
     "output_type": "execute_result"
    }
   ],
   "source": [
    "# value olaraq beraberdiler \n",
    "name == new_name"
   ]
  },
  {
   "cell_type": "code",
   "execution_count": 34,
   "id": "cf8e5669",
   "metadata": {},
   "outputs": [
    {
     "data": {
      "text/plain": [
       "True"
      ]
     },
     "execution_count": 34,
     "metadata": {},
     "output_type": "execute_result"
    }
   ],
   "source": [
    "# yaddasin eyni hissesine referance saxlayirlar\n",
    "name is new_name"
   ]
  },
  {
   "cell_type": "code",
   "execution_count": 22,
   "id": "469992e5",
   "metadata": {},
   "outputs": [],
   "source": [
    "# listlerde mesele ferqlidir\n",
    "l1 = list()\n",
    "l2 = list()"
   ]
  },
  {
   "cell_type": "code",
   "execution_count": 35,
   "id": "9400bca8",
   "metadata": {},
   "outputs": [
    {
     "data": {
      "text/plain": [
       "True"
      ]
     },
     "execution_count": 35,
     "metadata": {},
     "output_type": "execute_result"
    }
   ],
   "source": [
    "# iki bos list value olaraq bir birine beraberdir, it is okay\n",
    "l1 == l2"
   ]
  },
  {
   "cell_type": "code",
   "execution_count": 36,
   "id": "9f65ccaf",
   "metadata": {},
   "outputs": [
    {
     "data": {
      "text/plain": [
       "False"
      ]
     },
     "execution_count": 36,
     "metadata": {},
     "output_type": "execute_result"
    }
   ],
   "source": [
    "# amma iki bos list eyni yaddas blokuna referance saxlamir\n",
    "l1 is l2"
   ]
  },
  {
   "cell_type": "code",
   "execution_count": 37,
   "id": "c7b12336",
   "metadata": {},
   "outputs": [],
   "source": [
    "l3 = [1, 2]\n",
    "l4 = [1, 2]"
   ]
  },
  {
   "cell_type": "code",
   "execution_count": 38,
   "id": "ec1824c2",
   "metadata": {},
   "outputs": [
    {
     "data": {
      "text/plain": [
       "True"
      ]
     },
     "execution_count": 38,
     "metadata": {},
     "output_type": "execute_result"
    }
   ],
   "source": [
    "l3 == l4"
   ]
  },
  {
   "cell_type": "code",
   "execution_count": 39,
   "id": "a90da0e9",
   "metadata": {},
   "outputs": [
    {
     "data": {
      "text/plain": [
       "False"
      ]
     },
     "execution_count": 39,
     "metadata": {},
     "output_type": "execute_result"
    }
   ],
   "source": [
    "l3 is l4"
   ]
  },
  {
   "cell_type": "code",
   "execution_count": 40,
   "id": "9e673c25",
   "metadata": {},
   "outputs": [
    {
     "data": {
      "text/plain": [
       "2678886659904"
      ]
     },
     "execution_count": 40,
     "metadata": {},
     "output_type": "execute_result"
    }
   ],
   "source": [
    "id(l3)"
   ]
  },
  {
   "cell_type": "code",
   "execution_count": 41,
   "id": "97ec5c0d",
   "metadata": {},
   "outputs": [
    {
     "data": {
      "text/plain": [
       "2678886573504"
      ]
     },
     "execution_count": 41,
     "metadata": {},
     "output_type": "execute_result"
    }
   ],
   "source": [
    "id(l4)"
   ]
  },
  {
   "cell_type": "markdown",
   "id": "adb81412",
   "metadata": {},
   "source": [
    "is operatoru əslində id(a) == id(b) yoxlayır "
   ]
  },
  {
   "cell_type": "markdown",
   "id": "edfeb70b",
   "metadata": {},
   "source": [
    "#### Continue"
   ]
  },
  {
   "cell_type": "code",
   "execution_count": 145,
   "id": "bc6b9e92",
   "metadata": {},
   "outputs": [],
   "source": [
    "for item in range(10):\n",
    "    continue"
   ]
  },
  {
   "cell_type": "markdown",
   "id": "db78888e",
   "metadata": {},
   "source": [
    "Nə vaxt ki, for loopun içində continue ilə rastlaşdıq növbəti elementə keçirik. \\\n",
    "break bir başa loopdan çıxır continue isə növbəti elementə keçir"
   ]
  },
  {
   "cell_type": "code",
   "execution_count": 147,
   "id": "1f752099",
   "metadata": {},
   "outputs": [
    {
     "name": "stdout",
     "output_type": "stream",
     "text": [
      "0\n",
      "1\n",
      "2\n",
      "3\n",
      "4\n",
      "6\n",
      "7\n",
      "8\n",
      "9\n"
     ]
    }
   ],
   "source": [
    "for item in range(10):\n",
    "    if item == 5:\n",
    "        continue\n",
    "    print(item)"
   ]
  },
  {
   "cell_type": "markdown",
   "id": "fb1e765b",
   "metadata": {},
   "source": [
    "#### pass "
   ]
  },
  {
   "cell_type": "markdown",
   "id": "897af166",
   "metadata": {},
   "source": [
    "Daha əvvəl pythonda qoşa nöqtənin və indentationın niyə lazım olduğu haqda danışmışdıq.\n",
    "Buna səbəb pythonda figurlu mörtərizənin olmaması idi. \\\n",
    "Figurlu mörtərizənin olmaması hansı çətinliklər yaradır. \\\n",
    "\n",
    "Məsələn javascriptdə hər hansı bir kod blokunu boş buraxmaq istəsək figurlu mörtərizə açıb bağlaya bilərik.\n",
    "\n",
    "```\n",
    "for (let i=0; i< 5; i++){\n",
    "    # for loop yazdım və heçnə etmirəm\n",
    "}\n",
    "```\n",
    "\n",
    "https://eloquentjavascript.net/code/#0   js fiddle"
   ]
  },
  {
   "cell_type": "markdown",
   "id": "dad8f0dd",
   "metadata": {},
   "source": [
    "Pythonda mörtərizə olmadığı üçün və indentation qorunmalı olduğu üçün nəsə etmək lazımdır :)\n",
    "\n",
    "Let us pass :) "
   ]
  },
  {
   "cell_type": "code",
   "execution_count": 151,
   "id": "ba62d02b",
   "metadata": {},
   "outputs": [],
   "source": [
    "for i in range(10):\n",
    "    pass"
   ]
  },
  {
   "cell_type": "markdown",
   "id": "7c715aed",
   "metadata": {},
   "source": [
    "### While loop"
   ]
  },
  {
   "cell_type": "code",
   "execution_count": 156,
   "id": "94cb42d3",
   "metadata": {},
   "outputs": [
    {
     "name": "stdout",
     "output_type": "stream",
     "text": [
      "Yeap, I have money!\n",
      "Yeap, I have money!\n",
      "Yeap, I have money!\n",
      "Yeap, I have money!\n",
      "Yeap, I have money!\n",
      "Yeap, I have money!\n",
      "Yeap, I have money!\n",
      "Yeap, I have money!\n",
      "Yeap, I have money!\n",
      "Yeap, I have money!\n"
     ]
    }
   ],
   "source": [
    "money = 10\n",
    "while money:\n",
    "    print('Yeap, I have money!')\n",
    "    money -= 1 # do not forget to decrement"
   ]
  },
  {
   "cell_type": "code",
   "execution_count": 158,
   "id": "745999db",
   "metadata": {},
   "outputs": [
    {
     "name": "stdout",
     "output_type": "stream",
     "text": [
      "1\n",
      "2\n",
      "3\n",
      "4\n",
      "5\n",
      "6\n",
      "7\n",
      "8\n",
      "9\n",
      "10\n"
     ]
    }
   ],
   "source": [
    "number = 1\n",
    "max_limit = 10\n",
    "\n",
    "while number <= max_limit:\n",
    "    print(number)\n",
    "    number += 1 # do not forget to increment\n"
   ]
  },
  {
   "cell_type": "markdown",
   "id": "2964a33b",
   "metadata": {},
   "source": [
    "### Comprehensions"
   ]
  },
  {
   "cell_type": "code",
   "execution_count": 170,
   "id": "d405861c",
   "metadata": {},
   "outputs": [],
   "source": [
    "# 1 dən 10 qədər rəqəmləri 2ə vuraq və yeni bir listdə yığaq\n",
    "new_list = list()\n",
    "for i in range(1, 11):\n",
    "    new_list.append(i * 2)"
   ]
  },
  {
   "cell_type": "code",
   "execution_count": 171,
   "id": "7bdf12f3",
   "metadata": {},
   "outputs": [
    {
     "data": {
      "text/plain": [
       "[2, 4, 6, 8, 10, 12, 14, 16, 18, 20]"
      ]
     },
     "execution_count": 171,
     "metadata": {},
     "output_type": "execute_result"
    }
   ],
   "source": [
    "new_list"
   ]
  },
  {
   "cell_type": "code",
   "execution_count": 173,
   "id": "31f9021f",
   "metadata": {},
   "outputs": [],
   "source": [
    "# comprehension\n",
    "new_list = [ i * 2 for i in range(1, 11)]"
   ]
  },
  {
   "cell_type": "code",
   "execution_count": 174,
   "id": "f02139c2",
   "metadata": {},
   "outputs": [
    {
     "data": {
      "text/plain": [
       "[2, 4, 6, 8, 10, 12, 14, 16, 18, 20]"
      ]
     },
     "execution_count": 174,
     "metadata": {},
     "output_type": "execute_result"
    }
   ],
   "source": [
    "new_list"
   ]
  },
  {
   "cell_type": "markdown",
   "id": "845c41e3",
   "metadata": {},
   "source": [
    "#### Funksiyalar\n",
    "\n",
    "Biz artıq funksiyalarla istəmədən də olsa tanış olduq. \\\n",
    "Bunlardan biri və ən birincisi print funksiyasıdır və range funksiyası \n",
    "\n",
    "Funksiyalar kod bloku olub sadəcə lazım olduqda istifadəyə çağrılır. \\\n",
    "Eyni kodu təkrar-təkrar yazmamaq üçün funksiyalar çox faydalıdır. \n",
    "\n",
    "\n",
    "def xüsusi sözü ilə yaranır\n",
    "\n",
    "```\n",
    "def my_first_function():\n",
    "    print(\"Hello world\")\n",
    "```"
   ]
  },
  {
   "cell_type": "code",
   "execution_count": 160,
   "id": "8e7cbce2",
   "metadata": {},
   "outputs": [
    {
     "name": "stdout",
     "output_type": "stream",
     "text": [
      "12\n"
     ]
    }
   ],
   "source": [
    "# Funksiyalar kod bloku olub sadəcə lazım olduqda istifadəyə çağrılır\n",
    "# adi qaydada python kodları sətrbəsərt oxuyur\n",
    "a = 5\n",
    "b = 7\n",
    "c = a + b\n",
    "print(c)"
   ]
  },
  {
   "cell_type": "code",
   "execution_count": 161,
   "id": "1f954358",
   "metadata": {},
   "outputs": [],
   "source": [
    "# funksiya\n",
    "def my_first_function():\n",
    "    print(\"Hello world\")"
   ]
  },
  {
   "cell_type": "markdown",
   "id": "21ab9ad3",
   "metadata": {},
   "source": [
    "Heçnə print olmadı, niyə? \n",
    "Çünki biz funksiya daxili kodların icra olunmağını istəyiriksə funksiyanı işə salmalıyıq/ çağırmalıyıq."
   ]
  },
  {
   "cell_type": "code",
   "execution_count": 165,
   "id": "c2555078",
   "metadata": {},
   "outputs": [
    {
     "name": "stdout",
     "output_type": "stream",
     "text": [
      "Hello world\n"
     ]
    }
   ],
   "source": [
    "my_first_function() # mörtərizə vacibdir"
   ]
  },
  {
   "cell_type": "code",
   "execution_count": 175,
   "id": "582c0948",
   "metadata": {},
   "outputs": [
    {
     "name": "stdout",
     "output_type": "stream",
     "text": [
      "Hello World\n"
     ]
    }
   ],
   "source": [
    "# arqument ötürmək\n",
    "def greeting(name):\n",
    "    print(f\"Hello {name}\")\n",
    "\n",
    "greeting('World')"
   ]
  },
  {
   "cell_type": "markdown",
   "id": "bb030172",
   "metadata": {},
   "source": [
    "funksiyalar adətən nəyisə print etmək üçün deyil, hər hansı bir əməliyyatı icra edib nəticə qaytarmaq\n",
    "üçün işlənir"
   ]
  },
  {
   "cell_type": "code",
   "execution_count": 177,
   "id": "34433183",
   "metadata": {},
   "outputs": [
    {
     "name": "stdout",
     "output_type": "stream",
     "text": [
      "7\n"
     ]
    }
   ],
   "source": [
    "def sum_two_values(a, b):\n",
    "    print(a + b)\n",
    "\n",
    "result = sum_two_values(3, 4)"
   ]
  },
  {
   "cell_type": "code",
   "execution_count": 179,
   "id": "c970c50b",
   "metadata": {},
   "outputs": [],
   "source": [
    "result # result None dir. Pythonda funksiyalar biz return yazmadığımız halda None return edir"
   ]
  },
  {
   "cell_type": "code",
   "execution_count": 186,
   "id": "c7ddb7ad",
   "metadata": {},
   "outputs": [],
   "source": [
    "# düzgün versiyada funksiya yazılışı\n",
    "def sum_two_values2(a, b):\n",
    "    return a + b"
   ]
  },
  {
   "cell_type": "code",
   "execution_count": 187,
   "id": "f6975e88",
   "metadata": {},
   "outputs": [
    {
     "ename": "TypeError",
     "evalue": "sum_two_values2() missing 2 required positional arguments: 'a' and 'b'",
     "output_type": "error",
     "traceback": [
      "\u001b[1;31m---------------------------------------------------------------------------\u001b[0m",
      "\u001b[1;31mTypeError\u001b[0m                                 Traceback (most recent call last)",
      "Input \u001b[1;32mIn [187]\u001b[0m, in \u001b[0;36m<cell line: 1>\u001b[1;34m()\u001b[0m\n\u001b[1;32m----> 1\u001b[0m \u001b[43msum_two_values2\u001b[49m\u001b[43m(\u001b[49m\u001b[43m)\u001b[49m\n",
      "\u001b[1;31mTypeError\u001b[0m: sum_two_values2() missing 2 required positional arguments: 'a' and 'b'"
     ]
    }
   ],
   "source": [
    "sum_two_values2()"
   ]
  },
  {
   "cell_type": "code",
   "execution_count": 189,
   "id": "49d56703",
   "metadata": {},
   "outputs": [],
   "source": [
    "result = sum_two_values2(3, 4)"
   ]
  },
  {
   "cell_type": "code",
   "execution_count": 190,
   "id": "d072c88a",
   "metadata": {},
   "outputs": [
    {
     "data": {
      "text/plain": [
       "7"
      ]
     },
     "execution_count": 190,
     "metadata": {},
     "output_type": "execute_result"
    }
   ],
   "source": [
    "result"
   ]
  },
  {
   "cell_type": "code",
   "execution_count": 42,
   "id": "5fcfab8a",
   "metadata": {},
   "outputs": [],
   "source": [
    "# empty function\n",
    "def empty_function():\n",
    "    pass"
   ]
  },
  {
   "cell_type": "code",
   "execution_count": null,
   "id": "b049a1e9",
   "metadata": {},
   "outputs": [],
   "source": []
  }
 ],
 "metadata": {
  "kernelspec": {
   "display_name": "Python 3 (ipykernel)",
   "language": "python",
   "name": "python3"
  },
  "language_info": {
   "codemirror_mode": {
    "name": "ipython",
    "version": 3
   },
   "file_extension": ".py",
   "mimetype": "text/x-python",
   "name": "python",
   "nbconvert_exporter": "python",
   "pygments_lexer": "ipython3",
   "version": "3.9.12"
  }
 },
 "nbformat": 4,
 "nbformat_minor": 5
}
