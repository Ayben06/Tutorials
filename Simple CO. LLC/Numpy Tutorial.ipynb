{
 "cells": [
  {
   "cell_type": "code",
   "execution_count": 1,
   "id": "e4930acf",
   "metadata": {},
   "outputs": [],
   "source": [
    "import numpy as np"
   ]
  },
  {
   "cell_type": "markdown",
   "id": "7174d24b",
   "metadata": {},
   "source": [
    "## Data Types\n"
   ]
  },
  {
   "cell_type": "code",
   "execution_count": 2,
   "id": "e7d8cfc1",
   "metadata": {},
   "outputs": [
    {
     "name": "stdout",
     "output_type": "stream",
     "text": [
      "saylar int32\n"
     ]
    }
   ],
   "source": [
    "# numpy massivi 'int' data tipi ilə\n",
    "saylar = np.array([1, 3, 2, 2, 2, 20, 2])\n",
    "print('saylar', saylar.dtype)"
   ]
  },
  {
   "cell_type": "code",
   "execution_count": 3,
   "id": "c77b0712",
   "metadata": {},
   "outputs": [
    {
     "name": "stdout",
     "output_type": "stream",
     "text": [
      "saylar float64\n"
     ]
    }
   ],
   "source": [
    "# numpy massivi 'float' data tipi ilə\n",
    "saylar = np.array([1, 3, 2, 2, 2, 20, 0.5])\n",
    "print('saylar', saylar.dtype)"
   ]
  },
  {
   "cell_type": "code",
   "execution_count": 4,
   "id": "25716db6",
   "metadata": {},
   "outputs": [
    {
     "name": "stdout",
     "output_type": "stream",
     "text": [
      "mehsullar <U7\n"
     ]
    }
   ],
   "source": [
    "# numpy massivi 'unicode', a.k.a string data tipi ilə\n",
    "mehsullar = np.array(['kolbasa','yağ','pendir','süd','çörək','yumurta','su'])\n",
    "print('mehsullar', mehsullar.dtype)"
   ]
  },
  {
   "cell_type": "code",
   "execution_count": 5,
   "id": "761e369a",
   "metadata": {},
   "outputs": [
    {
     "name": "stdout",
     "output_type": "stream",
     "text": [
      "['1984' 'Cinayət və Cəza' 'Zəfər Tağı']\n",
      "<U15\n"
     ]
    }
   ],
   "source": [
    "# numpy massivi qarışıq data tipləri ilə\n",
    "kitablar = np.array([1984, 'Cinayət və Cəza', 'Zəfər Tağı'])\n",
    "print(kitablar)\n",
    "print(kitablar.dtype)"
   ]
  },
  {
   "cell_type": "markdown",
   "id": "79784980",
   "metadata": {},
   "source": [
    "## Indexing"
   ]
  },
  {
   "cell_type": "code",
   "execution_count": 6,
   "id": "9ceeb514",
   "metadata": {},
   "outputs": [
    {
     "name": "stdout",
     "output_type": "stream",
     "text": [
      "mehsullar[0] --> kolbasa\n",
      "mehsullar[1] --> yağ\n",
      "mehsullar[2] --> pendir\n",
      "mehsullar[3] --> süd\n",
      "mehsullar[4] --> çörək\n",
      "mehsullar[5] --> yumurta\n",
      "mehsullar[6] --> su\n"
     ]
    }
   ],
   "source": [
    "# mənfi olmayan rəqəmlərlə indekslənmə\n",
    "for i in range(len(mehsullar)):\n",
    "    print(f'mehsullar[{i}] -->', mehsullar[i])"
   ]
  },
  {
   "cell_type": "code",
   "execution_count": 7,
   "id": "67e576e7",
   "metadata": {},
   "outputs": [
    {
     "name": "stdout",
     "output_type": "stream",
     "text": [
      "mehsullar[-1] --> su\n",
      "mehsullar[-2] --> yumurta\n",
      "mehsullar[-3] --> çörək\n",
      "mehsullar[-4] --> süd\n",
      "mehsullar[-5] --> pendir\n",
      "mehsullar[-6] --> yağ\n",
      "mehsullar[-7] --> kolbasa\n"
     ]
    }
   ],
   "source": [
    "# müsbət olmayan rəqəmlərlə indekslənmə\n",
    "for i in range(-1,-(len(mehsullar)+1), -1):\n",
    "    print(f'mehsullar[{i}] -->', mehsullar[i])"
   ]
  },
  {
   "cell_type": "code",
   "execution_count": 8,
   "id": "fe0f72d9",
   "metadata": {},
   "outputs": [
    {
     "ename": "IndexError",
     "evalue": "index 8 is out of bounds for axis 0 with size 7",
     "output_type": "error",
     "traceback": [
      "\u001b[1;31m---------------------------------------------------------------------------\u001b[0m",
      "\u001b[1;31mIndexError\u001b[0m                                Traceback (most recent call last)",
      "Input \u001b[1;32mIn [8]\u001b[0m, in \u001b[0;36m<cell line: 3>\u001b[1;34m()\u001b[0m\n\u001b[0;32m      1\u001b[0m \u001b[38;5;66;03m# out of range indekslənmə\u001b[39;00m\n\u001b[0;32m      2\u001b[0m \u001b[38;5;28mlen\u001b[39m(mehsullar)\n\u001b[1;32m----> 3\u001b[0m \u001b[43mmehsullar\u001b[49m\u001b[43m[\u001b[49m\u001b[38;5;241;43m8\u001b[39;49m\u001b[43m]\u001b[49m\n",
      "\u001b[1;31mIndexError\u001b[0m: index 8 is out of bounds for axis 0 with size 7"
     ]
    }
   ],
   "source": [
    "# out of range indekslənmə\n",
    "len(mehsullar)\n",
    "mehsullar[8]"
   ]
  },
  {
   "cell_type": "markdown",
   "id": "9c324062",
   "metadata": {},
   "source": [
    "## Slicing"
   ]
  },
  {
   "cell_type": "code",
   "execution_count": 9,
   "id": "1ccd142c",
   "metadata": {},
   "outputs": [
    {
     "data": {
      "text/plain": [
       "array(['kolbasa', 'yağ', 'pendir', 'süd', 'çörək', 'yumurta', 'su'],\n",
       "      dtype='<U7')"
      ]
     },
     "execution_count": 9,
     "metadata": {},
     "output_type": "execute_result"
    }
   ],
   "source": [
    "# massivin birinci elementindən sonuncu elementinə qədər hər elementi seçirik\n",
    "mehsullar[0:7:1]"
   ]
  },
  {
   "cell_type": "code",
   "execution_count": 10,
   "id": "e7dde331",
   "metadata": {},
   "outputs": [
    {
     "data": {
      "text/plain": [
       "array(['kolbasa', 'yağ', 'pendir', 'süd', 'çörək', 'yumurta', 'su'],\n",
       "      dtype='<U7')"
      ]
     },
     "execution_count": 10,
     "metadata": {},
     "output_type": "execute_result"
    }
   ],
   "source": [
    "mehsullar[::1]"
   ]
  },
  {
   "cell_type": "code",
   "execution_count": 11,
   "id": "aeb1e5e7",
   "metadata": {},
   "outputs": [
    {
     "data": {
      "text/plain": [
       "array(['yağ', 'süd', 'yumurta'], dtype='<U7')"
      ]
     },
     "execution_count": 11,
     "metadata": {},
     "output_type": "execute_result"
    }
   ],
   "source": [
    "# massivin 1 indeksində yerləşən elementindən 6 indeksində \n",
    "# yerləşən elementinə qədər (6 daxil deyil!) hər ikinci elementi seçirik\n",
    "mehsullar[1:6:2]"
   ]
  },
  {
   "cell_type": "code",
   "execution_count": 12,
   "id": "8c4d02d3",
   "metadata": {},
   "outputs": [
    {
     "data": {
      "text/plain": [
       "array(['kolbasa', 'yağ', 'pendir'], dtype='<U7')"
      ]
     },
     "execution_count": 12,
     "metadata": {},
     "output_type": "execute_result"
    }
   ],
   "source": [
    "# massivin başlanğıcından -4 indeksində yerləşən elementinə qədər hər elementi seçirik\n",
    "mehsullar[0:-4]"
   ]
  },
  {
   "cell_type": "code",
   "execution_count": 13,
   "id": "edfafe69",
   "metadata": {},
   "outputs": [
    {
     "data": {
      "text/plain": [
       "array(['süd', 'çörək'], dtype='<U7')"
      ]
     },
     "execution_count": 13,
     "metadata": {},
     "output_type": "execute_result"
    }
   ],
   "source": [
    "# massivin  -4 indeksində yerləşən elementindən -2 indeksində yerləşən elementinə \n",
    "# qədər (-2 daxil deyil) hər elementi seçirik\n",
    "mehsullar[-4:-2]"
   ]
  },
  {
   "cell_type": "markdown",
   "id": "37bb503b",
   "metadata": {},
   "source": [
    "## Broadcasting and operations"
   ]
  },
  {
   "cell_type": "code",
   "execution_count": 17,
   "id": "b8e9b285",
   "metadata": {},
   "outputs": [],
   "source": [
    "# siyahınızda olan məhsulları qeyd olunmuş sayda səbətə atırsınız\n",
    "saylar = np.array([1, 3, 2, 2, 2, 20, 2])"
   ]
  },
  {
   "cell_type": "code",
   "execution_count": 23,
   "id": "d762afab",
   "metadata": {},
   "outputs": [
    {
     "name": "stdout",
     "output_type": "stream",
     "text": [
      "[ 2  4  3  3  3 21  3]\n"
     ]
    }
   ],
   "source": [
    "# hər məhsuldan 1 ədəd də əlavə etmək istəyirsiniz\n",
    "print(saylar + 1)"
   ]
  },
  {
   "cell_type": "code",
   "execution_count": 24,
   "id": "c4807bed",
   "metadata": {},
   "outputs": [
    {
     "name": "stdout",
     "output_type": "stream",
     "text": [
      "[ 0  2  1  1  1 19  1]\n"
     ]
    }
   ],
   "source": [
    "# səbət ağır oldu, hər məhsuldan 1 ədəd çıxmaq istəyirsiniz\n",
    "print(saylar - 1)"
   ]
  },
  {
   "cell_type": "code",
   "execution_count": 25,
   "id": "31db6132",
   "metadata": {},
   "outputs": [
    {
     "name": "stdout",
     "output_type": "stream",
     "text": [
      "['kolbasa' 'yağ' 'pendir' 'süd' 'çörək' 'yumurta' 'su']\n",
      "[ 7.99  7.86  7.98 11.34  1.    7.    5.  ]\n",
      "48.17\n"
     ]
    }
   ],
   "source": [
    "# hər məhsula görə toplam qiyməti öyrənmək istəyirsiniz\n",
    "qiymetler = np.array([7.99, 2.62, 3.99, 5.67, 0.50, 0.35, 2.5])\n",
    "saylar = np.array([1, 3, 2, 2, 2, 20, 2])\n",
    "mehsul_qiymetler = saylar * qiymetler\n",
    "print(mehsullar)\n",
    "print(mehsul_qiymetler)\n",
    "print(sum(mehsul_qiymetler))"
   ]
  },
  {
   "cell_type": "code",
   "execution_count": null,
   "id": "1a38bfeb",
   "metadata": {},
   "outputs": [],
   "source": []
  },
  {
   "cell_type": "code",
   "execution_count": 26,
   "id": "223ea6da",
   "metadata": {},
   "outputs": [
    {
     "name": "stdout",
     "output_type": "stream",
     "text": [
      "48.17\n"
     ]
    }
   ],
   "source": [
    "# səbətin toplam qiymətini öyrənmək istəyirsiniz\n",
    "qiymetler = np.array([7.99, 2.62, 3.99, 5.67, 0.50, 0.35, 2.5])\n",
    "saylar = np.array([1, 3, 2, 2, 2, 20, 2])\n",
    "toplam = np.dot(qiymetler,saylar)\n",
    "print(toplam)"
   ]
  },
  {
   "cell_type": "code",
   "execution_count": 29,
   "id": "da10c30e",
   "metadata": {},
   "outputs": [
    {
     "name": "stdout",
     "output_type": "stream",
     "text": [
      "52.987\n"
     ]
    }
   ],
   "source": [
    "# qiymətlər 10% baxalaşdı və təzə toplam qiyməti hesablamaq istəyirsiniz\n",
    "qiymetler = np.array([7.99, 2.62, 3.99, 5.67, 0.50, 0.35, 2.5])\n",
    "saylar = np.array([1, 3, 2, 2, 2, 20, 2])\n",
    "qiymetler = qiymetler * 1.1\n",
    "toplam = np.dot(qiymetler,saylar)\n",
    "print(toplam)"
   ]
  },
  {
   "cell_type": "code",
   "execution_count": 30,
   "id": "9cb892c8",
   "metadata": {},
   "outputs": [
    {
     "name": "stdout",
     "output_type": "stream",
     "text": [
      "[7.99  2.882 4.389 6.237 0.5   0.35  2.5  ]\n",
      "50.888000000000005\n"
     ]
    }
   ],
   "source": [
    "# ancaq süd məhsullarında qiymətlər 10% baxalaşdı və təzə toplam qiyməti hesablamaq istəyirsiniz\n",
    "qiymetler = np.array([7.99, 2.62, 3.99, 5.67, 0.50, 0.35, 2.5])\n",
    "saylar = np.array([1, 3, 2, 2, 2, 20, 2])\n",
    "qiymetler[1:4] = qiymetler[1:4] * 1.1\n",
    "print(qiymetler)\n",
    "toplam = np.dot(qiymetler,saylar)\n",
    "print(toplam)"
   ]
  },
  {
   "cell_type": "code",
   "execution_count": 31,
   "id": "b918df20",
   "metadata": {},
   "outputs": [
    {
     "ename": "UFuncTypeError",
     "evalue": "ufunc 'multiply' did not contain a loop with signature matching types (dtype('<U7'), dtype('int32')) -> None",
     "output_type": "error",
     "traceback": [
      "\u001b[1;31m---------------------------------------------------------------------------\u001b[0m",
      "\u001b[1;31mUFuncTypeError\u001b[0m                            Traceback (most recent call last)",
      "Input \u001b[1;32mIn [31]\u001b[0m, in \u001b[0;36m<cell line: 2>\u001b[1;34m()\u001b[0m\n\u001b[0;32m      1\u001b[0m \u001b[38;5;66;03m# riyazi əməliyyatlar ancaq int və float data tipləri ilə keçərlidir\u001b[39;00m\n\u001b[1;32m----> 2\u001b[0m \u001b[43mmehsullar\u001b[49m\u001b[43m \u001b[49m\u001b[38;5;241;43m*\u001b[39;49m\u001b[43m \u001b[49m\u001b[38;5;241;43m2\u001b[39;49m\n",
      "\u001b[1;31mUFuncTypeError\u001b[0m: ufunc 'multiply' did not contain a loop with signature matching types (dtype('<U7'), dtype('int32')) -> None"
     ]
    }
   ],
   "source": [
    "# riyazi əməliyyatlar ancaq int və float data tipləri ilə keçərlidir\n",
    "mehsullar * 2"
   ]
  },
  {
   "cell_type": "markdown",
   "id": "ef53f65c",
   "metadata": {},
   "source": [
    "## Funksiyalar"
   ]
  },
  {
   "cell_type": "code",
   "execution_count": 32,
   "id": "8ce9b8f2",
   "metadata": {},
   "outputs": [
    {
     "data": {
      "text/plain": [
       "3.5497142857142854"
      ]
     },
     "execution_count": 32,
     "metadata": {},
     "output_type": "execute_result"
    }
   ],
   "source": [
    "np.mean(qiymetler)"
   ]
  },
  {
   "cell_type": "code",
   "execution_count": 33,
   "id": "0522a6f7",
   "metadata": {},
   "outputs": [
    {
     "data": {
      "text/plain": [
       "2.8820000000000006"
      ]
     },
     "execution_count": 33,
     "metadata": {},
     "output_type": "execute_result"
    }
   ],
   "source": [
    "np.median(qiymetler)"
   ]
  },
  {
   "cell_type": "code",
   "execution_count": 34,
   "id": "ca2c7187",
   "metadata": {},
   "outputs": [
    {
     "data": {
      "text/plain": [
       "7.99"
      ]
     },
     "execution_count": 34,
     "metadata": {},
     "output_type": "execute_result"
    }
   ],
   "source": [
    "np.max(qiymetler)"
   ]
  },
  {
   "cell_type": "code",
   "execution_count": 35,
   "id": "13ee71c4",
   "metadata": {},
   "outputs": [
    {
     "data": {
      "text/plain": [
       "0.35"
      ]
     },
     "execution_count": 35,
     "metadata": {},
     "output_type": "execute_result"
    }
   ],
   "source": [
    "np.min(qiymetler)"
   ]
  },
  {
   "cell_type": "code",
   "execution_count": 36,
   "id": "c2a3b875",
   "metadata": {},
   "outputs": [
    {
     "data": {
      "text/plain": [
       "array([False, False, False, False, False, False, False])"
      ]
     },
     "execution_count": 36,
     "metadata": {},
     "output_type": "execute_result"
    }
   ],
   "source": [
    "np.isnan(qiymetler)"
   ]
  },
  {
   "cell_type": "code",
   "execution_count": 38,
   "id": "463e58a6",
   "metadata": {},
   "outputs": [
    {
     "data": {
      "text/plain": [
       "2.6384170965770752"
      ]
     },
     "execution_count": 38,
     "metadata": {},
     "output_type": "execute_result"
    }
   ],
   "source": [
    "np.std(qiymetler)"
   ]
  },
  {
   "cell_type": "code",
   "execution_count": null,
   "id": "bb359750",
   "metadata": {},
   "outputs": [],
   "source": []
  }
 ],
 "metadata": {
  "kernelspec": {
   "display_name": "Python 3 (ipykernel)",
   "language": "python",
   "name": "python3"
  },
  "language_info": {
   "codemirror_mode": {
    "name": "ipython",
    "version": 3
   },
   "file_extension": ".py",
   "mimetype": "text/x-python",
   "name": "python",
   "nbconvert_exporter": "python",
   "pygments_lexer": "ipython3",
   "version": "3.9.12"
  }
 },
 "nbformat": 4,
 "nbformat_minor": 5
}
