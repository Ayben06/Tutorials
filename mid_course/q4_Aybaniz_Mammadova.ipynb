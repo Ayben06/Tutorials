{
 "cells": [
  {
   "cell_type": "code",
   "execution_count": 1,
   "id": "527fa194",
   "metadata": {},
   "outputs": [],
   "source": [
    "import requests\n",
    "from bs4 import BeautifulSoup\n",
    "import pymysql"
   ]
  },
  {
   "cell_type": "code",
   "execution_count": 2,
   "id": "bca8918a",
   "metadata": {},
   "outputs": [],
   "source": [
    "url='https://az.wikipedia.org/wiki/Az%C9%99rbaycan_himni'"
   ]
  },
  {
   "cell_type": "code",
   "execution_count": 3,
   "id": "1a0f0b39",
   "metadata": {},
   "outputs": [],
   "source": [
    "response = requests.get(url)"
   ]
  },
  {
   "cell_type": "code",
   "execution_count": 4,
   "id": "99e339e3",
   "metadata": {},
   "outputs": [
    {
     "data": {
      "text/plain": [
       "<Response [200]>"
      ]
     },
     "execution_count": 4,
     "metadata": {},
     "output_type": "execute_result"
    }
   ],
   "source": [
    "response"
   ]
  },
  {
   "cell_type": "code",
   "execution_count": 5,
   "id": "25fcc8f7",
   "metadata": {},
   "outputs": [],
   "source": [
    "soup = BeautifulSoup(response.content, 'lxml')"
   ]
  },
  {
   "cell_type": "code",
   "execution_count": 7,
   "id": "2299c866",
   "metadata": {},
   "outputs": [],
   "source": [
    "soup1=soup.find('table',class_='wikitable')"
   ]
  },
  {
   "cell_type": "code",
   "execution_count": 70,
   "id": "486be0d0",
   "metadata": {},
   "outputs": [],
   "source": [
    "poem=soup1.find('div',class_='poem')"
   ]
  },
  {
   "cell_type": "code",
   "execution_count": 71,
   "id": "611ad402",
   "metadata": {},
   "outputs": [],
   "source": [
    "poem=poem.text"
   ]
  },
  {
   "cell_type": "code",
   "execution_count": 51,
   "id": "5a2acd48",
   "metadata": {},
   "outputs": [
    {
     "data": {
      "text/plain": [
       "str"
      ]
     },
     "execution_count": 51,
     "metadata": {},
     "output_type": "execute_result"
    }
   ],
   "source": [
    "type(poem)"
   ]
  },
  {
   "cell_type": "code",
   "execution_count": 72,
   "id": "134d7aab",
   "metadata": {},
   "outputs": [
    {
     "data": {
      "text/plain": [
       "'\\nAzərbaycan! Azərbaycan!\\nEy qəhrəman övladın şanlı Vətəni!\\nSəndən ötrü can verməyə cümlə hazırız!\\nSəndən ötrü qan tökməyə cümlə qadiriz!\\nÜçrəngli bayrağınla məsud yaşa!\\nÜçrəngli bayrağınla məsud yaşa!\\n\\nMinlərlə can qurban oldu,\\nSinən hərbə meydan oldu!\\nHüququndan keçən əsgər,\\nHərə bir qəhrəman oldu!\\n\\nSən olasan gülüstan,\\nSənə hər an can qurban!\\nSənə min bir məhəbbət\\nSinəmdə tutmuş məkan!\\n\\nNamusunu hifz etməyə,\\nBayrağını yüksəltməyə\\nCümlə gənclər müştaqdır!\\nŞanlı Vətən! Şanlı Vətən!\\nAzərbaycan! Azərbaycan!\\nAzərbaycan! Azərbaycan![3][4]\\n\\n'"
      ]
     },
     "execution_count": 72,
     "metadata": {},
     "output_type": "execute_result"
    }
   ],
   "source": [
    "poem"
   ]
  },
  {
   "cell_type": "code",
   "execution_count": 73,
   "id": "56dc49e7",
   "metadata": {},
   "outputs": [],
   "source": [
    "poem=poem.replace('\\n',' ')"
   ]
  },
  {
   "cell_type": "code",
   "execution_count": 78,
   "id": "f74376f6",
   "metadata": {},
   "outputs": [],
   "source": [
    "poem=poem[1:-8]"
   ]
  },
  {
   "cell_type": "code",
   "execution_count": 79,
   "id": "bc85b37a",
   "metadata": {},
   "outputs": [
    {
     "data": {
      "text/plain": [
       "'Azərbaycan! Azərbaycan! Ey qəhrəman övladın şanlı Vətəni! Səndən ötrü can verməyə cümlə hazırız! Səndən ötrü qan tökməyə cümlə qadiriz! Üçrəngli bayrağınla məsud yaşa! Üçrəngli bayrağınla məsud yaşa!  Minlərlə can qurban oldu, Sinən hərbə meydan oldu! Hüququndan keçən əsgər, Hərə bir qəhrəman oldu!  Sən olasan gülüstan, Sənə hər an can qurban! Sənə min bir məhəbbət Sinəmdə tutmuş məkan!  Namusunu hifz etməyə, Bayrağını yüksəltməyə Cümlə gənclər müştaqdır! Şanlı Vətən! Şanlı Vətən! Azərbaycan! Azərbaycan! Azərbaycan! Azərbaycan!'"
      ]
     },
     "execution_count": 79,
     "metadata": {},
     "output_type": "execute_result"
    }
   ],
   "source": [
    "poem"
   ]
  },
  {
   "cell_type": "code",
   "execution_count": 81,
   "id": "c89b09b8",
   "metadata": {
    "scrolled": true
   },
   "outputs": [],
   "source": [
    "l1=list()\n",
    "l1=poem.split()"
   ]
  },
  {
   "cell_type": "code",
   "execution_count": 85,
   "id": "83115e7c",
   "metadata": {},
   "outputs": [
    {
     "name": "stdout",
     "output_type": "stream",
     "text": [
      "Azərbaycan!\n",
      "6\n",
      "Azərbaycan!\n",
      "6\n",
      "Ey\n",
      "1\n",
      "qəhrəman\n",
      "2\n",
      "övladın\n",
      "1\n",
      "şanlı\n",
      "1\n",
      "Vətəni!\n",
      "1\n",
      "Səndən\n",
      "2\n",
      "ötrü\n",
      "2\n",
      "can\n",
      "3\n",
      "verməyə\n",
      "1\n",
      "cümlə\n",
      "2\n",
      "hazırız!\n",
      "1\n",
      "Səndən\n",
      "2\n",
      "ötrü\n",
      "2\n",
      "qan\n",
      "1\n",
      "tökməyə\n",
      "1\n",
      "cümlə\n",
      "2\n",
      "qadiriz!\n",
      "1\n",
      "Üçrəngli\n",
      "2\n",
      "bayrağınla\n",
      "2\n",
      "məsud\n",
      "2\n",
      "yaşa!\n",
      "2\n",
      "Üçrəngli\n",
      "2\n",
      "bayrağınla\n",
      "2\n",
      "məsud\n",
      "2\n",
      "yaşa!\n",
      "2\n",
      "Minlərlə\n",
      "1\n",
      "can\n",
      "3\n",
      "qurban\n",
      "1\n",
      "oldu,\n",
      "1\n",
      "Sinən\n",
      "1\n",
      "hərbə\n",
      "1\n",
      "meydan\n",
      "1\n",
      "oldu!\n",
      "2\n",
      "Hüququndan\n",
      "1\n",
      "keçən\n",
      "1\n",
      "əsgər,\n",
      "1\n",
      "Hərə\n",
      "1\n",
      "bir\n",
      "2\n",
      "qəhrəman\n",
      "2\n",
      "oldu!\n",
      "2\n",
      "Sən\n",
      "1\n",
      "olasan\n",
      "1\n",
      "gülüstan,\n",
      "1\n",
      "Sənə\n",
      "2\n",
      "hər\n",
      "1\n",
      "an\n",
      "1\n",
      "can\n",
      "3\n",
      "qurban!\n",
      "1\n",
      "Sənə\n",
      "2\n",
      "min\n",
      "1\n",
      "bir\n",
      "2\n",
      "məhəbbət\n",
      "1\n",
      "Sinəmdə\n",
      "1\n",
      "tutmuş\n",
      "1\n",
      "məkan!\n",
      "1\n",
      "Namusunu\n",
      "1\n",
      "hifz\n",
      "1\n",
      "etməyə,\n",
      "1\n",
      "Bayrağını\n",
      "1\n",
      "yüksəltməyə\n",
      "1\n",
      "Cümlə\n",
      "1\n",
      "gənclər\n",
      "1\n",
      "müştaqdır!\n",
      "1\n",
      "Şanlı\n",
      "2\n",
      "Vətən!\n",
      "2\n",
      "Şanlı\n",
      "2\n",
      "Vətən!\n",
      "2\n",
      "Azərbaycan!\n",
      "6\n",
      "Azərbaycan!\n",
      "6\n",
      "Azərbaycan!\n",
      "6\n",
      "Azərbaycan!\n",
      "6\n"
     ]
    }
   ],
   "source": [
    "for i in  l1:\n",
    "    l1.count(i)\n",
    "    print(i)\n",
    "    print(l1.count(i))"
   ]
  },
  {
   "cell_type": "code",
   "execution_count": null,
   "id": "93930c02",
   "metadata": {},
   "outputs": [],
   "source": []
  },
  {
   "cell_type": "code",
   "execution_count": null,
   "id": "9eb20970",
   "metadata": {},
   "outputs": [],
   "source": []
  },
  {
   "cell_type": "code",
   "execution_count": null,
   "id": "7004257f",
   "metadata": {},
   "outputs": [],
   "source": []
  }
 ],
 "metadata": {
  "kernelspec": {
   "display_name": "Python 3 (ipykernel)",
   "language": "python",
   "name": "python3"
  },
  "language_info": {
   "codemirror_mode": {
    "name": "ipython",
    "version": 3
   },
   "file_extension": ".py",
   "mimetype": "text/x-python",
   "name": "python",
   "nbconvert_exporter": "python",
   "pygments_lexer": "ipython3",
   "version": "3.9.12"
  }
 },
 "nbformat": 4,
 "nbformat_minor": 5
}
